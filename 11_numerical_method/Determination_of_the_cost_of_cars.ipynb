{
 "cells": [
  {
   "cell_type": "markdown",
   "metadata": {},
   "source": [
    "# Определение стоимости автомобилей"
   ]
  },
  {
   "cell_type": "markdown",
   "metadata": {},
   "source": [
    "Сервис по продаже автомобилей с пробегом «Не бит, не крашен» разрабатывает приложение для привлечения новых клиентов. В нём можно быстро узнать рыночную стоимость своего автомобиля. \n",
    "\n",
    "В нашем распоряжении исторические данные: технические характеристики, комплектации и цены автомобилей. \n",
    "Необходимо построить модель для решения задачи регрессиии: определения стоимости. \n",
    "\n",
    "Заказчику важны:\n",
    "\n",
    "- качество предсказания;\n",
    "- скорость предсказания;\n",
    "- время обучения."
   ]
  },
  {
   "cell_type": "markdown",
   "metadata": {},
   "source": [
    "**Описание данных:**\n",
    "\n",
    "Признаки\n",
    "* DateCrawled — дата скачивания анкеты из базы\n",
    "* VehicleType — тип автомобильного кузова\n",
    "* RegistrationYear — год регистрации автомобиля\n",
    "* Gearbox — тип коробки передач\n",
    "* Power — мощность (л. с.)\n",
    "* Model — модель автомобиля\n",
    "* Kilometer — пробег (км)\n",
    "* RegistrationMonth — месяц регистрации автомобиля\n",
    "* FuelType — тип топлива\n",
    "* Brand — марка автомобиля\n",
    "* NotRepaired — была машина в ремонте или нет\n",
    "* DateCreated — дата создания анкеты\n",
    "* NumberOfPictures — количество фотографий автомобиля\n",
    "* PostalCode — почтовый индекс владельца анкеты (пользователя)\n",
    "* LastSeen — дата последней активности пользователя\n",
    "\n",
    "Целевой признак\n",
    "* Price — цена (евро)"
   ]
  },
  {
   "cell_type": "code",
   "execution_count": 27,
   "metadata": {},
   "outputs": [],
   "source": [
    "import pandas as pd\n",
    "import numpy as np\n",
    "from scipy import stats\n",
    "import re\n",
    "import warnings\n",
    "warnings.filterwarnings('ignore')\n",
    "from collections import defaultdict\n",
    "\n",
    "from matplotlib import pyplot as plt\n",
    "import seaborn as sns\n",
    "%matplotlib inline\n",
    "\n",
    "from sklearn.preprocessing import StandardScaler\n",
    "from sklearn.preprocessing import OneHotEncoder\n",
    "from sklearn.preprocessing import LabelEncoder\n",
    "from sklearn.experimental import enable_iterative_imputer\n",
    "from sklearn.impute import IterativeImputer\n",
    "from sklearn.impute import KNNImputer\n",
    "from sklearn.model_selection import train_test_split\n",
    "from sklearn.metrics import mean_squared_error\n",
    "\n",
    "from sklearn.linear_model import LinearRegression\n",
    "from sklearn.ensemble import RandomForestRegressor\n",
    "import xgboost as xgb\n",
    "import lightgbm as lgb\n",
    "from catboost import Pool, CatBoostRegressor\n",
    "\n",
    "RS=17"
   ]
  },
  {
   "cell_type": "markdown",
   "metadata": {},
   "source": [
    "## Подготовка данных"
   ]
  },
  {
   "cell_type": "markdown",
   "metadata": {},
   "source": [
    "### Знакомство с данными"
   ]
  },
  {
   "cell_type": "code",
   "execution_count": 12,
   "metadata": {},
   "outputs": [],
   "source": [
    "try:\n",
    "    df = pd.read_csv('datasets/autos.csv')\n",
    "except:\n",
    "    df = pd.read_csv('/datasets/autos.csv')"
   ]
  },
  {
   "cell_type": "code",
   "execution_count": 13,
   "metadata": {
    "scrolled": true
   },
   "outputs": [
    {
     "data": {
      "text/plain": [
       "(354369, 16)"
      ]
     },
     "execution_count": 13,
     "metadata": {},
     "output_type": "execute_result"
    }
   ],
   "source": [
    "df.shape"
   ]
  },
  {
   "cell_type": "code",
   "execution_count": 14,
   "metadata": {},
   "outputs": [
    {
     "data": {
      "text/html": [
       "<div>\n",
       "<style scoped>\n",
       "    .dataframe tbody tr th:only-of-type {\n",
       "        vertical-align: middle;\n",
       "    }\n",
       "\n",
       "    .dataframe tbody tr th {\n",
       "        vertical-align: top;\n",
       "    }\n",
       "\n",
       "    .dataframe thead th {\n",
       "        text-align: right;\n",
       "    }\n",
       "</style>\n",
       "<table border=\"1\" class=\"dataframe\">\n",
       "  <thead>\n",
       "    <tr style=\"text-align: right;\">\n",
       "      <th></th>\n",
       "      <th>DateCrawled</th>\n",
       "      <th>Price</th>\n",
       "      <th>VehicleType</th>\n",
       "      <th>RegistrationYear</th>\n",
       "      <th>Gearbox</th>\n",
       "      <th>Power</th>\n",
       "      <th>Model</th>\n",
       "      <th>Kilometer</th>\n",
       "      <th>RegistrationMonth</th>\n",
       "      <th>FuelType</th>\n",
       "      <th>Brand</th>\n",
       "      <th>NotRepaired</th>\n",
       "      <th>DateCreated</th>\n",
       "      <th>NumberOfPictures</th>\n",
       "      <th>PostalCode</th>\n",
       "      <th>LastSeen</th>\n",
       "    </tr>\n",
       "  </thead>\n",
       "  <tbody>\n",
       "    <tr>\n",
       "      <th>0</th>\n",
       "      <td>2016-03-24 11:52:17</td>\n",
       "      <td>480</td>\n",
       "      <td>NaN</td>\n",
       "      <td>1993</td>\n",
       "      <td>manual</td>\n",
       "      <td>0</td>\n",
       "      <td>golf</td>\n",
       "      <td>150000</td>\n",
       "      <td>0</td>\n",
       "      <td>petrol</td>\n",
       "      <td>volkswagen</td>\n",
       "      <td>NaN</td>\n",
       "      <td>2016-03-24 00:00:00</td>\n",
       "      <td>0</td>\n",
       "      <td>70435</td>\n",
       "      <td>2016-04-07 03:16:57</td>\n",
       "    </tr>\n",
       "    <tr>\n",
       "      <th>1</th>\n",
       "      <td>2016-03-24 10:58:45</td>\n",
       "      <td>18300</td>\n",
       "      <td>coupe</td>\n",
       "      <td>2011</td>\n",
       "      <td>manual</td>\n",
       "      <td>190</td>\n",
       "      <td>NaN</td>\n",
       "      <td>125000</td>\n",
       "      <td>5</td>\n",
       "      <td>gasoline</td>\n",
       "      <td>audi</td>\n",
       "      <td>yes</td>\n",
       "      <td>2016-03-24 00:00:00</td>\n",
       "      <td>0</td>\n",
       "      <td>66954</td>\n",
       "      <td>2016-04-07 01:46:50</td>\n",
       "    </tr>\n",
       "    <tr>\n",
       "      <th>2</th>\n",
       "      <td>2016-03-14 12:52:21</td>\n",
       "      <td>9800</td>\n",
       "      <td>suv</td>\n",
       "      <td>2004</td>\n",
       "      <td>auto</td>\n",
       "      <td>163</td>\n",
       "      <td>grand</td>\n",
       "      <td>125000</td>\n",
       "      <td>8</td>\n",
       "      <td>gasoline</td>\n",
       "      <td>jeep</td>\n",
       "      <td>NaN</td>\n",
       "      <td>2016-03-14 00:00:00</td>\n",
       "      <td>0</td>\n",
       "      <td>90480</td>\n",
       "      <td>2016-04-05 12:47:46</td>\n",
       "    </tr>\n",
       "    <tr>\n",
       "      <th>3</th>\n",
       "      <td>2016-03-17 16:54:04</td>\n",
       "      <td>1500</td>\n",
       "      <td>small</td>\n",
       "      <td>2001</td>\n",
       "      <td>manual</td>\n",
       "      <td>75</td>\n",
       "      <td>golf</td>\n",
       "      <td>150000</td>\n",
       "      <td>6</td>\n",
       "      <td>petrol</td>\n",
       "      <td>volkswagen</td>\n",
       "      <td>no</td>\n",
       "      <td>2016-03-17 00:00:00</td>\n",
       "      <td>0</td>\n",
       "      <td>91074</td>\n",
       "      <td>2016-03-17 17:40:17</td>\n",
       "    </tr>\n",
       "    <tr>\n",
       "      <th>4</th>\n",
       "      <td>2016-03-31 17:25:20</td>\n",
       "      <td>3600</td>\n",
       "      <td>small</td>\n",
       "      <td>2008</td>\n",
       "      <td>manual</td>\n",
       "      <td>69</td>\n",
       "      <td>fabia</td>\n",
       "      <td>90000</td>\n",
       "      <td>7</td>\n",
       "      <td>gasoline</td>\n",
       "      <td>skoda</td>\n",
       "      <td>no</td>\n",
       "      <td>2016-03-31 00:00:00</td>\n",
       "      <td>0</td>\n",
       "      <td>60437</td>\n",
       "      <td>2016-04-06 10:17:21</td>\n",
       "    </tr>\n",
       "  </tbody>\n",
       "</table>\n",
       "</div>"
      ],
      "text/plain": [
       "           DateCrawled  Price VehicleType  RegistrationYear Gearbox  Power  \\\n",
       "0  2016-03-24 11:52:17    480         NaN              1993  manual      0   \n",
       "1  2016-03-24 10:58:45  18300       coupe              2011  manual    190   \n",
       "2  2016-03-14 12:52:21   9800         suv              2004    auto    163   \n",
       "3  2016-03-17 16:54:04   1500       small              2001  manual     75   \n",
       "4  2016-03-31 17:25:20   3600       small              2008  manual     69   \n",
       "\n",
       "   Model  Kilometer  RegistrationMonth  FuelType       Brand NotRepaired  \\\n",
       "0   golf     150000                  0    petrol  volkswagen         NaN   \n",
       "1    NaN     125000                  5  gasoline        audi         yes   \n",
       "2  grand     125000                  8  gasoline        jeep         NaN   \n",
       "3   golf     150000                  6    petrol  volkswagen          no   \n",
       "4  fabia      90000                  7  gasoline       skoda          no   \n",
       "\n",
       "           DateCreated  NumberOfPictures  PostalCode             LastSeen  \n",
       "0  2016-03-24 00:00:00                 0       70435  2016-04-07 03:16:57  \n",
       "1  2016-03-24 00:00:00                 0       66954  2016-04-07 01:46:50  \n",
       "2  2016-03-14 00:00:00                 0       90480  2016-04-05 12:47:46  \n",
       "3  2016-03-17 00:00:00                 0       91074  2016-03-17 17:40:17  \n",
       "4  2016-03-31 00:00:00                 0       60437  2016-04-06 10:17:21  "
      ]
     },
     "execution_count": 14,
     "metadata": {},
     "output_type": "execute_result"
    }
   ],
   "source": [
    "df.head()"
   ]
  },
  {
   "cell_type": "markdown",
   "metadata": {},
   "source": [
    "Сразу же выполним переименование столбцов в змеиный регистр для удобства работы."
   ]
  },
  {
   "cell_type": "code",
   "execution_count": 15,
   "metadata": {},
   "outputs": [],
   "source": [
    "for name in df.columns:\n",
    "    new_name = re.sub(r\"(?=[A-Z])(?!^)\", '_', name).lower()\n",
    "    df = df.rename(columns={name:new_name})"
   ]
  },
  {
   "cell_type": "markdown",
   "metadata": {},
   "source": [
    "Преобразуем столбцы с датой в тип `datetime`."
   ]
  },
  {
   "cell_type": "code",
   "execution_count": 16,
   "metadata": {},
   "outputs": [],
   "source": [
    "dates = ['date_crawled', 'date_created', 'last_seen']\n",
    "for date in dates:\n",
    "    df[date] = pd.to_datetime(df[date], format='%Y-%m-%d %H:%M:%S')"
   ]
  },
  {
   "cell_type": "code",
   "execution_count": 17,
   "metadata": {},
   "outputs": [
    {
     "name": "stdout",
     "output_type": "stream",
     "text": [
      "<class 'pandas.core.frame.DataFrame'>\n",
      "RangeIndex: 354369 entries, 0 to 354368\n",
      "Data columns (total 16 columns):\n",
      " #   Column              Non-Null Count   Dtype         \n",
      "---  ------              --------------   -----         \n",
      " 0   date_crawled        354369 non-null  datetime64[ns]\n",
      " 1   price               354369 non-null  int64         \n",
      " 2   vehicle_type        316879 non-null  object        \n",
      " 3   registration_year   354369 non-null  int64         \n",
      " 4   gearbox             334536 non-null  object        \n",
      " 5   power               354369 non-null  int64         \n",
      " 6   model               334664 non-null  object        \n",
      " 7   kilometer           354369 non-null  int64         \n",
      " 8   registration_month  354369 non-null  int64         \n",
      " 9   fuel_type           321474 non-null  object        \n",
      " 10  brand               354369 non-null  object        \n",
      " 11  not_repaired        283215 non-null  object        \n",
      " 12  date_created        354369 non-null  datetime64[ns]\n",
      " 13  number_of_pictures  354369 non-null  int64         \n",
      " 14  postal_code         354369 non-null  int64         \n",
      " 15  last_seen           354369 non-null  datetime64[ns]\n",
      "dtypes: datetime64[ns](3), int64(7), object(6)\n",
      "memory usage: 43.3+ MB\n"
     ]
    }
   ],
   "source": [
    "df.info()"
   ]
  },
  {
   "cell_type": "code",
   "execution_count": 18,
   "metadata": {
    "scrolled": true
   },
   "outputs": [
    {
     "data": {
      "text/html": [
       "<div>\n",
       "<style scoped>\n",
       "    .dataframe tbody tr th:only-of-type {\n",
       "        vertical-align: middle;\n",
       "    }\n",
       "\n",
       "    .dataframe tbody tr th {\n",
       "        vertical-align: top;\n",
       "    }\n",
       "\n",
       "    .dataframe thead th {\n",
       "        text-align: right;\n",
       "    }\n",
       "</style>\n",
       "<table border=\"1\" class=\"dataframe\">\n",
       "  <thead>\n",
       "    <tr style=\"text-align: right;\">\n",
       "      <th></th>\n",
       "      <th>date_crawled</th>\n",
       "      <th>price</th>\n",
       "      <th>vehicle_type</th>\n",
       "      <th>registration_year</th>\n",
       "      <th>gearbox</th>\n",
       "      <th>power</th>\n",
       "      <th>model</th>\n",
       "      <th>kilometer</th>\n",
       "      <th>registration_month</th>\n",
       "      <th>fuel_type</th>\n",
       "      <th>brand</th>\n",
       "      <th>not_repaired</th>\n",
       "      <th>date_created</th>\n",
       "      <th>number_of_pictures</th>\n",
       "      <th>postal_code</th>\n",
       "      <th>last_seen</th>\n",
       "    </tr>\n",
       "  </thead>\n",
       "  <tbody>\n",
       "    <tr>\n",
       "      <th>count</th>\n",
       "      <td>354369</td>\n",
       "      <td>354369.000000</td>\n",
       "      <td>316879</td>\n",
       "      <td>354369.000000</td>\n",
       "      <td>334536</td>\n",
       "      <td>354369.000000</td>\n",
       "      <td>334664</td>\n",
       "      <td>354369.000000</td>\n",
       "      <td>354369.000000</td>\n",
       "      <td>321474</td>\n",
       "      <td>354369</td>\n",
       "      <td>283215</td>\n",
       "      <td>354369</td>\n",
       "      <td>354369.0</td>\n",
       "      <td>354369.000000</td>\n",
       "      <td>354369</td>\n",
       "    </tr>\n",
       "    <tr>\n",
       "      <th>unique</th>\n",
       "      <td>271174</td>\n",
       "      <td>NaN</td>\n",
       "      <td>8</td>\n",
       "      <td>NaN</td>\n",
       "      <td>2</td>\n",
       "      <td>NaN</td>\n",
       "      <td>250</td>\n",
       "      <td>NaN</td>\n",
       "      <td>NaN</td>\n",
       "      <td>7</td>\n",
       "      <td>40</td>\n",
       "      <td>2</td>\n",
       "      <td>109</td>\n",
       "      <td>NaN</td>\n",
       "      <td>NaN</td>\n",
       "      <td>179150</td>\n",
       "    </tr>\n",
       "    <tr>\n",
       "      <th>top</th>\n",
       "      <td>2016-03-24 14:49:47</td>\n",
       "      <td>NaN</td>\n",
       "      <td>sedan</td>\n",
       "      <td>NaN</td>\n",
       "      <td>manual</td>\n",
       "      <td>NaN</td>\n",
       "      <td>golf</td>\n",
       "      <td>NaN</td>\n",
       "      <td>NaN</td>\n",
       "      <td>petrol</td>\n",
       "      <td>volkswagen</td>\n",
       "      <td>no</td>\n",
       "      <td>2016-04-03 00:00:00</td>\n",
       "      <td>NaN</td>\n",
       "      <td>NaN</td>\n",
       "      <td>2016-04-06 13:45:54</td>\n",
       "    </tr>\n",
       "    <tr>\n",
       "      <th>freq</th>\n",
       "      <td>7</td>\n",
       "      <td>NaN</td>\n",
       "      <td>91457</td>\n",
       "      <td>NaN</td>\n",
       "      <td>268251</td>\n",
       "      <td>NaN</td>\n",
       "      <td>29232</td>\n",
       "      <td>NaN</td>\n",
       "      <td>NaN</td>\n",
       "      <td>216352</td>\n",
       "      <td>77013</td>\n",
       "      <td>247161</td>\n",
       "      <td>13719</td>\n",
       "      <td>NaN</td>\n",
       "      <td>NaN</td>\n",
       "      <td>17</td>\n",
       "    </tr>\n",
       "    <tr>\n",
       "      <th>first</th>\n",
       "      <td>2016-03-05 14:06:22</td>\n",
       "      <td>NaN</td>\n",
       "      <td>NaN</td>\n",
       "      <td>NaN</td>\n",
       "      <td>NaN</td>\n",
       "      <td>NaN</td>\n",
       "      <td>NaN</td>\n",
       "      <td>NaN</td>\n",
       "      <td>NaN</td>\n",
       "      <td>NaN</td>\n",
       "      <td>NaN</td>\n",
       "      <td>NaN</td>\n",
       "      <td>2014-03-10 00:00:00</td>\n",
       "      <td>NaN</td>\n",
       "      <td>NaN</td>\n",
       "      <td>2016-03-05 14:15:08</td>\n",
       "    </tr>\n",
       "    <tr>\n",
       "      <th>last</th>\n",
       "      <td>2016-04-07 14:36:58</td>\n",
       "      <td>NaN</td>\n",
       "      <td>NaN</td>\n",
       "      <td>NaN</td>\n",
       "      <td>NaN</td>\n",
       "      <td>NaN</td>\n",
       "      <td>NaN</td>\n",
       "      <td>NaN</td>\n",
       "      <td>NaN</td>\n",
       "      <td>NaN</td>\n",
       "      <td>NaN</td>\n",
       "      <td>NaN</td>\n",
       "      <td>2016-04-07 00:00:00</td>\n",
       "      <td>NaN</td>\n",
       "      <td>NaN</td>\n",
       "      <td>2016-04-07 14:58:51</td>\n",
       "    </tr>\n",
       "    <tr>\n",
       "      <th>mean</th>\n",
       "      <td>NaN</td>\n",
       "      <td>4416.656776</td>\n",
       "      <td>NaN</td>\n",
       "      <td>2004.234448</td>\n",
       "      <td>NaN</td>\n",
       "      <td>110.094337</td>\n",
       "      <td>NaN</td>\n",
       "      <td>128211.172535</td>\n",
       "      <td>5.714645</td>\n",
       "      <td>NaN</td>\n",
       "      <td>NaN</td>\n",
       "      <td>NaN</td>\n",
       "      <td>NaN</td>\n",
       "      <td>0.0</td>\n",
       "      <td>50508.689087</td>\n",
       "      <td>NaN</td>\n",
       "    </tr>\n",
       "    <tr>\n",
       "      <th>std</th>\n",
       "      <td>NaN</td>\n",
       "      <td>4514.158514</td>\n",
       "      <td>NaN</td>\n",
       "      <td>90.227958</td>\n",
       "      <td>NaN</td>\n",
       "      <td>189.850405</td>\n",
       "      <td>NaN</td>\n",
       "      <td>37905.341530</td>\n",
       "      <td>3.726421</td>\n",
       "      <td>NaN</td>\n",
       "      <td>NaN</td>\n",
       "      <td>NaN</td>\n",
       "      <td>NaN</td>\n",
       "      <td>0.0</td>\n",
       "      <td>25783.096248</td>\n",
       "      <td>NaN</td>\n",
       "    </tr>\n",
       "    <tr>\n",
       "      <th>min</th>\n",
       "      <td>NaN</td>\n",
       "      <td>0.000000</td>\n",
       "      <td>NaN</td>\n",
       "      <td>1000.000000</td>\n",
       "      <td>NaN</td>\n",
       "      <td>0.000000</td>\n",
       "      <td>NaN</td>\n",
       "      <td>5000.000000</td>\n",
       "      <td>0.000000</td>\n",
       "      <td>NaN</td>\n",
       "      <td>NaN</td>\n",
       "      <td>NaN</td>\n",
       "      <td>NaN</td>\n",
       "      <td>0.0</td>\n",
       "      <td>1067.000000</td>\n",
       "      <td>NaN</td>\n",
       "    </tr>\n",
       "    <tr>\n",
       "      <th>25%</th>\n",
       "      <td>NaN</td>\n",
       "      <td>1050.000000</td>\n",
       "      <td>NaN</td>\n",
       "      <td>1999.000000</td>\n",
       "      <td>NaN</td>\n",
       "      <td>69.000000</td>\n",
       "      <td>NaN</td>\n",
       "      <td>125000.000000</td>\n",
       "      <td>3.000000</td>\n",
       "      <td>NaN</td>\n",
       "      <td>NaN</td>\n",
       "      <td>NaN</td>\n",
       "      <td>NaN</td>\n",
       "      <td>0.0</td>\n",
       "      <td>30165.000000</td>\n",
       "      <td>NaN</td>\n",
       "    </tr>\n",
       "    <tr>\n",
       "      <th>50%</th>\n",
       "      <td>NaN</td>\n",
       "      <td>2700.000000</td>\n",
       "      <td>NaN</td>\n",
       "      <td>2003.000000</td>\n",
       "      <td>NaN</td>\n",
       "      <td>105.000000</td>\n",
       "      <td>NaN</td>\n",
       "      <td>150000.000000</td>\n",
       "      <td>6.000000</td>\n",
       "      <td>NaN</td>\n",
       "      <td>NaN</td>\n",
       "      <td>NaN</td>\n",
       "      <td>NaN</td>\n",
       "      <td>0.0</td>\n",
       "      <td>49413.000000</td>\n",
       "      <td>NaN</td>\n",
       "    </tr>\n",
       "    <tr>\n",
       "      <th>75%</th>\n",
       "      <td>NaN</td>\n",
       "      <td>6400.000000</td>\n",
       "      <td>NaN</td>\n",
       "      <td>2008.000000</td>\n",
       "      <td>NaN</td>\n",
       "      <td>143.000000</td>\n",
       "      <td>NaN</td>\n",
       "      <td>150000.000000</td>\n",
       "      <td>9.000000</td>\n",
       "      <td>NaN</td>\n",
       "      <td>NaN</td>\n",
       "      <td>NaN</td>\n",
       "      <td>NaN</td>\n",
       "      <td>0.0</td>\n",
       "      <td>71083.000000</td>\n",
       "      <td>NaN</td>\n",
       "    </tr>\n",
       "    <tr>\n",
       "      <th>max</th>\n",
       "      <td>NaN</td>\n",
       "      <td>20000.000000</td>\n",
       "      <td>NaN</td>\n",
       "      <td>9999.000000</td>\n",
       "      <td>NaN</td>\n",
       "      <td>20000.000000</td>\n",
       "      <td>NaN</td>\n",
       "      <td>150000.000000</td>\n",
       "      <td>12.000000</td>\n",
       "      <td>NaN</td>\n",
       "      <td>NaN</td>\n",
       "      <td>NaN</td>\n",
       "      <td>NaN</td>\n",
       "      <td>0.0</td>\n",
       "      <td>99998.000000</td>\n",
       "      <td>NaN</td>\n",
       "    </tr>\n",
       "  </tbody>\n",
       "</table>\n",
       "</div>"
      ],
      "text/plain": [
       "               date_crawled          price vehicle_type  registration_year  \\\n",
       "count                354369  354369.000000       316879      354369.000000   \n",
       "unique               271174            NaN            8                NaN   \n",
       "top     2016-03-24 14:49:47            NaN        sedan                NaN   \n",
       "freq                      7            NaN        91457                NaN   \n",
       "first   2016-03-05 14:06:22            NaN          NaN                NaN   \n",
       "last    2016-04-07 14:36:58            NaN          NaN                NaN   \n",
       "mean                    NaN    4416.656776          NaN        2004.234448   \n",
       "std                     NaN    4514.158514          NaN          90.227958   \n",
       "min                     NaN       0.000000          NaN        1000.000000   \n",
       "25%                     NaN    1050.000000          NaN        1999.000000   \n",
       "50%                     NaN    2700.000000          NaN        2003.000000   \n",
       "75%                     NaN    6400.000000          NaN        2008.000000   \n",
       "max                     NaN   20000.000000          NaN        9999.000000   \n",
       "\n",
       "       gearbox          power   model      kilometer  registration_month  \\\n",
       "count   334536  354369.000000  334664  354369.000000       354369.000000   \n",
       "unique       2            NaN     250            NaN                 NaN   \n",
       "top     manual            NaN    golf            NaN                 NaN   \n",
       "freq    268251            NaN   29232            NaN                 NaN   \n",
       "first      NaN            NaN     NaN            NaN                 NaN   \n",
       "last       NaN            NaN     NaN            NaN                 NaN   \n",
       "mean       NaN     110.094337     NaN  128211.172535            5.714645   \n",
       "std        NaN     189.850405     NaN   37905.341530            3.726421   \n",
       "min        NaN       0.000000     NaN    5000.000000            0.000000   \n",
       "25%        NaN      69.000000     NaN  125000.000000            3.000000   \n",
       "50%        NaN     105.000000     NaN  150000.000000            6.000000   \n",
       "75%        NaN     143.000000     NaN  150000.000000            9.000000   \n",
       "max        NaN   20000.000000     NaN  150000.000000           12.000000   \n",
       "\n",
       "       fuel_type       brand not_repaired         date_created  \\\n",
       "count     321474      354369       283215               354369   \n",
       "unique         7          40            2                  109   \n",
       "top       petrol  volkswagen           no  2016-04-03 00:00:00   \n",
       "freq      216352       77013       247161                13719   \n",
       "first        NaN         NaN          NaN  2014-03-10 00:00:00   \n",
       "last         NaN         NaN          NaN  2016-04-07 00:00:00   \n",
       "mean         NaN         NaN          NaN                  NaN   \n",
       "std          NaN         NaN          NaN                  NaN   \n",
       "min          NaN         NaN          NaN                  NaN   \n",
       "25%          NaN         NaN          NaN                  NaN   \n",
       "50%          NaN         NaN          NaN                  NaN   \n",
       "75%          NaN         NaN          NaN                  NaN   \n",
       "max          NaN         NaN          NaN                  NaN   \n",
       "\n",
       "        number_of_pictures    postal_code            last_seen  \n",
       "count             354369.0  354369.000000               354369  \n",
       "unique                 NaN            NaN               179150  \n",
       "top                    NaN            NaN  2016-04-06 13:45:54  \n",
       "freq                   NaN            NaN                   17  \n",
       "first                  NaN            NaN  2016-03-05 14:15:08  \n",
       "last                   NaN            NaN  2016-04-07 14:58:51  \n",
       "mean                   0.0   50508.689087                  NaN  \n",
       "std                    0.0   25783.096248                  NaN  \n",
       "min                    0.0    1067.000000                  NaN  \n",
       "25%                    0.0   30165.000000                  NaN  \n",
       "50%                    0.0   49413.000000                  NaN  \n",
       "75%                    0.0   71083.000000                  NaN  \n",
       "max                    0.0   99998.000000                  NaN  "
      ]
     },
     "execution_count": 18,
     "metadata": {},
     "output_type": "execute_result"
    }
   ],
   "source": [
    "df.describe(include='all')"
   ]
  },
  {
   "cell_type": "markdown",
   "metadata": {},
   "source": [
    "Так как столбец с количеством фотографий содержит нули для каждого объявления - удалим его."
   ]
  },
  {
   "cell_type": "code",
   "execution_count": 19,
   "metadata": {},
   "outputs": [],
   "source": [
    "df.drop('number_of_pictures', axis=1, inplace=True)"
   ]
  },
  {
   "cell_type": "markdown",
   "metadata": {},
   "source": [
    "**Познакомимся с брендами**"
   ]
  },
  {
   "cell_type": "code",
   "execution_count": 20,
   "metadata": {},
   "outputs": [
    {
     "name": "stdout",
     "output_type": "stream",
     "text": [
      "Уникальных брендов автомобилей в датасете: 40\n"
     ]
    }
   ],
   "source": [
    "print(f'Уникальных брендов автомобилей в датасете:', len(df['brand'].unique()))"
   ]
  },
  {
   "cell_type": "markdown",
   "metadata": {},
   "source": [
    "Преобразуем признак бренда в категориальный тип данных чтобы было удобно построить наглядную гистограмму."
   ]
  },
  {
   "cell_type": "code",
   "execution_count": 21,
   "metadata": {},
   "outputs": [],
   "source": [
    "df['brand'] = pd.Categorical(values=df['brand'],\n",
    "                             categories=list(df['brand'].value_counts().index)\n",
    ")"
   ]
  },
  {
   "cell_type": "code",
   "execution_count": 22,
   "metadata": {},
   "outputs": [
    {
     "data": {
      "image/png": "[encoded data removed]",
      "text/plain": [
       "<Figure size 1008x576 with 1 Axes>"
      ]
     },
     "metadata": {
      "needs_background": "light"
     },
     "output_type": "display_data"
    }
   ],
   "source": [
    "plt.figure(figsize=(14,8))\n",
    "sns.histplot(df['brand'])\n",
    "plt.title('Количество объявлений по брендам', fontsize=20)\n",
    "plt.xlabel('Бренд', fontsize=18)\n",
    "plt.xticks(rotation=90, fontsize=14);"
   ]
  },
  {
   "cell_type": "code",
   "execution_count": 26,
   "metadata": {
    "scrolled": false
   },
   "outputs": [
    {
     "data": {
      "image/png": "[encoded data removed]",
      "text/plain": [
       "<Figure size 432x288 with 2 Axes>"
      ]
     },
     "metadata": {
      "needs_background": "light"
     },
     "output_type": "display_data"
    }
   ],
   "source": [
    "sns.heatmap(df.corr())\n",
    "plt.title('Матрица корреляций для числовых признаков', fontsize=16, y=1.03);"
   ]
  },
  {
   "cell_type": "markdown",
   "metadata": {},
   "source": [
    "#### Вывод\n",
    "\n",
    "**Исследовательский анализ данных**\n",
    "* У нас 354 тыс. наблюдений и 16 признаков;\n",
    "* Данные выгружались в период с 5 марта 2016 по 7 апреля 2016 (~1 месяц);\n",
    "* Объявления созданы с 10 марта ***2014*** по 7 апреля 2016 (~2 года);\n",
    "* Последняя активность владельца объявления приходится на период с 5 марта 2016 (*ограничено датой выгрузки данных*) по 7 апреля 2016 (~1 месяц);\n",
    "* В признаке `price` нет пропусков, но присутствуют нулевые значения и их довольно много судя по искажению среднего относительно медианы;\n",
    "* В признаке `vehicle_type` 8 уникальных значений и около 10% пропусков;\n",
    "* `registration_year` имеет небольшое количество аномальных значений;\n",
    "* 80% автомобилей имеют ручную коробку передач, пропусков по этому признаку около 5%;\n",
    "* Признак `power` в целом выглядит неплохо, но есть + и - выбросы, в т.ч. нулевые значения;\n",
    "* 250 уникальных моделей авто и 5% пропусков в признаке `model`;\n",
    "* В признаке `kilometer` странным образом равны медиана, третий квартиль и максимальное значение. Вероятно, форма объявления на сайте не позволяет указать значение более 150 тыс. км., при этом более половины автомобилей имеют пробег больше;\n",
    "* В признаке `registration_month` всё в порядке, кроме нулевых значений;\n",
    "* У автомобилей 7 видов топлива и 10% пропусков в `fuel_type`;\n",
    "* По признаку `not_repaired` большинство машин не были в ремонте, но имеем около 20% пропусков;\n",
    "* Признак `number_of_pictures` заполнен нулями, удалим его;\n",
    "* `postal_code` не имеет пропусков и может быть полезен как признак региона объявления.\n",
    "\n",
    "**Визуализации данных:**\n",
    "* Наиболее распространены в этой выборке машины бренда Фольксваген. Далее с отставанием более чем в 2 раза по количеству объявлений: Опель, БМВ, Мерседес-Бенц, Ауди, Форд, Рено;\n",
    "* Матрица корреляции показала отсутствие сильных взаимосвязей между количественными переменными датасета."
   ]
  },
  {
   "cell_type": "markdown",
   "metadata": {},
   "source": [
    "### Предобработка данных"
   ]
  },
  {
   "cell_type": "markdown",
   "metadata": {},
   "source": [
    "Сперва избавимся от явных дубликатов."
   ]
  },
  {
   "cell_type": "code",
   "execution_count": 87,
   "metadata": {},
   "outputs": [
    {
     "data": {
      "text/plain": [
       "4"
      ]
     },
     "execution_count": 87,
     "metadata": {},
     "output_type": "execute_result"
    }
   ],
   "source": [
    "df.duplicated().sum()"
   ]
  },
  {
   "cell_type": "code",
   "execution_count": 88,
   "metadata": {},
   "outputs": [],
   "source": [
    "df.drop_duplicates(inplace=True)\n",
    "df.reset_index(drop=True, inplace=True)"
   ]
  },
  {
   "cell_type": "markdown",
   "metadata": {},
   "source": [
    "**Цена** - наш целевой признак для обучения модели регрессии.\n",
    "Посмотрим, сколько у нас объявлений с нереалистичной ценой: скажем, менее 100 евро."
   ]
  },
  {
   "cell_type": "code",
   "execution_count": 89,
   "metadata": {},
   "outputs": [
    {
     "data": {
      "text/plain": [
       "13314"
      ]
     },
     "execution_count": 89,
     "metadata": {},
     "output_type": "execute_result"
    }
   ],
   "source": [
    "df[df['price'] < 100].shape[0]"
   ]
  },
  {
   "cell_type": "code",
   "execution_count": 90,
   "metadata": {},
   "outputs": [
    {
     "data": {
      "image/png": "[encoded data removed]",
      "text/plain": [
       "<Figure size 1008x576 with 1 Axes>"
      ]
     },
     "metadata": {
      "needs_background": "light"
     },
     "output_type": "display_data"
    }
   ],
   "source": [
    "plt.figure(figsize=(14,8))\n",
    "sns.histplot(df['price'], bins=1000)\n",
    "plt.xlim((0,1000))\n",
    "plt.title('Количество объявлений с ценой менее 1000 евро', fontsize=20)\n",
    "plt.xlabel('Цена (евро)', fontsize=18);"
   ]
  },
  {
   "cell_type": "markdown",
   "metadata": {},
   "source": [
    "Наибольший вклад в аномальные значения цены на срезе датасета с объявлениями дешевле 100 евро вносят публикации с нулевой ценой - их более 12 тысяч. К сожалению, мы не сможем использовать такие наблюдения в обучении моделей регрессии поэтому придется удалить их."
   ]
  },
  {
   "cell_type": "code",
   "execution_count": 91,
   "metadata": {},
   "outputs": [],
   "source": [
    "df = df.loc[~(df['price'] == 0)].reset_index(drop=True)"
   ]
  },
  {
   "cell_type": "markdown",
   "metadata": {},
   "source": [
    "**Мощность двигателя**\n",
    "\n",
    "Изучим более подробно на предмет аномалий и выбросов.\n",
    "\n",
    "Нулевые значения заменим на NaN - обработаем их при заполнении пропусков."
   ]
  },
  {
   "cell_type": "code",
   "execution_count": 92,
   "metadata": {},
   "outputs": [],
   "source": [
    "df.loc[(df['power'] == 0), 'power'] = np.nan"
   ]
  },
  {
   "cell_type": "markdown",
   "metadata": {},
   "source": [
    "Взглянем на оставшиеся выбросы - возьмем диапазон нереалистичных значений, скажем менее 30 и более 600 л.с."
   ]
  },
  {
   "cell_type": "code",
   "execution_count": 93,
   "metadata": {},
   "outputs": [
    {
     "data": {
      "text/plain": [
       "(1220, 15)"
      ]
     },
     "execution_count": 93,
     "metadata": {},
     "output_type": "execute_result"
    }
   ],
   "source": [
    "df.query('power < 30 or power > 600').shape"
   ]
  },
  {
   "cell_type": "markdown",
   "metadata": {},
   "source": [
    "Даже если в этих данных прекрасные раритетные автомобили или невероятные спорткары - безжалостно удалим их, так как слишком мало данных, чтобы модель хорошо научилась предсказывать цену для таких редких представителей своего класса, но вот испортить качество предсказаний они могут."
   ]
  },
  {
   "cell_type": "code",
   "execution_count": 94,
   "metadata": {},
   "outputs": [],
   "source": [
    "df = df.loc[~((df['power'] < 30) | (df['power'] > 600))].reset_index(drop=True)"
   ]
  },
  {
   "cell_type": "markdown",
   "metadata": {},
   "source": [
    "**Месяц регистрации**"
   ]
  },
  {
   "cell_type": "code",
   "execution_count": 95,
   "metadata": {},
   "outputs": [
    {
     "data": {
      "text/plain": [
       "(32688, 15)"
      ]
     },
     "execution_count": 95,
     "metadata": {},
     "output_type": "execute_result"
    }
   ],
   "source": [
    "df.query('registration_month == 0').shape"
   ]
  },
  {
   "cell_type": "markdown",
   "metadata": {},
   "source": [
    "Целых 10% данных заполнены нулём в качестве месяца регистрации. Скорее всего этот признак нам не понадобится в обучении, но пока что заменим на NaN, чтобы обработать вместе с пропусками."
   ]
  },
  {
   "cell_type": "code",
   "execution_count": 96,
   "metadata": {
    "scrolled": true
   },
   "outputs": [],
   "source": [
    "df.loc[(df['registration_month'] == 0), 'registration_month'] = np.nan"
   ]
  },
  {
   "cell_type": "markdown",
   "metadata": {},
   "source": [
    "**Год регистрации**"
   ]
  },
  {
   "cell_type": "markdown",
   "metadata": {},
   "source": [
    "Посчитаем, сколько у нас наблюдений с годом регистрации, выходящим за реалистичные значения для конкретных данных (1910-2016)"
   ]
  },
  {
   "cell_type": "code",
   "execution_count": 97,
   "metadata": {},
   "outputs": [
    {
     "data": {
      "text/plain": [
       "(13831, 15)"
      ]
     },
     "execution_count": 97,
     "metadata": {},
     "output_type": "execute_result"
    }
   ],
   "source": [
    "df.query('registration_year <= 1910 or registration_year > 2016').shape"
   ]
  },
  {
   "cell_type": "code",
   "execution_count": 98,
   "metadata": {},
   "outputs": [
    {
     "data": {
      "text/plain": [
       "(13733, 15)"
      ]
     },
     "execution_count": 98,
     "metadata": {},
     "output_type": "execute_result"
    }
   ],
   "source": [
    "df.query('registration_year > 2016').shape"
   ]
  },
  {
   "cell_type": "markdown",
   "metadata": {},
   "source": [
    "Почти все выбросы в дате регистрации автомобиля находятся в промежутке 2016-2018 гг. Вероятно, это может быть какая-то ошибка пользователей при заполнении, например, могли перепутать с датой окончания страховки или что-то подобное. Интуитиво кажется, что этот признак может быть супер важным для обучения, так как он скорее всего коррелирует с годом выпуска автомобиля.\n",
    "\n",
    "И пусть речь идёт всего о 4% данных, мы предпочтем их оставить. Удалим только несколько объектов, с годом регистрации до 1950 и после 2018 годов."
   ]
  },
  {
   "cell_type": "code",
   "execution_count": 99,
   "metadata": {},
   "outputs": [],
   "source": [
    "df = df.loc[(df['registration_year'] > 1950) & \n",
    "            (df['registration_year'] <= 2018), :].reset_index(drop=True)"
   ]
  },
  {
   "cell_type": "markdown",
   "metadata": {},
   "source": [
    "**Изменение типов данных для категориальных признаков**"
   ]
  },
  {
   "cell_type": "code",
   "execution_count": 100,
   "metadata": {},
   "outputs": [],
   "source": [
    "obj_cols = [col for col in df.columns if df[col].dtype == 'O']\n",
    "df[obj_cols] = df[obj_cols].astype('category')"
   ]
  },
  {
   "cell_type": "markdown",
   "metadata": {},
   "source": [
    "### Обработка пропусков\n"
   ]
  },
  {
   "cell_type": "markdown",
   "metadata": {},
   "source": [
    "В датасете присутствуют пропуски в столбцах:\n",
    "* `vehicle_type`\n",
    "* `gearbox`\n",
    "* `power` *(единственный числовой)*\n",
    "* `model`\n",
    "* `registration_month`\n",
    "* `fuel_type`"
   ]
  },
  {
   "cell_type": "code",
   "execution_count": 102,
   "metadata": {
    "scrolled": true
   },
   "outputs": [
    {
     "data": {
      "text/plain": [
       "date_crawled              0\n",
       "price                     0\n",
       "vehicle_type          33425\n",
       "registration_year         0\n",
       "gearbox               17091\n",
       "power                 36164\n",
       "model                 17108\n",
       "kilometer                 0\n",
       "registration_month    32523\n",
       "fuel_type             29106\n",
       "brand                     0\n",
       "not_repaired          65326\n",
       "date_created              0\n",
       "postal_code               0\n",
       "last_seen                 0\n",
       "dtype: int64"
      ]
     },
     "execution_count": 102,
     "metadata": {},
     "output_type": "execute_result"
    }
   ],
   "source": [
    "df.isna().sum()"
   ]
  },
  {
   "cell_type": "markdown",
   "metadata": {},
   "source": [
    "**Тип кузова**\n",
    "\n",
    "Посмотрим, какие типы кузова у нас представлены."
   ]
  },
  {
   "cell_type": "code",
   "execution_count": 103,
   "metadata": {},
   "outputs": [
    {
     "data": {
      "text/plain": [
       "sedan          89111\n",
       "small          77596\n",
       "wagon          63568\n",
       "NaN            33425\n",
       "bus            28300\n",
       "convertible    19779\n",
       "coupe          15596\n",
       "suv            11754\n",
       "other           2980\n",
       "Name: vehicle_type, dtype: int64"
      ]
     },
     "execution_count": 103,
     "metadata": {},
     "output_type": "execute_result"
    }
   ],
   "source": [
    "df['vehicle_type'].value_counts(dropna=False)"
   ]
  },
  {
   "cell_type": "markdown",
   "metadata": {},
   "source": [
    "**Ремонтирован ли автомобиль**"
   ]
  },
  {
   "cell_type": "code",
   "execution_count": 104,
   "metadata": {},
   "outputs": [
    {
     "name": "stdout",
     "output_type": "stream",
     "text": [
      "Доли машин по отношению к ремонту\n"
     ]
    },
    {
     "data": {
      "text/plain": [
       "no     0.709987\n",
       "NaN    0.190951\n",
       "yes    0.099062\n",
       "Name: not_repaired, dtype: float64"
      ]
     },
     "execution_count": 104,
     "metadata": {},
     "output_type": "execute_result"
    }
   ],
   "source": [
    "print('Доли машин по отношению к ремонту')\n",
    "df['not_repaired'].value_counts(normalize=True, dropna=False)"
   ]
  },
  {
   "cell_type": "markdown",
   "metadata": {},
   "source": [
    "70% автомобилей никогда не ремонтировались, 10% ремонтировались и 20% неизвестно.\n",
    "\n",
    "Будем считать, что если пользователь не указал ничего, то машина не была в ремонте, поэтому заполним пропуски значением \"no\"."
   ]
  },
  {
   "cell_type": "code",
   "execution_count": 105,
   "metadata": {},
   "outputs": [],
   "source": [
    "df['not_repaired'].fillna('no', inplace=True)"
   ]
  },
  {
   "cell_type": "markdown",
   "metadata": {},
   "source": [
    "**Коробка передач**"
   ]
  },
  {
   "cell_type": "code",
   "execution_count": 106,
   "metadata": {},
   "outputs": [
    {
     "name": "stdout",
     "output_type": "stream",
     "text": [
      "Доли машин с разными коробками передач\n"
     ]
    },
    {
     "data": {
      "text/plain": [
       "manual    0.761181\n",
       "auto      0.188861\n",
       "NaN       0.049958\n",
       "Name: gearbox, dtype: float64"
      ]
     },
     "execution_count": 106,
     "metadata": {},
     "output_type": "execute_result"
    }
   ],
   "source": [
    "print('Доли машин с разными коробками передач')\n",
    "df['gearbox'].value_counts(normalize=True, dropna=False)"
   ]
  },
  {
   "cell_type": "markdown",
   "metadata": {},
   "source": [
    "#### Заполнение пропусков"
   ]
  },
  {
   "cell_type": "markdown",
   "metadata": {},
   "source": [
    "Отбросим признаки, которые в дальнейшем не будем использовать: \n",
    "* даты (дата выгрузки данных, дата публикации объявления, дата последнего просмотра объявления);\n",
    "* месяц регистрации (у нас есть год и он важнее);\n",
    "* почтовый индекс (предположим, в центральных регионах больше спрос на автомобили, но чтобы правильно использовать такой признак в обучении нам придется создать почти 100 тыс. дополнительным столбцов при One-Hot-Encoding, потому что это категориальный, а не числовой призанк)."
   ]
  },
  {
   "cell_type": "code",
   "execution_count": 107,
   "metadata": {},
   "outputs": [],
   "source": [
    "df_clear = df.drop(dates + ['registration_month', 'postal_code'], axis=1)"
   ]
  },
  {
   "cell_type": "code",
   "execution_count": 108,
   "metadata": {},
   "outputs": [
    {
     "data": {
      "text/plain": [
       "(342109, 10)"
      ]
     },
     "execution_count": 108,
     "metadata": {},
     "output_type": "execute_result"
    }
   ],
   "source": [
    "df_clear.shape"
   ]
  },
  {
   "cell_type": "markdown",
   "metadata": {},
   "source": [
    "Осталось 10 признаков: 6 категориальных и 4 числовых."
   ]
  },
  {
   "cell_type": "code",
   "execution_count": 109,
   "metadata": {
    "scrolled": true
   },
   "outputs": [
    {
     "data": {
      "text/html": [
       "<div>\n",
       "<style scoped>\n",
       "    .dataframe tbody tr th:only-of-type {\n",
       "        vertical-align: middle;\n",
       "    }\n",
       "\n",
       "    .dataframe tbody tr th {\n",
       "        vertical-align: top;\n",
       "    }\n",
       "\n",
       "    .dataframe thead th {\n",
       "        text-align: right;\n",
       "    }\n",
       "</style>\n",
       "<table border=\"1\" class=\"dataframe\">\n",
       "  <thead>\n",
       "    <tr style=\"text-align: right;\">\n",
       "      <th></th>\n",
       "      <th>price</th>\n",
       "      <th>vehicle_type</th>\n",
       "      <th>registration_year</th>\n",
       "      <th>gearbox</th>\n",
       "      <th>power</th>\n",
       "      <th>model</th>\n",
       "      <th>kilometer</th>\n",
       "      <th>fuel_type</th>\n",
       "      <th>brand</th>\n",
       "      <th>not_repaired</th>\n",
       "    </tr>\n",
       "  </thead>\n",
       "  <tbody>\n",
       "    <tr>\n",
       "      <th>0</th>\n",
       "      <td>480</td>\n",
       "      <td>NaN</td>\n",
       "      <td>1993</td>\n",
       "      <td>manual</td>\n",
       "      <td>NaN</td>\n",
       "      <td>golf</td>\n",
       "      <td>150000</td>\n",
       "      <td>petrol</td>\n",
       "      <td>volkswagen</td>\n",
       "      <td>no</td>\n",
       "    </tr>\n",
       "    <tr>\n",
       "      <th>1</th>\n",
       "      <td>18300</td>\n",
       "      <td>coupe</td>\n",
       "      <td>2011</td>\n",
       "      <td>manual</td>\n",
       "      <td>190.0</td>\n",
       "      <td>NaN</td>\n",
       "      <td>125000</td>\n",
       "      <td>gasoline</td>\n",
       "      <td>audi</td>\n",
       "      <td>yes</td>\n",
       "    </tr>\n",
       "    <tr>\n",
       "      <th>2</th>\n",
       "      <td>9800</td>\n",
       "      <td>suv</td>\n",
       "      <td>2004</td>\n",
       "      <td>auto</td>\n",
       "      <td>163.0</td>\n",
       "      <td>grand</td>\n",
       "      <td>125000</td>\n",
       "      <td>gasoline</td>\n",
       "      <td>jeep</td>\n",
       "      <td>no</td>\n",
       "    </tr>\n",
       "    <tr>\n",
       "      <th>3</th>\n",
       "      <td>1500</td>\n",
       "      <td>small</td>\n",
       "      <td>2001</td>\n",
       "      <td>manual</td>\n",
       "      <td>75.0</td>\n",
       "      <td>golf</td>\n",
       "      <td>150000</td>\n",
       "      <td>petrol</td>\n",
       "      <td>volkswagen</td>\n",
       "      <td>no</td>\n",
       "    </tr>\n",
       "    <tr>\n",
       "      <th>4</th>\n",
       "      <td>3600</td>\n",
       "      <td>small</td>\n",
       "      <td>2008</td>\n",
       "      <td>manual</td>\n",
       "      <td>69.0</td>\n",
       "      <td>fabia</td>\n",
       "      <td>90000</td>\n",
       "      <td>gasoline</td>\n",
       "      <td>skoda</td>\n",
       "      <td>no</td>\n",
       "    </tr>\n",
       "  </tbody>\n",
       "</table>\n",
       "</div>"
      ],
      "text/plain": [
       "   price vehicle_type  registration_year gearbox  power  model  kilometer  \\\n",
       "0    480          NaN               1993  manual    NaN   golf     150000   \n",
       "1  18300        coupe               2011  manual  190.0    NaN     125000   \n",
       "2   9800          suv               2004    auto  163.0  grand     125000   \n",
       "3   1500        small               2001  manual   75.0   golf     150000   \n",
       "4   3600        small               2008  manual   69.0  fabia      90000   \n",
       "\n",
       "  fuel_type       brand not_repaired  \n",
       "0    petrol  volkswagen           no  \n",
       "1  gasoline        audi          yes  \n",
       "2  gasoline        jeep           no  \n",
       "3    petrol  volkswagen           no  \n",
       "4  gasoline       skoda           no  "
      ]
     },
     "execution_count": 109,
     "metadata": {},
     "output_type": "execute_result"
    }
   ],
   "source": [
    "df_clear.head()"
   ]
  },
  {
   "cell_type": "markdown",
   "metadata": {},
   "source": [
    "При заполнении пропусков нам понадобятся имена числовых и категориальных столбцов нашего датасета."
   ]
  },
  {
   "cell_type": "code",
   "execution_count": 110,
   "metadata": {},
   "outputs": [],
   "source": [
    "num_cols = [col for col in df_clear.columns if df_clear[col].dtype.name != 'category']\n",
    "cat_cols = [col for col in df_clear.columns if df_clear[col].dtype.name == 'category']"
   ]
  },
  {
   "cell_type": "markdown",
   "metadata": {},
   "source": [
    "Так как пропуски хочется заполнить с максимальным сохранением ценности данных - воспользуемся любимым машинным обучением.\n",
    "* для заполнения пропусков в числовых столбцах прибегнем к специальному итеративному \"заполнятелю\", в основу которого положим алгоритм случайного леса для регрессии;\n",
    "* для заполнения пропусков в категориальных столбцах воспользуемся методом k-ближайших соседей."
   ]
  },
  {
   "cell_type": "code",
   "execution_count": 112,
   "metadata": {},
   "outputs": [],
   "source": [
    "imp_num = IterativeImputer(estimator=RandomForestRegressor(n_estimators=10, \n",
    "                                                           max_depth=5,\n",
    "                                                           bootstrap=True,\n",
    "                                                           n_jobs=-1),\n",
    "                           initial_strategy='mean',\n",
    "                           max_iter=10, random_state=RS, verbose=1)"
   ]
  },
  {
   "cell_type": "code",
   "execution_count": 113,
   "metadata": {
    "scrolled": true
   },
   "outputs": [
    {
     "name": "stdout",
     "output_type": "stream",
     "text": [
      "[IterativeImputer] Completing matrix with shape (342109, 4)\n",
      "[IterativeImputer] Change: 113.70164728965096, scaled tolerance: 150.0 \n",
      "[IterativeImputer] Early stopping criterion reached.\n",
      "CPU times: user 4.79 s, sys: 0 ns, total: 4.79 s\n",
      "Wall time: 4.79 s\n"
     ]
    }
   ],
   "source": [
    "%%time\n",
    "df_final_num = pd.DataFrame(imp_num.fit_transform(df_clear[num_cols]), columns=num_cols)"
   ]
  },
  {
   "cell_type": "markdown",
   "metadata": {},
   "source": [
    "Для передачи наших категориальных признаков нам понадобится небольшая функция, задача которой преобразовать текстовые поля в числа. В основе этой функции лежит класс `LabelEncoder` из библиотеки `sklearn`, но в нашем решении есть еще две фичи:\n",
    "1. Для каждого столбца мы обучаем отдельный экземпляр класса `LabelEncoder`, который храним в экземпляре класса `defaultdict` из встроенного Python-модуля `Collections`. Это необходимо чтобы в дальнейшем можно было инвертировать кодировку наших категориальных признаков и вернуть им человекочитаемый вид;\n",
    "2. Мы сохраняем в виде `NaN` пропуски в столбцах, чтобы `KNNImputer` смог их заполнить. Ограничиваем гиперпараметр количество соседей до одного.\n"
   ]
  },
  {
   "cell_type": "code",
   "execution_count": 114,
   "metadata": {},
   "outputs": [],
   "source": [
    "d = defaultdict(LabelEncoder)\n",
    "\n",
    "def lab_enc_with_nan(series):\n",
    "    series_encoded = pd.Series(\n",
    "        data=d[series.name].fit_transform(series[series.notnull()]),\n",
    "        index=series[series.notnull()].index\n",
    "    )\n",
    "    return series_encoded"
   ]
  },
  {
   "cell_type": "code",
   "execution_count": 115,
   "metadata": {},
   "outputs": [],
   "source": [
    "# применяем функцию к каждой строке датафрейма\n",
    "df_final_cat = df_clear[cat_cols].apply(lab_enc_with_nan)"
   ]
  },
  {
   "cell_type": "code",
   "execution_count": 116,
   "metadata": {
    "scrolled": true
   },
   "outputs": [
    {
     "data": {
      "text/html": [
       "<div>\n",
       "<style scoped>\n",
       "    .dataframe tbody tr th:only-of-type {\n",
       "        vertical-align: middle;\n",
       "    }\n",
       "\n",
       "    .dataframe tbody tr th {\n",
       "        vertical-align: top;\n",
       "    }\n",
       "\n",
       "    .dataframe thead th {\n",
       "        text-align: right;\n",
       "    }\n",
       "</style>\n",
       "<table border=\"1\" class=\"dataframe\">\n",
       "  <thead>\n",
       "    <tr style=\"text-align: right;\">\n",
       "      <th></th>\n",
       "      <th>vehicle_type</th>\n",
       "      <th>gearbox</th>\n",
       "      <th>model</th>\n",
       "      <th>fuel_type</th>\n",
       "      <th>brand</th>\n",
       "      <th>not_repaired</th>\n",
       "    </tr>\n",
       "  </thead>\n",
       "  <tbody>\n",
       "    <tr>\n",
       "      <th>0</th>\n",
       "      <td>NaN</td>\n",
       "      <td>1.0</td>\n",
       "      <td>116.0</td>\n",
       "      <td>6.0</td>\n",
       "      <td>38</td>\n",
       "      <td>0</td>\n",
       "    </tr>\n",
       "    <tr>\n",
       "      <th>1</th>\n",
       "      <td>2.0</td>\n",
       "      <td>1.0</td>\n",
       "      <td>NaN</td>\n",
       "      <td>2.0</td>\n",
       "      <td>1</td>\n",
       "      <td>1</td>\n",
       "    </tr>\n",
       "    <tr>\n",
       "      <th>2</th>\n",
       "      <td>6.0</td>\n",
       "      <td>0.0</td>\n",
       "      <td>117.0</td>\n",
       "      <td>2.0</td>\n",
       "      <td>14</td>\n",
       "      <td>0</td>\n",
       "    </tr>\n",
       "    <tr>\n",
       "      <th>3</th>\n",
       "      <td>5.0</td>\n",
       "      <td>1.0</td>\n",
       "      <td>116.0</td>\n",
       "      <td>6.0</td>\n",
       "      <td>38</td>\n",
       "      <td>0</td>\n",
       "    </tr>\n",
       "    <tr>\n",
       "      <th>4</th>\n",
       "      <td>5.0</td>\n",
       "      <td>1.0</td>\n",
       "      <td>101.0</td>\n",
       "      <td>2.0</td>\n",
       "      <td>31</td>\n",
       "      <td>0</td>\n",
       "    </tr>\n",
       "  </tbody>\n",
       "</table>\n",
       "</div>"
      ],
      "text/plain": [
       "   vehicle_type  gearbox  model  fuel_type  brand  not_repaired\n",
       "0           NaN      1.0  116.0        6.0     38             0\n",
       "1           2.0      1.0    NaN        2.0      1             1\n",
       "2           6.0      0.0  117.0        2.0     14             0\n",
       "3           5.0      1.0  116.0        6.0     38             0\n",
       "4           5.0      1.0  101.0        2.0     31             0"
      ]
     },
     "execution_count": 116,
     "metadata": {},
     "output_type": "execute_result"
    }
   ],
   "source": [
    "df_final_cat.head()"
   ]
  },
  {
   "cell_type": "code",
   "execution_count": 117,
   "metadata": {},
   "outputs": [
    {
     "name": "stdout",
     "output_type": "stream",
     "text": [
      "CPU times: user 21min 20s, sys: 9min 31s, total: 30min 51s\n",
      "Wall time: 30min 53s\n"
     ]
    }
   ],
   "source": [
    "%%time\n",
    "imputer = KNNImputer(n_neighbors=1)\n",
    "df_final_cat = imputer.fit_transform(df_final_cat)"
   ]
  },
  {
   "cell_type": "code",
   "execution_count": 118,
   "metadata": {},
   "outputs": [
    {
     "data": {
      "text/html": [
       "<div>\n",
       "<style scoped>\n",
       "    .dataframe tbody tr th:only-of-type {\n",
       "        vertical-align: middle;\n",
       "    }\n",
       "\n",
       "    .dataframe tbody tr th {\n",
       "        vertical-align: top;\n",
       "    }\n",
       "\n",
       "    .dataframe thead th {\n",
       "        text-align: right;\n",
       "    }\n",
       "</style>\n",
       "<table border=\"1\" class=\"dataframe\">\n",
       "  <thead>\n",
       "    <tr style=\"text-align: right;\">\n",
       "      <th></th>\n",
       "      <th>vehicle_type</th>\n",
       "      <th>gearbox</th>\n",
       "      <th>model</th>\n",
       "      <th>fuel_type</th>\n",
       "      <th>brand</th>\n",
       "      <th>not_repaired</th>\n",
       "    </tr>\n",
       "  </thead>\n",
       "  <tbody>\n",
       "    <tr>\n",
       "      <th>0</th>\n",
       "      <td>5.0</td>\n",
       "      <td>1.0</td>\n",
       "      <td>116.0</td>\n",
       "      <td>6.0</td>\n",
       "      <td>38.0</td>\n",
       "      <td>0.0</td>\n",
       "    </tr>\n",
       "    <tr>\n",
       "      <th>1</th>\n",
       "      <td>2.0</td>\n",
       "      <td>1.0</td>\n",
       "      <td>29.0</td>\n",
       "      <td>2.0</td>\n",
       "      <td>1.0</td>\n",
       "      <td>1.0</td>\n",
       "    </tr>\n",
       "    <tr>\n",
       "      <th>2</th>\n",
       "      <td>6.0</td>\n",
       "      <td>0.0</td>\n",
       "      <td>117.0</td>\n",
       "      <td>2.0</td>\n",
       "      <td>14.0</td>\n",
       "      <td>0.0</td>\n",
       "    </tr>\n",
       "    <tr>\n",
       "      <th>3</th>\n",
       "      <td>5.0</td>\n",
       "      <td>1.0</td>\n",
       "      <td>116.0</td>\n",
       "      <td>6.0</td>\n",
       "      <td>38.0</td>\n",
       "      <td>0.0</td>\n",
       "    </tr>\n",
       "    <tr>\n",
       "      <th>4</th>\n",
       "      <td>5.0</td>\n",
       "      <td>1.0</td>\n",
       "      <td>101.0</td>\n",
       "      <td>2.0</td>\n",
       "      <td>31.0</td>\n",
       "      <td>0.0</td>\n",
       "    </tr>\n",
       "  </tbody>\n",
       "</table>\n",
       "</div>"
      ],
      "text/plain": [
       "   vehicle_type  gearbox  model  fuel_type  brand  not_repaired\n",
       "0           5.0      1.0  116.0        6.0   38.0           0.0\n",
       "1           2.0      1.0   29.0        2.0    1.0           1.0\n",
       "2           6.0      0.0  117.0        2.0   14.0           0.0\n",
       "3           5.0      1.0  116.0        6.0   38.0           0.0\n",
       "4           5.0      1.0  101.0        2.0   31.0           0.0"
      ]
     },
     "execution_count": 118,
     "metadata": {},
     "output_type": "execute_result"
    }
   ],
   "source": [
    "df_final_cat = pd.DataFrame(df_final_cat, columns=cat_cols)\n",
    "df_final_cat.head()"
   ]
  },
  {
   "cell_type": "code",
   "execution_count": 119,
   "metadata": {},
   "outputs": [],
   "source": [
    "# чтобы энкодер нас правильно понял float возвращаем в int\n",
    "df_final_cat = df_final_cat.astype('int')\n",
    "\n",
    "# обращаем кодировку, переходя обратно к текстовому виду\n",
    "df_final_cat = df_final_cat.apply(lambda x: d[x.name].inverse_transform(x))"
   ]
  },
  {
   "cell_type": "markdown",
   "metadata": {},
   "source": [
    "Наконец, объединим наши датафреймы без пропусков в один -- `df_final`."
   ]
  },
  {
   "cell_type": "code",
   "execution_count": 120,
   "metadata": {},
   "outputs": [
    {
     "data": {
      "text/plain": [
       "(342109, 10)"
      ]
     },
     "execution_count": 120,
     "metadata": {},
     "output_type": "execute_result"
    }
   ],
   "source": [
    "df_final = pd.concat([df_final_num, df_final_cat], axis=1)\n",
    "df_final.shape"
   ]
  },
  {
   "cell_type": "markdown",
   "metadata": {},
   "source": [
    "### Подготовка выборок для обучения"
   ]
  },
  {
   "cell_type": "code",
   "execution_count": 121,
   "metadata": {},
   "outputs": [],
   "source": [
    "X, y = df_final.drop('price', axis=1), df_final['price']"
   ]
  },
  {
   "cell_type": "markdown",
   "metadata": {},
   "source": [
    "Для линейной регрессии, RF-регрессора и XGBoost нам нужно применить OHE для категориальных признаков."
   ]
  },
  {
   "cell_type": "code",
   "execution_count": 122,
   "metadata": {},
   "outputs": [
    {
     "data": {
      "text/plain": [
       "(342109, 306)"
      ]
     },
     "execution_count": 122,
     "metadata": {},
     "output_type": "execute_result"
    }
   ],
   "source": [
    "X = pd.concat(\n",
    "    [X.drop(cat_cols, axis=1),\n",
    "    pd.get_dummies(X[cat_cols], drop_first=True)],\n",
    "    axis=1\n",
    ")\n",
    "X.shape"
   ]
  },
  {
   "cell_type": "markdown",
   "metadata": {},
   "source": [
    "Данных у нас предостаточно, поэтому на тест модели отложим только 20% исходного датасета."
   ]
  },
  {
   "cell_type": "code",
   "execution_count": 123,
   "metadata": {},
   "outputs": [],
   "source": [
    "X_train, X_test, y_train, y_test = train_test_split(X, y, test_size=0.2, random_state=RS)"
   ]
  },
  {
   "cell_type": "markdown",
   "metadata": {},
   "source": [
    "Линейная модель чувствительна к масштабу признаков, поэтому ради неё выполним стандартизацию **числовых** признаков."
   ]
  },
  {
   "cell_type": "code",
   "execution_count": 124,
   "metadata": {},
   "outputs": [],
   "source": [
    "scaler = StandardScaler() \n",
    "\n",
    "num_cols.remove('price')\n",
    "\n",
    "X_train[num_cols] = scaler.fit_transform(X_train[num_cols]) \n",
    "X_test[num_cols] = scaler.transform(X_test[num_cols]) "
   ]
  },
  {
   "cell_type": "markdown",
   "metadata": {},
   "source": [
    "## Обучение моделей"
   ]
  },
  {
   "cell_type": "markdown",
   "metadata": {},
   "source": [
    "В этом проекте мы выполним обучение и сравнение следующих моделей:\n",
    "* Linreg, \n",
    "* RFregressor, \n",
    "* XGB, \n",
    "* LightGBM, \n",
    "* CatBoost.\n",
    "\n",
    "Так как заказчику помимо метрики качества важны скорость обучения и скорость предскзания модели, то для соответствующих ячеек будем измерять время выполнения.\n",
    "\n",
    "Модели будем обучать и оценивать с помощью метрики RMSE (Root Mean Square Error, cреднеквадратичная ошибка). Результаты будем сохранять в отдельном маленьком датафрейме для последующего сравнения."
   ]
  },
  {
   "cell_type": "code",
   "execution_count": 125,
   "metadata": {},
   "outputs": [],
   "source": [
    "results = pd.DataFrame(index=['RMSE_train', 'RMSE_test'])"
   ]
  },
  {
   "cell_type": "markdown",
   "metadata": {},
   "source": [
    "### Линейная регрессия"
   ]
  },
  {
   "cell_type": "code",
   "execution_count": 126,
   "metadata": {},
   "outputs": [
    {
     "data": {
      "text/plain": [
       "LinearRegression()"
      ]
     },
     "execution_count": 126,
     "metadata": {},
     "output_type": "execute_result"
    }
   ],
   "source": [
    "lr = LinearRegression()\n",
    "lr.fit(X_train, y_train)"
   ]
  },
  {
   "cell_type": "code",
   "execution_count": 127,
   "metadata": {},
   "outputs": [],
   "source": [
    "results['lin_reg'] = [mean_squared_error(y_train, lr.predict(X_train), squared=False),\n",
    "                      mean_squared_error(y_test, lr.predict(X_test), squared=False)]"
   ]
  },
  {
   "cell_type": "code",
   "execution_count": 128,
   "metadata": {},
   "outputs": [
    {
     "data": {
      "text/html": [
       "<div>\n",
       "<style scoped>\n",
       "    .dataframe tbody tr th:only-of-type {\n",
       "        vertical-align: middle;\n",
       "    }\n",
       "\n",
       "    .dataframe tbody tr th {\n",
       "        vertical-align: top;\n",
       "    }\n",
       "\n",
       "    .dataframe thead th {\n",
       "        text-align: right;\n",
       "    }\n",
       "</style>\n",
       "<table border=\"1\" class=\"dataframe\">\n",
       "  <thead>\n",
       "    <tr style=\"text-align: right;\">\n",
       "      <th></th>\n",
       "      <th>lin_reg</th>\n",
       "    </tr>\n",
       "  </thead>\n",
       "  <tbody>\n",
       "    <tr>\n",
       "      <th>RMSE_train</th>\n",
       "      <td>2747.0</td>\n",
       "    </tr>\n",
       "    <tr>\n",
       "      <th>RMSE_test</th>\n",
       "      <td>2748.0</td>\n",
       "    </tr>\n",
       "  </tbody>\n",
       "</table>\n",
       "</div>"
      ],
      "text/plain": [
       "            lin_reg\n",
       "RMSE_train   2747.0\n",
       "RMSE_test    2748.0"
      ]
     },
     "execution_count": 128,
     "metadata": {},
     "output_type": "execute_result"
    }
   ],
   "source": [
    "round(results)"
   ]
  },
  {
   "cell_type": "markdown",
   "metadata": {},
   "source": [
    "### RFregressor"
   ]
  },
  {
   "cell_type": "code",
   "execution_count": 129,
   "metadata": {},
   "outputs": [
    {
     "name": "stdout",
     "output_type": "stream",
     "text": [
      "CPU times: user 4min 2s, sys: 1.85 s, total: 4min 3s\n",
      "Wall time: 4min 4s\n"
     ]
    },
    {
     "data": {
      "text/plain": [
       "RandomForestRegressor(max_depth=7, max_features=1.0, n_jobs=-1, random_state=17)"
      ]
     },
     "execution_count": 129,
     "metadata": {},
     "output_type": "execute_result"
    }
   ],
   "source": [
    "%%time\n",
    "rf_reg = RandomForestRegressor(n_estimators=100, \n",
    "                               max_depth=7, \n",
    "                               max_features=1.0,\n",
    "                               n_jobs=-1, random_state=RS)\n",
    "rf_reg.fit(X_train, y_train)"
   ]
  },
  {
   "cell_type": "code",
   "execution_count": 130,
   "metadata": {},
   "outputs": [],
   "source": [
    "results['rf_reg'] = [mean_squared_error(y_train, rf_reg.predict(X_train), squared=False),\n",
    "                      mean_squared_error(y_test, rf_reg.predict(X_test), squared=False)]"
   ]
  },
  {
   "cell_type": "code",
   "execution_count": 131,
   "metadata": {},
   "outputs": [
    {
     "data": {
      "text/html": [
       "<div>\n",
       "<style scoped>\n",
       "    .dataframe tbody tr th:only-of-type {\n",
       "        vertical-align: middle;\n",
       "    }\n",
       "\n",
       "    .dataframe tbody tr th {\n",
       "        vertical-align: top;\n",
       "    }\n",
       "\n",
       "    .dataframe thead th {\n",
       "        text-align: right;\n",
       "    }\n",
       "</style>\n",
       "<table border=\"1\" class=\"dataframe\">\n",
       "  <thead>\n",
       "    <tr style=\"text-align: right;\">\n",
       "      <th></th>\n",
       "      <th>lin_reg</th>\n",
       "      <th>rf_reg</th>\n",
       "    </tr>\n",
       "  </thead>\n",
       "  <tbody>\n",
       "    <tr>\n",
       "      <th>RMSE_train</th>\n",
       "      <td>2747.0</td>\n",
       "      <td>2132.0</td>\n",
       "    </tr>\n",
       "    <tr>\n",
       "      <th>RMSE_test</th>\n",
       "      <td>2748.0</td>\n",
       "      <td>2137.0</td>\n",
       "    </tr>\n",
       "  </tbody>\n",
       "</table>\n",
       "</div>"
      ],
      "text/plain": [
       "            lin_reg  rf_reg\n",
       "RMSE_train   2747.0  2132.0\n",
       "RMSE_test    2748.0  2137.0"
      ]
     },
     "execution_count": 131,
     "metadata": {},
     "output_type": "execute_result"
    }
   ],
   "source": [
    "round(results)"
   ]
  },
  {
   "cell_type": "markdown",
   "metadata": {},
   "source": [
    "### XGBoost"
   ]
  },
  {
   "cell_type": "code",
   "execution_count": 132,
   "metadata": {},
   "outputs": [
    {
     "name": "stdout",
     "output_type": "stream",
     "text": [
      "CPU times: user 7min 18s, sys: 0 ns, total: 7min 18s\n",
      "Wall time: 7min 21s\n"
     ]
    }
   ],
   "source": [
    "%%time\n",
    "param = {\n",
    "#     'max_depth':6, # глубина дерева, по умолчанию 6\n",
    "#     'eta':0.3, # шаг градиента, лучше 0.01-0.2 \n",
    "#     'min_child_weight':1, # потомков в узле,\n",
    "    'objective':'reg:squarederror'}\n",
    "num_round = 100\n",
    "\n",
    "dtrain = xgb.DMatrix(X_train, y_train)\n",
    "model_xgb = xgb.train(param, dtrain, num_round)"
   ]
  },
  {
   "cell_type": "code",
   "execution_count": 133,
   "metadata": {},
   "outputs": [],
   "source": [
    "results['XGB'] = [mean_squared_error(y_train, model_xgb.predict(xgb.DMatrix(X_train)), squared=False),\n",
    "                  mean_squared_error(y_test, model_xgb.predict(xgb.DMatrix(X_test)), squared=False)]"
   ]
  },
  {
   "cell_type": "code",
   "execution_count": 134,
   "metadata": {},
   "outputs": [
    {
     "data": {
      "text/html": [
       "<div>\n",
       "<style scoped>\n",
       "    .dataframe tbody tr th:only-of-type {\n",
       "        vertical-align: middle;\n",
       "    }\n",
       "\n",
       "    .dataframe tbody tr th {\n",
       "        vertical-align: top;\n",
       "    }\n",
       "\n",
       "    .dataframe thead th {\n",
       "        text-align: right;\n",
       "    }\n",
       "</style>\n",
       "<table border=\"1\" class=\"dataframe\">\n",
       "  <thead>\n",
       "    <tr style=\"text-align: right;\">\n",
       "      <th></th>\n",
       "      <th>lin_reg</th>\n",
       "      <th>rf_reg</th>\n",
       "      <th>XGB</th>\n",
       "    </tr>\n",
       "  </thead>\n",
       "  <tbody>\n",
       "    <tr>\n",
       "      <th>RMSE_train</th>\n",
       "      <td>2747.0</td>\n",
       "      <td>2132.0</td>\n",
       "      <td>1601.0</td>\n",
       "    </tr>\n",
       "    <tr>\n",
       "      <th>RMSE_test</th>\n",
       "      <td>2748.0</td>\n",
       "      <td>2137.0</td>\n",
       "      <td>1663.0</td>\n",
       "    </tr>\n",
       "  </tbody>\n",
       "</table>\n",
       "</div>"
      ],
      "text/plain": [
       "            lin_reg  rf_reg     XGB\n",
       "RMSE_train   2747.0  2132.0  1601.0\n",
       "RMSE_test    2748.0  2137.0  1663.0"
      ]
     },
     "execution_count": 134,
     "metadata": {},
     "output_type": "execute_result"
    }
   ],
   "source": [
    "round(results)"
   ]
  },
  {
   "cell_type": "markdown",
   "metadata": {},
   "source": [
    "Взглянем на топ-30 признаков, которые бустинг чаще всего использовал в своих узлах для разделения наблюдений. "
   ]
  },
  {
   "cell_type": "code",
   "execution_count": 138,
   "metadata": {},
   "outputs": [
    {
     "data": {
      "image/png": "[encoded data removed]",
      "text/plain": [
       "<Figure size 864x576 with 1 Axes>"
      ]
     },
     "metadata": {
      "needs_background": "light"
     },
     "output_type": "display_data"
    }
   ],
   "source": [
    "ax = xgb.plot_importance(model_xgb, max_num_features=30)\n",
    "fig = ax.figure\n",
    "fig.set_size_inches(12, 8);"
   ]
  },
  {
   "cell_type": "markdown",
   "metadata": {},
   "source": [
    "#### Вывод\n",
    "\n",
    "* После небольшого тюнинга основных параметров было решено остановиться на дефолтных параметрах, так как они показали наилучшее качество:\n",
    "    * RMSE = 1600 на обучающей выборке и 1663 на тестовой.\n",
    "* В качестве наиболее важных признаков для обучения модель выделила:\n",
    "    1. Год регистрации\n",
    "    2. Мощность двигателя\n",
    "    3. Пробег\n",
    "    4. Отсутвие ремонта у авто"
   ]
  },
  {
   "cell_type": "markdown",
   "metadata": {},
   "source": [
    "### LightGBM"
   ]
  },
  {
   "cell_type": "code",
   "execution_count": 139,
   "metadata": {},
   "outputs": [],
   "source": [
    "train_data = lgb.Dataset(X_train, label=y_train)"
   ]
  },
  {
   "cell_type": "code",
   "execution_count": 140,
   "metadata": {},
   "outputs": [],
   "source": [
    "param = {\n",
    "    'objective': 'rmse',\n",
    "    'num_leaves': 90, \n",
    "    'num_threads': 4,\n",
    "    'learning_rate': 0.1, # default\n",
    "    'num_iterations': 500,\n",
    "}"
   ]
  },
  {
   "cell_type": "code",
   "execution_count": 141,
   "metadata": {},
   "outputs": [
    {
     "name": "stdout",
     "output_type": "stream",
     "text": [
      "[LightGBM] [Warning] Auto-choosing row-wise multi-threading, the overhead of testing was 0.009039 seconds.\n",
      "You can set `force_row_wise=true` to remove the overhead.\n",
      "And if memory is not enough, you can set `force_col_wise=true`.\n",
      "[LightGBM] [Info] Total Bins 910\n",
      "[LightGBM] [Info] Number of data points in the train set: 273687, number of used features: 291\n",
      "[LightGBM] [Info] Start training from score 4560.331090\n",
      "CPU times: user 19.7 s, sys: 0 ns, total: 19.7 s\n",
      "Wall time: 19.7 s\n"
     ]
    }
   ],
   "source": [
    "%%time\n",
    "model_lgb = lgb.train(param, train_data)"
   ]
  },
  {
   "cell_type": "code",
   "execution_count": 142,
   "metadata": {},
   "outputs": [
    {
     "name": "stdout",
     "output_type": "stream",
     "text": [
      "CPU times: user 22.7 s, sys: 0 ns, total: 22.7 s\n",
      "Wall time: 22.7 s\n"
     ]
    }
   ],
   "source": [
    "%%time\n",
    "results['LGBM'] = [mean_squared_error(y_train, model_lgb.predict(X_train), squared=False),\n",
    "                      mean_squared_error(y_test, model_lgb.predict(X_test), squared=False)]"
   ]
  },
  {
   "cell_type": "code",
   "execution_count": 65,
   "metadata": {},
   "outputs": [
    {
     "data": {
      "text/html": [
       "<div>\n",
       "<style scoped>\n",
       "    .dataframe tbody tr th:only-of-type {\n",
       "        vertical-align: middle;\n",
       "    }\n",
       "\n",
       "    .dataframe tbody tr th {\n",
       "        vertical-align: top;\n",
       "    }\n",
       "\n",
       "    .dataframe thead th {\n",
       "        text-align: right;\n",
       "    }\n",
       "</style>\n",
       "<table border=\"1\" class=\"dataframe\">\n",
       "  <thead>\n",
       "    <tr style=\"text-align: right;\">\n",
       "      <th></th>\n",
       "      <th>lin_reg</th>\n",
       "      <th>rf_reg</th>\n",
       "      <th>XGB</th>\n",
       "      <th>LGBM</th>\n",
       "    </tr>\n",
       "  </thead>\n",
       "  <tbody>\n",
       "    <tr>\n",
       "      <th>RMSE_train</th>\n",
       "      <td>2880.229465</td>\n",
       "      <td>2136.262631</td>\n",
       "      <td>1600.039046</td>\n",
       "      <td>1376.482448</td>\n",
       "    </tr>\n",
       "    <tr>\n",
       "      <th>RMSE_test</th>\n",
       "      <td>2889.568298</td>\n",
       "      <td>2140.071653</td>\n",
       "      <td>1671.484855</td>\n",
       "      <td>1530.313204</td>\n",
       "    </tr>\n",
       "  </tbody>\n",
       "</table>\n",
       "</div>"
      ],
      "text/plain": [
       "                lin_reg       rf_reg          XGB         LGBM\n",
       "RMSE_train  2880.229465  2136.262631  1600.039046  1376.482448\n",
       "RMSE_test   2889.568298  2140.071653  1671.484855  1530.313204"
      ]
     },
     "execution_count": 65,
     "metadata": {},
     "output_type": "execute_result"
    }
   ],
   "source": [
    "#default, num_iter=500\n",
    "round(results)"
   ]
  },
  {
   "cell_type": "code",
   "execution_count": 143,
   "metadata": {
    "scrolled": false
   },
   "outputs": [
    {
     "data": {
      "image/png": "[encoded data removed]",
      "text/plain": [
       "<Figure size 864x576 with 1 Axes>"
      ]
     },
     "metadata": {
      "needs_background": "light"
     },
     "output_type": "display_data"
    }
   ],
   "source": [
    "ax = lgb.plot_importance(model_lgb, max_num_features=30)\n",
    "fig = ax.figure\n",
    "fig.set_size_inches(12, 8);"
   ]
  },
  {
   "cell_type": "markdown",
   "metadata": {},
   "source": [
    "#### LightGBM на данных с пропусками\n",
    "\n",
    "Теперь из любопытства попробуем обучить LightGBM на датасете без заполнения пропусков и без кодирования категориальных признаков с помощью OHE - судя по документации ей это по плечу."
   ]
  },
  {
   "cell_type": "code",
   "execution_count": 144,
   "metadata": {},
   "outputs": [],
   "source": [
    "X, y = df_clear.drop('price', axis=1), df_clear['price']\n",
    "X_train_nan, X_test_nan, y_train_nan, y_test_nan = train_test_split(\n",
    "    X, y, test_size=0.2, random_state=RS\n",
    ")"
   ]
  },
  {
   "cell_type": "code",
   "execution_count": 145,
   "metadata": {},
   "outputs": [],
   "source": [
    "train_data = lgb.Dataset(X_train_nan, label=y_train_nan)"
   ]
  },
  {
   "cell_type": "code",
   "execution_count": 146,
   "metadata": {},
   "outputs": [],
   "source": [
    "param = {\n",
    "    'objective': 'rmse',\n",
    "    'num_threads': 4,\n",
    "    'learning_rate': 0.1,\n",
    "    'num_iterations': 500,\n",
    "}"
   ]
  },
  {
   "cell_type": "code",
   "execution_count": 147,
   "metadata": {},
   "outputs": [
    {
     "name": "stdout",
     "output_type": "stream",
     "text": [
      "[LightGBM] [Warning] Auto-choosing row-wise multi-threading, the overhead of testing was 0.007872 seconds.\n",
      "You can set `force_row_wise=true` to remove the overhead.\n",
      "And if memory is not enough, you can set `force_col_wise=true`.\n",
      "[LightGBM] [Info] Total Bins 626\n",
      "[LightGBM] [Info] Number of data points in the train set: 273687, number of used features: 9\n",
      "[LightGBM] [Info] Start training from score 4560.331090\n",
      "CPU times: user 11.5 s, sys: 0 ns, total: 11.5 s\n",
      "Wall time: 11.5 s\n"
     ]
    }
   ],
   "source": [
    "%%time\n",
    "model_lgb = lgb.train(param, train_data)"
   ]
  },
  {
   "cell_type": "code",
   "execution_count": 148,
   "metadata": {},
   "outputs": [
    {
     "name": "stdout",
     "output_type": "stream",
     "text": [
      "CPU times: user 12.9 s, sys: 0 ns, total: 12.9 s\n",
      "Wall time: 12.9 s\n"
     ]
    }
   ],
   "source": [
    "%%time\n",
    "results['LGBM_with_nan'] = [mean_squared_error(y_train_nan, model_lgb.predict(X_train_nan), squared=False),\n",
    "                      mean_squared_error(y_test_nan, model_lgb.predict(X_test_nan), squared=False)]"
   ]
  },
  {
   "cell_type": "code",
   "execution_count": 149,
   "metadata": {},
   "outputs": [
    {
     "data": {
      "text/html": [
       "<div>\n",
       "<style scoped>\n",
       "    .dataframe tbody tr th:only-of-type {\n",
       "        vertical-align: middle;\n",
       "    }\n",
       "\n",
       "    .dataframe tbody tr th {\n",
       "        vertical-align: top;\n",
       "    }\n",
       "\n",
       "    .dataframe thead th {\n",
       "        text-align: right;\n",
       "    }\n",
       "</style>\n",
       "<table border=\"1\" class=\"dataframe\">\n",
       "  <thead>\n",
       "    <tr style=\"text-align: right;\">\n",
       "      <th></th>\n",
       "      <th>lin_reg</th>\n",
       "      <th>rf_reg</th>\n",
       "      <th>XGB</th>\n",
       "      <th>LGBM</th>\n",
       "      <th>LGBM_with_nan</th>\n",
       "    </tr>\n",
       "  </thead>\n",
       "  <tbody>\n",
       "    <tr>\n",
       "      <th>RMSE_train</th>\n",
       "      <td>2747.0</td>\n",
       "      <td>2132.0</td>\n",
       "      <td>1601.0</td>\n",
       "      <td>1371.0</td>\n",
       "      <td>1487.0</td>\n",
       "    </tr>\n",
       "    <tr>\n",
       "      <th>RMSE_test</th>\n",
       "      <td>2748.0</td>\n",
       "      <td>2137.0</td>\n",
       "      <td>1663.0</td>\n",
       "      <td>1528.0</td>\n",
       "      <td>1603.0</td>\n",
       "    </tr>\n",
       "  </tbody>\n",
       "</table>\n",
       "</div>"
      ],
      "text/plain": [
       "            lin_reg  rf_reg     XGB    LGBM  LGBM_with_nan\n",
       "RMSE_train   2747.0  2132.0  1601.0  1371.0         1487.0\n",
       "RMSE_test    2748.0  2137.0  1663.0  1528.0         1603.0"
      ]
     },
     "execution_count": 149,
     "metadata": {},
     "output_type": "execute_result"
    }
   ],
   "source": [
    "# default params, num_iter=500\n",
    "round(results)"
   ]
  },
  {
   "cell_type": "markdown",
   "metadata": {},
   "source": [
    "#### Вывод\n",
    "* LightGBM показал наилучшие результаты без тюнинга параметров, только с увеличением количества итераций до 500:\n",
    "    * RMSE на обучающей выборке 1377, на тестовой 1526.\n",
    "* В качестве самых важных признаков модель выделила:\n",
    "    1. Мощность двигателя\n",
    "    2. Год регистрации\n",
    "    3. Пробег\n",
    "    4. Коробка передач - ручная\n",
    "    5. Тип топлива - бензин\n",
    "    6. Тип кузова - седан\n",
    "* Пользуясь возможностями библиотеки LightGBM попробовали обучить бустинг на данных с незаполненными пропусками - результаты получились хуже, но тем не менее, не намного хуже."
   ]
  },
  {
   "cell_type": "markdown",
   "metadata": {},
   "source": [
    "### CatBoost\n",
    "\n",
    "CatBoost работает с категориальными признаками, поэтому для обучения ему передадим наш датафрейм после заполнения пропусков, но до применения One-Hot-Encoding, то есть переменную `df_final`."
   ]
  },
  {
   "cell_type": "code",
   "execution_count": 150,
   "metadata": {},
   "outputs": [],
   "source": [
    "X, y = df_final.drop('price', axis=1), df_final['price']\n",
    "X_train, X_test, y_train, y_test = train_test_split(X, y, test_size=0.2, random_state=RS)"
   ]
  },
  {
   "cell_type": "code",
   "execution_count": 151,
   "metadata": {},
   "outputs": [],
   "source": [
    "train_pool = Pool(X_train, \n",
    "                  y_train, \n",
    "                  cat_features=cat_cols)\n",
    "\n",
    "test_pool = Pool(X_test, \n",
    "                 cat_features=cat_cols) "
   ]
  },
  {
   "cell_type": "code",
   "execution_count": 152,
   "metadata": {},
   "outputs": [],
   "source": [
    "model_cb = CatBoostRegressor(loss_function='RMSE', \n",
    "                             random_seed=RS,\n",
    "                             iterations=2000,\n",
    "                             learning_rate=0.5,\n",
    "                             depth=3\n",
    "                            )"
   ]
  },
  {
   "cell_type": "code",
   "execution_count": 153,
   "metadata": {
    "scrolled": true
   },
   "outputs": [
    {
     "data": {
      "application/vnd.jupyter.widget-view+json": {
       "model_id": "b3c4cf429a39479986b08538bba578eb",
       "version_major": 2,
       "version_minor": 0
      },
      "text/plain": [
       "MetricVisualizer(layout=Layout(align_self='stretch', height='500px'))"
      ]
     },
     "metadata": {},
     "output_type": "display_data"
    },
    {
     "name": "stdout",
     "output_type": "stream",
     "text": [
      "0:\tlearn: 3472.9277385\ttotal: 192ms\tremaining: 6m 23s\n",
      "1:\tlearn: 3002.6189027\ttotal: 304ms\tremaining: 5m 3s\n",
      "2:\tlearn: 2705.0736862\ttotal: 427ms\tremaining: 4m 44s\n",
      "3:\tlearn: 2540.3643050\ttotal: 549ms\tremaining: 4m 33s\n",
      "4:\tlearn: 2396.8279896\ttotal: 654ms\tremaining: 4m 20s\n",
      "5:\tlearn: 2327.7946458\ttotal: 766ms\tremaining: 4m 14s\n",
      "6:\tlearn: 2270.6293130\ttotal: 836ms\tremaining: 3m 58s\n",
      "7:\tlearn: 2235.4711338\ttotal: 929ms\tremaining: 3m 51s\n",
      "8:\tlearn: 2205.8190449\ttotal: 1.03s\tremaining: 3m 49s\n",
      "9:\tlearn: 2169.8083610\ttotal: 1.14s\tremaining: 3m 46s\n",
      "10:\tlearn: 2150.9415049\ttotal: 1.24s\tremaining: 3m 44s\n",
      "11:\tlearn: 2129.0754658\ttotal: 1.31s\tremaining: 3m 37s\n",
      "12:\tlearn: 2109.9445004\ttotal: 1.42s\tremaining: 3m 36s\n",
      "13:\tlearn: 2099.6049032\ttotal: 1.5s\tremaining: 3m 32s\n",
      "14:\tlearn: 2076.4830028\ttotal: 1.62s\tremaining: 3m 34s\n",
      "15:\tlearn: 2056.5019278\ttotal: 1.72s\tremaining: 3m 33s\n",
      "16:\tlearn: 2047.1448820\ttotal: 1.81s\tremaining: 3m 31s\n",
      "17:\tlearn: 2039.5186957\ttotal: 1.89s\tremaining: 3m 27s\n",
      "18:\tlearn: 2029.2173449\ttotal: 1.94s\tremaining: 3m 22s\n",
      "19:\tlearn: 2019.6159228\ttotal: 2.02s\tremaining: 3m 20s\n",
      "20:\tlearn: 2011.4711902\ttotal: 2.1s\tremaining: 3m 18s\n",
      "21:\tlearn: 2001.6865811\ttotal: 2.19s\tremaining: 3m 16s\n",
      "22:\tlearn: 1995.6984629\ttotal: 2.29s\tremaining: 3m 16s\n",
      "23:\tlearn: 1990.3024218\ttotal: 2.39s\tremaining: 3m 16s\n",
      "24:\tlearn: 1985.0793485\ttotal: 2.48s\tremaining: 3m 16s\n",
      "25:\tlearn: 1980.8037709\ttotal: 2.57s\tremaining: 3m 15s\n",
      "26:\tlearn: 1974.6581599\ttotal: 2.66s\tremaining: 3m 14s\n",
      "27:\tlearn: 1965.2589102\ttotal: 2.75s\tremaining: 3m 13s\n",
      "28:\tlearn: 1960.8925529\ttotal: 2.85s\tremaining: 3m 13s\n",
      "29:\tlearn: 1957.7899233\ttotal: 2.94s\tremaining: 3m 13s\n",
      "30:\tlearn: 1950.0567100\ttotal: 3.04s\tremaining: 3m 13s\n",
      "31:\tlearn: 1945.0218558\ttotal: 3.11s\tremaining: 3m 11s\n",
      "32:\tlearn: 1942.0124493\ttotal: 3.21s\tremaining: 3m 11s\n",
      "33:\tlearn: 1940.0994003\ttotal: 3.28s\tremaining: 3m 9s\n",
      "34:\tlearn: 1935.9634406\ttotal: 3.39s\tremaining: 3m 10s\n",
      "35:\tlearn: 1933.6566568\ttotal: 3.49s\tremaining: 3m 10s\n",
      "36:\tlearn: 1925.4628048\ttotal: 3.54s\tremaining: 3m 8s\n",
      "37:\tlearn: 1922.4037094\ttotal: 3.62s\tremaining: 3m 7s\n",
      "38:\tlearn: 1918.3893564\ttotal: 3.73s\tremaining: 3m 7s\n",
      "39:\tlearn: 1917.3295228\ttotal: 3.84s\tremaining: 3m 8s\n",
      "40:\tlearn: 1914.8887437\ttotal: 3.9s\tremaining: 3m 6s\n",
      "41:\tlearn: 1911.6374331\ttotal: 3.98s\tremaining: 3m 5s\n",
      "42:\tlearn: 1906.3058489\ttotal: 4.09s\tremaining: 3m 5s\n",
      "43:\tlearn: 1904.0910657\ttotal: 4.17s\tremaining: 3m 5s\n",
      "44:\tlearn: 1901.8929988\ttotal: 4.26s\tremaining: 3m 5s\n",
      "45:\tlearn: 1899.8046264\ttotal: 4.33s\tremaining: 3m 4s\n",
      "46:\tlearn: 1897.6265598\ttotal: 4.44s\tremaining: 3m 4s\n",
      "47:\tlearn: 1895.0351609\ttotal: 4.52s\tremaining: 3m 3s\n",
      "48:\tlearn: 1889.6381608\ttotal: 4.63s\tremaining: 3m 4s\n",
      "49:\tlearn: 1887.5722922\ttotal: 4.73s\tremaining: 3m 4s\n",
      "50:\tlearn: 1883.9252186\ttotal: 4.83s\tremaining: 3m 4s\n",
      "51:\tlearn: 1882.8632813\ttotal: 4.91s\tremaining: 3m 4s\n",
      "52:\tlearn: 1880.8646552\ttotal: 5.01s\tremaining: 3m 3s\n",
      "53:\tlearn: 1878.8295777\ttotal: 5.1s\tremaining: 3m 3s\n",
      "54:\tlearn: 1877.6987755\ttotal: 5.17s\tremaining: 3m 2s\n",
      "55:\tlearn: 1874.9502795\ttotal: 5.27s\tremaining: 3m 2s\n",
      "56:\tlearn: 1873.2035308\ttotal: 5.35s\tremaining: 3m 2s\n",
      "57:\tlearn: 1871.5904175\ttotal: 5.44s\tremaining: 3m 2s\n",
      "58:\tlearn: 1869.0408861\ttotal: 5.54s\tremaining: 3m 2s\n",
      "59:\tlearn: 1867.6931723\ttotal: 5.62s\tremaining: 3m 1s\n",
      "60:\tlearn: 1866.0960608\ttotal: 5.69s\tremaining: 3m\n",
      "61:\tlearn: 1863.7660164\ttotal: 5.74s\tremaining: 2m 59s\n",
      "62:\tlearn: 1862.7820997\ttotal: 5.82s\tremaining: 2m 58s\n",
      "63:\tlearn: 1860.9846814\ttotal: 5.91s\tremaining: 2m 58s\n",
      "64:\tlearn: 1859.1629458\ttotal: 6.01s\tremaining: 2m 58s\n",
      "65:\tlearn: 1858.0013760\ttotal: 6.11s\tremaining: 2m 59s\n",
      "66:\tlearn: 1854.7111971\ttotal: 6.21s\tremaining: 2m 59s\n",
      "67:\tlearn: 1853.3567799\ttotal: 6.31s\tremaining: 2m 59s\n",
      "68:\tlearn: 1845.8069442\ttotal: 6.42s\tremaining: 2m 59s\n",
      "69:\tlearn: 1844.3887673\ttotal: 6.49s\tremaining: 2m 58s\n",
      "70:\tlearn: 1843.5264577\ttotal: 6.58s\tremaining: 2m 58s\n",
      "71:\tlearn: 1841.2121090\ttotal: 6.68s\tremaining: 2m 58s\n",
      "72:\tlearn: 1840.1608896\ttotal: 6.78s\tremaining: 2m 58s\n",
      "73:\tlearn: 1839.0248424\ttotal: 6.88s\tremaining: 2m 59s\n",
      "74:\tlearn: 1838.3229843\ttotal: 6.97s\tremaining: 2m 58s\n",
      "75:\tlearn: 1837.4970552\ttotal: 7.07s\tremaining: 2m 58s\n",
      "76:\tlearn: 1836.3205629\ttotal: 7.16s\tremaining: 2m 58s\n",
      "77:\tlearn: 1835.1492698\ttotal: 7.26s\tremaining: 2m 58s\n",
      "78:\tlearn: 1834.0684336\ttotal: 7.34s\tremaining: 2m 58s\n",
      "79:\tlearn: 1831.5526967\ttotal: 7.45s\tremaining: 2m 58s\n",
      "80:\tlearn: 1829.5435800\ttotal: 7.55s\tremaining: 2m 58s\n",
      "81:\tlearn: 1827.6198231\ttotal: 7.63s\tremaining: 2m 58s\n",
      "82:\tlearn: 1826.1169975\ttotal: 7.7s\tremaining: 2m 57s\n",
      "83:\tlearn: 1824.6825920\ttotal: 7.81s\tremaining: 2m 58s\n",
      "84:\tlearn: 1823.2331146\ttotal: 7.89s\tremaining: 2m 57s\n",
      "85:\tlearn: 1821.8300267\ttotal: 7.96s\tremaining: 2m 57s\n",
      "86:\tlearn: 1820.5684969\ttotal: 8.04s\tremaining: 2m 56s\n",
      "87:\tlearn: 1819.5374716\ttotal: 8.14s\tremaining: 2m 56s\n",
      "88:\tlearn: 1818.0002947\ttotal: 8.23s\tremaining: 2m 56s\n",
      "89:\tlearn: 1816.3245462\ttotal: 8.34s\tremaining: 2m 57s\n",
      "90:\tlearn: 1815.2411981\ttotal: 8.45s\tremaining: 2m 57s\n",
      "91:\tlearn: 1814.4387074\ttotal: 8.54s\tremaining: 2m 57s\n",
      "92:\tlearn: 1813.2353718\ttotal: 8.63s\tremaining: 2m 57s\n",
      "93:\tlearn: 1812.4660737\ttotal: 8.72s\tremaining: 2m 56s\n",
      "94:\tlearn: 1809.7073361\ttotal: 8.81s\tremaining: 2m 56s\n",
      "95:\tlearn: 1808.8137315\ttotal: 8.91s\tremaining: 2m 56s\n",
      "96:\tlearn: 1807.5022970\ttotal: 9s\tremaining: 2m 56s\n",
      "97:\tlearn: 1807.0188390\ttotal: 9.09s\tremaining: 2m 56s\n",
      "98:\tlearn: 1806.3292159\ttotal: 9.17s\tremaining: 2m 56s\n",
      "99:\tlearn: 1805.1071684\ttotal: 9.23s\tremaining: 2m 55s\n",
      "100:\tlearn: 1803.8030658\ttotal: 9.3s\tremaining: 2m 54s\n",
      "101:\tlearn: 1802.8540364\ttotal: 9.41s\tremaining: 2m 55s\n",
      "102:\tlearn: 1801.8259980\ttotal: 9.53s\tremaining: 2m 55s\n",
      "103:\tlearn: 1800.8342053\ttotal: 9.64s\tremaining: 2m 55s\n",
      "104:\tlearn: 1800.4225624\ttotal: 9.73s\tremaining: 2m 55s\n",
      "105:\tlearn: 1799.6980882\ttotal: 9.82s\tremaining: 2m 55s\n",
      "106:\tlearn: 1798.8889815\ttotal: 9.89s\tremaining: 2m 54s\n",
      "107:\tlearn: 1798.3549173\ttotal: 9.99s\tremaining: 2m 54s\n",
      "108:\tlearn: 1797.5954107\ttotal: 10.1s\tremaining: 2m 54s\n",
      "109:\tlearn: 1796.8966574\ttotal: 10.2s\tremaining: 2m 54s\n",
      "110:\tlearn: 1796.1266556\ttotal: 10.2s\tremaining: 2m 54s\n",
      "111:\tlearn: 1795.4063754\ttotal: 10.3s\tremaining: 2m 53s\n",
      "112:\tlearn: 1794.8448795\ttotal: 10.4s\tremaining: 2m 53s\n",
      "113:\tlearn: 1794.0639595\ttotal: 10.5s\tremaining: 2m 53s\n",
      "114:\tlearn: 1793.2445147\ttotal: 10.6s\tremaining: 2m 53s\n",
      "115:\tlearn: 1791.9857875\ttotal: 10.7s\tremaining: 2m 53s\n",
      "116:\tlearn: 1790.8808749\ttotal: 10.8s\tremaining: 2m 53s\n",
      "117:\tlearn: 1790.1257932\ttotal: 10.9s\tremaining: 2m 53s\n",
      "118:\tlearn: 1788.9513627\ttotal: 11s\tremaining: 2m 53s\n",
      "119:\tlearn: 1788.1237811\ttotal: 11.1s\tremaining: 2m 53s\n",
      "120:\tlearn: 1787.5913759\ttotal: 11.1s\tremaining: 2m 53s\n",
      "121:\tlearn: 1787.1700673\ttotal: 11.2s\tremaining: 2m 52s\n",
      "122:\tlearn: 1786.7507829\ttotal: 11.3s\tremaining: 2m 52s\n",
      "123:\tlearn: 1786.0857564\ttotal: 11.4s\tremaining: 2m 52s\n",
      "124:\tlearn: 1785.1567789\ttotal: 11.5s\tremaining: 2m 52s\n",
      "125:\tlearn: 1784.3161742\ttotal: 11.6s\tremaining: 2m 52s\n",
      "126:\tlearn: 1783.4063951\ttotal: 11.7s\tremaining: 2m 52s\n",
      "127:\tlearn: 1782.4516723\ttotal: 11.8s\tremaining: 2m 52s\n",
      "128:\tlearn: 1781.5094119\ttotal: 11.9s\tremaining: 2m 51s\n",
      "129:\tlearn: 1780.1482823\ttotal: 12s\tremaining: 2m 52s\n",
      "130:\tlearn: 1779.3137945\ttotal: 12.1s\tremaining: 2m 52s\n",
      "131:\tlearn: 1778.8558760\ttotal: 12.2s\tremaining: 2m 52s\n",
      "132:\tlearn: 1777.5297147\ttotal: 12.2s\tremaining: 2m 51s\n",
      "133:\tlearn: 1776.8858288\ttotal: 12.3s\tremaining: 2m 51s\n",
      "134:\tlearn: 1775.8452591\ttotal: 12.4s\tremaining: 2m 51s\n",
      "135:\tlearn: 1775.0875799\ttotal: 12.5s\tremaining: 2m 51s\n",
      "136:\tlearn: 1774.1673983\ttotal: 12.6s\tremaining: 2m 51s\n",
      "137:\tlearn: 1773.3739959\ttotal: 12.6s\tremaining: 2m 50s\n",
      "138:\tlearn: 1772.9641563\ttotal: 12.7s\tremaining: 2m 50s\n",
      "139:\tlearn: 1772.5312698\ttotal: 12.8s\tremaining: 2m 50s\n",
      "140:\tlearn: 1771.9662797\ttotal: 12.9s\tremaining: 2m 50s\n",
      "141:\tlearn: 1771.1273781\ttotal: 13s\tremaining: 2m 49s\n",
      "142:\tlearn: 1770.2047970\ttotal: 13.1s\tremaining: 2m 49s\n",
      "143:\tlearn: 1768.7064893\ttotal: 13.1s\tremaining: 2m 49s\n",
      "144:\tlearn: 1768.1826560\ttotal: 13.2s\tremaining: 2m 49s\n",
      "145:\tlearn: 1767.7615849\ttotal: 13.3s\tremaining: 2m 49s\n",
      "146:\tlearn: 1767.3913300\ttotal: 13.4s\tremaining: 2m 48s\n",
      "147:\tlearn: 1765.1234936\ttotal: 13.5s\tremaining: 2m 48s\n",
      "148:\tlearn: 1764.6235041\ttotal: 13.6s\tremaining: 2m 48s\n",
      "149:\tlearn: 1764.1881000\ttotal: 13.7s\tremaining: 2m 49s\n",
      "150:\tlearn: 1763.7406013\ttotal: 13.8s\tremaining: 2m 49s\n",
      "151:\tlearn: 1761.7503606\ttotal: 13.9s\tremaining: 2m 49s\n",
      "152:\tlearn: 1761.2593011\ttotal: 14s\tremaining: 2m 49s\n",
      "153:\tlearn: 1761.0790322\ttotal: 14.1s\tremaining: 2m 48s\n",
      "154:\tlearn: 1760.3010346\ttotal: 14.2s\tremaining: 2m 48s\n",
      "155:\tlearn: 1759.8444035\ttotal: 14.3s\tremaining: 2m 48s\n",
      "156:\tlearn: 1759.4502505\ttotal: 14.4s\tremaining: 2m 48s\n",
      "157:\tlearn: 1759.1856369\ttotal: 14.4s\tremaining: 2m 48s\n",
      "158:\tlearn: 1758.8347230\ttotal: 14.5s\tremaining: 2m 48s\n",
      "159:\tlearn: 1758.5589400\ttotal: 14.6s\tremaining: 2m 48s\n",
      "160:\tlearn: 1757.8721045\ttotal: 14.7s\tremaining: 2m 48s\n",
      "161:\tlearn: 1756.8191382\ttotal: 14.8s\tremaining: 2m 47s\n",
      "162:\tlearn: 1756.0636563\ttotal: 14.9s\tremaining: 2m 47s\n",
      "163:\tlearn: 1755.7066708\ttotal: 15s\tremaining: 2m 47s\n",
      "164:\tlearn: 1755.4419221\ttotal: 15s\tremaining: 2m 47s\n",
      "165:\tlearn: 1755.0884775\ttotal: 15.1s\tremaining: 2m 47s\n",
      "166:\tlearn: 1753.4520029\ttotal: 15.2s\tremaining: 2m 47s\n",
      "167:\tlearn: 1752.5867748\ttotal: 15.3s\tremaining: 2m 47s\n",
      "168:\tlearn: 1752.1317391\ttotal: 15.4s\tremaining: 2m 46s\n",
      "169:\tlearn: 1751.7650014\ttotal: 15.5s\tremaining: 2m 46s\n",
      "170:\tlearn: 1750.5767206\ttotal: 15.6s\tremaining: 2m 46s\n",
      "171:\tlearn: 1749.8611863\ttotal: 15.7s\tremaining: 2m 46s\n",
      "172:\tlearn: 1749.4186771\ttotal: 15.8s\tremaining: 2m 46s\n",
      "173:\tlearn: 1748.6571793\ttotal: 15.8s\tremaining: 2m 46s\n",
      "174:\tlearn: 1748.4641755\ttotal: 15.9s\tremaining: 2m 45s\n",
      "175:\tlearn: 1747.9289940\ttotal: 16s\tremaining: 2m 46s\n",
      "176:\tlearn: 1747.4382368\ttotal: 16.1s\tremaining: 2m 45s\n",
      "177:\tlearn: 1747.0780833\ttotal: 16.2s\tremaining: 2m 46s\n",
      "178:\tlearn: 1746.6101346\ttotal: 16.3s\tremaining: 2m 45s\n",
      "179:\tlearn: 1746.2629189\ttotal: 16.4s\tremaining: 2m 45s\n",
      "180:\tlearn: 1745.9064139\ttotal: 16.5s\tremaining: 2m 45s\n",
      "181:\tlearn: 1745.8403570\ttotal: 16.5s\tremaining: 2m 45s\n",
      "182:\tlearn: 1745.8109074\ttotal: 16.6s\tremaining: 2m 44s\n",
      "183:\tlearn: 1745.7670758\ttotal: 16.7s\tremaining: 2m 44s\n",
      "184:\tlearn: 1745.4372211\ttotal: 16.8s\tremaining: 2m 44s\n",
      "185:\tlearn: 1744.3728061\ttotal: 16.9s\tremaining: 2m 44s\n",
      "186:\tlearn: 1743.9963336\ttotal: 17s\tremaining: 2m 44s\n",
      "187:\tlearn: 1743.6845247\ttotal: 17s\tremaining: 2m 44s\n",
      "188:\tlearn: 1743.5354718\ttotal: 17.1s\tremaining: 2m 43s\n",
      "189:\tlearn: 1743.1229528\ttotal: 17.2s\tremaining: 2m 43s\n",
      "190:\tlearn: 1743.0639238\ttotal: 17.2s\tremaining: 2m 43s\n",
      "191:\tlearn: 1742.7837186\ttotal: 17.3s\tremaining: 2m 43s\n",
      "192:\tlearn: 1742.6027079\ttotal: 17.4s\tremaining: 2m 42s\n",
      "193:\tlearn: 1742.2661996\ttotal: 17.5s\tremaining: 2m 42s\n",
      "194:\tlearn: 1741.9424497\ttotal: 17.6s\tremaining: 2m 42s\n",
      "195:\tlearn: 1741.5561030\ttotal: 17.7s\tremaining: 2m 42s\n",
      "196:\tlearn: 1741.2689806\ttotal: 17.7s\tremaining: 2m 42s\n",
      "197:\tlearn: 1741.0614703\ttotal: 17.8s\tremaining: 2m 42s\n",
      "198:\tlearn: 1740.8221427\ttotal: 17.9s\tremaining: 2m 41s\n",
      "199:\tlearn: 1740.5551783\ttotal: 18s\tremaining: 2m 41s\n",
      "200:\tlearn: 1739.8797208\ttotal: 18s\tremaining: 2m 41s\n",
      "201:\tlearn: 1739.5418390\ttotal: 18.1s\tremaining: 2m 41s\n",
      "202:\tlearn: 1738.8885205\ttotal: 18.2s\tremaining: 2m 41s\n",
      "203:\tlearn: 1738.3784887\ttotal: 18.3s\tremaining: 2m 41s\n",
      "204:\tlearn: 1738.0744169\ttotal: 18.4s\tremaining: 2m 41s\n",
      "205:\tlearn: 1737.4183309\ttotal: 18.5s\tremaining: 2m 41s\n",
      "206:\tlearn: 1736.9232186\ttotal: 18.6s\tremaining: 2m 41s\n",
      "207:\tlearn: 1736.4532250\ttotal: 18.7s\tremaining: 2m 41s\n",
      "208:\tlearn: 1735.8540966\ttotal: 18.8s\tremaining: 2m 40s\n",
      "209:\tlearn: 1735.8271492\ttotal: 18.9s\tremaining: 2m 40s\n",
      "210:\tlearn: 1735.3870109\ttotal: 19s\tremaining: 2m 40s\n",
      "211:\tlearn: 1735.0988686\ttotal: 19s\tremaining: 2m 40s\n",
      "212:\tlearn: 1734.7297754\ttotal: 19.1s\tremaining: 2m 40s\n",
      "213:\tlearn: 1734.0844698\ttotal: 19.2s\tremaining: 2m 40s\n",
      "214:\tlearn: 1733.7140227\ttotal: 19.3s\tremaining: 2m 40s\n",
      "215:\tlearn: 1733.1803666\ttotal: 19.5s\tremaining: 2m 40s\n",
      "216:\tlearn: 1732.9551817\ttotal: 19.5s\tremaining: 2m 40s\n",
      "217:\tlearn: 1732.7926912\ttotal: 19.7s\tremaining: 2m 40s\n",
      "218:\tlearn: 1732.0814329\ttotal: 19.8s\tremaining: 2m 40s\n",
      "219:\tlearn: 1731.4053549\ttotal: 19.9s\tremaining: 2m 40s\n",
      "220:\tlearn: 1731.2640755\ttotal: 20s\tremaining: 2m 40s\n",
      "221:\tlearn: 1730.8852285\ttotal: 20.1s\tremaining: 2m 40s\n",
      "222:\tlearn: 1730.2880657\ttotal: 20.2s\tremaining: 2m 40s\n",
      "223:\tlearn: 1729.8448172\ttotal: 20.3s\tremaining: 2m 40s\n",
      "224:\tlearn: 1729.2630063\ttotal: 20.4s\tremaining: 2m 40s\n",
      "225:\tlearn: 1728.8678483\ttotal: 20.5s\tremaining: 2m 40s\n",
      "226:\tlearn: 1728.5232307\ttotal: 20.5s\tremaining: 2m 40s\n",
      "227:\tlearn: 1728.1964822\ttotal: 20.6s\tremaining: 2m 40s\n",
      "228:\tlearn: 1726.9761034\ttotal: 20.8s\tremaining: 2m 40s\n",
      "229:\tlearn: 1726.6438497\ttotal: 20.9s\tremaining: 2m 40s\n",
      "230:\tlearn: 1726.0802885\ttotal: 21s\tremaining: 2m 40s\n",
      "231:\tlearn: 1725.7505982\ttotal: 21s\tremaining: 2m 40s\n",
      "232:\tlearn: 1724.9944610\ttotal: 21.1s\tremaining: 2m 40s\n",
      "233:\tlearn: 1724.6288591\ttotal: 21.2s\tremaining: 2m 40s\n",
      "234:\tlearn: 1724.3012240\ttotal: 21.3s\tremaining: 2m 39s\n",
      "235:\tlearn: 1723.6759096\ttotal: 21.4s\tremaining: 2m 39s\n",
      "236:\tlearn: 1723.2207800\ttotal: 21.5s\tremaining: 2m 39s\n",
      "237:\tlearn: 1722.7228161\ttotal: 21.6s\tremaining: 2m 39s\n",
      "238:\tlearn: 1722.3639873\ttotal: 21.7s\tremaining: 2m 39s\n",
      "239:\tlearn: 1722.3102774\ttotal: 21.8s\tremaining: 2m 39s\n",
      "240:\tlearn: 1722.0966696\ttotal: 21.9s\tremaining: 2m 39s\n",
      "241:\tlearn: 1721.9413580\ttotal: 21.9s\tremaining: 2m 39s\n",
      "242:\tlearn: 1721.4959035\ttotal: 22s\tremaining: 2m 39s\n",
      "243:\tlearn: 1721.0157960\ttotal: 22.1s\tremaining: 2m 39s\n",
      "244:\tlearn: 1720.5952530\ttotal: 22.2s\tremaining: 2m 39s\n",
      "245:\tlearn: 1720.3076892\ttotal: 22.3s\tremaining: 2m 39s\n",
      "246:\tlearn: 1720.0660127\ttotal: 22.4s\tremaining: 2m 39s\n",
      "247:\tlearn: 1719.6612888\ttotal: 22.5s\tremaining: 2m 38s\n",
      "248:\tlearn: 1719.1671584\ttotal: 22.6s\tremaining: 2m 38s\n",
      "249:\tlearn: 1718.3956262\ttotal: 22.7s\tremaining: 2m 38s\n",
      "250:\tlearn: 1717.5970326\ttotal: 22.8s\tremaining: 2m 38s\n",
      "251:\tlearn: 1717.4027463\ttotal: 22.9s\tremaining: 2m 38s\n",
      "252:\tlearn: 1716.9418677\ttotal: 23s\tremaining: 2m 38s\n",
      "253:\tlearn: 1716.4679333\ttotal: 23.1s\tremaining: 2m 38s\n",
      "254:\tlearn: 1716.2891108\ttotal: 23.2s\tremaining: 2m 38s\n",
      "255:\tlearn: 1715.8800510\ttotal: 23.3s\tremaining: 2m 38s\n",
      "256:\tlearn: 1715.6085051\ttotal: 23.4s\tremaining: 2m 38s\n",
      "257:\tlearn: 1715.4530879\ttotal: 23.5s\tremaining: 2m 38s\n",
      "258:\tlearn: 1714.9858698\ttotal: 23.5s\tremaining: 2m 38s\n",
      "259:\tlearn: 1714.5834104\ttotal: 23.6s\tremaining: 2m 38s\n",
      "260:\tlearn: 1714.2650099\ttotal: 23.7s\tremaining: 2m 38s\n",
      "261:\tlearn: 1714.0849947\ttotal: 23.8s\tremaining: 2m 38s\n",
      "262:\tlearn: 1713.2515370\ttotal: 23.9s\tremaining: 2m 37s\n",
      "263:\tlearn: 1713.0911996\ttotal: 24s\tremaining: 2m 37s\n",
      "264:\tlearn: 1712.9813574\ttotal: 24.1s\tremaining: 2m 37s\n",
      "265:\tlearn: 1712.8448349\ttotal: 24.2s\tremaining: 2m 37s\n",
      "266:\tlearn: 1712.6206484\ttotal: 24.2s\tremaining: 2m 37s\n",
      "267:\tlearn: 1712.4467081\ttotal: 24.3s\tremaining: 2m 37s\n",
      "268:\tlearn: 1711.8351639\ttotal: 24.4s\tremaining: 2m 36s\n",
      "269:\tlearn: 1711.2333813\ttotal: 24.5s\tremaining: 2m 36s\n",
      "270:\tlearn: 1711.0940498\ttotal: 24.6s\tremaining: 2m 36s\n",
      "271:\tlearn: 1710.7790539\ttotal: 24.7s\tremaining: 2m 36s\n",
      "272:\tlearn: 1710.6502045\ttotal: 24.7s\tremaining: 2m 36s\n",
      "273:\tlearn: 1710.1047224\ttotal: 24.9s\tremaining: 2m 36s\n",
      "274:\tlearn: 1709.5215083\ttotal: 25s\tremaining: 2m 36s\n",
      "275:\tlearn: 1709.3736930\ttotal: 25s\tremaining: 2m 36s\n",
      "276:\tlearn: 1709.0594625\ttotal: 25.1s\tremaining: 2m 36s\n",
      "277:\tlearn: 1708.6290835\ttotal: 25.2s\tremaining: 2m 36s\n",
      "278:\tlearn: 1708.0176962\ttotal: 25.3s\tremaining: 2m 35s\n",
      "279:\tlearn: 1707.6209992\ttotal: 25.4s\tremaining: 2m 35s\n",
      "280:\tlearn: 1707.3572524\ttotal: 25.5s\tremaining: 2m 35s\n",
      "281:\tlearn: 1706.9892855\ttotal: 25.5s\tremaining: 2m 35s\n",
      "282:\tlearn: 1706.8513581\ttotal: 25.7s\tremaining: 2m 35s\n",
      "283:\tlearn: 1706.6055399\ttotal: 25.7s\tremaining: 2m 35s\n",
      "284:\tlearn: 1706.4485738\ttotal: 25.8s\tremaining: 2m 35s\n",
      "285:\tlearn: 1706.1088736\ttotal: 25.9s\tremaining: 2m 35s\n",
      "286:\tlearn: 1705.9141155\ttotal: 26s\tremaining: 2m 35s\n",
      "287:\tlearn: 1705.8574996\ttotal: 26.1s\tremaining: 2m 34s\n",
      "288:\tlearn: 1705.6854317\ttotal: 26.1s\tremaining: 2m 34s\n",
      "289:\tlearn: 1705.5390850\ttotal: 26.3s\tremaining: 2m 34s\n",
      "290:\tlearn: 1705.4225860\ttotal: 26.4s\tremaining: 2m 34s\n",
      "291:\tlearn: 1704.9385796\ttotal: 26.5s\tremaining: 2m 34s\n",
      "292:\tlearn: 1704.4646859\ttotal: 26.6s\tremaining: 2m 34s\n",
      "293:\tlearn: 1704.1706071\ttotal: 26.7s\tremaining: 2m 34s\n",
      "294:\tlearn: 1703.9330711\ttotal: 26.8s\tremaining: 2m 34s\n",
      "295:\tlearn: 1703.6914423\ttotal: 26.9s\tremaining: 2m 34s\n",
      "296:\tlearn: 1703.4798675\ttotal: 26.9s\tremaining: 2m 34s\n",
      "297:\tlearn: 1703.1411376\ttotal: 27s\tremaining: 2m 34s\n",
      "298:\tlearn: 1703.0692054\ttotal: 27.1s\tremaining: 2m 34s\n",
      "299:\tlearn: 1702.8264414\ttotal: 27.2s\tremaining: 2m 34s\n",
      "300:\tlearn: 1702.5966776\ttotal: 27.3s\tremaining: 2m 34s\n",
      "301:\tlearn: 1702.1279111\ttotal: 27.4s\tremaining: 2m 34s\n",
      "302:\tlearn: 1702.0186483\ttotal: 27.5s\tremaining: 2m 33s\n",
      "303:\tlearn: 1701.7655985\ttotal: 27.6s\tremaining: 2m 33s\n",
      "304:\tlearn: 1701.5408450\ttotal: 27.6s\tremaining: 2m 33s\n",
      "305:\tlearn: 1701.3844336\ttotal: 27.7s\tremaining: 2m 33s\n",
      "306:\tlearn: 1701.3647018\ttotal: 27.8s\tremaining: 2m 33s\n",
      "307:\tlearn: 1701.3405322\ttotal: 27.9s\tremaining: 2m 33s\n",
      "308:\tlearn: 1701.3007010\ttotal: 28s\tremaining: 2m 33s\n",
      "309:\tlearn: 1701.1293267\ttotal: 28.1s\tremaining: 2m 33s\n",
      "310:\tlearn: 1700.8780203\ttotal: 28.2s\tremaining: 2m 33s\n",
      "311:\tlearn: 1700.7638138\ttotal: 28.3s\tremaining: 2m 33s\n",
      "312:\tlearn: 1700.3686395\ttotal: 28.4s\tremaining: 2m 33s\n",
      "313:\tlearn: 1700.1136526\ttotal: 28.5s\tremaining: 2m 33s\n",
      "314:\tlearn: 1699.8499136\ttotal: 28.7s\tremaining: 2m 33s\n",
      "315:\tlearn: 1698.9029716\ttotal: 28.8s\tremaining: 2m 33s\n",
      "316:\tlearn: 1698.4536697\ttotal: 28.9s\tremaining: 2m 33s\n",
      "317:\tlearn: 1698.1958642\ttotal: 29s\tremaining: 2m 33s\n",
      "318:\tlearn: 1697.6962569\ttotal: 29.1s\tremaining: 2m 33s\n",
      "319:\tlearn: 1697.3926942\ttotal: 29.2s\tremaining: 2m 33s\n",
      "320:\tlearn: 1697.2213055\ttotal: 29.3s\tremaining: 2m 33s\n",
      "321:\tlearn: 1696.9471420\ttotal: 29.4s\tremaining: 2m 33s\n",
      "322:\tlearn: 1696.4656565\ttotal: 29.5s\tremaining: 2m 33s\n",
      "323:\tlearn: 1696.2823048\ttotal: 29.6s\tremaining: 2m 33s\n",
      "324:\tlearn: 1695.9712123\ttotal: 29.7s\tremaining: 2m 32s\n",
      "325:\tlearn: 1695.6118488\ttotal: 29.8s\tremaining: 2m 32s\n",
      "326:\tlearn: 1695.3331033\ttotal: 29.9s\tremaining: 2m 32s\n",
      "327:\tlearn: 1695.2699126\ttotal: 29.9s\tremaining: 2m 32s\n",
      "328:\tlearn: 1694.7812726\ttotal: 30s\tremaining: 2m 32s\n",
      "329:\tlearn: 1694.4698418\ttotal: 30.1s\tremaining: 2m 32s\n",
      "330:\tlearn: 1694.2570596\ttotal: 30.2s\tremaining: 2m 32s\n",
      "331:\tlearn: 1694.0117067\ttotal: 30.3s\tremaining: 2m 32s\n",
      "332:\tlearn: 1693.0137690\ttotal: 30.4s\tremaining: 2m 32s\n",
      "333:\tlearn: 1692.9380261\ttotal: 30.5s\tremaining: 2m 32s\n",
      "334:\tlearn: 1692.8432188\ttotal: 30.6s\tremaining: 2m 32s\n",
      "335:\tlearn: 1692.5021708\ttotal: 30.7s\tremaining: 2m 32s\n",
      "336:\tlearn: 1692.1545414\ttotal: 30.8s\tremaining: 2m 32s\n",
      "337:\tlearn: 1691.9105775\ttotal: 30.9s\tremaining: 2m 31s\n",
      "338:\tlearn: 1691.8187598\ttotal: 31s\tremaining: 2m 31s\n",
      "339:\tlearn: 1691.4806073\ttotal: 31.1s\tremaining: 2m 31s\n",
      "340:\tlearn: 1691.3101935\ttotal: 31.2s\tremaining: 2m 31s\n",
      "341:\tlearn: 1690.8710856\ttotal: 31.3s\tremaining: 2m 31s\n",
      "342:\tlearn: 1690.3446888\ttotal: 31.4s\tremaining: 2m 31s\n",
      "343:\tlearn: 1690.2286707\ttotal: 31.4s\tremaining: 2m 31s\n",
      "344:\tlearn: 1689.7981208\ttotal: 31.5s\tremaining: 2m 31s\n",
      "345:\tlearn: 1689.5705296\ttotal: 31.6s\tremaining: 2m 31s\n",
      "346:\tlearn: 1689.3913800\ttotal: 31.7s\tremaining: 2m 30s\n",
      "347:\tlearn: 1689.2116443\ttotal: 31.8s\tremaining: 2m 30s\n",
      "348:\tlearn: 1689.1318416\ttotal: 31.8s\tremaining: 2m 30s\n",
      "349:\tlearn: 1688.9311944\ttotal: 31.9s\tremaining: 2m 30s\n",
      "350:\tlearn: 1688.6959315\ttotal: 32s\tremaining: 2m 30s\n",
      "351:\tlearn: 1688.3797562\ttotal: 32.1s\tremaining: 2m 30s\n",
      "352:\tlearn: 1688.2264288\ttotal: 32.2s\tremaining: 2m 30s\n",
      "353:\tlearn: 1687.9324816\ttotal: 32.3s\tremaining: 2m 29s\n",
      "354:\tlearn: 1687.7535820\ttotal: 32.4s\tremaining: 2m 29s\n",
      "355:\tlearn: 1687.6806586\ttotal: 32.5s\tremaining: 2m 30s\n",
      "356:\tlearn: 1687.5484191\ttotal: 32.6s\tremaining: 2m 29s\n",
      "357:\tlearn: 1687.3800301\ttotal: 32.7s\tremaining: 2m 29s\n",
      "358:\tlearn: 1687.2162517\ttotal: 32.8s\tremaining: 2m 29s\n",
      "359:\tlearn: 1687.0480665\ttotal: 32.9s\tremaining: 2m 29s\n",
      "360:\tlearn: 1686.7051469\ttotal: 32.9s\tremaining: 2m 29s\n",
      "361:\tlearn: 1686.6821688\ttotal: 33s\tremaining: 2m 29s\n",
      "362:\tlearn: 1686.5011301\ttotal: 33.1s\tremaining: 2m 29s\n",
      "363:\tlearn: 1686.3947099\ttotal: 33.2s\tremaining: 2m 29s\n",
      "364:\tlearn: 1686.2303898\ttotal: 33.3s\tremaining: 2m 29s\n",
      "365:\tlearn: 1686.0583236\ttotal: 33.4s\tremaining: 2m 29s\n",
      "366:\tlearn: 1685.9588067\ttotal: 33.6s\tremaining: 2m 29s\n",
      "367:\tlearn: 1685.5314261\ttotal: 33.7s\tremaining: 2m 29s\n",
      "368:\tlearn: 1685.3160699\ttotal: 33.8s\tremaining: 2m 29s\n",
      "369:\tlearn: 1685.0712904\ttotal: 33.9s\tremaining: 2m 29s\n",
      "370:\tlearn: 1685.0349572\ttotal: 34s\tremaining: 2m 29s\n",
      "371:\tlearn: 1684.6572581\ttotal: 34.1s\tremaining: 2m 29s\n",
      "372:\tlearn: 1684.4053706\ttotal: 34.2s\tremaining: 2m 29s\n",
      "373:\tlearn: 1684.2315928\ttotal: 34.2s\tremaining: 2m 28s\n",
      "374:\tlearn: 1683.9563056\ttotal: 34.4s\tremaining: 2m 29s\n",
      "375:\tlearn: 1683.1881253\ttotal: 34.5s\tremaining: 2m 29s\n",
      "376:\tlearn: 1682.9450674\ttotal: 34.6s\tremaining: 2m 29s\n",
      "377:\tlearn: 1682.7274939\ttotal: 34.8s\tremaining: 2m 29s\n",
      "378:\tlearn: 1682.3643645\ttotal: 34.9s\tremaining: 2m 29s\n",
      "379:\tlearn: 1682.1888649\ttotal: 35s\tremaining: 2m 29s\n",
      "380:\tlearn: 1682.0873900\ttotal: 35.1s\tremaining: 2m 29s\n",
      "381:\tlearn: 1681.9431393\ttotal: 35.2s\tremaining: 2m 29s\n",
      "382:\tlearn: 1681.6893687\ttotal: 35.3s\tremaining: 2m 29s\n",
      "383:\tlearn: 1681.5489847\ttotal: 35.4s\tremaining: 2m 29s\n",
      "384:\tlearn: 1681.2226171\ttotal: 35.5s\tremaining: 2m 29s\n",
      "385:\tlearn: 1680.9156931\ttotal: 35.7s\tremaining: 2m 29s\n",
      "386:\tlearn: 1680.7844690\ttotal: 35.8s\tremaining: 2m 29s\n",
      "387:\tlearn: 1680.5971402\ttotal: 35.9s\tremaining: 2m 28s\n",
      "388:\tlearn: 1680.4937110\ttotal: 36s\tremaining: 2m 28s\n",
      "389:\tlearn: 1680.3884045\ttotal: 36.1s\tremaining: 2m 28s\n",
      "390:\tlearn: 1680.2642616\ttotal: 36.2s\tremaining: 2m 28s\n",
      "391:\tlearn: 1680.1769454\ttotal: 36.3s\tremaining: 2m 28s\n",
      "392:\tlearn: 1679.9944578\ttotal: 36.3s\tremaining: 2m 28s\n",
      "393:\tlearn: 1679.8560969\ttotal: 36.4s\tremaining: 2m 28s\n",
      "394:\tlearn: 1679.8115806\ttotal: 36.5s\tremaining: 2m 28s\n",
      "395:\tlearn: 1679.5484694\ttotal: 36.6s\tremaining: 2m 28s\n",
      "396:\tlearn: 1679.2323319\ttotal: 36.7s\tremaining: 2m 28s\n",
      "397:\tlearn: 1678.9358330\ttotal: 36.8s\tremaining: 2m 28s\n",
      "398:\tlearn: 1678.8173826\ttotal: 36.9s\tremaining: 2m 27s\n",
      "399:\tlearn: 1678.5267578\ttotal: 37s\tremaining: 2m 27s\n",
      "400:\tlearn: 1678.4218898\ttotal: 37s\tremaining: 2m 27s\n",
      "401:\tlearn: 1678.2297785\ttotal: 37.1s\tremaining: 2m 27s\n",
      "402:\tlearn: 1677.9285498\ttotal: 37.2s\tremaining: 2m 27s\n",
      "403:\tlearn: 1677.5421632\ttotal: 37.3s\tremaining: 2m 27s\n",
      "404:\tlearn: 1677.3507976\ttotal: 37.5s\tremaining: 2m 27s\n",
      "405:\tlearn: 1677.2730044\ttotal: 37.6s\tremaining: 2m 27s\n",
      "406:\tlearn: 1677.1036251\ttotal: 37.7s\tremaining: 2m 27s\n",
      "407:\tlearn: 1676.4194342\ttotal: 37.8s\tremaining: 2m 27s\n",
      "408:\tlearn: 1676.2385693\ttotal: 37.9s\tremaining: 2m 27s\n",
      "409:\tlearn: 1675.9670131\ttotal: 38s\tremaining: 2m 27s\n",
      "410:\tlearn: 1675.6683743\ttotal: 38.1s\tremaining: 2m 27s\n",
      "411:\tlearn: 1675.5291784\ttotal: 38.2s\tremaining: 2m 27s\n",
      "412:\tlearn: 1675.2790841\ttotal: 38.3s\tremaining: 2m 27s\n",
      "413:\tlearn: 1675.0601310\ttotal: 38.5s\tremaining: 2m 27s\n",
      "414:\tlearn: 1674.6939785\ttotal: 38.5s\tremaining: 2m 27s\n",
      "415:\tlearn: 1674.5679876\ttotal: 38.7s\tremaining: 2m 27s\n",
      "416:\tlearn: 1674.1950939\ttotal: 38.8s\tremaining: 2m 27s\n",
      "417:\tlearn: 1673.8645747\ttotal: 38.9s\tremaining: 2m 27s\n",
      "418:\tlearn: 1673.6798802\ttotal: 39s\tremaining: 2m 27s\n",
      "419:\tlearn: 1673.5054401\ttotal: 39.2s\tremaining: 2m 27s\n",
      "420:\tlearn: 1673.4145915\ttotal: 39.3s\tremaining: 2m 27s\n",
      "421:\tlearn: 1673.3250033\ttotal: 39.4s\tremaining: 2m 27s\n",
      "422:\tlearn: 1673.0347056\ttotal: 39.5s\tremaining: 2m 27s\n",
      "423:\tlearn: 1672.6890835\ttotal: 39.6s\tremaining: 2m 27s\n",
      "424:\tlearn: 1672.4521007\ttotal: 39.7s\tremaining: 2m 27s\n",
      "425:\tlearn: 1672.3113215\ttotal: 39.8s\tremaining: 2m 27s\n",
      "426:\tlearn: 1672.1148463\ttotal: 39.9s\tremaining: 2m 27s\n",
      "427:\tlearn: 1671.9239025\ttotal: 40s\tremaining: 2m 27s\n",
      "428:\tlearn: 1671.7890430\ttotal: 40.1s\tremaining: 2m 26s\n",
      "429:\tlearn: 1671.4633388\ttotal: 40.2s\tremaining: 2m 26s\n",
      "430:\tlearn: 1671.3017216\ttotal: 40.3s\tremaining: 2m 26s\n",
      "431:\tlearn: 1671.2767868\ttotal: 40.4s\tremaining: 2m 26s\n",
      "432:\tlearn: 1671.0890338\ttotal: 40.5s\tremaining: 2m 26s\n",
      "433:\tlearn: 1671.0593896\ttotal: 40.7s\tremaining: 2m 26s\n",
      "434:\tlearn: 1670.9310142\ttotal: 40.8s\tremaining: 2m 26s\n",
      "435:\tlearn: 1670.7714663\ttotal: 40.8s\tremaining: 2m 26s\n",
      "436:\tlearn: 1670.5707186\ttotal: 40.9s\tremaining: 2m 26s\n",
      "437:\tlearn: 1670.4262651\ttotal: 41s\tremaining: 2m 26s\n",
      "438:\tlearn: 1670.2449074\ttotal: 41.1s\tremaining: 2m 26s\n",
      "439:\tlearn: 1670.1874887\ttotal: 41.2s\tremaining: 2m 26s\n",
      "440:\tlearn: 1669.9978045\ttotal: 41.4s\tremaining: 2m 26s\n",
      "441:\tlearn: 1669.5577443\ttotal: 41.5s\tremaining: 2m 26s\n",
      "442:\tlearn: 1669.3576470\ttotal: 41.5s\tremaining: 2m 26s\n",
      "443:\tlearn: 1669.0445908\ttotal: 41.6s\tremaining: 2m 25s\n",
      "444:\tlearn: 1668.8528294\ttotal: 41.7s\tremaining: 2m 25s\n",
      "445:\tlearn: 1668.7132102\ttotal: 41.8s\tremaining: 2m 25s\n",
      "446:\tlearn: 1668.6170337\ttotal: 41.9s\tremaining: 2m 25s\n",
      "447:\tlearn: 1668.5276841\ttotal: 42s\tremaining: 2m 25s\n",
      "448:\tlearn: 1668.3354469\ttotal: 42.1s\tremaining: 2m 25s\n",
      "449:\tlearn: 1668.2560005\ttotal: 42.1s\tremaining: 2m 25s\n",
      "450:\tlearn: 1668.1040601\ttotal: 42.2s\tremaining: 2m 24s\n",
      "451:\tlearn: 1668.0369740\ttotal: 42.3s\tremaining: 2m 24s\n",
      "452:\tlearn: 1667.8095070\ttotal: 42.4s\tremaining: 2m 24s\n",
      "453:\tlearn: 1667.5818453\ttotal: 42.5s\tremaining: 2m 24s\n",
      "454:\tlearn: 1667.5131730\ttotal: 42.6s\tremaining: 2m 24s\n",
      "455:\tlearn: 1667.3513632\ttotal: 42.7s\tremaining: 2m 24s\n",
      "456:\tlearn: 1667.2860913\ttotal: 42.8s\tremaining: 2m 24s\n",
      "457:\tlearn: 1667.1929240\ttotal: 42.8s\tremaining: 2m 24s\n",
      "458:\tlearn: 1667.0195672\ttotal: 42.9s\tremaining: 2m 24s\n",
      "459:\tlearn: 1666.8370061\ttotal: 43s\tremaining: 2m 23s\n",
      "460:\tlearn: 1666.7662720\ttotal: 43.1s\tremaining: 2m 23s\n",
      "461:\tlearn: 1666.4949937\ttotal: 43.2s\tremaining: 2m 23s\n",
      "462:\tlearn: 1666.3813878\ttotal: 43.3s\tremaining: 2m 23s\n",
      "463:\tlearn: 1666.2398967\ttotal: 43.3s\tremaining: 2m 23s\n",
      "464:\tlearn: 1665.9679852\ttotal: 43.5s\tremaining: 2m 23s\n",
      "465:\tlearn: 1665.8973736\ttotal: 43.5s\tremaining: 2m 23s\n",
      "466:\tlearn: 1665.6942424\ttotal: 43.6s\tremaining: 2m 23s\n",
      "467:\tlearn: 1665.5654884\ttotal: 43.7s\tremaining: 2m 23s\n",
      "468:\tlearn: 1665.4943905\ttotal: 43.8s\tremaining: 2m 22s\n",
      "469:\tlearn: 1665.2596974\ttotal: 43.8s\tremaining: 2m 22s\n",
      "470:\tlearn: 1664.4023858\ttotal: 43.9s\tremaining: 2m 22s\n",
      "471:\tlearn: 1664.2623611\ttotal: 44s\tremaining: 2m 22s\n",
      "472:\tlearn: 1664.2059628\ttotal: 44.1s\tremaining: 2m 22s\n",
      "473:\tlearn: 1663.9550718\ttotal: 44.2s\tremaining: 2m 22s\n",
      "474:\tlearn: 1663.7939647\ttotal: 44.3s\tremaining: 2m 22s\n",
      "475:\tlearn: 1663.6649560\ttotal: 44.4s\tremaining: 2m 22s\n",
      "476:\tlearn: 1663.6153925\ttotal: 44.5s\tremaining: 2m 22s\n",
      "477:\tlearn: 1663.2639222\ttotal: 44.6s\tremaining: 2m 21s\n",
      "478:\tlearn: 1663.0554416\ttotal: 44.7s\tremaining: 2m 21s\n",
      "479:\tlearn: 1662.8832238\ttotal: 44.8s\tremaining: 2m 21s\n",
      "480:\tlearn: 1662.6710376\ttotal: 44.9s\tremaining: 2m 21s\n",
      "481:\tlearn: 1662.4886008\ttotal: 45s\tremaining: 2m 21s\n",
      "482:\tlearn: 1662.3676071\ttotal: 45.1s\tremaining: 2m 21s\n",
      "483:\tlearn: 1662.1776954\ttotal: 45.1s\tremaining: 2m 21s\n",
      "484:\tlearn: 1662.0477051\ttotal: 45.2s\tremaining: 2m 21s\n",
      "485:\tlearn: 1662.0040020\ttotal: 45.3s\tremaining: 2m 21s\n",
      "486:\tlearn: 1661.9847330\ttotal: 45.4s\tremaining: 2m 21s\n",
      "487:\tlearn: 1661.6802910\ttotal: 45.5s\tremaining: 2m 21s\n",
      "488:\tlearn: 1661.6666349\ttotal: 45.6s\tremaining: 2m 20s\n",
      "489:\tlearn: 1661.5528733\ttotal: 45.7s\tremaining: 2m 20s\n",
      "490:\tlearn: 1661.5348604\ttotal: 45.7s\tremaining: 2m 20s\n",
      "491:\tlearn: 1661.3813845\ttotal: 45.8s\tremaining: 2m 20s\n",
      "492:\tlearn: 1661.0642646\ttotal: 45.8s\tremaining: 2m 20s\n",
      "493:\tlearn: 1660.9336492\ttotal: 45.9s\tremaining: 2m 20s\n",
      "494:\tlearn: 1660.8136647\ttotal: 46s\tremaining: 2m 19s\n",
      "495:\tlearn: 1660.7047452\ttotal: 46.1s\tremaining: 2m 19s\n",
      "496:\tlearn: 1660.4958495\ttotal: 46.2s\tremaining: 2m 19s\n",
      "497:\tlearn: 1660.3213998\ttotal: 46.3s\tremaining: 2m 19s\n",
      "498:\tlearn: 1660.0404282\ttotal: 46.4s\tremaining: 2m 19s\n",
      "499:\tlearn: 1659.8220081\ttotal: 46.5s\tremaining: 2m 19s\n",
      "500:\tlearn: 1659.7043574\ttotal: 46.6s\tremaining: 2m 19s\n",
      "501:\tlearn: 1659.4992593\ttotal: 46.7s\tremaining: 2m 19s\n",
      "502:\tlearn: 1659.4083526\ttotal: 46.8s\tremaining: 2m 19s\n",
      "503:\tlearn: 1659.2737374\ttotal: 46.9s\tremaining: 2m 19s\n",
      "504:\tlearn: 1659.1230187\ttotal: 47s\tremaining: 2m 19s\n",
      "505:\tlearn: 1658.8964337\ttotal: 47s\tremaining: 2m 18s\n",
      "506:\tlearn: 1658.7605399\ttotal: 47.1s\tremaining: 2m 18s\n",
      "507:\tlearn: 1658.6367215\ttotal: 47.2s\tremaining: 2m 18s\n",
      "508:\tlearn: 1658.6008195\ttotal: 47.3s\tremaining: 2m 18s\n",
      "509:\tlearn: 1658.5292257\ttotal: 47.4s\tremaining: 2m 18s\n",
      "510:\tlearn: 1658.3473916\ttotal: 47.5s\tremaining: 2m 18s\n",
      "511:\tlearn: 1658.2093429\ttotal: 47.6s\tremaining: 2m 18s\n",
      "512:\tlearn: 1658.1816949\ttotal: 47.6s\tremaining: 2m 18s\n",
      "513:\tlearn: 1658.0130110\ttotal: 47.7s\tremaining: 2m 17s\n",
      "514:\tlearn: 1657.8388279\ttotal: 47.8s\tremaining: 2m 17s\n",
      "515:\tlearn: 1657.7857102\ttotal: 47.9s\tremaining: 2m 17s\n",
      "516:\tlearn: 1657.6374013\ttotal: 48s\tremaining: 2m 17s\n",
      "517:\tlearn: 1657.5592842\ttotal: 48.1s\tremaining: 2m 17s\n",
      "518:\tlearn: 1657.5467036\ttotal: 48.2s\tremaining: 2m 17s\n",
      "519:\tlearn: 1657.3939816\ttotal: 48.3s\tremaining: 2m 17s\n",
      "520:\tlearn: 1657.2913699\ttotal: 48.4s\tremaining: 2m 17s\n",
      "521:\tlearn: 1657.0944406\ttotal: 48.4s\tremaining: 2m 17s\n",
      "522:\tlearn: 1657.0220945\ttotal: 48.5s\tremaining: 2m 16s\n",
      "523:\tlearn: 1656.7075047\ttotal: 48.6s\tremaining: 2m 16s\n",
      "524:\tlearn: 1656.6759481\ttotal: 48.7s\tremaining: 2m 16s\n",
      "525:\tlearn: 1656.5625262\ttotal: 48.8s\tremaining: 2m 16s\n",
      "526:\tlearn: 1656.5128597\ttotal: 48.9s\tremaining: 2m 16s\n",
      "527:\tlearn: 1656.5018672\ttotal: 49s\tremaining: 2m 16s\n",
      "528:\tlearn: 1656.4812476\ttotal: 49.1s\tremaining: 2m 16s\n",
      "529:\tlearn: 1656.3635023\ttotal: 49.2s\tremaining: 2m 16s\n",
      "530:\tlearn: 1656.2911928\ttotal: 49.3s\tremaining: 2m 16s\n",
      "531:\tlearn: 1656.2609575\ttotal: 49.3s\tremaining: 2m 16s\n",
      "532:\tlearn: 1656.1004459\ttotal: 49.5s\tremaining: 2m 16s\n",
      "533:\tlearn: 1655.9656081\ttotal: 49.5s\tremaining: 2m 16s\n",
      "534:\tlearn: 1655.8410440\ttotal: 49.6s\tremaining: 2m 15s\n",
      "535:\tlearn: 1655.3879318\ttotal: 49.7s\tremaining: 2m 15s\n",
      "536:\tlearn: 1655.3309058\ttotal: 49.8s\tremaining: 2m 15s\n",
      "537:\tlearn: 1655.3160169\ttotal: 49.9s\tremaining: 2m 15s\n",
      "538:\tlearn: 1655.2910247\ttotal: 49.9s\tremaining: 2m 15s\n",
      "539:\tlearn: 1654.9856931\ttotal: 50s\tremaining: 2m 15s\n",
      "540:\tlearn: 1654.8008727\ttotal: 50.1s\tremaining: 2m 15s\n",
      "541:\tlearn: 1654.5314643\ttotal: 50.2s\tremaining: 2m 15s\n",
      "542:\tlearn: 1654.5119462\ttotal: 50.3s\tremaining: 2m 14s\n",
      "543:\tlearn: 1654.3882709\ttotal: 50.4s\tremaining: 2m 14s\n",
      "544:\tlearn: 1654.3153896\ttotal: 50.5s\tremaining: 2m 14s\n",
      "545:\tlearn: 1654.1419055\ttotal: 50.6s\tremaining: 2m 14s\n",
      "546:\tlearn: 1653.9514190\ttotal: 50.7s\tremaining: 2m 14s\n",
      "547:\tlearn: 1653.8877607\ttotal: 50.8s\tremaining: 2m 14s\n",
      "548:\tlearn: 1653.7267272\ttotal: 50.8s\tremaining: 2m 14s\n",
      "549:\tlearn: 1653.6395939\ttotal: 50.9s\tremaining: 2m 14s\n",
      "550:\tlearn: 1653.6248581\ttotal: 51s\tremaining: 2m 14s\n",
      "551:\tlearn: 1653.3443860\ttotal: 51.1s\tremaining: 2m 14s\n",
      "552:\tlearn: 1653.3081288\ttotal: 51.2s\tremaining: 2m 13s\n",
      "553:\tlearn: 1653.1996196\ttotal: 51.3s\tremaining: 2m 13s\n",
      "554:\tlearn: 1653.0824741\ttotal: 51.4s\tremaining: 2m 13s\n",
      "555:\tlearn: 1652.8432606\ttotal: 51.5s\tremaining: 2m 13s\n",
      "556:\tlearn: 1652.6708235\ttotal: 51.6s\tremaining: 2m 13s\n",
      "557:\tlearn: 1652.5600980\ttotal: 51.6s\tremaining: 2m 13s\n",
      "558:\tlearn: 1652.3847481\ttotal: 51.7s\tremaining: 2m 13s\n",
      "559:\tlearn: 1652.2793531\ttotal: 51.8s\tremaining: 2m 13s\n",
      "560:\tlearn: 1652.1520467\ttotal: 51.9s\tremaining: 2m 13s\n",
      "561:\tlearn: 1651.9111196\ttotal: 52s\tremaining: 2m 12s\n",
      "562:\tlearn: 1651.7321407\ttotal: 52s\tremaining: 2m 12s\n",
      "563:\tlearn: 1651.6768594\ttotal: 52.2s\tremaining: 2m 12s\n",
      "564:\tlearn: 1651.5229061\ttotal: 52.3s\tremaining: 2m 12s\n",
      "565:\tlearn: 1651.3480220\ttotal: 52.3s\tremaining: 2m 12s\n",
      "566:\tlearn: 1651.2960298\ttotal: 52.4s\tremaining: 2m 12s\n",
      "567:\tlearn: 1651.2660541\ttotal: 52.5s\tremaining: 2m 12s\n",
      "568:\tlearn: 1651.1102848\ttotal: 52.6s\tremaining: 2m 12s\n",
      "569:\tlearn: 1650.9530841\ttotal: 52.7s\tremaining: 2m 12s\n",
      "570:\tlearn: 1650.7845577\ttotal: 52.7s\tremaining: 2m 11s\n",
      "571:\tlearn: 1650.6812629\ttotal: 52.8s\tremaining: 2m 11s\n",
      "572:\tlearn: 1650.5438006\ttotal: 52.9s\tremaining: 2m 11s\n",
      "573:\tlearn: 1650.3507610\ttotal: 53s\tremaining: 2m 11s\n",
      "574:\tlearn: 1650.2874420\ttotal: 53.1s\tremaining: 2m 11s\n",
      "575:\tlearn: 1650.1518956\ttotal: 53.1s\tremaining: 2m 11s\n",
      "576:\tlearn: 1650.0812403\ttotal: 53.2s\tremaining: 2m 11s\n",
      "577:\tlearn: 1650.0394599\ttotal: 53.3s\tremaining: 2m 11s\n",
      "578:\tlearn: 1649.7399252\ttotal: 53.3s\tremaining: 2m 10s\n",
      "579:\tlearn: 1649.6057420\ttotal: 53.4s\tremaining: 2m 10s\n",
      "580:\tlearn: 1649.4156603\ttotal: 53.5s\tremaining: 2m 10s\n",
      "581:\tlearn: 1649.0561401\ttotal: 53.6s\tremaining: 2m 10s\n",
      "582:\tlearn: 1648.9733400\ttotal: 53.7s\tremaining: 2m 10s\n",
      "583:\tlearn: 1648.8166969\ttotal: 53.8s\tremaining: 2m 10s\n",
      "584:\tlearn: 1648.7195785\ttotal: 53.8s\tremaining: 2m 10s\n",
      "585:\tlearn: 1648.6767123\ttotal: 53.9s\tremaining: 2m 10s\n",
      "586:\tlearn: 1648.5323800\ttotal: 53.9s\tremaining: 2m 9s\n",
      "587:\tlearn: 1648.4906080\ttotal: 54s\tremaining: 2m 9s\n",
      "588:\tlearn: 1648.3623964\ttotal: 54.1s\tremaining: 2m 9s\n",
      "589:\tlearn: 1648.1783442\ttotal: 54.1s\tremaining: 2m 9s\n",
      "590:\tlearn: 1648.0757637\ttotal: 54.2s\tremaining: 2m 9s\n",
      "591:\tlearn: 1648.0148636\ttotal: 54.3s\tremaining: 2m 9s\n",
      "592:\tlearn: 1647.9298035\ttotal: 54.4s\tremaining: 2m 9s\n",
      "593:\tlearn: 1647.6905907\ttotal: 54.5s\tremaining: 2m 8s\n",
      "594:\tlearn: 1647.6507888\ttotal: 54.6s\tremaining: 2m 8s\n",
      "595:\tlearn: 1647.5827734\ttotal: 54.7s\tremaining: 2m 8s\n",
      "596:\tlearn: 1647.3227899\ttotal: 54.8s\tremaining: 2m 8s\n",
      "597:\tlearn: 1647.2103163\ttotal: 54.9s\tremaining: 2m 8s\n",
      "598:\tlearn: 1647.0352094\ttotal: 54.9s\tremaining: 2m 8s\n",
      "599:\tlearn: 1646.9579991\ttotal: 55s\tremaining: 2m 8s\n",
      "600:\tlearn: 1646.9235329\ttotal: 55.1s\tremaining: 2m 8s\n",
      "601:\tlearn: 1646.8542715\ttotal: 55.2s\tremaining: 2m 8s\n",
      "602:\tlearn: 1646.6294388\ttotal: 55.3s\tremaining: 2m 8s\n",
      "603:\tlearn: 1646.4245934\ttotal: 55.4s\tremaining: 2m 7s\n",
      "604:\tlearn: 1646.3220534\ttotal: 55.5s\tremaining: 2m 7s\n",
      "605:\tlearn: 1646.1853319\ttotal: 55.6s\tremaining: 2m 7s\n",
      "606:\tlearn: 1646.1126080\ttotal: 55.7s\tremaining: 2m 7s\n",
      "607:\tlearn: 1646.0221851\ttotal: 55.7s\tremaining: 2m 7s\n",
      "608:\tlearn: 1645.9907980\ttotal: 55.9s\tremaining: 2m 7s\n",
      "609:\tlearn: 1645.9377204\ttotal: 56s\tremaining: 2m 7s\n",
      "610:\tlearn: 1645.5926946\ttotal: 56.1s\tremaining: 2m 7s\n",
      "611:\tlearn: 1645.4287633\ttotal: 56.2s\tremaining: 2m 7s\n",
      "612:\tlearn: 1645.3650573\ttotal: 56.3s\tremaining: 2m 7s\n",
      "613:\tlearn: 1645.3328784\ttotal: 56.4s\tremaining: 2m 7s\n",
      "614:\tlearn: 1645.3156903\ttotal: 56.5s\tremaining: 2m 7s\n",
      "615:\tlearn: 1645.1451259\ttotal: 56.6s\tremaining: 2m 7s\n",
      "616:\tlearn: 1645.0615983\ttotal: 56.7s\tremaining: 2m 7s\n",
      "617:\tlearn: 1644.9745480\ttotal: 56.9s\tremaining: 2m 7s\n",
      "618:\tlearn: 1644.9425288\ttotal: 57s\tremaining: 2m 7s\n",
      "619:\tlearn: 1644.7475638\ttotal: 57.1s\tremaining: 2m 7s\n",
      "620:\tlearn: 1644.6576956\ttotal: 57.1s\tremaining: 2m 6s\n",
      "621:\tlearn: 1644.3788525\ttotal: 57.2s\tremaining: 2m 6s\n",
      "622:\tlearn: 1644.1773094\ttotal: 57.3s\tremaining: 2m 6s\n",
      "623:\tlearn: 1644.0130110\ttotal: 57.4s\tremaining: 2m 6s\n",
      "624:\tlearn: 1643.9429997\ttotal: 57.5s\tremaining: 2m 6s\n",
      "625:\tlearn: 1643.7891445\ttotal: 57.6s\tremaining: 2m 6s\n",
      "626:\tlearn: 1643.7592614\ttotal: 57.7s\tremaining: 2m 6s\n",
      "627:\tlearn: 1643.7055294\ttotal: 57.8s\tremaining: 2m 6s\n",
      "628:\tlearn: 1643.6679314\ttotal: 57.8s\tremaining: 2m 6s\n",
      "629:\tlearn: 1643.6522492\ttotal: 57.9s\tremaining: 2m 5s\n",
      "630:\tlearn: 1643.5287146\ttotal: 58s\tremaining: 2m 5s\n",
      "631:\tlearn: 1643.3886404\ttotal: 58.1s\tremaining: 2m 5s\n",
      "632:\tlearn: 1643.3615842\ttotal: 58.2s\tremaining: 2m 5s\n",
      "633:\tlearn: 1643.2757392\ttotal: 58.3s\tremaining: 2m 5s\n",
      "634:\tlearn: 1643.1717831\ttotal: 58.4s\tremaining: 2m 5s\n",
      "635:\tlearn: 1643.1034634\ttotal: 58.5s\tremaining: 2m 5s\n",
      "636:\tlearn: 1643.0117858\ttotal: 58.6s\tremaining: 2m 5s\n",
      "637:\tlearn: 1642.9856497\ttotal: 58.6s\tremaining: 2m 5s\n",
      "638:\tlearn: 1642.8008918\ttotal: 58.7s\tremaining: 2m 5s\n",
      "639:\tlearn: 1642.6394834\ttotal: 58.8s\tremaining: 2m 4s\n",
      "640:\tlearn: 1642.4782810\ttotal: 58.9s\tremaining: 2m 4s\n",
      "641:\tlearn: 1642.3810400\ttotal: 58.9s\tremaining: 2m 4s\n",
      "642:\tlearn: 1642.1384885\ttotal: 59s\tremaining: 2m 4s\n",
      "643:\tlearn: 1642.0729436\ttotal: 59.1s\tremaining: 2m 4s\n",
      "644:\tlearn: 1641.8795293\ttotal: 59.2s\tremaining: 2m 4s\n",
      "645:\tlearn: 1641.7760941\ttotal: 59.3s\tremaining: 2m 4s\n",
      "646:\tlearn: 1641.5700974\ttotal: 59.3s\tremaining: 2m 4s\n",
      "647:\tlearn: 1641.4470420\ttotal: 59.4s\tremaining: 2m 3s\n",
      "648:\tlearn: 1641.3129439\ttotal: 59.5s\tremaining: 2m 3s\n",
      "649:\tlearn: 1641.1893200\ttotal: 59.5s\tremaining: 2m 3s\n",
      "650:\tlearn: 1641.1383157\ttotal: 59.6s\tremaining: 2m 3s\n",
      "651:\tlearn: 1640.9618073\ttotal: 59.7s\tremaining: 2m 3s\n",
      "652:\tlearn: 1640.7630069\ttotal: 59.7s\tremaining: 2m 3s\n",
      "653:\tlearn: 1640.7432987\ttotal: 59.8s\tremaining: 2m 3s\n",
      "654:\tlearn: 1640.5649138\ttotal: 59.9s\tremaining: 2m 2s\n",
      "655:\tlearn: 1640.5092232\ttotal: 60s\tremaining: 2m 2s\n",
      "656:\tlearn: 1640.4913883\ttotal: 1m\tremaining: 2m 2s\n",
      "657:\tlearn: 1640.2661173\ttotal: 1m\tremaining: 2m 2s\n",
      "658:\tlearn: 1640.2126215\ttotal: 1m\tremaining: 2m 2s\n",
      "659:\tlearn: 1640.1955467\ttotal: 1m\tremaining: 2m 2s\n",
      "660:\tlearn: 1640.1467180\ttotal: 1m\tremaining: 2m 2s\n",
      "661:\tlearn: 1640.1094798\ttotal: 1m\tremaining: 2m 2s\n",
      "662:\tlearn: 1640.0988889\ttotal: 1m\tremaining: 2m 2s\n",
      "663:\tlearn: 1639.9486075\ttotal: 1m\tremaining: 2m 2s\n",
      "664:\tlearn: 1639.7492765\ttotal: 1m\tremaining: 2m 1s\n",
      "665:\tlearn: 1639.7026215\ttotal: 1m\tremaining: 2m 1s\n",
      "666:\tlearn: 1639.6570249\ttotal: 1m\tremaining: 2m 1s\n",
      "667:\tlearn: 1639.4977192\ttotal: 1m\tremaining: 2m 1s\n",
      "668:\tlearn: 1639.2138485\ttotal: 1m 1s\tremaining: 2m 1s\n",
      "669:\tlearn: 1639.1722779\ttotal: 1m 1s\tremaining: 2m 1s\n",
      "670:\tlearn: 1638.9570172\ttotal: 1m 1s\tremaining: 2m 1s\n",
      "671:\tlearn: 1638.6939242\ttotal: 1m 1s\tremaining: 2m 1s\n",
      "672:\tlearn: 1638.4943075\ttotal: 1m 1s\tremaining: 2m 1s\n",
      "673:\tlearn: 1638.4074628\ttotal: 1m 1s\tremaining: 2m\n",
      "674:\tlearn: 1638.3435213\ttotal: 1m 1s\tremaining: 2m\n",
      "675:\tlearn: 1638.3038298\ttotal: 1m 1s\tremaining: 2m\n",
      "676:\tlearn: 1638.1666907\ttotal: 1m 1s\tremaining: 2m\n",
      "677:\tlearn: 1638.0604502\ttotal: 1m 1s\tremaining: 2m\n",
      "678:\tlearn: 1637.8835344\ttotal: 1m 1s\tremaining: 2m\n",
      "679:\tlearn: 1637.7715549\ttotal: 1m 1s\tremaining: 2m\n",
      "680:\tlearn: 1637.7442869\ttotal: 1m 2s\tremaining: 2m\n",
      "681:\tlearn: 1637.6163208\ttotal: 1m 2s\tremaining: 2m\n",
      "682:\tlearn: 1637.5959482\ttotal: 1m 2s\tremaining: 2m\n",
      "683:\tlearn: 1637.5558477\ttotal: 1m 2s\tremaining: 2m\n",
      "684:\tlearn: 1637.4784862\ttotal: 1m 2s\tremaining: 1m 59s\n",
      "685:\tlearn: 1637.3543154\ttotal: 1m 2s\tremaining: 1m 59s\n",
      "686:\tlearn: 1637.1799066\ttotal: 1m 2s\tremaining: 1m 59s\n",
      "687:\tlearn: 1637.0977247\ttotal: 1m 2s\tremaining: 1m 59s\n",
      "688:\tlearn: 1636.9921652\ttotal: 1m 2s\tremaining: 1m 59s\n",
      "689:\tlearn: 1636.9499602\ttotal: 1m 2s\tremaining: 1m 59s\n",
      "690:\tlearn: 1636.8386059\ttotal: 1m 2s\tremaining: 1m 59s\n",
      "691:\tlearn: 1636.8247095\ttotal: 1m 3s\tremaining: 1m 59s\n",
      "692:\tlearn: 1636.7489889\ttotal: 1m 3s\tremaining: 1m 59s\n",
      "693:\tlearn: 1636.6603250\ttotal: 1m 3s\tremaining: 1m 59s\n",
      "694:\tlearn: 1636.5856412\ttotal: 1m 3s\tremaining: 1m 58s\n",
      "695:\tlearn: 1636.4664871\ttotal: 1m 3s\tremaining: 1m 58s\n",
      "696:\tlearn: 1636.4238520\ttotal: 1m 3s\tremaining: 1m 58s\n",
      "697:\tlearn: 1636.2682118\ttotal: 1m 3s\tremaining: 1m 58s\n",
      "698:\tlearn: 1636.2470366\ttotal: 1m 3s\tremaining: 1m 58s\n",
      "699:\tlearn: 1636.1876866\ttotal: 1m 3s\tremaining: 1m 58s\n",
      "700:\tlearn: 1636.1269203\ttotal: 1m 3s\tremaining: 1m 58s\n",
      "701:\tlearn: 1636.0828183\ttotal: 1m 3s\tremaining: 1m 58s\n",
      "702:\tlearn: 1636.0169552\ttotal: 1m 4s\tremaining: 1m 58s\n",
      "703:\tlearn: 1635.9167412\ttotal: 1m 4s\tremaining: 1m 58s\n",
      "704:\tlearn: 1635.8807426\ttotal: 1m 4s\tremaining: 1m 58s\n",
      "705:\tlearn: 1635.7270248\ttotal: 1m 4s\tremaining: 1m 57s\n",
      "706:\tlearn: 1635.7015939\ttotal: 1m 4s\tremaining: 1m 57s\n",
      "707:\tlearn: 1635.7000725\ttotal: 1m 4s\tremaining: 1m 57s\n",
      "708:\tlearn: 1635.5135749\ttotal: 1m 4s\tremaining: 1m 57s\n",
      "709:\tlearn: 1635.4351027\ttotal: 1m 4s\tremaining: 1m 57s\n",
      "710:\tlearn: 1635.2748792\ttotal: 1m 4s\tremaining: 1m 57s\n",
      "711:\tlearn: 1635.2376888\ttotal: 1m 4s\tremaining: 1m 57s\n",
      "712:\tlearn: 1635.1041071\ttotal: 1m 4s\tremaining: 1m 57s\n",
      "713:\tlearn: 1635.0588876\ttotal: 1m 5s\tremaining: 1m 57s\n",
      "714:\tlearn: 1634.7567887\ttotal: 1m 5s\tremaining: 1m 57s\n",
      "715:\tlearn: 1634.6886970\ttotal: 1m 5s\tremaining: 1m 57s\n",
      "716:\tlearn: 1634.5770623\ttotal: 1m 5s\tremaining: 1m 56s\n",
      "717:\tlearn: 1634.4202690\ttotal: 1m 5s\tremaining: 1m 56s\n",
      "718:\tlearn: 1634.3594325\ttotal: 1m 5s\tremaining: 1m 56s\n",
      "719:\tlearn: 1634.3104141\ttotal: 1m 5s\tremaining: 1m 56s\n",
      "720:\tlearn: 1634.2382421\ttotal: 1m 5s\tremaining: 1m 56s\n",
      "721:\tlearn: 1634.1022239\ttotal: 1m 5s\tremaining: 1m 56s\n",
      "722:\tlearn: 1633.9779883\ttotal: 1m 5s\tremaining: 1m 56s\n",
      "723:\tlearn: 1633.9075683\ttotal: 1m 6s\tremaining: 1m 56s\n",
      "724:\tlearn: 1633.8796552\ttotal: 1m 6s\tremaining: 1m 56s\n",
      "725:\tlearn: 1633.7283284\ttotal: 1m 6s\tremaining: 1m 56s\n",
      "726:\tlearn: 1633.7053280\ttotal: 1m 6s\tremaining: 1m 56s\n",
      "727:\tlearn: 1633.6194768\ttotal: 1m 6s\tremaining: 1m 55s\n",
      "728:\tlearn: 1633.5642318\ttotal: 1m 6s\tremaining: 1m 55s\n",
      "729:\tlearn: 1633.5461058\ttotal: 1m 6s\tremaining: 1m 55s\n",
      "730:\tlearn: 1633.3027827\ttotal: 1m 6s\tremaining: 1m 55s\n",
      "731:\tlearn: 1633.1613105\ttotal: 1m 6s\tremaining: 1m 55s\n",
      "732:\tlearn: 1633.0207315\ttotal: 1m 6s\tremaining: 1m 55s\n",
      "733:\tlearn: 1632.8700868\ttotal: 1m 6s\tremaining: 1m 55s\n",
      "734:\tlearn: 1632.7756419\ttotal: 1m 7s\tremaining: 1m 55s\n",
      "735:\tlearn: 1632.6176549\ttotal: 1m 7s\tremaining: 1m 55s\n",
      "736:\tlearn: 1632.4324079\ttotal: 1m 7s\tremaining: 1m 55s\n",
      "737:\tlearn: 1632.3868085\ttotal: 1m 7s\tremaining: 1m 54s\n",
      "738:\tlearn: 1632.2832793\ttotal: 1m 7s\tremaining: 1m 54s\n",
      "739:\tlearn: 1632.0412870\ttotal: 1m 7s\tremaining: 1m 54s\n",
      "740:\tlearn: 1631.9660174\ttotal: 1m 7s\tremaining: 1m 54s\n",
      "741:\tlearn: 1631.8899239\ttotal: 1m 7s\tremaining: 1m 54s\n",
      "742:\tlearn: 1631.7016818\ttotal: 1m 7s\tremaining: 1m 54s\n",
      "743:\tlearn: 1631.3835136\ttotal: 1m 7s\tremaining: 1m 54s\n",
      "744:\tlearn: 1631.3207098\ttotal: 1m 7s\tremaining: 1m 54s\n",
      "745:\tlearn: 1631.1485355\ttotal: 1m 7s\tremaining: 1m 54s\n",
      "746:\tlearn: 1631.0131393\ttotal: 1m 8s\tremaining: 1m 54s\n",
      "747:\tlearn: 1630.9218719\ttotal: 1m 8s\tremaining: 1m 54s\n",
      "748:\tlearn: 1630.7609068\ttotal: 1m 8s\tremaining: 1m 53s\n",
      "749:\tlearn: 1630.7358136\ttotal: 1m 8s\tremaining: 1m 53s\n",
      "750:\tlearn: 1630.5014863\ttotal: 1m 8s\tremaining: 1m 53s\n",
      "751:\tlearn: 1630.4829670\ttotal: 1m 8s\tremaining: 1m 53s\n",
      "752:\tlearn: 1630.4766548\ttotal: 1m 8s\tremaining: 1m 53s\n",
      "753:\tlearn: 1630.1941186\ttotal: 1m 8s\tremaining: 1m 53s\n",
      "754:\tlearn: 1630.0168866\ttotal: 1m 8s\tremaining: 1m 53s\n",
      "755:\tlearn: 1629.8189267\ttotal: 1m 8s\tremaining: 1m 53s\n",
      "756:\tlearn: 1629.8056214\ttotal: 1m 8s\tremaining: 1m 53s\n",
      "757:\tlearn: 1629.7233197\ttotal: 1m 9s\tremaining: 1m 53s\n",
      "758:\tlearn: 1629.6067373\ttotal: 1m 9s\tremaining: 1m 53s\n",
      "759:\tlearn: 1629.5428387\ttotal: 1m 9s\tremaining: 1m 52s\n",
      "760:\tlearn: 1629.4943765\ttotal: 1m 9s\tremaining: 1m 52s\n",
      "761:\tlearn: 1629.4432042\ttotal: 1m 9s\tremaining: 1m 52s\n",
      "762:\tlearn: 1629.4058305\ttotal: 1m 9s\tremaining: 1m 52s\n",
      "763:\tlearn: 1629.3411366\ttotal: 1m 9s\tremaining: 1m 52s\n",
      "764:\tlearn: 1629.2755039\ttotal: 1m 9s\tremaining: 1m 52s\n",
      "765:\tlearn: 1629.0904027\ttotal: 1m 9s\tremaining: 1m 52s\n",
      "766:\tlearn: 1629.0736092\ttotal: 1m 9s\tremaining: 1m 52s\n",
      "767:\tlearn: 1628.7802822\ttotal: 1m 9s\tremaining: 1m 52s\n",
      "768:\tlearn: 1628.6589696\ttotal: 1m 9s\tremaining: 1m 51s\n",
      "769:\tlearn: 1628.5920642\ttotal: 1m 10s\tremaining: 1m 51s\n",
      "770:\tlearn: 1628.5365367\ttotal: 1m 10s\tremaining: 1m 51s\n",
      "771:\tlearn: 1628.3020104\ttotal: 1m 10s\tremaining: 1m 51s\n",
      "772:\tlearn: 1628.2337509\ttotal: 1m 10s\tremaining: 1m 51s\n",
      "773:\tlearn: 1628.1497519\ttotal: 1m 10s\tremaining: 1m 51s\n",
      "774:\tlearn: 1628.0307653\ttotal: 1m 10s\tremaining: 1m 51s\n",
      "775:\tlearn: 1627.9941878\ttotal: 1m 10s\tremaining: 1m 51s\n",
      "776:\tlearn: 1627.9341038\ttotal: 1m 10s\tremaining: 1m 51s\n",
      "777:\tlearn: 1627.7585528\ttotal: 1m 10s\tremaining: 1m 51s\n",
      "778:\tlearn: 1627.6206615\ttotal: 1m 10s\tremaining: 1m 51s\n",
      "779:\tlearn: 1627.5634461\ttotal: 1m 10s\tremaining: 1m 50s\n",
      "780:\tlearn: 1627.5334127\ttotal: 1m 11s\tremaining: 1m 50s\n",
      "781:\tlearn: 1627.3349927\ttotal: 1m 11s\tremaining: 1m 50s\n",
      "782:\tlearn: 1627.2232273\ttotal: 1m 11s\tremaining: 1m 50s\n",
      "783:\tlearn: 1627.1309689\ttotal: 1m 11s\tremaining: 1m 50s\n",
      "784:\tlearn: 1626.9782852\ttotal: 1m 11s\tremaining: 1m 50s\n",
      "785:\tlearn: 1626.9522436\ttotal: 1m 11s\tremaining: 1m 50s\n",
      "786:\tlearn: 1626.8015474\ttotal: 1m 11s\tremaining: 1m 50s\n",
      "787:\tlearn: 1626.7556629\ttotal: 1m 11s\tremaining: 1m 50s\n",
      "788:\tlearn: 1626.6289893\ttotal: 1m 11s\tremaining: 1m 50s\n",
      "789:\tlearn: 1626.6050531\ttotal: 1m 11s\tremaining: 1m 50s\n",
      "790:\tlearn: 1626.5430516\ttotal: 1m 11s\tremaining: 1m 49s\n",
      "791:\tlearn: 1626.5217642\ttotal: 1m 12s\tremaining: 1m 49s\n",
      "792:\tlearn: 1626.4911848\ttotal: 1m 12s\tremaining: 1m 49s\n",
      "793:\tlearn: 1626.4860475\ttotal: 1m 12s\tremaining: 1m 49s\n",
      "794:\tlearn: 1626.4072186\ttotal: 1m 12s\tremaining: 1m 49s\n",
      "795:\tlearn: 1626.2193557\ttotal: 1m 12s\tremaining: 1m 49s\n",
      "796:\tlearn: 1626.1838771\ttotal: 1m 12s\tremaining: 1m 49s\n",
      "797:\tlearn: 1626.1388060\ttotal: 1m 12s\tremaining: 1m 49s\n",
      "798:\tlearn: 1626.1022758\ttotal: 1m 12s\tremaining: 1m 49s\n",
      "799:\tlearn: 1626.0018848\ttotal: 1m 12s\tremaining: 1m 49s\n",
      "800:\tlearn: 1625.9959388\ttotal: 1m 12s\tremaining: 1m 48s\n",
      "801:\tlearn: 1625.9244874\ttotal: 1m 12s\tremaining: 1m 48s\n",
      "802:\tlearn: 1625.8237036\ttotal: 1m 12s\tremaining: 1m 48s\n",
      "803:\tlearn: 1625.7835108\ttotal: 1m 13s\tremaining: 1m 48s\n",
      "804:\tlearn: 1625.7355965\ttotal: 1m 13s\tremaining: 1m 48s\n",
      "805:\tlearn: 1625.7028773\ttotal: 1m 13s\tremaining: 1m 48s\n",
      "806:\tlearn: 1625.6491748\ttotal: 1m 13s\tremaining: 1m 48s\n",
      "807:\tlearn: 1625.6207095\ttotal: 1m 13s\tremaining: 1m 48s\n",
      "808:\tlearn: 1625.5840553\ttotal: 1m 13s\tremaining: 1m 48s\n",
      "809:\tlearn: 1625.5158143\ttotal: 1m 13s\tremaining: 1m 48s\n",
      "810:\tlearn: 1625.4852491\ttotal: 1m 13s\tremaining: 1m 47s\n",
      "811:\tlearn: 1625.4809846\ttotal: 1m 13s\tremaining: 1m 47s\n",
      "812:\tlearn: 1625.3650913\ttotal: 1m 13s\tremaining: 1m 47s\n",
      "813:\tlearn: 1625.3245997\ttotal: 1m 13s\tremaining: 1m 47s\n",
      "814:\tlearn: 1625.2844829\ttotal: 1m 13s\tremaining: 1m 47s\n",
      "815:\tlearn: 1625.2617201\ttotal: 1m 14s\tremaining: 1m 47s\n",
      "816:\tlearn: 1625.2439080\ttotal: 1m 14s\tremaining: 1m 47s\n",
      "817:\tlearn: 1625.2249608\ttotal: 1m 14s\tremaining: 1m 47s\n",
      "818:\tlearn: 1625.1594788\ttotal: 1m 14s\tremaining: 1m 47s\n",
      "819:\tlearn: 1625.1150261\ttotal: 1m 14s\tremaining: 1m 47s\n",
      "820:\tlearn: 1624.9565096\ttotal: 1m 14s\tremaining: 1m 46s\n",
      "821:\tlearn: 1624.9451355\ttotal: 1m 14s\tremaining: 1m 46s\n",
      "822:\tlearn: 1624.7517250\ttotal: 1m 14s\tremaining: 1m 46s\n",
      "823:\tlearn: 1624.7402379\ttotal: 1m 14s\tremaining: 1m 46s\n",
      "824:\tlearn: 1624.6138213\ttotal: 1m 14s\tremaining: 1m 46s\n",
      "825:\tlearn: 1624.4799955\ttotal: 1m 14s\tremaining: 1m 46s\n",
      "826:\tlearn: 1624.2797244\ttotal: 1m 14s\tremaining: 1m 46s\n",
      "827:\tlearn: 1624.2746755\ttotal: 1m 15s\tremaining: 1m 46s\n",
      "828:\tlearn: 1624.2572033\ttotal: 1m 15s\tremaining: 1m 46s\n",
      "829:\tlearn: 1624.2021234\ttotal: 1m 15s\tremaining: 1m 46s\n",
      "830:\tlearn: 1624.0437966\ttotal: 1m 15s\tremaining: 1m 45s\n",
      "831:\tlearn: 1623.9351471\ttotal: 1m 15s\tremaining: 1m 45s\n",
      "832:\tlearn: 1623.8963542\ttotal: 1m 15s\tremaining: 1m 45s\n",
      "833:\tlearn: 1623.7913064\ttotal: 1m 15s\tremaining: 1m 45s\n",
      "834:\tlearn: 1623.5858572\ttotal: 1m 15s\tremaining: 1m 45s\n",
      "835:\tlearn: 1623.5616264\ttotal: 1m 15s\tremaining: 1m 45s\n",
      "836:\tlearn: 1623.5566116\ttotal: 1m 15s\tremaining: 1m 45s\n",
      "837:\tlearn: 1623.4316113\ttotal: 1m 15s\tremaining: 1m 45s\n",
      "838:\tlearn: 1623.3544401\ttotal: 1m 16s\tremaining: 1m 45s\n",
      "839:\tlearn: 1623.3311375\ttotal: 1m 16s\tremaining: 1m 45s\n",
      "840:\tlearn: 1623.2977062\ttotal: 1m 16s\tremaining: 1m 45s\n",
      "841:\tlearn: 1623.2696953\ttotal: 1m 16s\tremaining: 1m 45s\n",
      "842:\tlearn: 1623.2377669\ttotal: 1m 16s\tremaining: 1m 45s\n",
      "843:\tlearn: 1623.2337430\ttotal: 1m 16s\tremaining: 1m 44s\n",
      "844:\tlearn: 1623.2036780\ttotal: 1m 16s\tremaining: 1m 44s\n",
      "845:\tlearn: 1623.1197205\ttotal: 1m 16s\tremaining: 1m 44s\n",
      "846:\tlearn: 1623.0187261\ttotal: 1m 16s\tremaining: 1m 44s\n",
      "847:\tlearn: 1622.9898443\ttotal: 1m 16s\tremaining: 1m 44s\n",
      "848:\tlearn: 1622.8769916\ttotal: 1m 17s\tremaining: 1m 44s\n",
      "849:\tlearn: 1622.8647889\ttotal: 1m 17s\tremaining: 1m 44s\n",
      "850:\tlearn: 1622.8247936\ttotal: 1m 17s\tremaining: 1m 44s\n",
      "851:\tlearn: 1622.8031386\ttotal: 1m 17s\tremaining: 1m 44s\n",
      "852:\tlearn: 1622.7883800\ttotal: 1m 17s\tremaining: 1m 44s\n",
      "853:\tlearn: 1622.7633875\ttotal: 1m 17s\tremaining: 1m 44s\n",
      "854:\tlearn: 1622.6970723\ttotal: 1m 17s\tremaining: 1m 44s\n",
      "855:\tlearn: 1622.6307234\ttotal: 1m 17s\tremaining: 1m 43s\n",
      "856:\tlearn: 1622.5619494\ttotal: 1m 17s\tremaining: 1m 43s\n",
      "857:\tlearn: 1622.5144360\ttotal: 1m 17s\tremaining: 1m 43s\n",
      "858:\tlearn: 1622.4900813\ttotal: 1m 17s\tremaining: 1m 43s\n",
      "859:\tlearn: 1622.4741563\ttotal: 1m 18s\tremaining: 1m 43s\n",
      "860:\tlearn: 1622.4414795\ttotal: 1m 18s\tremaining: 1m 43s\n",
      "861:\tlearn: 1622.4055444\ttotal: 1m 18s\tremaining: 1m 43s\n",
      "862:\tlearn: 1622.3435111\ttotal: 1m 18s\tremaining: 1m 43s\n",
      "863:\tlearn: 1622.1026306\ttotal: 1m 18s\tremaining: 1m 42s\n",
      "864:\tlearn: 1621.9792700\ttotal: 1m 18s\tremaining: 1m 42s\n",
      "865:\tlearn: 1621.9115903\ttotal: 1m 18s\tremaining: 1m 42s\n",
      "866:\tlearn: 1621.8868633\ttotal: 1m 18s\tremaining: 1m 42s\n",
      "867:\tlearn: 1621.8214786\ttotal: 1m 18s\tremaining: 1m 42s\n",
      "868:\tlearn: 1621.6946933\ttotal: 1m 18s\tremaining: 1m 42s\n",
      "869:\tlearn: 1621.6325330\ttotal: 1m 18s\tremaining: 1m 42s\n",
      "870:\tlearn: 1621.4148842\ttotal: 1m 19s\tremaining: 1m 42s\n",
      "871:\tlearn: 1621.3390544\ttotal: 1m 19s\tremaining: 1m 42s\n",
      "872:\tlearn: 1621.2842605\ttotal: 1m 19s\tremaining: 1m 42s\n",
      "873:\tlearn: 1621.1525862\ttotal: 1m 19s\tremaining: 1m 42s\n",
      "874:\tlearn: 1621.0016467\ttotal: 1m 19s\tremaining: 1m 42s\n",
      "875:\tlearn: 1620.9667260\ttotal: 1m 19s\tremaining: 1m 42s\n",
      "876:\tlearn: 1620.8678745\ttotal: 1m 19s\tremaining: 1m 42s\n",
      "877:\tlearn: 1620.8342302\ttotal: 1m 19s\tremaining: 1m 41s\n",
      "878:\tlearn: 1620.8193125\ttotal: 1m 19s\tremaining: 1m 41s\n",
      "879:\tlearn: 1620.7941055\ttotal: 1m 19s\tremaining: 1m 41s\n",
      "880:\tlearn: 1620.6522183\ttotal: 1m 20s\tremaining: 1m 41s\n",
      "881:\tlearn: 1620.5412882\ttotal: 1m 20s\tremaining: 1m 41s\n",
      "882:\tlearn: 1620.4987328\ttotal: 1m 20s\tremaining: 1m 41s\n",
      "883:\tlearn: 1620.4810334\ttotal: 1m 20s\tremaining: 1m 41s\n",
      "884:\tlearn: 1620.4340629\ttotal: 1m 20s\tremaining: 1m 41s\n",
      "885:\tlearn: 1620.3799887\ttotal: 1m 20s\tremaining: 1m 41s\n",
      "886:\tlearn: 1620.3422143\ttotal: 1m 20s\tremaining: 1m 41s\n",
      "887:\tlearn: 1620.2976090\ttotal: 1m 20s\tremaining: 1m 40s\n",
      "888:\tlearn: 1620.2400869\ttotal: 1m 20s\tremaining: 1m 40s\n",
      "889:\tlearn: 1620.0841995\ttotal: 1m 20s\tremaining: 1m 40s\n",
      "890:\tlearn: 1619.9375447\ttotal: 1m 20s\tremaining: 1m 40s\n",
      "891:\tlearn: 1619.7971242\ttotal: 1m 20s\tremaining: 1m 40s\n",
      "892:\tlearn: 1619.7217252\ttotal: 1m 21s\tremaining: 1m 40s\n",
      "893:\tlearn: 1619.6048492\ttotal: 1m 21s\tremaining: 1m 40s\n",
      "894:\tlearn: 1619.5730757\ttotal: 1m 21s\tremaining: 1m 40s\n",
      "895:\tlearn: 1619.4282859\ttotal: 1m 21s\tremaining: 1m 40s\n",
      "896:\tlearn: 1619.3858821\ttotal: 1m 21s\tremaining: 1m 40s\n",
      "897:\tlearn: 1619.2925134\ttotal: 1m 21s\tremaining: 1m 39s\n",
      "898:\tlearn: 1619.2022978\ttotal: 1m 21s\tremaining: 1m 39s\n",
      "899:\tlearn: 1619.1765270\ttotal: 1m 21s\tremaining: 1m 39s\n",
      "900:\tlearn: 1619.0582672\ttotal: 1m 21s\tremaining: 1m 39s\n",
      "901:\tlearn: 1618.9511364\ttotal: 1m 21s\tremaining: 1m 39s\n",
      "902:\tlearn: 1618.8583487\ttotal: 1m 22s\tremaining: 1m 39s\n",
      "903:\tlearn: 1618.6186363\ttotal: 1m 22s\tremaining: 1m 39s\n",
      "904:\tlearn: 1618.5392407\ttotal: 1m 22s\tremaining: 1m 39s\n",
      "905:\tlearn: 1618.4823012\ttotal: 1m 22s\tremaining: 1m 39s\n",
      "906:\tlearn: 1618.4808501\ttotal: 1m 22s\tremaining: 1m 39s\n",
      "907:\tlearn: 1618.3636718\ttotal: 1m 22s\tremaining: 1m 39s\n",
      "908:\tlearn: 1618.3164129\ttotal: 1m 22s\tremaining: 1m 39s\n",
      "909:\tlearn: 1618.2562475\ttotal: 1m 22s\tremaining: 1m 38s\n",
      "910:\tlearn: 1618.1344992\ttotal: 1m 22s\tremaining: 1m 38s\n",
      "911:\tlearn: 1617.9318405\ttotal: 1m 22s\tremaining: 1m 38s\n",
      "912:\tlearn: 1617.7859127\ttotal: 1m 22s\tremaining: 1m 38s\n",
      "913:\tlearn: 1617.7611208\ttotal: 1m 22s\tremaining: 1m 38s\n",
      "914:\tlearn: 1617.7350211\ttotal: 1m 23s\tremaining: 1m 38s\n",
      "915:\tlearn: 1617.7006833\ttotal: 1m 23s\tremaining: 1m 38s\n",
      "916:\tlearn: 1617.5194642\ttotal: 1m 23s\tremaining: 1m 38s\n",
      "917:\tlearn: 1617.5017216\ttotal: 1m 23s\tremaining: 1m 38s\n",
      "918:\tlearn: 1617.4994964\ttotal: 1m 23s\tremaining: 1m 38s\n",
      "919:\tlearn: 1617.3515193\ttotal: 1m 23s\tremaining: 1m 38s\n",
      "920:\tlearn: 1617.2668330\ttotal: 1m 23s\tremaining: 1m 38s\n",
      "921:\tlearn: 1617.2569843\ttotal: 1m 23s\tremaining: 1m 37s\n",
      "922:\tlearn: 1617.2435636\ttotal: 1m 23s\tremaining: 1m 37s\n",
      "923:\tlearn: 1617.2183402\ttotal: 1m 23s\tremaining: 1m 37s\n",
      "924:\tlearn: 1617.2022305\ttotal: 1m 23s\tremaining: 1m 37s\n",
      "925:\tlearn: 1617.1742056\ttotal: 1m 24s\tremaining: 1m 37s\n",
      "926:\tlearn: 1617.0293547\ttotal: 1m 24s\tremaining: 1m 37s\n",
      "927:\tlearn: 1617.0226156\ttotal: 1m 24s\tremaining: 1m 37s\n",
      "928:\tlearn: 1616.8519117\ttotal: 1m 24s\tremaining: 1m 37s\n",
      "929:\tlearn: 1616.7230830\ttotal: 1m 24s\tremaining: 1m 37s\n",
      "930:\tlearn: 1616.6385209\ttotal: 1m 24s\tremaining: 1m 36s\n",
      "931:\tlearn: 1616.4926427\ttotal: 1m 24s\tremaining: 1m 36s\n",
      "932:\tlearn: 1616.4026685\ttotal: 1m 24s\tremaining: 1m 36s\n",
      "933:\tlearn: 1616.2183807\ttotal: 1m 24s\tremaining: 1m 36s\n",
      "934:\tlearn: 1616.1960734\ttotal: 1m 24s\tremaining: 1m 36s\n",
      "935:\tlearn: 1616.0279602\ttotal: 1m 24s\tremaining: 1m 36s\n",
      "936:\tlearn: 1615.9472910\ttotal: 1m 24s\tremaining: 1m 36s\n",
      "937:\tlearn: 1615.9411331\ttotal: 1m 25s\tremaining: 1m 36s\n",
      "938:\tlearn: 1615.9144391\ttotal: 1m 25s\tremaining: 1m 36s\n",
      "939:\tlearn: 1615.8064686\ttotal: 1m 25s\tremaining: 1m 36s\n",
      "940:\tlearn: 1615.7312105\ttotal: 1m 25s\tremaining: 1m 36s\n",
      "941:\tlearn: 1615.6337610\ttotal: 1m 25s\tremaining: 1m 35s\n",
      "942:\tlearn: 1615.3767822\ttotal: 1m 25s\tremaining: 1m 35s\n",
      "943:\tlearn: 1615.3428618\ttotal: 1m 25s\tremaining: 1m 35s\n",
      "944:\tlearn: 1615.2999515\ttotal: 1m 25s\tremaining: 1m 35s\n",
      "945:\tlearn: 1615.2318312\ttotal: 1m 25s\tremaining: 1m 35s\n",
      "946:\tlearn: 1615.1431122\ttotal: 1m 25s\tremaining: 1m 35s\n",
      "947:\tlearn: 1615.0362289\ttotal: 1m 25s\tremaining: 1m 35s\n",
      "948:\tlearn: 1614.9970206\ttotal: 1m 26s\tremaining: 1m 35s\n",
      "949:\tlearn: 1614.9497173\ttotal: 1m 26s\tremaining: 1m 35s\n",
      "950:\tlearn: 1614.9293762\ttotal: 1m 26s\tremaining: 1m 35s\n",
      "951:\tlearn: 1614.8005580\ttotal: 1m 26s\tremaining: 1m 35s\n",
      "952:\tlearn: 1614.7655710\ttotal: 1m 26s\tremaining: 1m 34s\n",
      "953:\tlearn: 1614.7538201\ttotal: 1m 26s\tremaining: 1m 34s\n",
      "954:\tlearn: 1614.7238263\ttotal: 1m 26s\tremaining: 1m 34s\n",
      "955:\tlearn: 1614.6967485\ttotal: 1m 26s\tremaining: 1m 34s\n",
      "956:\tlearn: 1614.6846287\ttotal: 1m 26s\tremaining: 1m 34s\n",
      "957:\tlearn: 1614.6773649\ttotal: 1m 26s\tremaining: 1m 34s\n",
      "958:\tlearn: 1614.5790568\ttotal: 1m 26s\tremaining: 1m 34s\n",
      "959:\tlearn: 1614.5315975\ttotal: 1m 27s\tremaining: 1m 34s\n",
      "960:\tlearn: 1614.5285930\ttotal: 1m 27s\tremaining: 1m 34s\n",
      "961:\tlearn: 1614.4888289\ttotal: 1m 27s\tremaining: 1m 34s\n",
      "962:\tlearn: 1614.4535717\ttotal: 1m 27s\tremaining: 1m 33s\n",
      "963:\tlearn: 1614.4159293\ttotal: 1m 27s\tremaining: 1m 33s\n",
      "964:\tlearn: 1614.2823737\ttotal: 1m 27s\tremaining: 1m 33s\n",
      "965:\tlearn: 1614.2235190\ttotal: 1m 27s\tremaining: 1m 33s\n",
      "966:\tlearn: 1614.1290392\ttotal: 1m 27s\tremaining: 1m 33s\n",
      "967:\tlearn: 1614.0263807\ttotal: 1m 27s\tremaining: 1m 33s\n",
      "968:\tlearn: 1613.9162690\ttotal: 1m 27s\tremaining: 1m 33s\n",
      "969:\tlearn: 1613.8900279\ttotal: 1m 27s\tremaining: 1m 33s\n",
      "970:\tlearn: 1613.8657037\ttotal: 1m 28s\tremaining: 1m 33s\n",
      "971:\tlearn: 1613.6981605\ttotal: 1m 28s\tremaining: 1m 33s\n",
      "972:\tlearn: 1613.5823728\ttotal: 1m 28s\tremaining: 1m 33s\n",
      "973:\tlearn: 1613.5385733\ttotal: 1m 28s\tremaining: 1m 33s\n",
      "974:\tlearn: 1613.4620546\ttotal: 1m 28s\tremaining: 1m 33s\n",
      "975:\tlearn: 1613.3686122\ttotal: 1m 28s\tremaining: 1m 32s\n",
      "976:\tlearn: 1613.3441048\ttotal: 1m 28s\tremaining: 1m 32s\n",
      "977:\tlearn: 1613.2856994\ttotal: 1m 28s\tremaining: 1m 32s\n",
      "978:\tlearn: 1613.1176236\ttotal: 1m 28s\tremaining: 1m 32s\n",
      "979:\tlearn: 1613.0977459\ttotal: 1m 28s\tremaining: 1m 32s\n",
      "980:\tlearn: 1612.9792419\ttotal: 1m 29s\tremaining: 1m 32s\n",
      "981:\tlearn: 1612.8395005\ttotal: 1m 29s\tremaining: 1m 32s\n",
      "982:\tlearn: 1612.8160465\ttotal: 1m 29s\tremaining: 1m 32s\n",
      "983:\tlearn: 1612.8145526\ttotal: 1m 29s\tremaining: 1m 32s\n",
      "984:\tlearn: 1612.7255884\ttotal: 1m 29s\tremaining: 1m 32s\n",
      "985:\tlearn: 1612.6666920\ttotal: 1m 29s\tremaining: 1m 32s\n",
      "986:\tlearn: 1612.6452929\ttotal: 1m 29s\tremaining: 1m 31s\n",
      "987:\tlearn: 1612.5954523\ttotal: 1m 29s\tremaining: 1m 31s\n",
      "988:\tlearn: 1612.5670624\ttotal: 1m 29s\tremaining: 1m 31s\n",
      "989:\tlearn: 1612.3611358\ttotal: 1m 29s\tremaining: 1m 31s\n",
      "990:\tlearn: 1612.2693425\ttotal: 1m 30s\tremaining: 1m 31s\n",
      "991:\tlearn: 1612.0263961\ttotal: 1m 30s\tremaining: 1m 31s\n",
      "992:\tlearn: 1611.8730684\ttotal: 1m 30s\tremaining: 1m 31s\n",
      "993:\tlearn: 1611.7428256\ttotal: 1m 30s\tremaining: 1m 31s\n",
      "994:\tlearn: 1611.6016424\ttotal: 1m 30s\tremaining: 1m 31s\n",
      "995:\tlearn: 1611.4396659\ttotal: 1m 30s\tremaining: 1m 31s\n",
      "996:\tlearn: 1611.4113003\ttotal: 1m 30s\tremaining: 1m 31s\n",
      "997:\tlearn: 1611.3862245\ttotal: 1m 30s\tremaining: 1m 31s\n",
      "998:\tlearn: 1611.2515242\ttotal: 1m 30s\tremaining: 1m 30s\n",
      "999:\tlearn: 1611.2327411\ttotal: 1m 30s\tremaining: 1m 30s\n",
      "1000:\tlearn: 1611.2047271\ttotal: 1m 31s\tremaining: 1m 30s\n",
      "1001:\tlearn: 1611.0861665\ttotal: 1m 31s\tremaining: 1m 30s\n",
      "1002:\tlearn: 1611.0289235\ttotal: 1m 31s\tremaining: 1m 30s\n",
      "1003:\tlearn: 1610.9930030\ttotal: 1m 31s\tremaining: 1m 30s\n",
      "1004:\tlearn: 1610.9511249\ttotal: 1m 31s\tremaining: 1m 30s\n",
      "1005:\tlearn: 1610.6330244\ttotal: 1m 31s\tremaining: 1m 30s\n",
      "1006:\tlearn: 1610.5856241\ttotal: 1m 31s\tremaining: 1m 30s\n",
      "1007:\tlearn: 1610.5507517\ttotal: 1m 31s\tremaining: 1m 30s\n",
      "1008:\tlearn: 1610.5256790\ttotal: 1m 31s\tremaining: 1m 30s\n",
      "1009:\tlearn: 1610.4339004\ttotal: 1m 31s\tremaining: 1m 30s\n",
      "1010:\tlearn: 1610.3920929\ttotal: 1m 31s\tremaining: 1m 29s\n",
      "1011:\tlearn: 1610.3844249\ttotal: 1m 32s\tremaining: 1m 29s\n",
      "1012:\tlearn: 1610.2244733\ttotal: 1m 32s\tremaining: 1m 29s\n",
      "1013:\tlearn: 1610.1552182\ttotal: 1m 32s\tremaining: 1m 29s\n",
      "1014:\tlearn: 1610.0999373\ttotal: 1m 32s\tremaining: 1m 29s\n",
      "1015:\tlearn: 1610.0514536\ttotal: 1m 32s\tremaining: 1m 29s\n",
      "1016:\tlearn: 1610.0377668\ttotal: 1m 32s\tremaining: 1m 29s\n",
      "1017:\tlearn: 1609.9878847\ttotal: 1m 32s\tremaining: 1m 29s\n",
      "1018:\tlearn: 1609.9730978\ttotal: 1m 32s\tremaining: 1m 29s\n",
      "1019:\tlearn: 1609.9019353\ttotal: 1m 32s\tremaining: 1m 29s\n",
      "1020:\tlearn: 1609.8431424\ttotal: 1m 32s\tremaining: 1m 29s\n",
      "1021:\tlearn: 1609.7357005\ttotal: 1m 32s\tremaining: 1m 28s\n",
      "1022:\tlearn: 1609.6995192\ttotal: 1m 33s\tremaining: 1m 28s\n",
      "1023:\tlearn: 1609.6017070\ttotal: 1m 33s\tremaining: 1m 28s\n",
      "1024:\tlearn: 1609.5889796\ttotal: 1m 33s\tremaining: 1m 28s\n",
      "1025:\tlearn: 1609.4072340\ttotal: 1m 33s\tremaining: 1m 28s\n",
      "1026:\tlearn: 1609.3712213\ttotal: 1m 33s\tremaining: 1m 28s\n",
      "1027:\tlearn: 1609.2291028\ttotal: 1m 33s\tremaining: 1m 28s\n",
      "1028:\tlearn: 1609.2214035\ttotal: 1m 33s\tremaining: 1m 28s\n",
      "1029:\tlearn: 1609.1864345\ttotal: 1m 33s\tremaining: 1m 28s\n",
      "1030:\tlearn: 1609.0688601\ttotal: 1m 33s\tremaining: 1m 28s\n",
      "1031:\tlearn: 1609.0237846\ttotal: 1m 34s\tremaining: 1m 28s\n",
      "1032:\tlearn: 1609.0023348\ttotal: 1m 34s\tremaining: 1m 28s\n",
      "1033:\tlearn: 1608.9198258\ttotal: 1m 34s\tremaining: 1m 28s\n",
      "1034:\tlearn: 1608.9020368\ttotal: 1m 34s\tremaining: 1m 27s\n",
      "1035:\tlearn: 1608.8484870\ttotal: 1m 34s\tremaining: 1m 27s\n",
      "1036:\tlearn: 1608.6926230\ttotal: 1m 34s\tremaining: 1m 27s\n",
      "1037:\tlearn: 1608.6318792\ttotal: 1m 34s\tremaining: 1m 27s\n",
      "1038:\tlearn: 1608.5861551\ttotal: 1m 34s\tremaining: 1m 27s\n",
      "1039:\tlearn: 1608.5130855\ttotal: 1m 34s\tremaining: 1m 27s\n",
      "1040:\tlearn: 1608.4636672\ttotal: 1m 34s\tremaining: 1m 27s\n",
      "1041:\tlearn: 1608.4228320\ttotal: 1m 34s\tremaining: 1m 27s\n",
      "1042:\tlearn: 1608.2444849\ttotal: 1m 35s\tremaining: 1m 27s\n",
      "1043:\tlearn: 1608.1890672\ttotal: 1m 35s\tremaining: 1m 27s\n",
      "1044:\tlearn: 1608.1814815\ttotal: 1m 35s\tremaining: 1m 27s\n",
      "1045:\tlearn: 1608.0727631\ttotal: 1m 35s\tremaining: 1m 26s\n",
      "1046:\tlearn: 1608.0060928\ttotal: 1m 35s\tremaining: 1m 26s\n",
      "1047:\tlearn: 1607.9474694\ttotal: 1m 35s\tremaining: 1m 26s\n",
      "1048:\tlearn: 1607.9101621\ttotal: 1m 35s\tremaining: 1m 26s\n",
      "1049:\tlearn: 1607.8928082\ttotal: 1m 35s\tremaining: 1m 26s\n",
      "1050:\tlearn: 1607.8874977\ttotal: 1m 35s\tremaining: 1m 26s\n",
      "1051:\tlearn: 1607.8757360\ttotal: 1m 35s\tremaining: 1m 26s\n",
      "1052:\tlearn: 1607.8504924\ttotal: 1m 35s\tremaining: 1m 26s\n",
      "1053:\tlearn: 1607.8275702\ttotal: 1m 36s\tremaining: 1m 26s\n",
      "1054:\tlearn: 1607.6993559\ttotal: 1m 36s\tremaining: 1m 26s\n",
      "1055:\tlearn: 1607.6729811\ttotal: 1m 36s\tremaining: 1m 25s\n",
      "1056:\tlearn: 1607.6287573\ttotal: 1m 36s\tremaining: 1m 25s\n",
      "1057:\tlearn: 1607.5389125\ttotal: 1m 36s\tremaining: 1m 25s\n",
      "1058:\tlearn: 1607.3804429\ttotal: 1m 36s\tremaining: 1m 25s\n",
      "1059:\tlearn: 1607.2742404\ttotal: 1m 36s\tremaining: 1m 25s\n",
      "1060:\tlearn: 1607.0273552\ttotal: 1m 36s\tremaining: 1m 25s\n",
      "1061:\tlearn: 1607.0102569\ttotal: 1m 36s\tremaining: 1m 25s\n",
      "1062:\tlearn: 1606.8880112\ttotal: 1m 36s\tremaining: 1m 25s\n",
      "1063:\tlearn: 1606.8733290\ttotal: 1m 36s\tremaining: 1m 25s\n",
      "1064:\tlearn: 1606.8573403\ttotal: 1m 37s\tremaining: 1m 25s\n",
      "1065:\tlearn: 1606.7783403\ttotal: 1m 37s\tremaining: 1m 25s\n",
      "1066:\tlearn: 1606.7561331\ttotal: 1m 37s\tremaining: 1m 24s\n",
      "1067:\tlearn: 1606.7410572\ttotal: 1m 37s\tremaining: 1m 24s\n",
      "1068:\tlearn: 1606.6837586\ttotal: 1m 37s\tremaining: 1m 24s\n",
      "1069:\tlearn: 1606.6084316\ttotal: 1m 37s\tremaining: 1m 24s\n",
      "1070:\tlearn: 1606.5141847\ttotal: 1m 37s\tremaining: 1m 24s\n",
      "1071:\tlearn: 1606.4140855\ttotal: 1m 37s\tremaining: 1m 24s\n",
      "1072:\tlearn: 1606.1273694\ttotal: 1m 37s\tremaining: 1m 24s\n",
      "1073:\tlearn: 1606.0880134\ttotal: 1m 37s\tremaining: 1m 24s\n",
      "1074:\tlearn: 1605.9898989\ttotal: 1m 37s\tremaining: 1m 24s\n",
      "1075:\tlearn: 1605.9542320\ttotal: 1m 38s\tremaining: 1m 24s\n",
      "1076:\tlearn: 1605.8671365\ttotal: 1m 38s\tremaining: 1m 24s\n",
      "1077:\tlearn: 1605.8037073\ttotal: 1m 38s\tremaining: 1m 24s\n",
      "1078:\tlearn: 1605.6845981\ttotal: 1m 38s\tremaining: 1m 23s\n",
      "1079:\tlearn: 1605.5510510\ttotal: 1m 38s\tremaining: 1m 23s\n",
      "1080:\tlearn: 1605.5391450\ttotal: 1m 38s\tremaining: 1m 23s\n",
      "1081:\tlearn: 1605.5143024\ttotal: 1m 38s\tremaining: 1m 23s\n",
      "1082:\tlearn: 1605.4507900\ttotal: 1m 38s\tremaining: 1m 23s\n",
      "1083:\tlearn: 1605.3773828\ttotal: 1m 38s\tremaining: 1m 23s\n",
      "1084:\tlearn: 1605.2532561\ttotal: 1m 38s\tremaining: 1m 23s\n",
      "1085:\tlearn: 1605.2444039\ttotal: 1m 39s\tremaining: 1m 23s\n",
      "1086:\tlearn: 1605.0805808\ttotal: 1m 39s\tremaining: 1m 23s\n",
      "1087:\tlearn: 1605.0427708\ttotal: 1m 39s\tremaining: 1m 23s\n",
      "1088:\tlearn: 1604.9957182\ttotal: 1m 39s\tremaining: 1m 23s\n",
      "1089:\tlearn: 1604.9762568\ttotal: 1m 39s\tremaining: 1m 22s\n",
      "1090:\tlearn: 1604.8969782\ttotal: 1m 39s\tremaining: 1m 22s\n",
      "1091:\tlearn: 1604.8845257\ttotal: 1m 39s\tremaining: 1m 22s\n",
      "1092:\tlearn: 1604.8548039\ttotal: 1m 39s\tremaining: 1m 22s\n",
      "1093:\tlearn: 1604.8238980\ttotal: 1m 39s\tremaining: 1m 22s\n",
      "1094:\tlearn: 1604.7914168\ttotal: 1m 39s\tremaining: 1m 22s\n",
      "1095:\tlearn: 1604.5524504\ttotal: 1m 39s\tremaining: 1m 22s\n",
      "1096:\tlearn: 1604.5351919\ttotal: 1m 40s\tremaining: 1m 22s\n",
      "1097:\tlearn: 1604.4094519\ttotal: 1m 40s\tremaining: 1m 22s\n",
      "1098:\tlearn: 1604.3871962\ttotal: 1m 40s\tremaining: 1m 22s\n",
      "1099:\tlearn: 1604.2893286\ttotal: 1m 40s\tremaining: 1m 22s\n",
      "1100:\tlearn: 1604.1755191\ttotal: 1m 40s\tremaining: 1m 21s\n",
      "1101:\tlearn: 1604.1426798\ttotal: 1m 40s\tremaining: 1m 21s\n",
      "1102:\tlearn: 1604.0973782\ttotal: 1m 40s\tremaining: 1m 21s\n",
      "1103:\tlearn: 1604.0060965\ttotal: 1m 40s\tremaining: 1m 21s\n",
      "1104:\tlearn: 1603.9916951\ttotal: 1m 40s\tremaining: 1m 21s\n",
      "1105:\tlearn: 1603.9050073\ttotal: 1m 40s\tremaining: 1m 21s\n",
      "1106:\tlearn: 1603.7936118\ttotal: 1m 40s\tremaining: 1m 21s\n",
      "1107:\tlearn: 1603.6623633\ttotal: 1m 40s\tremaining: 1m 21s\n",
      "1108:\tlearn: 1603.6116066\ttotal: 1m 41s\tremaining: 1m 21s\n",
      "1109:\tlearn: 1603.5913179\ttotal: 1m 41s\tremaining: 1m 21s\n",
      "1110:\tlearn: 1603.4933753\ttotal: 1m 41s\tremaining: 1m 21s\n",
      "1111:\tlearn: 1603.4837727\ttotal: 1m 41s\tremaining: 1m 20s\n",
      "1112:\tlearn: 1603.3990404\ttotal: 1m 41s\tremaining: 1m 20s\n",
      "1113:\tlearn: 1603.2907621\ttotal: 1m 41s\tremaining: 1m 20s\n",
      "1114:\tlearn: 1603.1804138\ttotal: 1m 41s\tremaining: 1m 20s\n",
      "1115:\tlearn: 1603.0768110\ttotal: 1m 41s\tremaining: 1m 20s\n",
      "1116:\tlearn: 1602.9402746\ttotal: 1m 41s\tremaining: 1m 20s\n",
      "1117:\tlearn: 1602.8115350\ttotal: 1m 41s\tremaining: 1m 20s\n",
      "1118:\tlearn: 1602.7310735\ttotal: 1m 41s\tremaining: 1m 20s\n",
      "1119:\tlearn: 1602.6448781\ttotal: 1m 42s\tremaining: 1m 20s\n",
      "1120:\tlearn: 1602.6290638\ttotal: 1m 42s\tremaining: 1m 20s\n",
      "1121:\tlearn: 1602.5693842\ttotal: 1m 42s\tremaining: 1m 19s\n",
      "1122:\tlearn: 1602.4942599\ttotal: 1m 42s\tremaining: 1m 19s\n",
      "1123:\tlearn: 1602.4726900\ttotal: 1m 42s\tremaining: 1m 19s\n",
      "1124:\tlearn: 1602.4255957\ttotal: 1m 42s\tremaining: 1m 19s\n",
      "1125:\tlearn: 1602.3433807\ttotal: 1m 42s\tremaining: 1m 19s\n",
      "1126:\tlearn: 1602.3212942\ttotal: 1m 42s\tremaining: 1m 19s\n",
      "1127:\tlearn: 1602.3029300\ttotal: 1m 42s\tremaining: 1m 19s\n",
      "1128:\tlearn: 1602.1838424\ttotal: 1m 42s\tremaining: 1m 19s\n",
      "1129:\tlearn: 1602.1728841\ttotal: 1m 42s\tremaining: 1m 19s\n",
      "1130:\tlearn: 1602.0536914\ttotal: 1m 42s\tremaining: 1m 19s\n",
      "1131:\tlearn: 1601.8237372\ttotal: 1m 42s\tremaining: 1m 18s\n",
      "1132:\tlearn: 1601.7572852\ttotal: 1m 43s\tremaining: 1m 18s\n",
      "1133:\tlearn: 1601.7234146\ttotal: 1m 43s\tremaining: 1m 18s\n",
      "1134:\tlearn: 1601.5886849\ttotal: 1m 43s\tremaining: 1m 18s\n",
      "1135:\tlearn: 1601.5243308\ttotal: 1m 43s\tremaining: 1m 18s\n",
      "1136:\tlearn: 1601.5004115\ttotal: 1m 43s\tremaining: 1m 18s\n",
      "1137:\tlearn: 1601.2724856\ttotal: 1m 43s\tremaining: 1m 18s\n",
      "1138:\tlearn: 1601.2532481\ttotal: 1m 43s\tremaining: 1m 18s\n",
      "1139:\tlearn: 1601.2344584\ttotal: 1m 43s\tremaining: 1m 18s\n",
      "1140:\tlearn: 1601.1908999\ttotal: 1m 43s\tremaining: 1m 18s\n",
      "1141:\tlearn: 1601.0966256\ttotal: 1m 43s\tremaining: 1m 17s\n",
      "1142:\tlearn: 1600.9776127\ttotal: 1m 43s\tremaining: 1m 17s\n",
      "1143:\tlearn: 1600.9491144\ttotal: 1m 43s\tremaining: 1m 17s\n",
      "1144:\tlearn: 1600.8799938\ttotal: 1m 44s\tremaining: 1m 17s\n",
      "1145:\tlearn: 1600.8252859\ttotal: 1m 44s\tremaining: 1m 17s\n",
      "1146:\tlearn: 1600.8073728\ttotal: 1m 44s\tremaining: 1m 17s\n",
      "1147:\tlearn: 1600.8008574\ttotal: 1m 44s\tremaining: 1m 17s\n",
      "1148:\tlearn: 1600.7759275\ttotal: 1m 44s\tremaining: 1m 17s\n",
      "1149:\tlearn: 1600.7373476\ttotal: 1m 44s\tremaining: 1m 17s\n",
      "1150:\tlearn: 1600.7131716\ttotal: 1m 44s\tremaining: 1m 17s\n",
      "1151:\tlearn: 1600.6792791\ttotal: 1m 44s\tremaining: 1m 16s\n",
      "1152:\tlearn: 1600.6678321\ttotal: 1m 44s\tremaining: 1m 16s\n",
      "1153:\tlearn: 1600.5778540\ttotal: 1m 44s\tremaining: 1m 16s\n",
      "1154:\tlearn: 1600.4447152\ttotal: 1m 44s\tremaining: 1m 16s\n",
      "1155:\tlearn: 1600.3535316\ttotal: 1m 44s\tremaining: 1m 16s\n",
      "1156:\tlearn: 1600.3368084\ttotal: 1m 44s\tremaining: 1m 16s\n",
      "1157:\tlearn: 1600.2470525\ttotal: 1m 45s\tremaining: 1m 16s\n",
      "1158:\tlearn: 1600.1384129\ttotal: 1m 45s\tremaining: 1m 16s\n",
      "1159:\tlearn: 1600.1075536\ttotal: 1m 45s\tremaining: 1m 16s\n",
      "1160:\tlearn: 1600.0503852\ttotal: 1m 45s\tremaining: 1m 16s\n",
      "1161:\tlearn: 1599.9936600\ttotal: 1m 45s\tremaining: 1m 15s\n",
      "1162:\tlearn: 1599.8915221\ttotal: 1m 45s\tremaining: 1m 15s\n",
      "1163:\tlearn: 1599.7897308\ttotal: 1m 45s\tremaining: 1m 15s\n",
      "1164:\tlearn: 1599.6999142\ttotal: 1m 45s\tremaining: 1m 15s\n",
      "1165:\tlearn: 1599.6708713\ttotal: 1m 45s\tremaining: 1m 15s\n",
      "1166:\tlearn: 1599.5891114\ttotal: 1m 45s\tremaining: 1m 15s\n",
      "1167:\tlearn: 1599.5561973\ttotal: 1m 45s\tremaining: 1m 15s\n",
      "1168:\tlearn: 1599.4387402\ttotal: 1m 45s\tremaining: 1m 15s\n",
      "1169:\tlearn: 1599.4246383\ttotal: 1m 46s\tremaining: 1m 15s\n",
      "1170:\tlearn: 1599.3968703\ttotal: 1m 46s\tremaining: 1m 15s\n",
      "1171:\tlearn: 1599.3673188\ttotal: 1m 46s\tremaining: 1m 15s\n",
      "1172:\tlearn: 1599.2603573\ttotal: 1m 46s\tremaining: 1m 14s\n",
      "1173:\tlearn: 1599.1563327\ttotal: 1m 46s\tremaining: 1m 14s\n",
      "1174:\tlearn: 1599.1235815\ttotal: 1m 46s\tremaining: 1m 14s\n",
      "1175:\tlearn: 1599.0862106\ttotal: 1m 46s\tremaining: 1m 14s\n",
      "1176:\tlearn: 1598.9892287\ttotal: 1m 46s\tremaining: 1m 14s\n",
      "1177:\tlearn: 1598.9252150\ttotal: 1m 46s\tremaining: 1m 14s\n",
      "1178:\tlearn: 1598.8829560\ttotal: 1m 46s\tremaining: 1m 14s\n",
      "1179:\tlearn: 1598.8766197\ttotal: 1m 46s\tremaining: 1m 14s\n",
      "1180:\tlearn: 1598.6633782\ttotal: 1m 47s\tremaining: 1m 14s\n",
      "1181:\tlearn: 1598.6315759\ttotal: 1m 47s\tremaining: 1m 14s\n",
      "1182:\tlearn: 1598.5002505\ttotal: 1m 47s\tremaining: 1m 14s\n",
      "1183:\tlearn: 1598.4368600\ttotal: 1m 47s\tremaining: 1m 13s\n",
      "1184:\tlearn: 1598.3683287\ttotal: 1m 47s\tremaining: 1m 13s\n",
      "1185:\tlearn: 1598.2774123\ttotal: 1m 47s\tremaining: 1m 13s\n",
      "1186:\tlearn: 1598.2052200\ttotal: 1m 47s\tremaining: 1m 13s\n",
      "1187:\tlearn: 1598.0003859\ttotal: 1m 47s\tremaining: 1m 13s\n",
      "1188:\tlearn: 1597.9276520\ttotal: 1m 47s\tremaining: 1m 13s\n",
      "1189:\tlearn: 1597.9216163\ttotal: 1m 47s\tremaining: 1m 13s\n",
      "1190:\tlearn: 1597.8290945\ttotal: 1m 47s\tremaining: 1m 13s\n",
      "1191:\tlearn: 1597.7570159\ttotal: 1m 47s\tremaining: 1m 13s\n",
      "1192:\tlearn: 1597.7383167\ttotal: 1m 48s\tremaining: 1m 13s\n",
      "1193:\tlearn: 1597.6784508\ttotal: 1m 48s\tremaining: 1m 13s\n",
      "1194:\tlearn: 1597.6338713\ttotal: 1m 48s\tremaining: 1m 12s\n",
      "1195:\tlearn: 1597.4792385\ttotal: 1m 48s\tremaining: 1m 12s\n",
      "1196:\tlearn: 1597.4547823\ttotal: 1m 48s\tremaining: 1m 12s\n",
      "1197:\tlearn: 1597.3366523\ttotal: 1m 48s\tremaining: 1m 12s\n",
      "1198:\tlearn: 1597.3241590\ttotal: 1m 48s\tremaining: 1m 12s\n",
      "1199:\tlearn: 1597.2983993\ttotal: 1m 48s\tremaining: 1m 12s\n",
      "1200:\tlearn: 1597.2770652\ttotal: 1m 48s\tremaining: 1m 12s\n",
      "1201:\tlearn: 1597.1830050\ttotal: 1m 48s\tremaining: 1m 12s\n",
      "1202:\tlearn: 1597.0584984\ttotal: 1m 48s\tremaining: 1m 12s\n",
      "1203:\tlearn: 1596.9279976\ttotal: 1m 49s\tremaining: 1m 12s\n",
      "1204:\tlearn: 1596.9121145\ttotal: 1m 49s\tremaining: 1m 11s\n",
      "1205:\tlearn: 1596.8990038\ttotal: 1m 49s\tremaining: 1m 11s\n",
      "1206:\tlearn: 1596.8985461\ttotal: 1m 49s\tremaining: 1m 11s\n",
      "1207:\tlearn: 1596.8791319\ttotal: 1m 49s\tremaining: 1m 11s\n",
      "1208:\tlearn: 1596.8573412\ttotal: 1m 49s\tremaining: 1m 11s\n",
      "1209:\tlearn: 1596.6874952\ttotal: 1m 49s\tremaining: 1m 11s\n",
      "1210:\tlearn: 1596.6484717\ttotal: 1m 49s\tremaining: 1m 11s\n",
      "1211:\tlearn: 1596.5568227\ttotal: 1m 49s\tremaining: 1m 11s\n",
      "1212:\tlearn: 1596.5028916\ttotal: 1m 49s\tremaining: 1m 11s\n",
      "1213:\tlearn: 1596.4819637\ttotal: 1m 49s\tremaining: 1m 11s\n",
      "1214:\tlearn: 1596.4149581\ttotal: 1m 50s\tremaining: 1m 11s\n",
      "1215:\tlearn: 1596.2954414\ttotal: 1m 50s\tremaining: 1m 10s\n",
      "1216:\tlearn: 1596.2762505\ttotal: 1m 50s\tremaining: 1m 10s\n",
      "1217:\tlearn: 1596.2517852\ttotal: 1m 50s\tremaining: 1m 10s\n",
      "1218:\tlearn: 1596.1160345\ttotal: 1m 50s\tremaining: 1m 10s\n",
      "1219:\tlearn: 1596.0708771\ttotal: 1m 50s\tremaining: 1m 10s\n",
      "1220:\tlearn: 1595.9436007\ttotal: 1m 50s\tremaining: 1m 10s\n",
      "1221:\tlearn: 1595.8843134\ttotal: 1m 50s\tremaining: 1m 10s\n",
      "1222:\tlearn: 1595.8260733\ttotal: 1m 50s\tremaining: 1m 10s\n",
      "1223:\tlearn: 1595.8242660\ttotal: 1m 50s\tremaining: 1m 10s\n",
      "1224:\tlearn: 1595.8020508\ttotal: 1m 50s\tremaining: 1m 10s\n",
      "1225:\tlearn: 1595.7478525\ttotal: 1m 50s\tremaining: 1m 10s\n",
      "1226:\tlearn: 1595.6185185\ttotal: 1m 51s\tremaining: 1m 9s\n",
      "1227:\tlearn: 1595.5558794\ttotal: 1m 51s\tremaining: 1m 9s\n",
      "1228:\tlearn: 1595.4620802\ttotal: 1m 51s\tremaining: 1m 9s\n",
      "1229:\tlearn: 1595.3432106\ttotal: 1m 51s\tremaining: 1m 9s\n",
      "1230:\tlearn: 1595.3396848\ttotal: 1m 51s\tremaining: 1m 9s\n",
      "1231:\tlearn: 1595.1799871\ttotal: 1m 51s\tremaining: 1m 9s\n",
      "1232:\tlearn: 1595.1436202\ttotal: 1m 51s\tremaining: 1m 9s\n",
      "1233:\tlearn: 1595.1324978\ttotal: 1m 51s\tremaining: 1m 9s\n",
      "1234:\tlearn: 1595.0699389\ttotal: 1m 51s\tremaining: 1m 9s\n",
      "1235:\tlearn: 1594.8976326\ttotal: 1m 51s\tremaining: 1m 9s\n",
      "1236:\tlearn: 1594.8655691\ttotal: 1m 51s\tremaining: 1m 9s\n",
      "1237:\tlearn: 1594.8557476\ttotal: 1m 51s\tremaining: 1m 8s\n",
      "1238:\tlearn: 1594.6342143\ttotal: 1m 52s\tremaining: 1m 8s\n",
      "1239:\tlearn: 1594.6300195\ttotal: 1m 52s\tremaining: 1m 8s\n",
      "1240:\tlearn: 1594.5771821\ttotal: 1m 52s\tremaining: 1m 8s\n",
      "1241:\tlearn: 1594.5409415\ttotal: 1m 52s\tremaining: 1m 8s\n",
      "1242:\tlearn: 1594.4133917\ttotal: 1m 52s\tremaining: 1m 8s\n",
      "1243:\tlearn: 1594.3404489\ttotal: 1m 52s\tremaining: 1m 8s\n",
      "1244:\tlearn: 1594.2869509\ttotal: 1m 52s\tremaining: 1m 8s\n",
      "1245:\tlearn: 1594.1193499\ttotal: 1m 52s\tremaining: 1m 8s\n",
      "1246:\tlearn: 1594.0370480\ttotal: 1m 52s\tremaining: 1m 8s\n",
      "1247:\tlearn: 1593.9323395\ttotal: 1m 52s\tremaining: 1m 7s\n",
      "1248:\tlearn: 1593.8630063\ttotal: 1m 52s\tremaining: 1m 7s\n",
      "1249:\tlearn: 1593.8461356\ttotal: 1m 52s\tremaining: 1m 7s\n",
      "1250:\tlearn: 1593.7144748\ttotal: 1m 53s\tremaining: 1m 7s\n",
      "1251:\tlearn: 1593.7040629\ttotal: 1m 53s\tremaining: 1m 7s\n",
      "1252:\tlearn: 1593.6183446\ttotal: 1m 53s\tremaining: 1m 7s\n",
      "1253:\tlearn: 1593.6047800\ttotal: 1m 53s\tremaining: 1m 7s\n",
      "1254:\tlearn: 1593.5374102\ttotal: 1m 53s\tremaining: 1m 7s\n",
      "1255:\tlearn: 1593.4824092\ttotal: 1m 53s\tremaining: 1m 7s\n",
      "1256:\tlearn: 1593.3500722\ttotal: 1m 53s\tremaining: 1m 7s\n",
      "1257:\tlearn: 1593.1398350\ttotal: 1m 53s\tremaining: 1m 7s\n",
      "1258:\tlearn: 1593.1354223\ttotal: 1m 53s\tremaining: 1m 7s\n",
      "1259:\tlearn: 1593.1070410\ttotal: 1m 53s\tremaining: 1m 6s\n",
      "1260:\tlearn: 1592.9173560\ttotal: 1m 54s\tremaining: 1m 6s\n",
      "1261:\tlearn: 1592.8857704\ttotal: 1m 54s\tremaining: 1m 6s\n",
      "1262:\tlearn: 1592.7505224\ttotal: 1m 54s\tremaining: 1m 6s\n",
      "1263:\tlearn: 1592.7159619\ttotal: 1m 54s\tremaining: 1m 6s\n",
      "1264:\tlearn: 1592.6307514\ttotal: 1m 54s\tremaining: 1m 6s\n",
      "1265:\tlearn: 1592.6098639\ttotal: 1m 54s\tremaining: 1m 6s\n",
      "1266:\tlearn: 1592.5418275\ttotal: 1m 54s\tremaining: 1m 6s\n",
      "1267:\tlearn: 1592.5324104\ttotal: 1m 54s\tremaining: 1m 6s\n",
      "1268:\tlearn: 1592.5234996\ttotal: 1m 54s\tremaining: 1m 6s\n",
      "1269:\tlearn: 1592.4735627\ttotal: 1m 54s\tremaining: 1m 6s\n",
      "1270:\tlearn: 1592.4562210\ttotal: 1m 55s\tremaining: 1m 5s\n",
      "1271:\tlearn: 1592.3834947\ttotal: 1m 55s\tremaining: 1m 5s\n",
      "1272:\tlearn: 1592.3216096\ttotal: 1m 55s\tremaining: 1m 5s\n",
      "1273:\tlearn: 1592.2211010\ttotal: 1m 55s\tremaining: 1m 5s\n",
      "1274:\tlearn: 1592.1248433\ttotal: 1m 55s\tremaining: 1m 5s\n",
      "1275:\tlearn: 1592.1162550\ttotal: 1m 55s\tremaining: 1m 5s\n",
      "1276:\tlearn: 1592.0763289\ttotal: 1m 55s\tremaining: 1m 5s\n",
      "1277:\tlearn: 1592.0431689\ttotal: 1m 55s\tremaining: 1m 5s\n",
      "1278:\tlearn: 1592.0020870\ttotal: 1m 55s\tremaining: 1m 5s\n",
      "1279:\tlearn: 1591.9642281\ttotal: 1m 55s\tremaining: 1m 5s\n",
      "1280:\tlearn: 1591.9448889\ttotal: 1m 55s\tremaining: 1m 5s\n",
      "1281:\tlearn: 1591.9156606\ttotal: 1m 56s\tremaining: 1m 4s\n",
      "1282:\tlearn: 1591.9033161\ttotal: 1m 56s\tremaining: 1m 4s\n",
      "1283:\tlearn: 1591.8918373\ttotal: 1m 56s\tremaining: 1m 4s\n",
      "1284:\tlearn: 1591.8829560\ttotal: 1m 56s\tremaining: 1m 4s\n",
      "1285:\tlearn: 1591.8011394\ttotal: 1m 56s\tremaining: 1m 4s\n",
      "1286:\tlearn: 1591.7138300\ttotal: 1m 56s\tremaining: 1m 4s\n",
      "1287:\tlearn: 1591.6623594\ttotal: 1m 56s\tremaining: 1m 4s\n",
      "1288:\tlearn: 1591.6000784\ttotal: 1m 56s\tremaining: 1m 4s\n",
      "1289:\tlearn: 1591.5507586\ttotal: 1m 56s\tremaining: 1m 4s\n",
      "1290:\tlearn: 1591.4450450\ttotal: 1m 56s\tremaining: 1m 4s\n",
      "1291:\tlearn: 1591.4200812\ttotal: 1m 56s\tremaining: 1m 4s\n",
      "1292:\tlearn: 1591.3117456\ttotal: 1m 57s\tremaining: 1m 4s\n",
      "1293:\tlearn: 1591.2406154\ttotal: 1m 57s\tremaining: 1m 3s\n",
      "1294:\tlearn: 1591.0882293\ttotal: 1m 57s\tremaining: 1m 3s\n",
      "1295:\tlearn: 1591.0653041\ttotal: 1m 57s\tremaining: 1m 3s\n",
      "1296:\tlearn: 1591.0635974\ttotal: 1m 57s\tremaining: 1m 3s\n",
      "1297:\tlearn: 1591.0111857\ttotal: 1m 57s\tremaining: 1m 3s\n",
      "1298:\tlearn: 1590.9755428\ttotal: 1m 57s\tremaining: 1m 3s\n",
      "1299:\tlearn: 1590.9036523\ttotal: 1m 57s\tremaining: 1m 3s\n",
      "1300:\tlearn: 1590.7823372\ttotal: 1m 57s\tremaining: 1m 3s\n",
      "1301:\tlearn: 1590.7350537\ttotal: 1m 58s\tremaining: 1m 3s\n",
      "1302:\tlearn: 1590.7310068\ttotal: 1m 58s\tremaining: 1m 3s\n",
      "1303:\tlearn: 1590.5923177\ttotal: 1m 58s\tremaining: 1m 3s\n",
      "1304:\tlearn: 1590.5720842\ttotal: 1m 58s\tremaining: 1m 3s\n",
      "1305:\tlearn: 1590.5366881\ttotal: 1m 58s\tremaining: 1m 2s\n",
      "1306:\tlearn: 1590.5247700\ttotal: 1m 58s\tremaining: 1m 2s\n",
      "1307:\tlearn: 1590.4655280\ttotal: 1m 58s\tremaining: 1m 2s\n",
      "1308:\tlearn: 1590.4437742\ttotal: 1m 58s\tremaining: 1m 2s\n",
      "1309:\tlearn: 1590.3595550\ttotal: 1m 58s\tremaining: 1m 2s\n",
      "1310:\tlearn: 1590.3098384\ttotal: 1m 58s\tremaining: 1m 2s\n",
      "1311:\tlearn: 1590.2730744\ttotal: 1m 59s\tremaining: 1m 2s\n",
      "1312:\tlearn: 1590.2679723\ttotal: 1m 59s\tremaining: 1m 2s\n",
      "1313:\tlearn: 1590.1782515\ttotal: 1m 59s\tremaining: 1m 2s\n",
      "1314:\tlearn: 1590.0850594\ttotal: 1m 59s\tremaining: 1m 2s\n",
      "1315:\tlearn: 1590.0519938\ttotal: 1m 59s\tremaining: 1m 2s\n",
      "1316:\tlearn: 1590.0116528\ttotal: 1m 59s\tremaining: 1m 1s\n",
      "1317:\tlearn: 1589.9674950\ttotal: 1m 59s\tremaining: 1m 1s\n",
      "1318:\tlearn: 1589.8716272\ttotal: 1m 59s\tremaining: 1m 1s\n",
      "1319:\tlearn: 1589.7880175\ttotal: 1m 59s\tremaining: 1m 1s\n",
      "1320:\tlearn: 1589.7520850\ttotal: 1m 59s\tremaining: 1m 1s\n",
      "1321:\tlearn: 1589.7078983\ttotal: 1m 59s\tremaining: 1m 1s\n",
      "1322:\tlearn: 1589.6060980\ttotal: 2m\tremaining: 1m 1s\n",
      "1323:\tlearn: 1589.5922928\ttotal: 2m\tremaining: 1m 1s\n",
      "1324:\tlearn: 1589.5635737\ttotal: 2m\tremaining: 1m 1s\n",
      "1325:\tlearn: 1589.5547458\ttotal: 2m\tremaining: 1m 1s\n",
      "1326:\tlearn: 1589.5411475\ttotal: 2m\tremaining: 1m 1s\n",
      "1327:\tlearn: 1589.4903342\ttotal: 2m\tremaining: 1m\n",
      "1328:\tlearn: 1589.3983255\ttotal: 2m\tremaining: 1m\n",
      "1329:\tlearn: 1589.3606628\ttotal: 2m\tremaining: 1m\n",
      "1330:\tlearn: 1589.3417159\ttotal: 2m\tremaining: 1m\n",
      "1331:\tlearn: 1589.2357630\ttotal: 2m\tremaining: 1m\n",
      "1332:\tlearn: 1589.0750742\ttotal: 2m\tremaining: 1m\n",
      "1333:\tlearn: 1588.9814247\ttotal: 2m\tremaining: 1m\n",
      "1334:\tlearn: 1588.8340405\ttotal: 2m 1s\tremaining: 1m\n",
      "1335:\tlearn: 1588.6666359\ttotal: 2m 1s\tremaining: 1m\n",
      "1336:\tlearn: 1588.6475987\ttotal: 2m 1s\tremaining: 1m\n",
      "1337:\tlearn: 1588.6094896\ttotal: 2m 1s\tremaining: 1m\n",
      "1338:\tlearn: 1588.5555269\ttotal: 2m 1s\tremaining: 59.9s\n",
      "1339:\tlearn: 1588.5221824\ttotal: 2m 1s\tremaining: 59.8s\n",
      "1340:\tlearn: 1588.4130168\ttotal: 2m 1s\tremaining: 59.7s\n",
      "1341:\tlearn: 1588.3846458\ttotal: 2m 1s\tremaining: 59.6s\n",
      "1342:\tlearn: 1588.3551391\ttotal: 2m 1s\tremaining: 59.6s\n",
      "1343:\tlearn: 1588.3077466\ttotal: 2m 1s\tremaining: 59.5s\n",
      "1344:\tlearn: 1588.2887375\ttotal: 2m 1s\tremaining: 59.4s\n",
      "1345:\tlearn: 1588.2053321\ttotal: 2m 1s\tremaining: 59.3s\n",
      "1346:\tlearn: 1588.1885461\ttotal: 2m 2s\tremaining: 59.2s\n",
      "1347:\tlearn: 1588.0699124\ttotal: 2m 2s\tremaining: 59.1s\n",
      "1348:\tlearn: 1588.0576894\ttotal: 2m 2s\tremaining: 59s\n",
      "1349:\tlearn: 1588.0365056\ttotal: 2m 2s\tremaining: 58.9s\n",
      "1350:\tlearn: 1588.0259151\ttotal: 2m 2s\tremaining: 58.8s\n",
      "1351:\tlearn: 1587.9778836\ttotal: 2m 2s\tremaining: 58.7s\n",
      "1352:\tlearn: 1587.9580048\ttotal: 2m 2s\tremaining: 58.6s\n",
      "1353:\tlearn: 1587.9244063\ttotal: 2m 2s\tremaining: 58.5s\n",
      "1354:\tlearn: 1587.9037878\ttotal: 2m 2s\tremaining: 58.5s\n",
      "1355:\tlearn: 1587.8742233\ttotal: 2m 2s\tremaining: 58.4s\n",
      "1356:\tlearn: 1587.8728745\ttotal: 2m 2s\tremaining: 58.3s\n",
      "1357:\tlearn: 1587.8502768\ttotal: 2m 3s\tremaining: 58.2s\n",
      "1358:\tlearn: 1587.7633565\ttotal: 2m 3s\tremaining: 58.1s\n",
      "1359:\tlearn: 1587.6861456\ttotal: 2m 3s\tremaining: 58s\n",
      "1360:\tlearn: 1587.6703388\ttotal: 2m 3s\tremaining: 57.9s\n",
      "1361:\tlearn: 1587.6571561\ttotal: 2m 3s\tremaining: 57.8s\n",
      "1362:\tlearn: 1587.5644714\ttotal: 2m 3s\tremaining: 57.7s\n",
      "1363:\tlearn: 1587.4687736\ttotal: 2m 3s\tremaining: 57.6s\n",
      "1364:\tlearn: 1587.4209951\ttotal: 2m 3s\tremaining: 57.5s\n",
      "1365:\tlearn: 1587.3694517\ttotal: 2m 3s\tremaining: 57.4s\n",
      "1366:\tlearn: 1587.3628116\ttotal: 2m 3s\tremaining: 57.3s\n",
      "1367:\tlearn: 1587.3100897\ttotal: 2m 3s\tremaining: 57.2s\n",
      "1368:\tlearn: 1587.2726185\ttotal: 2m 3s\tremaining: 57.1s\n",
      "1369:\tlearn: 1587.2602422\ttotal: 2m 4s\tremaining: 57s\n",
      "1370:\tlearn: 1587.1464290\ttotal: 2m 4s\tremaining: 56.9s\n",
      "1371:\tlearn: 1587.1011896\ttotal: 2m 4s\tremaining: 56.8s\n",
      "1372:\tlearn: 1587.0805428\ttotal: 2m 4s\tremaining: 56.7s\n",
      "1373:\tlearn: 1587.0267709\ttotal: 2m 4s\tremaining: 56.7s\n",
      "1374:\tlearn: 1587.0034888\ttotal: 2m 4s\tremaining: 56.6s\n",
      "1375:\tlearn: 1586.9852196\ttotal: 2m 4s\tremaining: 56.5s\n",
      "1376:\tlearn: 1586.9625049\ttotal: 2m 4s\tremaining: 56.4s\n",
      "1377:\tlearn: 1586.8901452\ttotal: 2m 4s\tremaining: 56.3s\n",
      "1378:\tlearn: 1586.8766188\ttotal: 2m 4s\tremaining: 56.2s\n",
      "1379:\tlearn: 1586.8722631\ttotal: 2m 4s\tremaining: 56.1s\n",
      "1380:\tlearn: 1586.8451888\ttotal: 2m 5s\tremaining: 56s\n",
      "1381:\tlearn: 1586.8062460\ttotal: 2m 5s\tremaining: 56s\n",
      "1382:\tlearn: 1586.7952996\ttotal: 2m 5s\tremaining: 55.9s\n",
      "1383:\tlearn: 1586.7880306\ttotal: 2m 5s\tremaining: 55.8s\n",
      "1384:\tlearn: 1586.7409437\ttotal: 2m 5s\tremaining: 55.7s\n",
      "1385:\tlearn: 1586.6511693\ttotal: 2m 5s\tremaining: 55.6s\n",
      "1386:\tlearn: 1586.6294144\ttotal: 2m 5s\tremaining: 55.5s\n",
      "1387:\tlearn: 1586.5604450\ttotal: 2m 5s\tremaining: 55.4s\n",
      "1388:\tlearn: 1586.5547760\ttotal: 2m 5s\tremaining: 55.3s\n",
      "1389:\tlearn: 1586.5179587\ttotal: 2m 5s\tremaining: 55.2s\n",
      "1390:\tlearn: 1586.5096235\ttotal: 2m 5s\tremaining: 55.1s\n",
      "1391:\tlearn: 1586.4433963\ttotal: 2m 6s\tremaining: 55s\n",
      "1392:\tlearn: 1586.4097134\ttotal: 2m 6s\tremaining: 54.9s\n",
      "1393:\tlearn: 1586.0908721\ttotal: 2m 6s\tremaining: 54.9s\n",
      "1394:\tlearn: 1585.9890004\ttotal: 2m 6s\tremaining: 54.8s\n",
      "1395:\tlearn: 1585.9549459\ttotal: 2m 6s\tremaining: 54.7s\n",
      "1396:\tlearn: 1585.8910346\ttotal: 2m 6s\tremaining: 54.6s\n",
      "1397:\tlearn: 1585.8114607\ttotal: 2m 6s\tremaining: 54.5s\n",
      "1398:\tlearn: 1585.7784259\ttotal: 2m 6s\tremaining: 54.4s\n",
      "1399:\tlearn: 1585.7270263\ttotal: 2m 6s\tremaining: 54.3s\n",
      "1400:\tlearn: 1585.7227217\ttotal: 2m 6s\tremaining: 54.2s\n",
      "1401:\tlearn: 1585.6417400\ttotal: 2m 6s\tremaining: 54.2s\n",
      "1402:\tlearn: 1585.5262422\ttotal: 2m 7s\tremaining: 54.1s\n",
      "1403:\tlearn: 1585.5039229\ttotal: 2m 7s\tremaining: 54s\n",
      "1404:\tlearn: 1585.4956573\ttotal: 2m 7s\tremaining: 53.9s\n",
      "1405:\tlearn: 1585.4544693\ttotal: 2m 7s\tremaining: 53.8s\n",
      "1406:\tlearn: 1585.3427741\ttotal: 2m 7s\tremaining: 53.7s\n",
      "1407:\tlearn: 1585.3321650\ttotal: 2m 7s\tremaining: 53.7s\n",
      "1408:\tlearn: 1585.3249198\ttotal: 2m 7s\tremaining: 53.6s\n",
      "1409:\tlearn: 1585.2547726\ttotal: 2m 7s\tremaining: 53.5s\n",
      "1410:\tlearn: 1585.0998540\ttotal: 2m 7s\tremaining: 53.4s\n",
      "1411:\tlearn: 1585.0778406\ttotal: 2m 8s\tremaining: 53.3s\n",
      "1412:\tlearn: 1585.0592058\ttotal: 2m 8s\tremaining: 53.2s\n",
      "1413:\tlearn: 1585.0385522\ttotal: 2m 8s\tremaining: 53.1s\n",
      "1414:\tlearn: 1584.9936461\ttotal: 2m 8s\tremaining: 53s\n",
      "1415:\tlearn: 1584.9886426\ttotal: 2m 8s\tremaining: 52.9s\n",
      "1416:\tlearn: 1584.9787656\ttotal: 2m 8s\tremaining: 52.8s\n",
      "1417:\tlearn: 1584.9780719\ttotal: 2m 8s\tremaining: 52.7s\n",
      "1418:\tlearn: 1584.9382036\ttotal: 2m 8s\tremaining: 52.6s\n",
      "1419:\tlearn: 1584.9250313\ttotal: 2m 8s\tremaining: 52.6s\n",
      "1420:\tlearn: 1584.9175184\ttotal: 2m 8s\tremaining: 52.5s\n",
      "1421:\tlearn: 1584.8499830\ttotal: 2m 8s\tremaining: 52.4s\n",
      "1422:\tlearn: 1584.8183056\ttotal: 2m 8s\tremaining: 52.3s\n",
      "1423:\tlearn: 1584.7752525\ttotal: 2m 8s\tremaining: 52.2s\n",
      "1424:\tlearn: 1584.7687242\ttotal: 2m 9s\tremaining: 52.1s\n",
      "1425:\tlearn: 1584.7076751\ttotal: 2m 9s\tremaining: 52s\n",
      "1426:\tlearn: 1584.6597313\ttotal: 2m 9s\tremaining: 51.9s\n",
      "1427:\tlearn: 1584.5823196\ttotal: 2m 9s\tremaining: 51.8s\n",
      "1428:\tlearn: 1584.5722981\ttotal: 2m 9s\tremaining: 51.7s\n",
      "1429:\tlearn: 1584.5516375\ttotal: 2m 9s\tremaining: 51.6s\n",
      "1430:\tlearn: 1584.4570578\ttotal: 2m 9s\tremaining: 51.5s\n",
      "1431:\tlearn: 1584.3791589\ttotal: 2m 9s\tremaining: 51.4s\n",
      "1432:\tlearn: 1584.3373428\ttotal: 2m 9s\tremaining: 51.3s\n",
      "1433:\tlearn: 1584.3290938\ttotal: 2m 9s\tremaining: 51.2s\n",
      "1434:\tlearn: 1584.2928779\ttotal: 2m 9s\tremaining: 51.1s\n",
      "1435:\tlearn: 1584.2705473\ttotal: 2m 9s\tremaining: 51s\n",
      "1436:\tlearn: 1584.2640065\ttotal: 2m 10s\tremaining: 51s\n",
      "1437:\tlearn: 1584.1934899\ttotal: 2m 10s\tremaining: 50.9s\n",
      "1438:\tlearn: 1584.1262775\ttotal: 2m 10s\tremaining: 50.8s\n",
      "1439:\tlearn: 1584.0020187\ttotal: 2m 10s\tremaining: 50.7s\n",
      "1440:\tlearn: 1583.9955615\ttotal: 2m 10s\tremaining: 50.6s\n",
      "1441:\tlearn: 1583.9866205\ttotal: 2m 10s\tremaining: 50.5s\n",
      "1442:\tlearn: 1583.9739144\ttotal: 2m 10s\tremaining: 50.4s\n",
      "1443:\tlearn: 1583.9616892\ttotal: 2m 10s\tremaining: 50.3s\n",
      "1444:\tlearn: 1583.8953416\ttotal: 2m 10s\tremaining: 50.2s\n",
      "1445:\tlearn: 1583.8914256\ttotal: 2m 10s\tremaining: 50.1s\n",
      "1446:\tlearn: 1583.8004874\ttotal: 2m 10s\tremaining: 50.1s\n",
      "1447:\tlearn: 1583.7325040\ttotal: 2m 11s\tremaining: 50s\n",
      "1448:\tlearn: 1583.6375496\ttotal: 2m 11s\tremaining: 49.9s\n",
      "1449:\tlearn: 1583.5094100\ttotal: 2m 11s\tremaining: 49.8s\n",
      "1450:\tlearn: 1583.4735068\ttotal: 2m 11s\tremaining: 49.7s\n",
      "1451:\tlearn: 1583.4712633\ttotal: 2m 11s\tremaining: 49.6s\n",
      "1452:\tlearn: 1583.4524876\ttotal: 2m 11s\tremaining: 49.5s\n",
      "1453:\tlearn: 1583.4453048\ttotal: 2m 11s\tremaining: 49.4s\n",
      "1454:\tlearn: 1583.3866031\ttotal: 2m 11s\tremaining: 49.3s\n",
      "1455:\tlearn: 1583.2921797\ttotal: 2m 11s\tremaining: 49.3s\n",
      "1456:\tlearn: 1583.2605112\ttotal: 2m 11s\tremaining: 49.2s\n",
      "1457:\tlearn: 1583.1754986\ttotal: 2m 12s\tremaining: 49.1s\n",
      "1458:\tlearn: 1583.1550208\ttotal: 2m 12s\tremaining: 49s\n",
      "1459:\tlearn: 1583.1333677\ttotal: 2m 12s\tremaining: 48.9s\n",
      "1460:\tlearn: 1583.0836294\ttotal: 2m 12s\tremaining: 48.8s\n",
      "1461:\tlearn: 1583.0480469\ttotal: 2m 12s\tremaining: 48.7s\n",
      "1462:\tlearn: 1583.0263718\ttotal: 2m 12s\tremaining: 48.6s\n",
      "1463:\tlearn: 1583.0003932\ttotal: 2m 12s\tremaining: 48.6s\n",
      "1464:\tlearn: 1582.8940730\ttotal: 2m 12s\tremaining: 48.5s\n",
      "1465:\tlearn: 1582.8360678\ttotal: 2m 12s\tremaining: 48.4s\n",
      "1466:\tlearn: 1582.7682332\ttotal: 2m 12s\tremaining: 48.3s\n",
      "1467:\tlearn: 1582.7329666\ttotal: 2m 12s\tremaining: 48.2s\n",
      "1468:\tlearn: 1582.6523964\ttotal: 2m 13s\tremaining: 48.1s\n",
      "1469:\tlearn: 1582.5747905\ttotal: 2m 13s\tremaining: 48s\n",
      "1470:\tlearn: 1582.5567711\ttotal: 2m 13s\tremaining: 47.9s\n",
      "1471:\tlearn: 1582.5441506\ttotal: 2m 13s\tremaining: 47.8s\n",
      "1472:\tlearn: 1582.4973941\ttotal: 2m 13s\tremaining: 47.8s\n",
      "1473:\tlearn: 1582.4919356\ttotal: 2m 13s\tremaining: 47.7s\n",
      "1474:\tlearn: 1582.4856204\ttotal: 2m 13s\tremaining: 47.6s\n",
      "1475:\tlearn: 1582.3664459\ttotal: 2m 13s\tremaining: 47.5s\n",
      "1476:\tlearn: 1582.3271079\ttotal: 2m 13s\tremaining: 47.4s\n",
      "1477:\tlearn: 1582.2235911\ttotal: 2m 13s\tremaining: 47.3s\n",
      "1478:\tlearn: 1582.2229264\ttotal: 2m 13s\tremaining: 47.2s\n",
      "1479:\tlearn: 1582.1183777\ttotal: 2m 14s\tremaining: 47.1s\n",
      "1480:\tlearn: 1582.0906949\ttotal: 2m 14s\tremaining: 47s\n",
      "1481:\tlearn: 1581.9984933\ttotal: 2m 14s\tremaining: 46.9s\n",
      "1482:\tlearn: 1581.9947369\ttotal: 2m 14s\tremaining: 46.8s\n",
      "1483:\tlearn: 1581.9827646\ttotal: 2m 14s\tremaining: 46.8s\n",
      "1484:\tlearn: 1581.9236462\ttotal: 2m 14s\tremaining: 46.7s\n",
      "1485:\tlearn: 1581.8833548\ttotal: 2m 14s\tremaining: 46.6s\n",
      "1486:\tlearn: 1581.8643196\ttotal: 2m 14s\tremaining: 46.5s\n",
      "1487:\tlearn: 1581.8572940\ttotal: 2m 14s\tremaining: 46.4s\n",
      "1488:\tlearn: 1581.8026013\ttotal: 2m 14s\tremaining: 46.3s\n",
      "1489:\tlearn: 1581.7984012\ttotal: 2m 14s\tremaining: 46.2s\n",
      "1490:\tlearn: 1581.7279817\ttotal: 2m 15s\tremaining: 46.1s\n",
      "1491:\tlearn: 1581.6963845\ttotal: 2m 15s\tremaining: 46s\n",
      "1492:\tlearn: 1581.6330174\ttotal: 2m 15s\tremaining: 45.9s\n",
      "1493:\tlearn: 1581.5667557\ttotal: 2m 15s\tremaining: 45.8s\n",
      "1494:\tlearn: 1581.5363504\ttotal: 2m 15s\tremaining: 45.7s\n",
      "1495:\tlearn: 1581.4648050\ttotal: 2m 15s\tremaining: 45.7s\n",
      "1496:\tlearn: 1581.4195548\ttotal: 2m 15s\tremaining: 45.6s\n",
      "1497:\tlearn: 1581.4171601\ttotal: 2m 15s\tremaining: 45.5s\n",
      "1498:\tlearn: 1581.3881734\ttotal: 2m 15s\tremaining: 45.4s\n",
      "1499:\tlearn: 1581.3091830\ttotal: 2m 15s\tremaining: 45.3s\n",
      "1500:\tlearn: 1581.3067356\ttotal: 2m 15s\tremaining: 45.2s\n",
      "1501:\tlearn: 1581.2707669\ttotal: 2m 15s\tremaining: 45.1s\n",
      "1502:\tlearn: 1581.2681161\ttotal: 2m 16s\tremaining: 45s\n",
      "1503:\tlearn: 1581.2373297\ttotal: 2m 16s\tremaining: 44.9s\n",
      "1504:\tlearn: 1581.2200569\ttotal: 2m 16s\tremaining: 44.8s\n",
      "1505:\tlearn: 1581.1922911\ttotal: 2m 16s\tremaining: 44.7s\n",
      "1506:\tlearn: 1581.1574332\ttotal: 2m 16s\tremaining: 44.7s\n",
      "1507:\tlearn: 1581.1084586\ttotal: 2m 16s\tremaining: 44.6s\n",
      "1508:\tlearn: 1581.0955148\ttotal: 2m 16s\tremaining: 44.5s\n",
      "1509:\tlearn: 1581.0904797\ttotal: 2m 16s\tremaining: 44.4s\n",
      "1510:\tlearn: 1581.0880758\ttotal: 2m 16s\tremaining: 44.3s\n",
      "1511:\tlearn: 1581.0704821\ttotal: 2m 16s\tremaining: 44.2s\n",
      "1512:\tlearn: 1581.0120266\ttotal: 2m 17s\tremaining: 44.1s\n",
      "1513:\tlearn: 1580.9469018\ttotal: 2m 17s\tremaining: 44s\n",
      "1514:\tlearn: 1580.9044652\ttotal: 2m 17s\tremaining: 43.9s\n",
      "1515:\tlearn: 1580.8364668\ttotal: 2m 17s\tremaining: 43.8s\n",
      "1516:\tlearn: 1580.7995374\ttotal: 2m 17s\tremaining: 43.7s\n",
      "1517:\tlearn: 1580.7564925\ttotal: 2m 17s\tremaining: 43.6s\n",
      "1518:\tlearn: 1580.7362423\ttotal: 2m 17s\tremaining: 43.6s\n",
      "1519:\tlearn: 1580.6231766\ttotal: 2m 17s\tremaining: 43.5s\n",
      "1520:\tlearn: 1580.5026376\ttotal: 2m 17s\tremaining: 43.4s\n",
      "1521:\tlearn: 1580.4912478\ttotal: 2m 17s\tremaining: 43.3s\n",
      "1522:\tlearn: 1580.4577295\ttotal: 2m 17s\tremaining: 43.2s\n",
      "1523:\tlearn: 1580.4389944\ttotal: 2m 18s\tremaining: 43.1s\n",
      "1524:\tlearn: 1580.3955578\ttotal: 2m 18s\tremaining: 43s\n",
      "1525:\tlearn: 1580.2887515\ttotal: 2m 18s\tremaining: 42.9s\n",
      "1526:\tlearn: 1580.2607125\ttotal: 2m 18s\tremaining: 42.8s\n",
      "1527:\tlearn: 1580.1901602\ttotal: 2m 18s\tremaining: 42.7s\n",
      "1528:\tlearn: 1580.1772469\ttotal: 2m 18s\tremaining: 42.6s\n",
      "1529:\tlearn: 1580.1001932\ttotal: 2m 18s\tremaining: 42.6s\n",
      "1530:\tlearn: 1580.0747222\ttotal: 2m 18s\tremaining: 42.5s\n",
      "1531:\tlearn: 1580.0074697\ttotal: 2m 18s\tremaining: 42.4s\n",
      "1532:\tlearn: 1579.9622124\ttotal: 2m 18s\tremaining: 42.3s\n",
      "1533:\tlearn: 1579.9414053\ttotal: 2m 19s\tremaining: 42.2s\n",
      "1534:\tlearn: 1579.8538928\ttotal: 2m 19s\tremaining: 42.1s\n",
      "1535:\tlearn: 1579.7689350\ttotal: 2m 19s\tremaining: 42s\n",
      "1536:\tlearn: 1579.6430356\ttotal: 2m 19s\tremaining: 42s\n",
      "1537:\tlearn: 1579.5356528\ttotal: 2m 19s\tremaining: 41.9s\n",
      "1538:\tlearn: 1579.4899376\ttotal: 2m 19s\tremaining: 41.8s\n",
      "1539:\tlearn: 1579.4528371\ttotal: 2m 19s\tremaining: 41.7s\n",
      "1540:\tlearn: 1579.3797002\ttotal: 2m 19s\tremaining: 41.6s\n",
      "1541:\tlearn: 1579.3225237\ttotal: 2m 19s\tremaining: 41.5s\n",
      "1542:\tlearn: 1579.2996158\ttotal: 2m 19s\tremaining: 41.4s\n",
      "1543:\tlearn: 1579.2139053\ttotal: 2m 19s\tremaining: 41.3s\n",
      "1544:\tlearn: 1579.1916898\ttotal: 2m 20s\tremaining: 41.2s\n",
      "1545:\tlearn: 1579.1124624\ttotal: 2m 20s\tremaining: 41.1s\n",
      "1546:\tlearn: 1578.9999627\ttotal: 2m 20s\tremaining: 41.1s\n",
      "1547:\tlearn: 1578.9080418\ttotal: 2m 20s\tremaining: 41s\n",
      "1548:\tlearn: 1578.8960928\ttotal: 2m 20s\tremaining: 40.9s\n",
      "1549:\tlearn: 1578.8776416\ttotal: 2m 20s\tremaining: 40.8s\n",
      "1550:\tlearn: 1578.8085500\ttotal: 2m 20s\tremaining: 40.7s\n",
      "1551:\tlearn: 1578.7310965\ttotal: 2m 20s\tremaining: 40.6s\n",
      "1552:\tlearn: 1578.6618293\ttotal: 2m 20s\tremaining: 40.5s\n",
      "1553:\tlearn: 1578.6302083\ttotal: 2m 20s\tremaining: 40.4s\n",
      "1554:\tlearn: 1578.6151124\ttotal: 2m 20s\tremaining: 40.3s\n",
      "1555:\tlearn: 1578.5285162\ttotal: 2m 21s\tremaining: 40.3s\n",
      "1556:\tlearn: 1578.5089801\ttotal: 2m 21s\tremaining: 40.2s\n",
      "1557:\tlearn: 1578.4846971\ttotal: 2m 21s\tremaining: 40.1s\n",
      "1558:\tlearn: 1578.3871956\ttotal: 2m 21s\tremaining: 40s\n",
      "1559:\tlearn: 1578.3786288\ttotal: 2m 21s\tremaining: 39.9s\n",
      "1560:\tlearn: 1578.3676011\ttotal: 2m 21s\tremaining: 39.8s\n",
      "1561:\tlearn: 1578.3083985\ttotal: 2m 21s\tremaining: 39.7s\n",
      "1562:\tlearn: 1578.2887014\ttotal: 2m 21s\tremaining: 39.6s\n",
      "1563:\tlearn: 1578.2824715\ttotal: 2m 21s\tremaining: 39.5s\n",
      "1564:\tlearn: 1578.1471983\ttotal: 2m 21s\tremaining: 39.5s\n",
      "1565:\tlearn: 1578.0813042\ttotal: 2m 22s\tremaining: 39.4s\n",
      "1566:\tlearn: 1578.0453175\ttotal: 2m 22s\tremaining: 39.3s\n",
      "1567:\tlearn: 1577.9561878\ttotal: 2m 22s\tremaining: 39.2s\n",
      "1568:\tlearn: 1577.9502758\ttotal: 2m 22s\tremaining: 39.1s\n",
      "1569:\tlearn: 1577.8813708\ttotal: 2m 22s\tremaining: 39s\n",
      "1570:\tlearn: 1577.8545004\ttotal: 2m 22s\tremaining: 38.9s\n",
      "1571:\tlearn: 1577.7343516\ttotal: 2m 22s\tremaining: 38.8s\n",
      "1572:\tlearn: 1577.7004891\ttotal: 2m 22s\tremaining: 38.7s\n",
      "1573:\tlearn: 1577.5659023\ttotal: 2m 22s\tremaining: 38.6s\n",
      "1574:\tlearn: 1577.5068882\ttotal: 2m 22s\tremaining: 38.6s\n",
      "1575:\tlearn: 1577.4928390\ttotal: 2m 22s\tremaining: 38.5s\n",
      "1576:\tlearn: 1577.4162535\ttotal: 2m 23s\tremaining: 38.4s\n",
      "1577:\tlearn: 1577.4118556\ttotal: 2m 23s\tremaining: 38.3s\n",
      "1578:\tlearn: 1577.3563562\ttotal: 2m 23s\tremaining: 38.2s\n",
      "1579:\tlearn: 1577.3425512\ttotal: 2m 23s\tremaining: 38.1s\n",
      "1580:\tlearn: 1577.3378685\ttotal: 2m 23s\tremaining: 38s\n",
      "1581:\tlearn: 1577.2534040\ttotal: 2m 23s\tremaining: 37.9s\n",
      "1582:\tlearn: 1577.1798849\ttotal: 2m 23s\tremaining: 37.8s\n",
      "1583:\tlearn: 1577.1462445\ttotal: 2m 23s\tremaining: 37.7s\n",
      "1584:\tlearn: 1577.1290825\ttotal: 2m 23s\tremaining: 37.6s\n",
      "1585:\tlearn: 1577.0664926\ttotal: 2m 23s\tremaining: 37.5s\n",
      "1586:\tlearn: 1577.0405497\ttotal: 2m 23s\tremaining: 37.4s\n",
      "1587:\tlearn: 1576.9772336\ttotal: 2m 23s\tremaining: 37.4s\n",
      "1588:\tlearn: 1576.9472347\ttotal: 2m 24s\tremaining: 37.3s\n",
      "1589:\tlearn: 1576.9284193\ttotal: 2m 24s\tremaining: 37.2s\n",
      "1590:\tlearn: 1576.8764466\ttotal: 2m 24s\tremaining: 37.1s\n",
      "1591:\tlearn: 1576.8219833\ttotal: 2m 24s\tremaining: 37s\n",
      "1592:\tlearn: 1576.7830987\ttotal: 2m 24s\tremaining: 36.9s\n",
      "1593:\tlearn: 1576.7082123\ttotal: 2m 24s\tremaining: 36.8s\n",
      "1594:\tlearn: 1576.6908814\ttotal: 2m 24s\tremaining: 36.7s\n",
      "1595:\tlearn: 1576.6723404\ttotal: 2m 24s\tremaining: 36.6s\n",
      "1596:\tlearn: 1576.6148943\ttotal: 2m 24s\tremaining: 36.5s\n",
      "1597:\tlearn: 1576.5419280\ttotal: 2m 24s\tremaining: 36.5s\n",
      "1598:\tlearn: 1576.5364227\ttotal: 2m 25s\tremaining: 36.4s\n",
      "1599:\tlearn: 1576.5207981\ttotal: 2m 25s\tremaining: 36.3s\n",
      "1600:\tlearn: 1576.4155634\ttotal: 2m 25s\tremaining: 36.2s\n",
      "1601:\tlearn: 1576.2051229\ttotal: 2m 25s\tremaining: 36.1s\n",
      "1602:\tlearn: 1576.1919928\ttotal: 2m 25s\tremaining: 36s\n",
      "1603:\tlearn: 1576.1849431\ttotal: 2m 25s\tremaining: 35.9s\n",
      "1604:\tlearn: 1576.1653205\ttotal: 2m 25s\tremaining: 35.8s\n",
      "1605:\tlearn: 1576.1093685\ttotal: 2m 25s\tremaining: 35.7s\n",
      "1606:\tlearn: 1576.0971992\ttotal: 2m 25s\tremaining: 35.7s\n",
      "1607:\tlearn: 1576.0689512\ttotal: 2m 25s\tremaining: 35.6s\n",
      "1608:\tlearn: 1576.0512364\ttotal: 2m 26s\tremaining: 35.5s\n",
      "1609:\tlearn: 1576.0186951\ttotal: 2m 26s\tremaining: 35.4s\n",
      "1610:\tlearn: 1576.0058903\ttotal: 2m 26s\tremaining: 35.3s\n",
      "1611:\tlearn: 1576.0039353\ttotal: 2m 26s\tremaining: 35.2s\n",
      "1612:\tlearn: 1575.9984044\ttotal: 2m 26s\tremaining: 35.1s\n",
      "1613:\tlearn: 1575.9801527\ttotal: 2m 26s\tremaining: 35s\n",
      "1614:\tlearn: 1575.9771223\ttotal: 2m 26s\tremaining: 34.9s\n",
      "1615:\tlearn: 1575.9734039\ttotal: 2m 26s\tremaining: 34.8s\n",
      "1616:\tlearn: 1575.8825688\ttotal: 2m 26s\tremaining: 34.8s\n",
      "1617:\tlearn: 1575.7901815\ttotal: 2m 26s\tremaining: 34.7s\n",
      "1618:\tlearn: 1575.5904688\ttotal: 2m 26s\tremaining: 34.6s\n",
      "1619:\tlearn: 1575.4931639\ttotal: 2m 27s\tremaining: 34.5s\n",
      "1620:\tlearn: 1575.4771326\ttotal: 2m 27s\tremaining: 34.4s\n",
      "1621:\tlearn: 1575.4294791\ttotal: 2m 27s\tremaining: 34.3s\n",
      "1622:\tlearn: 1575.3496078\ttotal: 2m 27s\tremaining: 34.2s\n",
      "1623:\tlearn: 1575.3330856\ttotal: 2m 27s\tremaining: 34.1s\n",
      "1624:\tlearn: 1575.2975416\ttotal: 2m 27s\tremaining: 34s\n",
      "1625:\tlearn: 1575.2862281\ttotal: 2m 27s\tremaining: 33.9s\n",
      "1626:\tlearn: 1575.2771966\ttotal: 2m 27s\tremaining: 33.8s\n",
      "1627:\tlearn: 1575.2610789\ttotal: 2m 27s\tremaining: 33.8s\n",
      "1628:\tlearn: 1575.2319355\ttotal: 2m 27s\tremaining: 33.7s\n",
      "1629:\tlearn: 1575.2297653\ttotal: 2m 27s\tremaining: 33.6s\n",
      "1630:\tlearn: 1575.2201747\ttotal: 2m 28s\tremaining: 33.5s\n",
      "1631:\tlearn: 1575.2029186\ttotal: 2m 28s\tremaining: 33.4s\n",
      "1632:\tlearn: 1575.1971654\ttotal: 2m 28s\tremaining: 33.3s\n",
      "1633:\tlearn: 1575.1934488\ttotal: 2m 28s\tremaining: 33.2s\n",
      "1634:\tlearn: 1575.1795425\ttotal: 2m 28s\tremaining: 33.1s\n",
      "1635:\tlearn: 1575.1732996\ttotal: 2m 28s\tremaining: 33s\n",
      "1636:\tlearn: 1575.1085433\ttotal: 2m 28s\tremaining: 32.9s\n",
      "1637:\tlearn: 1575.0469145\ttotal: 2m 28s\tremaining: 32.8s\n",
      "1638:\tlearn: 1574.9865343\ttotal: 2m 28s\tremaining: 32.7s\n",
      "1639:\tlearn: 1574.9600327\ttotal: 2m 28s\tremaining: 32.6s\n",
      "1640:\tlearn: 1574.9519052\ttotal: 2m 28s\tremaining: 32.6s\n",
      "1641:\tlearn: 1574.8680800\ttotal: 2m 28s\tremaining: 32.5s\n",
      "1642:\tlearn: 1574.8450340\ttotal: 2m 28s\tremaining: 32.4s\n",
      "1643:\tlearn: 1574.7987866\ttotal: 2m 29s\tremaining: 32.3s\n",
      "1644:\tlearn: 1574.7413449\ttotal: 2m 29s\tremaining: 32.2s\n",
      "1645:\tlearn: 1574.6818599\ttotal: 2m 29s\tremaining: 32.1s\n",
      "1646:\tlearn: 1574.6553792\ttotal: 2m 29s\tremaining: 32s\n",
      "1647:\tlearn: 1574.6076052\ttotal: 2m 29s\tremaining: 31.9s\n",
      "1648:\tlearn: 1574.5994386\ttotal: 2m 29s\tremaining: 31.8s\n",
      "1649:\tlearn: 1574.5023453\ttotal: 2m 29s\tremaining: 31.7s\n",
      "1650:\tlearn: 1574.4977854\ttotal: 2m 29s\tremaining: 31.7s\n",
      "1651:\tlearn: 1574.4869360\ttotal: 2m 29s\tremaining: 31.6s\n",
      "1652:\tlearn: 1574.4857023\ttotal: 2m 29s\tremaining: 31.5s\n",
      "1653:\tlearn: 1574.4621652\ttotal: 2m 30s\tremaining: 31.4s\n",
      "1654:\tlearn: 1574.4105129\ttotal: 2m 30s\tremaining: 31.3s\n",
      "1655:\tlearn: 1574.4011778\ttotal: 2m 30s\tremaining: 31.2s\n",
      "1656:\tlearn: 1574.3648920\ttotal: 2m 30s\tremaining: 31.1s\n",
      "1657:\tlearn: 1574.3593407\ttotal: 2m 30s\tremaining: 31s\n",
      "1658:\tlearn: 1574.3555316\ttotal: 2m 30s\tremaining: 30.9s\n",
      "1659:\tlearn: 1574.3125165\ttotal: 2m 30s\tremaining: 30.8s\n",
      "1660:\tlearn: 1574.2147584\ttotal: 2m 30s\tremaining: 30.8s\n",
      "1661:\tlearn: 1574.1174750\ttotal: 2m 30s\tremaining: 30.7s\n",
      "1662:\tlearn: 1574.0685963\ttotal: 2m 30s\tremaining: 30.6s\n",
      "1663:\tlearn: 1574.0294824\ttotal: 2m 31s\tremaining: 30.5s\n",
      "1664:\tlearn: 1574.0231978\ttotal: 2m 31s\tremaining: 30.4s\n",
      "1665:\tlearn: 1574.0160665\ttotal: 2m 31s\tremaining: 30.3s\n",
      "1666:\tlearn: 1573.9192077\ttotal: 2m 31s\tremaining: 30.2s\n",
      "1667:\tlearn: 1573.9160392\ttotal: 2m 31s\tremaining: 30.1s\n",
      "1668:\tlearn: 1573.8877142\ttotal: 2m 31s\tremaining: 30s\n",
      "1669:\tlearn: 1573.8478390\ttotal: 2m 31s\tremaining: 29.9s\n",
      "1670:\tlearn: 1573.7941317\ttotal: 2m 31s\tremaining: 29.9s\n",
      "1671:\tlearn: 1573.7900299\ttotal: 2m 31s\tremaining: 29.8s\n",
      "1672:\tlearn: 1573.7588265\ttotal: 2m 31s\tremaining: 29.7s\n",
      "1673:\tlearn: 1573.7532190\ttotal: 2m 31s\tremaining: 29.6s\n",
      "1674:\tlearn: 1573.7498009\ttotal: 2m 32s\tremaining: 29.5s\n",
      "1675:\tlearn: 1573.7347953\ttotal: 2m 32s\tremaining: 29.4s\n",
      "1676:\tlearn: 1573.7159904\ttotal: 2m 32s\tremaining: 29.3s\n",
      "1677:\tlearn: 1573.6399145\ttotal: 2m 32s\tremaining: 29.2s\n",
      "1678:\tlearn: 1573.6365973\ttotal: 2m 32s\tremaining: 29.1s\n",
      "1679:\tlearn: 1573.6287926\ttotal: 2m 32s\tremaining: 29s\n",
      "1680:\tlearn: 1573.5735405\ttotal: 2m 32s\tremaining: 29s\n",
      "1681:\tlearn: 1573.5687310\ttotal: 2m 32s\tremaining: 28.9s\n",
      "1682:\tlearn: 1573.5497695\ttotal: 2m 32s\tremaining: 28.8s\n",
      "1683:\tlearn: 1573.5426755\ttotal: 2m 32s\tremaining: 28.7s\n",
      "1684:\tlearn: 1573.5270352\ttotal: 2m 33s\tremaining: 28.6s\n",
      "1685:\tlearn: 1573.4876168\ttotal: 2m 33s\tremaining: 28.5s\n",
      "1686:\tlearn: 1573.4529542\ttotal: 2m 33s\tremaining: 28.4s\n",
      "1687:\tlearn: 1573.3555396\ttotal: 2m 33s\tremaining: 28.4s\n",
      "1688:\tlearn: 1573.3278875\ttotal: 2m 33s\tremaining: 28.3s\n",
      "1689:\tlearn: 1573.3088681\ttotal: 2m 33s\tremaining: 28.2s\n",
      "1690:\tlearn: 1573.2557791\ttotal: 2m 33s\tremaining: 28.1s\n",
      "1691:\tlearn: 1573.2145939\ttotal: 2m 33s\tremaining: 28s\n",
      "1692:\tlearn: 1573.1810432\ttotal: 2m 34s\tremaining: 27.9s\n",
      "1693:\tlearn: 1573.1721201\ttotal: 2m 34s\tremaining: 27.8s\n",
      "1694:\tlearn: 1573.1380293\ttotal: 2m 34s\tremaining: 27.8s\n",
      "1695:\tlearn: 1573.1201230\ttotal: 2m 34s\tremaining: 27.7s\n",
      "1696:\tlearn: 1573.0846574\ttotal: 2m 34s\tremaining: 27.6s\n",
      "1697:\tlearn: 1573.0174332\ttotal: 2m 34s\tremaining: 27.5s\n",
      "1698:\tlearn: 1573.0072573\ttotal: 2m 34s\tremaining: 27.4s\n",
      "1699:\tlearn: 1572.8918215\ttotal: 2m 34s\tremaining: 27.3s\n",
      "1700:\tlearn: 1572.8544162\ttotal: 2m 34s\tremaining: 27.2s\n",
      "1701:\tlearn: 1572.8046670\ttotal: 2m 34s\tremaining: 27.1s\n",
      "1702:\tlearn: 1572.7328476\ttotal: 2m 35s\tremaining: 27s\n",
      "1703:\tlearn: 1572.6862812\ttotal: 2m 35s\tremaining: 27s\n",
      "1704:\tlearn: 1572.6757482\ttotal: 2m 35s\tremaining: 26.9s\n",
      "1705:\tlearn: 1572.6739944\ttotal: 2m 35s\tremaining: 26.8s\n",
      "1706:\tlearn: 1572.6541884\ttotal: 2m 35s\tremaining: 26.7s\n",
      "1707:\tlearn: 1572.6497476\ttotal: 2m 35s\tremaining: 26.6s\n",
      "1708:\tlearn: 1572.6455194\ttotal: 2m 35s\tremaining: 26.5s\n",
      "1709:\tlearn: 1572.5488198\ttotal: 2m 35s\tremaining: 26.4s\n",
      "1710:\tlearn: 1572.5368518\ttotal: 2m 36s\tremaining: 26.4s\n",
      "1711:\tlearn: 1572.5153692\ttotal: 2m 36s\tremaining: 26.3s\n",
      "1712:\tlearn: 1572.5104590\ttotal: 2m 36s\tremaining: 26.2s\n",
      "1713:\tlearn: 1572.4754027\ttotal: 2m 36s\tremaining: 26.1s\n",
      "1714:\tlearn: 1572.4644580\ttotal: 2m 36s\tremaining: 26s\n",
      "1715:\tlearn: 1572.3574643\ttotal: 2m 36s\tremaining: 25.9s\n",
      "1716:\tlearn: 1572.3242623\ttotal: 2m 36s\tremaining: 25.8s\n",
      "1717:\tlearn: 1572.2764935\ttotal: 2m 36s\tremaining: 25.7s\n",
      "1718:\tlearn: 1572.2062950\ttotal: 2m 36s\tremaining: 25.6s\n",
      "1719:\tlearn: 1572.1663067\ttotal: 2m 37s\tremaining: 25.6s\n",
      "1720:\tlearn: 1572.1090030\ttotal: 2m 37s\tremaining: 25.5s\n",
      "1721:\tlearn: 1572.0770093\ttotal: 2m 37s\tremaining: 25.4s\n",
      "1722:\tlearn: 1572.0738469\ttotal: 2m 37s\tremaining: 25.4s\n",
      "1723:\tlearn: 1572.0160959\ttotal: 2m 38s\tremaining: 25.3s\n",
      "1724:\tlearn: 1571.9453200\ttotal: 2m 38s\tremaining: 25.2s\n",
      "1725:\tlearn: 1571.8581286\ttotal: 2m 38s\tremaining: 25.2s\n",
      "1726:\tlearn: 1571.8443141\ttotal: 2m 38s\tremaining: 25.1s\n",
      "1727:\tlearn: 1571.8292558\ttotal: 2m 38s\tremaining: 25s\n",
      "1728:\tlearn: 1571.8151364\ttotal: 2m 39s\tremaining: 24.9s\n",
      "1729:\tlearn: 1571.7747362\ttotal: 2m 39s\tremaining: 24.9s\n",
      "1730:\tlearn: 1571.6953205\ttotal: 2m 39s\tremaining: 24.8s\n",
      "1731:\tlearn: 1571.6817558\ttotal: 2m 39s\tremaining: 24.7s\n",
      "1732:\tlearn: 1571.6461541\ttotal: 2m 39s\tremaining: 24.6s\n",
      "1733:\tlearn: 1571.6375692\ttotal: 2m 39s\tremaining: 24.5s\n",
      "1734:\tlearn: 1571.6257916\ttotal: 2m 39s\tremaining: 24.4s\n",
      "1735:\tlearn: 1571.5718823\ttotal: 2m 39s\tremaining: 24.3s\n",
      "1736:\tlearn: 1571.5702043\ttotal: 2m 40s\tremaining: 24.2s\n",
      "1737:\tlearn: 1571.5146266\ttotal: 2m 40s\tremaining: 24.1s\n",
      "1738:\tlearn: 1571.4935695\ttotal: 2m 40s\tremaining: 24s\n",
      "1739:\tlearn: 1571.4790939\ttotal: 2m 40s\tremaining: 24s\n",
      "1740:\tlearn: 1571.4691177\ttotal: 2m 40s\tremaining: 23.9s\n",
      "1741:\tlearn: 1571.4211507\ttotal: 2m 40s\tremaining: 23.8s\n",
      "1742:\tlearn: 1571.4208006\ttotal: 2m 40s\tremaining: 23.7s\n",
      "1743:\tlearn: 1571.4179009\ttotal: 2m 40s\tremaining: 23.6s\n",
      "1744:\tlearn: 1571.4133242\ttotal: 2m 40s\tremaining: 23.5s\n",
      "1745:\tlearn: 1571.3568809\ttotal: 2m 40s\tremaining: 23.4s\n",
      "1746:\tlearn: 1571.3389857\ttotal: 2m 41s\tremaining: 23.3s\n",
      "1747:\tlearn: 1571.3105544\ttotal: 2m 41s\tremaining: 23.2s\n",
      "1748:\tlearn: 1571.2891551\ttotal: 2m 41s\tremaining: 23.1s\n",
      "1749:\tlearn: 1571.2344681\ttotal: 2m 41s\tremaining: 23.1s\n",
      "1750:\tlearn: 1571.2197480\ttotal: 2m 41s\tremaining: 23s\n",
      "1751:\tlearn: 1571.1538257\ttotal: 2m 41s\tremaining: 22.9s\n",
      "1752:\tlearn: 1571.0436057\ttotal: 2m 41s\tremaining: 22.8s\n",
      "1753:\tlearn: 1571.0414086\ttotal: 2m 41s\tremaining: 22.7s\n",
      "1754:\tlearn: 1570.9433665\ttotal: 2m 41s\tremaining: 22.6s\n",
      "1755:\tlearn: 1570.8773161\ttotal: 2m 41s\tremaining: 22.5s\n",
      "1756:\tlearn: 1570.8118262\ttotal: 2m 41s\tremaining: 22.4s\n",
      "1757:\tlearn: 1570.8076125\ttotal: 2m 42s\tremaining: 22.3s\n",
      "1758:\tlearn: 1570.7459566\ttotal: 2m 42s\tremaining: 22.2s\n",
      "1759:\tlearn: 1570.7116254\ttotal: 2m 42s\tremaining: 22.1s\n",
      "1760:\tlearn: 1570.6573616\ttotal: 2m 42s\tremaining: 22s\n",
      "1761:\tlearn: 1570.6113511\ttotal: 2m 42s\tremaining: 21.9s\n",
      "1762:\tlearn: 1570.5865387\ttotal: 2m 42s\tremaining: 21.8s\n",
      "1763:\tlearn: 1570.5374264\ttotal: 2m 42s\tremaining: 21.7s\n",
      "1764:\tlearn: 1570.5162903\ttotal: 2m 42s\tremaining: 21.7s\n",
      "1765:\tlearn: 1570.5121312\ttotal: 2m 42s\tremaining: 21.6s\n",
      "1766:\tlearn: 1570.4884987\ttotal: 2m 42s\tremaining: 21.5s\n",
      "1767:\tlearn: 1570.4422275\ttotal: 2m 42s\tremaining: 21.4s\n",
      "1768:\tlearn: 1570.4392967\ttotal: 2m 42s\tremaining: 21.3s\n",
      "1769:\tlearn: 1570.3006947\ttotal: 2m 43s\tremaining: 21.2s\n",
      "1770:\tlearn: 1570.2921913\ttotal: 2m 43s\tremaining: 21.1s\n",
      "1771:\tlearn: 1570.2731190\ttotal: 2m 43s\tremaining: 21s\n",
      "1772:\tlearn: 1570.2551265\ttotal: 2m 43s\tremaining: 20.9s\n",
      "1773:\tlearn: 1570.2222610\ttotal: 2m 43s\tremaining: 20.8s\n",
      "1774:\tlearn: 1570.1981354\ttotal: 2m 43s\tremaining: 20.7s\n",
      "1775:\tlearn: 1570.1631726\ttotal: 2m 43s\tremaining: 20.6s\n",
      "1776:\tlearn: 1570.0953201\ttotal: 2m 43s\tremaining: 20.5s\n",
      "1777:\tlearn: 1570.0126089\ttotal: 2m 43s\tremaining: 20.4s\n",
      "1778:\tlearn: 1569.9892085\ttotal: 2m 43s\tremaining: 20.4s\n",
      "1779:\tlearn: 1569.9806011\ttotal: 2m 43s\tremaining: 20.3s\n",
      "1780:\tlearn: 1569.9785265\ttotal: 2m 43s\tremaining: 20.2s\n",
      "1781:\tlearn: 1569.9404721\ttotal: 2m 44s\tremaining: 20.1s\n",
      "1782:\tlearn: 1569.8896387\ttotal: 2m 44s\tremaining: 20s\n",
      "1783:\tlearn: 1569.8418533\ttotal: 2m 44s\tremaining: 19.9s\n",
      "1784:\tlearn: 1569.8060671\ttotal: 2m 44s\tremaining: 19.8s\n",
      "1785:\tlearn: 1569.7980945\ttotal: 2m 44s\tremaining: 19.7s\n",
      "1786:\tlearn: 1569.7634231\ttotal: 2m 44s\tremaining: 19.6s\n",
      "1787:\tlearn: 1569.7388809\ttotal: 2m 44s\tremaining: 19.5s\n",
      "1788:\tlearn: 1569.6700086\ttotal: 2m 44s\tremaining: 19.4s\n",
      "1789:\tlearn: 1569.6484881\ttotal: 2m 44s\tremaining: 19.3s\n",
      "1790:\tlearn: 1569.6260494\ttotal: 2m 44s\tremaining: 19.2s\n",
      "1791:\tlearn: 1569.5360758\ttotal: 2m 44s\tremaining: 19.1s\n",
      "1792:\tlearn: 1569.5190834\ttotal: 2m 45s\tremaining: 19.1s\n",
      "1793:\tlearn: 1569.5144444\ttotal: 2m 45s\tremaining: 19s\n",
      "1794:\tlearn: 1569.4640167\ttotal: 2m 45s\tremaining: 18.9s\n",
      "1795:\tlearn: 1569.4313750\ttotal: 2m 45s\tremaining: 18.8s\n",
      "1796:\tlearn: 1569.4267008\ttotal: 2m 45s\tremaining: 18.7s\n",
      "1797:\tlearn: 1569.4233591\ttotal: 2m 45s\tremaining: 18.6s\n",
      "1798:\tlearn: 1569.4101982\ttotal: 2m 45s\tremaining: 18.5s\n",
      "1799:\tlearn: 1569.3989472\ttotal: 2m 45s\tremaining: 18.4s\n",
      "1800:\tlearn: 1569.3724731\ttotal: 2m 46s\tremaining: 18.4s\n",
      "1801:\tlearn: 1569.3486588\ttotal: 2m 46s\tremaining: 18.3s\n",
      "1802:\tlearn: 1569.2628448\ttotal: 2m 46s\tremaining: 18.2s\n",
      "1803:\tlearn: 1569.2569267\ttotal: 2m 46s\tremaining: 18.1s\n",
      "1804:\tlearn: 1569.2270408\ttotal: 2m 47s\tremaining: 18.1s\n",
      "1805:\tlearn: 1569.2087880\ttotal: 2m 47s\tremaining: 18s\n",
      "1806:\tlearn: 1569.1186377\ttotal: 2m 47s\tremaining: 17.9s\n",
      "1807:\tlearn: 1569.0472901\ttotal: 2m 47s\tremaining: 17.8s\n",
      "1808:\tlearn: 1568.9991283\ttotal: 2m 47s\tremaining: 17.7s\n",
      "1809:\tlearn: 1568.9819694\ttotal: 2m 47s\tremaining: 17.6s\n",
      "1810:\tlearn: 1568.9786875\ttotal: 2m 47s\tremaining: 17.5s\n",
      "1811:\tlearn: 1568.9716436\ttotal: 2m 47s\tremaining: 17.4s\n",
      "1812:\tlearn: 1568.9453188\ttotal: 2m 47s\tremaining: 17.3s\n",
      "1813:\tlearn: 1568.9348252\ttotal: 2m 47s\tremaining: 17.2s\n",
      "1814:\tlearn: 1568.9170500\ttotal: 2m 48s\tremaining: 17.1s\n",
      "1815:\tlearn: 1568.9102498\ttotal: 2m 48s\tremaining: 17s\n",
      "1816:\tlearn: 1568.8760372\ttotal: 2m 48s\tremaining: 16.9s\n",
      "1817:\tlearn: 1568.8736241\ttotal: 2m 48s\tremaining: 16.9s\n",
      "1818:\tlearn: 1568.8172017\ttotal: 2m 48s\tremaining: 16.8s\n",
      "1819:\tlearn: 1568.8014526\ttotal: 2m 48s\tremaining: 16.7s\n",
      "1820:\tlearn: 1568.7669624\ttotal: 2m 48s\tremaining: 16.6s\n",
      "1821:\tlearn: 1568.7651294\ttotal: 2m 48s\tremaining: 16.5s\n",
      "1822:\tlearn: 1568.7528639\ttotal: 2m 48s\tremaining: 16.4s\n",
      "1823:\tlearn: 1568.6774884\ttotal: 2m 48s\tremaining: 16.3s\n",
      "1824:\tlearn: 1568.6512759\ttotal: 2m 48s\tremaining: 16.2s\n",
      "1825:\tlearn: 1568.6395344\ttotal: 2m 49s\tremaining: 16.1s\n",
      "1826:\tlearn: 1568.6018372\ttotal: 2m 49s\tremaining: 16s\n",
      "1827:\tlearn: 1568.5397686\ttotal: 2m 49s\tremaining: 15.9s\n",
      "1828:\tlearn: 1568.5195973\ttotal: 2m 49s\tremaining: 15.9s\n",
      "1829:\tlearn: 1568.4902211\ttotal: 2m 50s\tremaining: 15.8s\n",
      "1830:\tlearn: 1568.3946604\ttotal: 2m 50s\tremaining: 15.7s\n",
      "1831:\tlearn: 1568.3729076\ttotal: 2m 50s\tremaining: 15.6s\n",
      "1832:\tlearn: 1568.3688699\ttotal: 2m 50s\tremaining: 15.6s\n",
      "1833:\tlearn: 1568.3467676\ttotal: 2m 50s\tremaining: 15.5s\n",
      "1834:\tlearn: 1568.3209848\ttotal: 2m 50s\tremaining: 15.4s\n",
      "1835:\tlearn: 1568.2379067\ttotal: 2m 50s\tremaining: 15.3s\n",
      "1836:\tlearn: 1568.2124879\ttotal: 2m 51s\tremaining: 15.2s\n",
      "1837:\tlearn: 1568.2089571\ttotal: 2m 51s\tremaining: 15.1s\n",
      "1838:\tlearn: 1568.2064387\ttotal: 2m 51s\tremaining: 15s\n",
      "1839:\tlearn: 1568.1936025\ttotal: 2m 51s\tremaining: 14.9s\n",
      "1840:\tlearn: 1568.1503922\ttotal: 2m 51s\tremaining: 14.8s\n",
      "1841:\tlearn: 1568.1423135\ttotal: 2m 51s\tremaining: 14.7s\n",
      "1842:\tlearn: 1568.1114107\ttotal: 2m 51s\tremaining: 14.6s\n",
      "1843:\tlearn: 1568.1110849\ttotal: 2m 51s\tremaining: 14.5s\n",
      "1844:\tlearn: 1568.0862721\ttotal: 2m 51s\tremaining: 14.4s\n",
      "1845:\tlearn: 1568.0406981\ttotal: 2m 51s\tremaining: 14.3s\n",
      "1846:\tlearn: 1568.0126927\ttotal: 2m 52s\tremaining: 14.3s\n",
      "1847:\tlearn: 1567.9809180\ttotal: 2m 52s\tremaining: 14.2s\n",
      "1848:\tlearn: 1567.9133748\ttotal: 2m 52s\tremaining: 14.1s\n",
      "1849:\tlearn: 1567.8902927\ttotal: 2m 52s\tremaining: 14s\n",
      "1850:\tlearn: 1567.8634681\ttotal: 2m 53s\tremaining: 13.9s\n",
      "1851:\tlearn: 1567.8192893\ttotal: 2m 53s\tremaining: 13.8s\n",
      "1852:\tlearn: 1567.7971957\ttotal: 2m 53s\tremaining: 13.8s\n",
      "1853:\tlearn: 1567.7528504\ttotal: 2m 53s\tremaining: 13.7s\n",
      "1854:\tlearn: 1567.7051248\ttotal: 2m 53s\tremaining: 13.6s\n",
      "1855:\tlearn: 1567.6919686\ttotal: 2m 53s\tremaining: 13.5s\n",
      "1856:\tlearn: 1567.6810051\ttotal: 2m 53s\tremaining: 13.4s\n",
      "1857:\tlearn: 1567.6754162\ttotal: 2m 53s\tremaining: 13.3s\n",
      "1858:\tlearn: 1567.6647306\ttotal: 2m 54s\tremaining: 13.2s\n",
      "1859:\tlearn: 1567.6291940\ttotal: 2m 54s\tremaining: 13.1s\n",
      "1860:\tlearn: 1567.6065808\ttotal: 2m 54s\tremaining: 13s\n",
      "1861:\tlearn: 1567.5615774\ttotal: 2m 54s\tremaining: 12.9s\n",
      "1862:\tlearn: 1567.5460062\ttotal: 2m 54s\tremaining: 12.9s\n",
      "1863:\tlearn: 1567.3684699\ttotal: 2m 54s\tremaining: 12.8s\n",
      "1864:\tlearn: 1567.2156798\ttotal: 2m 55s\tremaining: 12.7s\n",
      "1865:\tlearn: 1567.1657759\ttotal: 2m 55s\tremaining: 12.6s\n",
      "1866:\tlearn: 1567.1652916\ttotal: 2m 55s\tremaining: 12.5s\n",
      "1867:\tlearn: 1567.1276345\ttotal: 2m 55s\tremaining: 12.4s\n",
      "1868:\tlearn: 1567.0385443\ttotal: 2m 55s\tremaining: 12.3s\n",
      "1869:\tlearn: 1567.0022707\ttotal: 2m 55s\tremaining: 12.2s\n",
      "1870:\tlearn: 1566.9995024\ttotal: 2m 56s\tremaining: 12.1s\n",
      "1871:\tlearn: 1566.9969399\ttotal: 2m 56s\tremaining: 12s\n",
      "1872:\tlearn: 1566.9815704\ttotal: 2m 56s\tremaining: 12s\n",
      "1873:\tlearn: 1566.9445800\ttotal: 2m 56s\tremaining: 11.9s\n",
      "1874:\tlearn: 1566.8820144\ttotal: 2m 56s\tremaining: 11.8s\n",
      "1875:\tlearn: 1566.8638800\ttotal: 2m 56s\tremaining: 11.7s\n",
      "1876:\tlearn: 1566.8609660\ttotal: 2m 57s\tremaining: 11.6s\n",
      "1877:\tlearn: 1566.6935191\ttotal: 2m 57s\tremaining: 11.5s\n",
      "1878:\tlearn: 1566.6466175\ttotal: 2m 57s\tremaining: 11.4s\n",
      "1879:\tlearn: 1566.6114340\ttotal: 2m 57s\tremaining: 11.3s\n",
      "1880:\tlearn: 1566.5647955\ttotal: 2m 57s\tremaining: 11.2s\n",
      "1881:\tlearn: 1566.4862304\ttotal: 2m 57s\tremaining: 11.2s\n",
      "1882:\tlearn: 1566.4174136\ttotal: 2m 58s\tremaining: 11.1s\n",
      "1883:\tlearn: 1566.3864835\ttotal: 2m 58s\tremaining: 11s\n",
      "1884:\tlearn: 1566.3836144\ttotal: 2m 58s\tremaining: 10.9s\n",
      "1885:\tlearn: 1566.3621303\ttotal: 2m 58s\tremaining: 10.8s\n",
      "1886:\tlearn: 1566.3441525\ttotal: 2m 58s\tremaining: 10.7s\n",
      "1887:\tlearn: 1566.2234331\ttotal: 2m 58s\tremaining: 10.6s\n",
      "1888:\tlearn: 1566.2211139\ttotal: 2m 58s\tremaining: 10.5s\n",
      "1889:\tlearn: 1566.1466504\ttotal: 2m 58s\tremaining: 10.4s\n",
      "1890:\tlearn: 1566.1452635\ttotal: 2m 58s\tremaining: 10.3s\n",
      "1891:\tlearn: 1566.1306638\ttotal: 2m 58s\tremaining: 10.2s\n",
      "1892:\tlearn: 1566.1053822\ttotal: 2m 59s\tremaining: 10.1s\n",
      "1893:\tlearn: 1566.0772979\ttotal: 2m 59s\tremaining: 10s\n",
      "1894:\tlearn: 1566.0641679\ttotal: 2m 59s\tremaining: 9.93s\n",
      "1895:\tlearn: 1566.0416793\ttotal: 2m 59s\tremaining: 9.83s\n",
      "1896:\tlearn: 1565.9788308\ttotal: 2m 59s\tremaining: 9.74s\n",
      "1897:\tlearn: 1565.9599109\ttotal: 2m 59s\tremaining: 9.64s\n",
      "1898:\tlearn: 1565.9478068\ttotal: 2m 59s\tremaining: 9.55s\n",
      "1899:\tlearn: 1565.9401403\ttotal: 2m 59s\tremaining: 9.45s\n",
      "1900:\tlearn: 1565.9119929\ttotal: 2m 59s\tremaining: 9.36s\n",
      "1901:\tlearn: 1565.8161227\ttotal: 2m 59s\tremaining: 9.26s\n",
      "1902:\tlearn: 1565.7356935\ttotal: 2m 59s\tremaining: 9.17s\n",
      "1903:\tlearn: 1565.7210058\ttotal: 2m 59s\tremaining: 9.07s\n",
      "1904:\tlearn: 1565.6451007\ttotal: 3m\tremaining: 8.98s\n",
      "1905:\tlearn: 1565.6149471\ttotal: 3m\tremaining: 8.88s\n",
      "1906:\tlearn: 1565.5725019\ttotal: 3m\tremaining: 8.79s\n",
      "1907:\tlearn: 1565.4630709\ttotal: 3m\tremaining: 8.7s\n",
      "1908:\tlearn: 1565.4553124\ttotal: 3m\tremaining: 8.6s\n",
      "1909:\tlearn: 1565.4380431\ttotal: 3m\tremaining: 8.51s\n",
      "1910:\tlearn: 1565.4358492\ttotal: 3m\tremaining: 8.41s\n",
      "1911:\tlearn: 1565.3997476\ttotal: 3m\tremaining: 8.32s\n",
      "1912:\tlearn: 1565.3865761\ttotal: 3m\tremaining: 8.22s\n",
      "1913:\tlearn: 1565.3382227\ttotal: 3m\tremaining: 8.13s\n",
      "1914:\tlearn: 1565.3138905\ttotal: 3m 1s\tremaining: 8.04s\n",
      "1915:\tlearn: 1565.3083843\ttotal: 3m 1s\tremaining: 7.94s\n",
      "1916:\tlearn: 1565.2834836\ttotal: 3m 1s\tremaining: 7.84s\n",
      "1917:\tlearn: 1565.2692628\ttotal: 3m 1s\tremaining: 7.75s\n",
      "1918:\tlearn: 1565.2617667\ttotal: 3m 1s\tremaining: 7.66s\n",
      "1919:\tlearn: 1565.2550531\ttotal: 3m 1s\tremaining: 7.56s\n",
      "1920:\tlearn: 1565.1925249\ttotal: 3m 1s\tremaining: 7.46s\n",
      "1921:\tlearn: 1565.1810960\ttotal: 3m 1s\tremaining: 7.37s\n",
      "1922:\tlearn: 1565.1132828\ttotal: 3m 1s\tremaining: 7.28s\n",
      "1923:\tlearn: 1565.0691418\ttotal: 3m 1s\tremaining: 7.18s\n",
      "1924:\tlearn: 1565.0681780\ttotal: 3m 1s\tremaining: 7.08s\n",
      "1925:\tlearn: 1565.0085921\ttotal: 3m 1s\tremaining: 6.99s\n",
      "1926:\tlearn: 1565.0082289\ttotal: 3m 2s\tremaining: 6.9s\n",
      "1927:\tlearn: 1564.9871799\ttotal: 3m 2s\tremaining: 6.8s\n",
      "1928:\tlearn: 1564.9684208\ttotal: 3m 2s\tremaining: 6.71s\n",
      "1929:\tlearn: 1564.9328764\ttotal: 3m 2s\tremaining: 6.61s\n",
      "1930:\tlearn: 1564.7854530\ttotal: 3m 2s\tremaining: 6.52s\n",
      "1931:\tlearn: 1564.7803934\ttotal: 3m 2s\tremaining: 6.42s\n",
      "1932:\tlearn: 1564.7119399\ttotal: 3m 2s\tremaining: 6.33s\n",
      "1933:\tlearn: 1564.7111518\ttotal: 3m 2s\tremaining: 6.23s\n",
      "1934:\tlearn: 1564.7098266\ttotal: 3m 2s\tremaining: 6.14s\n",
      "1935:\tlearn: 1564.7015242\ttotal: 3m 2s\tremaining: 6.04s\n",
      "1936:\tlearn: 1564.5647650\ttotal: 3m 2s\tremaining: 5.95s\n",
      "1937:\tlearn: 1564.5413992\ttotal: 3m 2s\tremaining: 5.85s\n",
      "1938:\tlearn: 1564.4981617\ttotal: 3m 3s\tremaining: 5.76s\n",
      "1939:\tlearn: 1564.4948605\ttotal: 3m 3s\tremaining: 5.66s\n",
      "1940:\tlearn: 1564.4359965\ttotal: 3m 3s\tremaining: 5.57s\n",
      "1941:\tlearn: 1564.3729591\ttotal: 3m 3s\tremaining: 5.47s\n",
      "1942:\tlearn: 1564.3154738\ttotal: 3m 3s\tremaining: 5.38s\n",
      "1943:\tlearn: 1564.2716783\ttotal: 3m 3s\tremaining: 5.29s\n",
      "1944:\tlearn: 1564.2627267\ttotal: 3m 3s\tremaining: 5.19s\n",
      "1945:\tlearn: 1564.1873488\ttotal: 3m 3s\tremaining: 5.1s\n",
      "1946:\tlearn: 1564.1444641\ttotal: 3m 3s\tremaining: 5s\n",
      "1947:\tlearn: 1564.0726282\ttotal: 3m 3s\tremaining: 4.91s\n",
      "1948:\tlearn: 1563.9929222\ttotal: 3m 3s\tremaining: 4.81s\n",
      "1949:\tlearn: 1563.9127995\ttotal: 3m 4s\tremaining: 4.72s\n",
      "1950:\tlearn: 1563.8983583\ttotal: 3m 4s\tremaining: 4.63s\n",
      "1951:\tlearn: 1563.8689615\ttotal: 3m 4s\tremaining: 4.53s\n",
      "1952:\tlearn: 1563.7350827\ttotal: 3m 4s\tremaining: 4.44s\n",
      "1953:\tlearn: 1563.6943176\ttotal: 3m 4s\tremaining: 4.34s\n",
      "1954:\tlearn: 1563.6623724\ttotal: 3m 4s\tremaining: 4.25s\n",
      "1955:\tlearn: 1563.6167338\ttotal: 3m 4s\tremaining: 4.16s\n",
      "1956:\tlearn: 1563.6142107\ttotal: 3m 4s\tremaining: 4.06s\n",
      "1957:\tlearn: 1563.6048049\ttotal: 3m 4s\tremaining: 3.96s\n",
      "1958:\tlearn: 1563.5811162\ttotal: 3m 4s\tremaining: 3.87s\n",
      "1959:\tlearn: 1563.5510897\ttotal: 3m 5s\tremaining: 3.78s\n",
      "1960:\tlearn: 1563.4932717\ttotal: 3m 5s\tremaining: 3.68s\n",
      "1961:\tlearn: 1563.3652460\ttotal: 3m 5s\tremaining: 3.59s\n",
      "1962:\tlearn: 1563.2128728\ttotal: 3m 5s\tremaining: 3.49s\n",
      "1963:\tlearn: 1563.1342231\ttotal: 3m 5s\tremaining: 3.4s\n",
      "1964:\tlearn: 1563.1225591\ttotal: 3m 5s\tremaining: 3.3s\n",
      "1965:\tlearn: 1563.1189109\ttotal: 3m 5s\tremaining: 3.21s\n",
      "1966:\tlearn: 1563.1018782\ttotal: 3m 5s\tremaining: 3.12s\n",
      "1967:\tlearn: 1563.0903960\ttotal: 3m 5s\tremaining: 3.02s\n",
      "1968:\tlearn: 1563.0796849\ttotal: 3m 5s\tremaining: 2.93s\n",
      "1969:\tlearn: 1563.0663125\ttotal: 3m 5s\tremaining: 2.83s\n",
      "1970:\tlearn: 1563.0358141\ttotal: 3m 6s\tremaining: 2.74s\n",
      "1971:\tlearn: 1562.8778027\ttotal: 3m 6s\tremaining: 2.64s\n",
      "1972:\tlearn: 1562.8241537\ttotal: 3m 6s\tremaining: 2.55s\n",
      "1973:\tlearn: 1562.7917480\ttotal: 3m 6s\tremaining: 2.45s\n",
      "1974:\tlearn: 1562.7479928\ttotal: 3m 6s\tremaining: 2.36s\n",
      "1975:\tlearn: 1562.6932217\ttotal: 3m 6s\tremaining: 2.27s\n",
      "1976:\tlearn: 1562.6483933\ttotal: 3m 6s\tremaining: 2.17s\n",
      "1977:\tlearn: 1562.6049960\ttotal: 3m 6s\tremaining: 2.08s\n",
      "1978:\tlearn: 1562.5577844\ttotal: 3m 6s\tremaining: 1.98s\n",
      "1979:\tlearn: 1562.5022818\ttotal: 3m 6s\tremaining: 1.89s\n",
      "1980:\tlearn: 1562.4569013\ttotal: 3m 6s\tremaining: 1.79s\n",
      "1981:\tlearn: 1562.3967268\ttotal: 3m 7s\tremaining: 1.7s\n",
      "1982:\tlearn: 1562.3860714\ttotal: 3m 7s\tremaining: 1.6s\n",
      "1983:\tlearn: 1562.3484103\ttotal: 3m 7s\tremaining: 1.51s\n",
      "1984:\tlearn: 1562.2857004\ttotal: 3m 7s\tremaining: 1.42s\n",
      "1985:\tlearn: 1562.2101402\ttotal: 3m 7s\tremaining: 1.32s\n",
      "1986:\tlearn: 1562.1610940\ttotal: 3m 7s\tremaining: 1.23s\n",
      "1987:\tlearn: 1562.1351073\ttotal: 3m 7s\tremaining: 1.13s\n",
      "1988:\tlearn: 1562.1222883\ttotal: 3m 7s\tremaining: 1.04s\n",
      "1989:\tlearn: 1562.0766270\ttotal: 3m 7s\tremaining: 943ms\n",
      "1990:\tlearn: 1562.0750668\ttotal: 3m 7s\tremaining: 849ms\n",
      "1991:\tlearn: 1562.0571905\ttotal: 3m 7s\tremaining: 755ms\n",
      "1992:\tlearn: 1561.9924709\ttotal: 3m 7s\tremaining: 660ms\n",
      "1993:\tlearn: 1561.9712242\ttotal: 3m 8s\tremaining: 566ms\n",
      "1994:\tlearn: 1561.9046883\ttotal: 3m 8s\tremaining: 472ms\n",
      "1995:\tlearn: 1561.7988913\ttotal: 3m 8s\tremaining: 377ms\n",
      "1996:\tlearn: 1561.7914985\ttotal: 3m 8s\tremaining: 283ms\n",
      "1997:\tlearn: 1561.7166631\ttotal: 3m 8s\tremaining: 189ms\n",
      "1998:\tlearn: 1561.7024124\ttotal: 3m 8s\tremaining: 94.3ms\n",
      "1999:\tlearn: 1561.6463544\ttotal: 3m 8s\tremaining: 0us\n",
      "CPU times: user 3min 3s, sys: 0 ns, total: 3min 3s\n",
      "Wall time: 3min 13s\n"
     ]
    },
    {
     "data": {
      "text/plain": [
       "<catboost.core.CatBoostRegressor at 0x7fbabd06fb50>"
      ]
     },
     "execution_count": 153,
     "metadata": {},
     "output_type": "execute_result"
    }
   ],
   "source": [
    "%%time\n",
    "model_cb.fit(train_pool, plot=True)"
   ]
  },
  {
   "cell_type": "code",
   "execution_count": 154,
   "metadata": {},
   "outputs": [],
   "source": [
    "results['CatBoost'] = [mean_squared_error(y_train, model_cb.predict(X_train), squared=False),\n",
    "                      mean_squared_error(y_test, model_cb.predict(X_test), squared=False)]"
   ]
  },
  {
   "cell_type": "code",
   "execution_count": 155,
   "metadata": {},
   "outputs": [
    {
     "data": {
      "text/html": [
       "<div>\n",
       "<style scoped>\n",
       "    .dataframe tbody tr th:only-of-type {\n",
       "        vertical-align: middle;\n",
       "    }\n",
       "\n",
       "    .dataframe tbody tr th {\n",
       "        vertical-align: top;\n",
       "    }\n",
       "\n",
       "    .dataframe thead th {\n",
       "        text-align: right;\n",
       "    }\n",
       "</style>\n",
       "<table border=\"1\" class=\"dataframe\">\n",
       "  <thead>\n",
       "    <tr style=\"text-align: right;\">\n",
       "      <th></th>\n",
       "      <th>lin_reg</th>\n",
       "      <th>rf_reg</th>\n",
       "      <th>XGB</th>\n",
       "      <th>LGBM</th>\n",
       "      <th>LGBM_with_nan</th>\n",
       "      <th>CatBoost</th>\n",
       "    </tr>\n",
       "  </thead>\n",
       "  <tbody>\n",
       "    <tr>\n",
       "      <th>RMSE_train</th>\n",
       "      <td>2747.0</td>\n",
       "      <td>2132.0</td>\n",
       "      <td>1601.0</td>\n",
       "      <td>1371.0</td>\n",
       "      <td>1487.0</td>\n",
       "      <td>1557.0</td>\n",
       "    </tr>\n",
       "    <tr>\n",
       "      <th>RMSE_test</th>\n",
       "      <td>2748.0</td>\n",
       "      <td>2137.0</td>\n",
       "      <td>1663.0</td>\n",
       "      <td>1528.0</td>\n",
       "      <td>1603.0</td>\n",
       "      <td>1620.0</td>\n",
       "    </tr>\n",
       "  </tbody>\n",
       "</table>\n",
       "</div>"
      ],
      "text/plain": [
       "            lin_reg  rf_reg     XGB    LGBM  LGBM_with_nan  CatBoost\n",
       "RMSE_train   2747.0  2132.0  1601.0  1371.0         1487.0    1557.0\n",
       "RMSE_test    2748.0  2137.0  1663.0  1528.0         1603.0    1620.0"
      ]
     },
     "execution_count": 155,
     "metadata": {},
     "output_type": "execute_result"
    }
   ],
   "source": [
    "round(results)"
   ]
  },
  {
   "cell_type": "code",
   "execution_count": 156,
   "metadata": {},
   "outputs": [
    {
     "data": {
      "text/html": [
       "<div>\n",
       "<style scoped>\n",
       "    .dataframe tbody tr th:only-of-type {\n",
       "        vertical-align: middle;\n",
       "    }\n",
       "\n",
       "    .dataframe tbody tr th {\n",
       "        vertical-align: top;\n",
       "    }\n",
       "\n",
       "    .dataframe thead th {\n",
       "        text-align: right;\n",
       "    }\n",
       "</style>\n",
       "<table border=\"1\" class=\"dataframe\">\n",
       "  <thead>\n",
       "    <tr style=\"text-align: right;\">\n",
       "      <th></th>\n",
       "      <th>registration_year</th>\n",
       "      <th>power</th>\n",
       "      <th>kilometer</th>\n",
       "      <th>brand</th>\n",
       "      <th>vehicle_type</th>\n",
       "      <th>model</th>\n",
       "      <th>not_repaired</th>\n",
       "      <th>fuel_type</th>\n",
       "      <th>gearbox</th>\n",
       "    </tr>\n",
       "  </thead>\n",
       "  <tbody>\n",
       "    <tr>\n",
       "      <th>0</th>\n",
       "      <td>43.006877</td>\n",
       "      <td>33.388993</td>\n",
       "      <td>10.320285</td>\n",
       "      <td>5.27133</td>\n",
       "      <td>2.974236</td>\n",
       "      <td>2.674302</td>\n",
       "      <td>1.145515</td>\n",
       "      <td>1.052066</td>\n",
       "      <td>0.166395</td>\n",
       "    </tr>\n",
       "  </tbody>\n",
       "</table>\n",
       "</div>"
      ],
      "text/plain": [
       "   registration_year      power  kilometer    brand  vehicle_type     model  \\\n",
       "0          43.006877  33.388993  10.320285  5.27133      2.974236  2.674302   \n",
       "\n",
       "   not_repaired  fuel_type   gearbox  \n",
       "0      1.145515   1.052066  0.166395  "
      ]
     },
     "execution_count": 156,
     "metadata": {},
     "output_type": "execute_result"
    }
   ],
   "source": [
    "pd.DataFrame(data=model_cb.feature_importances_, \n",
    "             index=X_train.columns).sort_values(0, ascending=False).T"
   ]
  },
  {
   "cell_type": "markdown",
   "metadata": {},
   "source": [
    "#### Вывод\n",
    "\n",
    "* После небольшого ручного тюнинга модели, а также перебора по сетке с параметрами `learning_rate` и `depth` не удалось на текущем этапе достичь меньшей ошибки, чем 1600 на тестовой выборке.\n",
    "* Наибольшую важность для модели представляли такие признаки, как:\n",
    "    * Мощность двигателя\n",
    "    * Год регистрации\n",
    "    * Пробег и бренд авто"
   ]
  },
  {
   "cell_type": "markdown",
   "metadata": {},
   "source": [
    "## Анализ моделей"
   ]
  },
  {
   "cell_type": "markdown",
   "metadata": {},
   "source": [
    "В этом проекте мы проанализировали 5 различных алгоритмов машинного обучения из 3-х разных классов (линейная модель, случайный лес, бустинги)\n",
    "Класс бустингов представляли: XGB, LightGBM, CatBoost.\n",
    "\n",
    "Результаты обучения лучших представителей каждого алгоритма мы собрали в единую таблицу.\n",
    "\n",
    "Нашему заказчику важны:\n",
    "* качество предсказания;\n",
    "* скорость предсказания;\n",
    "* время обучения.\n",
    "\n",
    "В нашем случае лучше других себя показал бустинг LightGBM, достигнув наилучшего качества предсказания на тестовой выборке за меньшее время обучения модели.\n",
    "\n",
    "Примечательно, что все 3 алгоритма бустинга наиболее часто использовали в своих узлах при построении деревьев такие признаки, как:\n",
    "* Мощность двигателя;\n",
    "* Год регистрации;\n",
    "* Пробег."
   ]
  },
  {
   "cell_type": "code",
   "execution_count": 157,
   "metadata": {},
   "outputs": [
    {
     "data": {
      "text/html": [
       "<div>\n",
       "<style scoped>\n",
       "    .dataframe tbody tr th:only-of-type {\n",
       "        vertical-align: middle;\n",
       "    }\n",
       "\n",
       "    .dataframe tbody tr th {\n",
       "        vertical-align: top;\n",
       "    }\n",
       "\n",
       "    .dataframe thead th {\n",
       "        text-align: right;\n",
       "    }\n",
       "</style>\n",
       "<table border=\"1\" class=\"dataframe\">\n",
       "  <thead>\n",
       "    <tr style=\"text-align: right;\">\n",
       "      <th></th>\n",
       "      <th>lin_reg</th>\n",
       "      <th>rf_reg</th>\n",
       "      <th>XGB</th>\n",
       "      <th>LGBM</th>\n",
       "      <th>LGBM_with_nan</th>\n",
       "      <th>CatBoost</th>\n",
       "    </tr>\n",
       "  </thead>\n",
       "  <tbody>\n",
       "    <tr>\n",
       "      <th>RMSE_train</th>\n",
       "      <td>2747.0</td>\n",
       "      <td>2132.0</td>\n",
       "      <td>1601.0</td>\n",
       "      <td>1371.0</td>\n",
       "      <td>1487.0</td>\n",
       "      <td>1557.0</td>\n",
       "    </tr>\n",
       "    <tr>\n",
       "      <th>RMSE_test</th>\n",
       "      <td>2748.0</td>\n",
       "      <td>2137.0</td>\n",
       "      <td>1663.0</td>\n",
       "      <td>1528.0</td>\n",
       "      <td>1603.0</td>\n",
       "      <td>1620.0</td>\n",
       "    </tr>\n",
       "  </tbody>\n",
       "</table>\n",
       "</div>"
      ],
      "text/plain": [
       "            lin_reg  rf_reg     XGB    LGBM  LGBM_with_nan  CatBoost\n",
       "RMSE_train   2747.0  2132.0  1601.0  1371.0         1487.0    1557.0\n",
       "RMSE_test    2748.0  2137.0  1663.0  1528.0         1603.0    1620.0"
      ]
     },
     "execution_count": 157,
     "metadata": {},
     "output_type": "execute_result"
    }
   ],
   "source": [
    "round(results)"
   ]
  },
  {
   "cell_type": "markdown",
   "metadata": {},
   "source": [
    "## Общий вывод"
   ]
  },
  {
   "cell_type": "markdown",
   "metadata": {},
   "source": [
    "* Мы получили в работу датасет размером 354 тыс. объявлений о продаже автомобилей по 16 признаков в каждом;\n",
    "* Данные были выгружены в период с марта по апрель 2016 года;\n",
    "* Объявления были опубликованы на сервисе с 2014 по 2016 год;\n",
    "* В данных были пропуски в различных признаках (как в количественных, так и в номинативных). \n",
    "    * Пропуски в количественных столбцах были заполнены с помощью класса `IterativeImputer` библиотеки `sklearn`, в качестве алгоритма использовалась модель \"случайный лес\";\n",
    "    * Пропуски в номинативных переменных также заполнены с помощью машинного обучения, алгоритм - \"метод k-ближайших соседей\".\n",
    "* В обучении участвовало 5 алгоритмов: линейная регрессия, регрессор случайного леса, XGBoost, LightGBM, CatBoost\n",
    "    * **Наилучший результат по критериям качество предсказания, скорость предсказания и скорость обучения показал бустинг LightGBM** (Метрика качества RMSE на тестовой выборке = 1530 евро);\n",
    "    * Все алгоритмы бустинга выделили в качестве важных признаков для обучения мощность двигателя, год регистрации и пробег автомобиля.\n",
    "    \n",
    "Рекомендуемая модель: LightGBM со стандартными гиперпараметрами и числом итераций 500."
   ]
  }
 ],
 "metadata": {
  "ExecuteTimeLog": [
   {
    "duration": 1542,
    "start_time": "2022-05-30T16:55:44.186Z"
   },
   {
    "duration": 1195,
    "start_time": "2022-05-30T16:55:45.730Z"
   },
   {
    "duration": 6,
    "start_time": "2022-05-30T16:55:46.926Z"
   },
   {
    "duration": 21,
    "start_time": "2022-05-30T16:55:46.933Z"
   },
   {
    "duration": 562,
    "start_time": "2022-05-30T16:55:46.958Z"
   },
   {
    "duration": 217,
    "start_time": "2022-05-30T16:55:47.522Z"
   },
   {
    "duration": 85,
    "start_time": "2022-05-30T16:55:47.741Z"
   },
   {
    "duration": 740,
    "start_time": "2022-05-30T16:55:47.827Z"
   },
   {
    "duration": 94,
    "start_time": "2022-05-30T16:55:48.568Z"
   },
   {
    "duration": 23,
    "start_time": "2022-05-30T16:55:48.664Z"
   },
   {
    "duration": 164,
    "start_time": "2022-05-30T16:55:48.689Z"
   },
   {
    "duration": 1137,
    "start_time": "2022-05-30T16:55:48.854Z"
   },
   {
    "duration": 424,
    "start_time": "2022-05-30T16:55:49.993Z"
   },
   {
    "duration": 253,
    "start_time": "2022-05-30T16:55:50.420Z"
   },
   {
    "duration": 244,
    "start_time": "2022-05-30T16:55:50.675Z"
   },
   {
    "duration": 10,
    "start_time": "2022-05-30T16:55:50.921Z"
   },
   {
    "duration": 1628,
    "start_time": "2022-05-30T16:55:50.932Z"
   },
   {
    "duration": 95,
    "start_time": "2022-05-30T16:55:52.562Z"
   },
   {
    "duration": 10,
    "start_time": "2022-05-30T16:55:52.658Z"
   },
   {
    "duration": 19,
    "start_time": "2022-05-30T16:55:52.670Z"
   },
   {
    "duration": 54,
    "start_time": "2022-05-30T16:55:52.690Z"
   },
   {
    "duration": 14,
    "start_time": "2022-05-30T16:55:52.746Z"
   },
   {
    "duration": 20,
    "start_time": "2022-05-30T16:55:52.762Z"
   },
   {
    "duration": 25,
    "start_time": "2022-05-30T16:55:52.783Z"
   },
   {
    "duration": 12,
    "start_time": "2022-05-30T16:55:52.809Z"
   },
   {
    "duration": 68,
    "start_time": "2022-05-30T16:55:52.823Z"
   },
   {
    "duration": 143,
    "start_time": "2022-05-30T16:55:52.893Z"
   },
   {
    "duration": 16,
    "start_time": "2022-05-30T16:55:53.038Z"
   },
   {
    "duration": 7,
    "start_time": "2022-05-30T16:55:53.056Z"
   },
   {
    "duration": 13,
    "start_time": "2022-05-30T16:55:53.064Z"
   },
   {
    "duration": 5,
    "start_time": "2022-05-30T16:55:53.079Z"
   },
   {
    "duration": 12,
    "start_time": "2022-05-30T16:55:53.086Z"
   },
   {
    "duration": 6,
    "start_time": "2022-05-30T16:55:53.099Z"
   },
   {
    "duration": 7,
    "start_time": "2022-05-30T16:55:53.106Z"
   },
   {
    "duration": 12,
    "start_time": "2022-05-30T16:55:53.145Z"
   },
   {
    "duration": 12,
    "start_time": "2022-05-30T16:55:53.159Z"
   },
   {
    "duration": 7,
    "start_time": "2022-05-30T16:55:53.173Z"
   },
   {
    "duration": 24,
    "start_time": "2022-05-30T16:55:53.181Z"
   },
   {
    "duration": 6973,
    "start_time": "2022-05-30T16:55:53.207Z"
   },
   {
    "duration": 3,
    "start_time": "2022-05-30T16:56:00.181Z"
   },
   {
    "duration": 532,
    "start_time": "2022-05-30T16:56:00.189Z"
   },
   {
    "duration": 10,
    "start_time": "2022-05-30T16:56:00.723Z"
   },
   {
    "duration": 2187841,
    "start_time": "2022-05-30T16:56:00.735Z"
   },
   {
    "duration": 12,
    "start_time": "2022-05-30T17:32:28.578Z"
   },
   {
    "duration": 116,
    "start_time": "2022-05-30T17:32:28.592Z"
   },
   {
    "duration": 12,
    "start_time": "2022-05-30T17:32:28.710Z"
   },
   {
    "duration": 33,
    "start_time": "2022-05-30T17:32:28.724Z"
   },
   {
    "duration": 945,
    "start_time": "2022-05-30T17:32:28.758Z"
   },
   {
    "duration": 341,
    "start_time": "2022-05-30T17:32:29.705Z"
   },
   {
    "duration": 168,
    "start_time": "2022-05-30T17:32:30.047Z"
   },
   {
    "duration": 4,
    "start_time": "2022-05-30T17:32:30.217Z"
   },
   {
    "duration": 23923,
    "start_time": "2022-05-30T17:32:30.223Z"
   },
   {
    "duration": 697,
    "start_time": "2022-05-30T17:32:54.148Z"
   },
   {
    "duration": 6,
    "start_time": "2022-05-30T17:32:54.847Z"
   },
   {
    "duration": 283975,
    "start_time": "2022-05-30T17:32:54.945Z"
   },
   {
    "duration": 2351,
    "start_time": "2022-05-30T17:37:38.922Z"
   },
   {
    "duration": 4,
    "start_time": "2022-05-30T17:37:41.275Z"
   },
   {
    "duration": 462502,
    "start_time": "2022-05-30T17:37:41.280Z"
   },
   {
    "duration": 7674,
    "start_time": "2022-05-30T17:45:23.784Z"
   },
   {
    "duration": 5,
    "start_time": "2022-05-30T17:45:31.460Z"
   },
   {
    "duration": 537,
    "start_time": "2022-05-30T17:45:31.467Z"
   },
   {
    "duration": 3,
    "start_time": "2022-05-30T17:45:32.006Z"
   },
   {
    "duration": 26,
    "start_time": "2022-05-30T17:45:32.010Z"
   },
   {
    "duration": 17341,
    "start_time": "2022-05-30T17:45:32.038Z"
   },
   {
    "duration": 19616,
    "start_time": "2022-05-30T17:45:49.444Z"
   },
   {
    "duration": 8,
    "start_time": "2022-05-30T17:46:09.062Z"
   },
   {
    "duration": 637,
    "start_time": "2022-05-30T17:46:09.071Z"
   },
   {
    "duration": 58,
    "start_time": "2022-05-30T17:46:09.710Z"
   },
   {
    "duration": 15,
    "start_time": "2022-05-30T17:46:09.770Z"
   },
   {
    "duration": 11,
    "start_time": "2022-05-30T17:46:09.787Z"
   },
   {
    "duration": 10152,
    "start_time": "2022-05-30T17:46:09.799Z"
   },
   {
    "duration": 14698,
    "start_time": "2022-05-30T17:46:19.953Z"
   },
   {
    "duration": 8,
    "start_time": "2022-05-30T17:46:34.653Z"
   },
   {
    "duration": 93,
    "start_time": "2022-05-30T17:46:34.663Z"
   },
   {
    "duration": 339,
    "start_time": "2022-05-30T17:46:34.758Z"
   },
   {
    "duration": 3,
    "start_time": "2022-05-30T17:46:35.099Z"
   },
   {
    "duration": 1528,
    "start_time": "2022-05-30T20:20:07.181Z"
   },
   {
    "duration": 1076,
    "start_time": "2022-05-30T20:20:08.711Z"
   },
   {
    "duration": 5,
    "start_time": "2022-05-30T20:20:09.789Z"
   },
   {
    "duration": 25,
    "start_time": "2022-05-30T20:20:09.796Z"
   },
   {
    "duration": 554,
    "start_time": "2022-05-30T20:20:09.822Z"
   },
   {
    "duration": 196,
    "start_time": "2022-05-30T20:20:10.378Z"
   },
   {
    "duration": 103,
    "start_time": "2022-05-30T20:20:10.576Z"
   },
   {
    "duration": 379,
    "start_time": "2022-05-30T20:20:10.680Z"
   },
   {
    "duration": 26,
    "start_time": "2022-05-30T20:20:11.060Z"
   },
   {
    "duration": 20,
    "start_time": "2022-05-30T20:20:11.089Z"
   },
   {
    "duration": 57,
    "start_time": "2022-05-30T20:20:11.127Z"
   },
   {
    "duration": 665,
    "start_time": "2022-05-30T20:20:11.186Z"
   },
   {
    "duration": 435,
    "start_time": "2022-05-30T20:20:11.853Z"
   },
   {
    "duration": 262,
    "start_time": "2022-05-30T20:20:12.290Z"
   },
   {
    "duration": 245,
    "start_time": "2022-05-30T20:20:12.554Z"
   },
   {
    "duration": 12,
    "start_time": "2022-05-30T20:20:12.802Z"
   },
   {
    "duration": 1474,
    "start_time": "2022-05-30T20:20:12.816Z"
   },
   {
    "duration": 57,
    "start_time": "2022-05-30T20:20:14.292Z"
   },
   {
    "duration": 10,
    "start_time": "2022-05-30T20:20:14.350Z"
   },
   {
    "duration": 10,
    "start_time": "2022-05-30T20:20:14.362Z"
   },
   {
    "duration": 54,
    "start_time": "2022-05-30T20:20:14.373Z"
   },
   {
    "duration": 14,
    "start_time": "2022-05-30T20:20:14.429Z"
   },
   {
    "duration": 8,
    "start_time": "2022-05-30T20:20:14.445Z"
   },
   {
    "duration": 15,
    "start_time": "2022-05-30T20:20:14.455Z"
   },
   {
    "duration": 12,
    "start_time": "2022-05-30T20:20:14.472Z"
   },
   {
    "duration": 65,
    "start_time": "2022-05-30T20:20:14.485Z"
   },
   {
    "duration": 144,
    "start_time": "2022-05-30T20:20:14.552Z"
   },
   {
    "duration": 14,
    "start_time": "2022-05-30T20:20:14.700Z"
   },
   {
    "duration": 8,
    "start_time": "2022-05-30T20:20:14.726Z"
   },
   {
    "duration": 9,
    "start_time": "2022-05-30T20:20:14.735Z"
   },
   {
    "duration": 9,
    "start_time": "2022-05-30T20:20:14.746Z"
   },
   {
    "duration": 10,
    "start_time": "2022-05-30T20:20:14.756Z"
   },
   {
    "duration": 6,
    "start_time": "2022-05-30T20:20:14.768Z"
   },
   {
    "duration": 12,
    "start_time": "2022-05-30T20:20:14.775Z"
   },
   {
    "duration": 42,
    "start_time": "2022-05-30T20:20:14.788Z"
   },
   {
    "duration": 6,
    "start_time": "2022-05-30T20:20:14.832Z"
   },
   {
    "duration": 7,
    "start_time": "2022-05-30T20:20:14.840Z"
   },
   {
    "duration": 5218,
    "start_time": "2022-05-30T20:20:14.849Z"
   },
   {
    "duration": 3,
    "start_time": "2022-05-30T20:20:20.069Z"
   },
   {
    "duration": 418,
    "start_time": "2022-05-30T20:20:20.074Z"
   },
   {
    "duration": 9,
    "start_time": "2022-05-30T20:20:20.493Z"
   },
   {
    "duration": 1962595,
    "start_time": "2022-05-30T20:20:20.504Z"
   },
   {
    "duration": 11,
    "start_time": "2022-05-30T20:53:03.100Z"
   },
   {
    "duration": 104,
    "start_time": "2022-05-30T20:53:03.112Z"
   },
   {
    "duration": 13,
    "start_time": "2022-05-30T20:53:03.217Z"
   },
   {
    "duration": 14,
    "start_time": "2022-05-30T20:53:03.231Z"
   },
   {
    "duration": 855,
    "start_time": "2022-05-30T20:53:03.247Z"
   },
   {
    "duration": 316,
    "start_time": "2022-05-30T20:53:04.104Z"
   },
   {
    "duration": 157,
    "start_time": "2022-05-30T20:53:04.421Z"
   },
   {
    "duration": 4,
    "start_time": "2022-05-30T20:53:04.580Z"
   },
   {
    "duration": 28645,
    "start_time": "2022-05-30T20:53:04.585Z"
   },
   {
    "duration": 825,
    "start_time": "2022-05-30T20:53:33.232Z"
   },
   {
    "duration": 9,
    "start_time": "2022-05-30T20:53:34.129Z"
   },
   {
    "duration": 255946,
    "start_time": "2022-05-30T20:53:34.227Z"
   },
   {
    "duration": 2014,
    "start_time": "2022-05-30T20:57:50.174Z"
   },
   {
    "duration": 7,
    "start_time": "2022-05-30T20:57:52.189Z"
   },
   {
    "duration": 413762,
    "start_time": "2022-05-30T20:57:52.197Z"
   },
   {
    "duration": 6083,
    "start_time": "2022-05-30T21:04:45.960Z"
   },
   {
    "duration": 8,
    "start_time": "2022-05-30T21:04:52.045Z"
   },
   {
    "duration": 434,
    "start_time": "2022-05-30T21:04:52.127Z"
   },
   {
    "duration": 3,
    "start_time": "2022-05-30T21:04:52.563Z"
   },
   {
    "duration": 8,
    "start_time": "2022-05-30T21:04:52.568Z"
   },
   {
    "duration": 16992,
    "start_time": "2022-05-30T21:04:52.578Z"
   },
   {
    "duration": 19274,
    "start_time": "2022-05-30T21:05:09.572Z"
   },
   {
    "duration": 7,
    "start_time": "2022-05-30T21:05:28.848Z"
   },
   {
    "duration": 597,
    "start_time": "2022-05-30T21:05:28.857Z"
   },
   {
    "duration": 37,
    "start_time": "2022-05-30T21:05:29.456Z"
   },
   {
    "duration": 3,
    "start_time": "2022-05-30T21:05:29.495Z"
   },
   {
    "duration": 5,
    "start_time": "2022-05-30T21:05:29.499Z"
   },
   {
    "duration": 10238,
    "start_time": "2022-05-30T21:05:29.505Z"
   },
   {
    "duration": 11096,
    "start_time": "2022-05-30T21:05:39.744Z"
   },
   {
    "duration": 8,
    "start_time": "2022-05-30T21:05:50.842Z"
   },
   {
    "duration": 81,
    "start_time": "2022-05-30T21:05:50.854Z"
   },
   {
    "duration": 285,
    "start_time": "2022-05-30T21:05:50.936Z"
   },
   {
    "duration": 4,
    "start_time": "2022-05-30T21:05:51.223Z"
   },
   {
    "duration": 176158,
    "start_time": "2022-05-30T21:05:51.228Z"
   },
   {
    "duration": 3,
    "start_time": "2022-05-30T21:08:47.388Z"
   },
   {
    "duration": 2416,
    "start_time": "2022-05-30T21:08:47.393Z"
   },
   {
    "duration": 9,
    "start_time": "2022-05-30T21:08:49.811Z"
   },
   {
    "duration": 15,
    "start_time": "2022-05-30T21:08:49.821Z"
   },
   {
    "duration": 11,
    "start_time": "2022-05-30T21:08:49.837Z"
   },
   {
    "duration": 11,
    "start_time": "2022-05-30T21:09:22.406Z"
   },
   {
    "duration": 39,
    "start_time": "2022-05-31T11:34:41.548Z"
   },
   {
    "duration": 59,
    "start_time": "2022-05-31T11:35:29.566Z"
   },
   {
    "duration": 49,
    "start_time": "2022-05-31T11:36:17.487Z"
   },
   {
    "duration": 1750,
    "start_time": "2022-05-31T11:40:18.789Z"
   },
   {
    "duration": 1268,
    "start_time": "2022-05-31T11:40:20.542Z"
   },
   {
    "duration": 5,
    "start_time": "2022-05-31T11:40:21.812Z"
   },
   {
    "duration": 20,
    "start_time": "2022-05-31T11:40:21.819Z"
   },
   {
    "duration": 586,
    "start_time": "2022-05-31T11:40:21.841Z"
   },
   {
    "duration": 335,
    "start_time": "2022-05-31T11:40:22.429Z"
   },
   {
    "duration": 147,
    "start_time": "2022-05-31T11:40:22.766Z"
   },
   {
    "duration": 431,
    "start_time": "2022-05-31T11:40:22.915Z"
   },
   {
    "duration": 68,
    "start_time": "2022-05-31T11:40:23.348Z"
   },
   {
    "duration": 26,
    "start_time": "2022-05-31T11:40:23.418Z"
   },
   {
    "duration": 76,
    "start_time": "2022-05-31T11:40:23.446Z"
   },
   {
    "duration": 733,
    "start_time": "2022-05-31T11:40:23.524Z"
   },
   {
    "duration": 427,
    "start_time": "2022-05-31T11:40:24.259Z"
   },
   {
    "duration": 248,
    "start_time": "2022-05-31T11:40:24.688Z"
   },
   {
    "duration": 251,
    "start_time": "2022-05-31T11:40:24.938Z"
   },
   {
    "duration": 10,
    "start_time": "2022-05-31T11:40:25.919Z"
   },
   {
    "duration": 1595,
    "start_time": "2022-05-31T11:40:27.054Z"
   },
   {
    "duration": 74,
    "start_time": "2022-05-31T11:40:28.651Z"
   },
   {
    "duration": 9,
    "start_time": "2022-05-31T11:40:28.727Z"
   },
   {
    "duration": 11,
    "start_time": "2022-05-31T11:40:29.305Z"
   },
   {
    "duration": 39,
    "start_time": "2022-05-31T11:40:30.085Z"
   },
   {
    "duration": 15,
    "start_time": "2022-05-31T11:40:30.760Z"
   },
   {
    "duration": 10,
    "start_time": "2022-05-31T11:40:31.573Z"
   },
   {
    "duration": 19,
    "start_time": "2022-05-31T11:40:32.772Z"
   },
   {
    "duration": 15,
    "start_time": "2022-05-31T11:40:33.184Z"
   },
   {
    "duration": 62,
    "start_time": "2022-05-31T11:40:34.247Z"
   },
   {
    "duration": 143,
    "start_time": "2022-05-31T11:40:34.880Z"
   },
   {
    "duration": 103,
    "start_time": "2022-05-31T11:40:35.359Z"
   },
   {
    "duration": 14,
    "start_time": "2022-05-31T12:07:34.072Z"
   },
   {
    "duration": 8,
    "start_time": "2022-05-31T12:07:35.267Z"
   },
   {
    "duration": 9,
    "start_time": "2022-05-31T12:07:36.812Z"
   },
   {
    "duration": 6,
    "start_time": "2022-05-31T12:07:37.538Z"
   },
   {
    "duration": 9,
    "start_time": "2022-05-31T12:07:38.147Z"
   },
   {
    "duration": 5,
    "start_time": "2022-05-31T12:07:39.520Z"
   },
   {
    "duration": 4,
    "start_time": "2022-05-31T12:07:39.858Z"
   },
   {
    "duration": 15,
    "start_time": "2022-05-31T12:07:40.856Z"
   },
   {
    "duration": 5,
    "start_time": "2022-05-31T12:07:46.937Z"
   },
   {
    "duration": 4,
    "start_time": "2022-05-31T12:07:48.087Z"
   },
   {
    "duration": 5995,
    "start_time": "2022-05-31T12:07:51.658Z"
   },
   {
    "duration": 3,
    "start_time": "2022-05-31T12:08:07.753Z"
   },
   {
    "duration": 444,
    "start_time": "2022-05-31T12:08:08.566Z"
   },
   {
    "duration": 10,
    "start_time": "2022-05-31T12:08:09.698Z"
   },
   {
    "duration": 1769,
    "start_time": "2022-06-01T12:55:00.086Z"
   },
   {
    "duration": 1111,
    "start_time": "2022-06-01T12:55:01.858Z"
   },
   {
    "duration": 5,
    "start_time": "2022-06-01T12:55:02.971Z"
   },
   {
    "duration": 20,
    "start_time": "2022-06-01T12:55:02.978Z"
   },
   {
    "duration": 534,
    "start_time": "2022-06-01T12:55:02.999Z"
   },
   {
    "duration": 226,
    "start_time": "2022-06-01T12:55:03.535Z"
   },
   {
    "duration": 90,
    "start_time": "2022-06-01T12:55:03.762Z"
   },
   {
    "duration": 402,
    "start_time": "2022-06-01T12:55:03.854Z"
   },
   {
    "duration": 38,
    "start_time": "2022-06-01T12:55:04.258Z"
   },
   {
    "duration": 22,
    "start_time": "2022-06-01T12:55:04.300Z"
   },
   {
    "duration": 82,
    "start_time": "2022-06-01T12:55:04.324Z"
   },
   {
    "duration": 664,
    "start_time": "2022-06-01T12:55:04.407Z"
   },
   {
    "duration": 394,
    "start_time": "2022-06-01T12:55:05.075Z"
   },
   {
    "duration": 227,
    "start_time": "2022-06-01T12:55:05.471Z"
   },
   {
    "duration": 279,
    "start_time": "2022-06-01T12:55:05.700Z"
   },
   {
    "duration": 9,
    "start_time": "2022-06-01T12:55:05.980Z"
   },
   {
    "duration": 1570,
    "start_time": "2022-06-01T12:55:05.991Z"
   },
   {
    "duration": 47,
    "start_time": "2022-06-01T12:55:07.562Z"
   },
   {
    "duration": 9,
    "start_time": "2022-06-01T12:55:07.611Z"
   },
   {
    "duration": 148,
    "start_time": "2022-06-01T12:55:07.622Z"
   },
   {
    "duration": 40,
    "start_time": "2022-06-01T12:55:07.775Z"
   },
   {
    "duration": 14,
    "start_time": "2022-06-01T12:55:07.816Z"
   },
   {
    "duration": 8,
    "start_time": "2022-06-01T12:55:07.831Z"
   },
   {
    "duration": 36,
    "start_time": "2022-06-01T12:55:07.841Z"
   },
   {
    "duration": 13,
    "start_time": "2022-06-01T12:55:07.878Z"
   },
   {
    "duration": 62,
    "start_time": "2022-06-01T12:56:01.012Z"
   },
   {
    "duration": 4,
    "start_time": "2022-06-01T12:56:07.341Z"
   },
   {
    "duration": 111,
    "start_time": "2022-06-01T12:56:20.700Z"
   },
   {
    "duration": 16,
    "start_time": "2022-06-01T12:56:23.072Z"
   },
   {
    "duration": 35,
    "start_time": "2022-06-01T12:56:41.151Z"
   },
   {
    "duration": 16,
    "start_time": "2022-06-01T12:56:42.546Z"
   },
   {
    "duration": 131,
    "start_time": "2022-06-01T12:57:11.897Z"
   },
   {
    "duration": 8,
    "start_time": "2022-06-01T12:57:57.213Z"
   },
   {
    "duration": 763,
    "start_time": "2022-06-01T12:57:57.222Z"
   },
   {
    "duration": 4,
    "start_time": "2022-06-01T12:57:57.987Z"
   },
   {
    "duration": 19,
    "start_time": "2022-06-01T12:57:57.993Z"
   },
   {
    "duration": 454,
    "start_time": "2022-06-01T12:57:58.013Z"
   },
   {
    "duration": 206,
    "start_time": "2022-06-01T12:57:58.469Z"
   },
   {
    "duration": 84,
    "start_time": "2022-06-01T12:57:58.677Z"
   },
   {
    "duration": 411,
    "start_time": "2022-06-01T12:57:58.762Z"
   },
   {
    "duration": 23,
    "start_time": "2022-06-01T12:57:59.176Z"
   },
   {
    "duration": 22,
    "start_time": "2022-06-01T12:57:59.200Z"
   },
   {
    "duration": 78,
    "start_time": "2022-06-01T12:57:59.223Z"
   },
   {
    "duration": 660,
    "start_time": "2022-06-01T12:57:59.303Z"
   },
   {
    "duration": 351,
    "start_time": "2022-06-01T12:57:59.965Z"
   },
   {
    "duration": 236,
    "start_time": "2022-06-01T12:58:00.317Z"
   },
   {
    "duration": 252,
    "start_time": "2022-06-01T12:58:00.555Z"
   },
   {
    "duration": 10,
    "start_time": "2022-06-01T12:58:00.809Z"
   },
   {
    "duration": 1525,
    "start_time": "2022-06-01T12:58:00.821Z"
   },
   {
    "duration": 53,
    "start_time": "2022-06-01T12:58:02.348Z"
   },
   {
    "duration": 10,
    "start_time": "2022-06-01T12:58:02.403Z"
   },
   {
    "duration": 25,
    "start_time": "2022-06-01T12:58:02.415Z"
   },
   {
    "duration": 61,
    "start_time": "2022-06-01T12:58:02.445Z"
   },
   {
    "duration": 18,
    "start_time": "2022-06-01T12:58:02.508Z"
   },
   {
    "duration": 18,
    "start_time": "2022-06-01T12:58:02.528Z"
   },
   {
    "duration": 33,
    "start_time": "2022-06-01T12:58:02.550Z"
   },
   {
    "duration": 14,
    "start_time": "2022-06-01T12:58:02.584Z"
   },
   {
    "duration": 45,
    "start_time": "2022-06-01T12:58:02.601Z"
   },
   {
    "duration": 95,
    "start_time": "2022-06-01T13:11:32.007Z"
   },
   {
    "duration": 20,
    "start_time": "2022-06-01T13:12:41.328Z"
   },
   {
    "duration": 25,
    "start_time": "2022-06-01T13:13:24.142Z"
   },
   {
    "duration": 69,
    "start_time": "2022-06-01T13:22:26.542Z"
   },
   {
    "duration": 36,
    "start_time": "2022-06-01T13:22:27.219Z"
   },
   {
    "duration": 30,
    "start_time": "2022-06-01T13:22:28.025Z"
   },
   {
    "duration": 17,
    "start_time": "2022-06-01T13:22:28.546Z"
   },
   {
    "duration": 33,
    "start_time": "2022-06-01T13:22:28.833Z"
   },
   {
    "duration": 14,
    "start_time": "2022-06-01T13:22:29.277Z"
   },
   {
    "duration": 4,
    "start_time": "2022-06-01T13:22:29.473Z"
   },
   {
    "duration": 12,
    "start_time": "2022-06-01T13:22:30.333Z"
   },
   {
    "duration": 4,
    "start_time": "2022-06-01T13:22:33.271Z"
   },
   {
    "duration": 3,
    "start_time": "2022-06-01T13:22:39.103Z"
   },
   {
    "duration": 166,
    "start_time": "2022-06-01T13:22:40.300Z"
   },
   {
    "duration": 4,
    "start_time": "2022-06-01T13:23:19.557Z"
   },
   {
    "duration": 7,
    "start_time": "2022-06-01T14:10:35.705Z"
   },
   {
    "duration": 690,
    "start_time": "2022-06-01T14:10:35.732Z"
   },
   {
    "duration": 4,
    "start_time": "2022-06-01T14:10:36.424Z"
   },
   {
    "duration": 13,
    "start_time": "2022-06-01T14:10:36.430Z"
   },
   {
    "duration": 392,
    "start_time": "2022-06-01T14:10:36.445Z"
   },
   {
    "duration": 186,
    "start_time": "2022-06-01T14:10:36.840Z"
   },
   {
    "duration": 82,
    "start_time": "2022-06-01T14:10:37.028Z"
   },
   {
    "duration": 353,
    "start_time": "2022-06-01T14:10:37.111Z"
   },
   {
    "duration": 28,
    "start_time": "2022-06-01T14:10:37.466Z"
   },
   {
    "duration": 19,
    "start_time": "2022-06-01T14:10:37.496Z"
   },
   {
    "duration": 73,
    "start_time": "2022-06-01T14:10:37.517Z"
   },
   {
    "duration": 584,
    "start_time": "2022-06-01T14:10:37.591Z"
   },
   {
    "duration": 305,
    "start_time": "2022-06-01T14:10:38.176Z"
   },
   {
    "duration": 200,
    "start_time": "2022-06-01T14:10:38.482Z"
   },
   {
    "duration": 210,
    "start_time": "2022-06-01T14:10:38.685Z"
   },
   {
    "duration": 11,
    "start_time": "2022-06-01T14:10:38.897Z"
   },
   {
    "duration": 1326,
    "start_time": "2022-06-01T14:10:38.909Z"
   },
   {
    "duration": 47,
    "start_time": "2022-06-01T14:10:40.237Z"
   },
   {
    "duration": 8,
    "start_time": "2022-06-01T14:10:40.286Z"
   },
   {
    "duration": 8,
    "start_time": "2022-06-01T14:10:40.296Z"
   },
   {
    "duration": 32,
    "start_time": "2022-06-01T14:10:40.306Z"
   },
   {
    "duration": 13,
    "start_time": "2022-06-01T14:10:40.340Z"
   },
   {
    "duration": 7,
    "start_time": "2022-06-01T14:10:40.375Z"
   },
   {
    "duration": 13,
    "start_time": "2022-06-01T14:10:40.384Z"
   },
   {
    "duration": 10,
    "start_time": "2022-06-01T14:10:40.398Z"
   },
   {
    "duration": 32,
    "start_time": "2022-06-01T14:10:40.409Z"
   },
   {
    "duration": 136,
    "start_time": "2022-06-01T14:10:40.443Z"
   },
   {
    "duration": 94,
    "start_time": "2022-06-01T14:10:40.581Z"
   },
   {
    "duration": 12,
    "start_time": "2022-06-01T14:10:40.676Z"
   },
   {
    "duration": 7,
    "start_time": "2022-06-01T14:10:40.690Z"
   },
   {
    "duration": 8,
    "start_time": "2022-06-01T14:10:40.698Z"
   },
   {
    "duration": 5,
    "start_time": "2022-06-01T14:10:40.707Z"
   },
   {
    "duration": 8,
    "start_time": "2022-06-01T14:10:40.714Z"
   },
   {
    "duration": 5,
    "start_time": "2022-06-01T14:10:40.723Z"
   },
   {
    "duration": 45,
    "start_time": "2022-06-01T14:10:40.730Z"
   },
   {
    "duration": 12,
    "start_time": "2022-06-01T14:10:40.776Z"
   },
   {
    "duration": 4,
    "start_time": "2022-06-01T14:10:40.789Z"
   },
   {
    "duration": 3,
    "start_time": "2022-06-01T14:10:40.878Z"
   },
   {
    "duration": 3,
    "start_time": "2022-06-01T14:10:48.284Z"
   },
   {
    "duration": 4791,
    "start_time": "2022-06-01T14:10:48.820Z"
   },
   {
    "duration": 3,
    "start_time": "2022-06-01T14:11:01.190Z"
   },
   {
    "duration": 370,
    "start_time": "2022-06-01T14:11:10.678Z"
   },
   {
    "duration": 8,
    "start_time": "2022-06-01T14:11:11.050Z"
   },
   {
    "duration": 1853358,
    "start_time": "2022-06-01T14:12:42.749Z"
   },
   {
    "duration": 9,
    "start_time": "2022-06-01T14:43:36.109Z"
   },
   {
    "duration": 97,
    "start_time": "2022-06-01T14:43:36.119Z"
   },
   {
    "duration": 10,
    "start_time": "2022-06-01T14:43:36.218Z"
   },
   {
    "duration": 14,
    "start_time": "2022-06-01T14:43:36.230Z"
   },
   {
    "duration": 765,
    "start_time": "2022-06-01T14:43:36.245Z"
   },
   {
    "duration": 305,
    "start_time": "2022-06-01T14:43:37.012Z"
   },
   {
    "duration": 139,
    "start_time": "2022-06-01T14:43:37.319Z"
   },
   {
    "duration": 2,
    "start_time": "2022-06-01T14:43:37.460Z"
   },
   {
    "duration": 22426,
    "start_time": "2022-06-01T14:43:37.464Z"
   },
   {
    "duration": 999,
    "start_time": "2022-06-01T14:43:59.976Z"
   },
   {
    "duration": 99,
    "start_time": "2022-06-01T14:44:00.977Z"
   },
   {
    "duration": 244471,
    "start_time": "2022-06-01T14:44:01.078Z"
   },
   {
    "duration": 2139,
    "start_time": "2022-06-01T14:48:05.551Z"
   },
   {
    "duration": 7,
    "start_time": "2022-06-01T14:48:07.692Z"
   },
   {
    "duration": 441508,
    "start_time": "2022-06-01T14:48:07.700Z"
   },
   {
    "duration": 6179,
    "start_time": "2022-06-01T14:55:29.209Z"
   },
   {
    "duration": 11,
    "start_time": "2022-06-01T14:55:35.389Z"
   },
   {
    "duration": 20,
    "start_time": "2022-06-01T14:55:35.402Z"
   },
   {
    "duration": 8,
    "start_time": "2022-06-01T16:57:05.202Z"
   },
   {
    "duration": 444,
    "start_time": "2022-06-01T16:58:20.162Z"
   },
   {
    "duration": 547,
    "start_time": "2022-06-01T16:58:27.835Z"
   },
   {
    "duration": 3,
    "start_time": "2022-06-01T16:58:58.003Z"
   },
   {
    "duration": 3,
    "start_time": "2022-06-01T16:59:04.475Z"
   },
   {
    "duration": 19682,
    "start_time": "2022-06-01T16:59:05.529Z"
   },
   {
    "duration": 22789,
    "start_time": "2022-06-01T16:59:25.213Z"
   },
   {
    "duration": 455,
    "start_time": "2022-06-01T16:59:48.003Z"
   },
   {
    "duration": 36,
    "start_time": "2022-06-01T17:00:16.728Z"
   },
   {
    "duration": 3,
    "start_time": "2022-06-01T17:00:17.100Z"
   },
   {
    "duration": 2,
    "start_time": "2022-06-01T17:00:18.387Z"
   },
   {
    "duration": 11531,
    "start_time": "2022-06-01T17:00:18.852Z"
   },
   {
    "duration": 12904,
    "start_time": "2022-06-01T17:00:30.390Z"
   },
   {
    "duration": 11,
    "start_time": "2022-06-01T17:00:43.295Z"
   },
   {
    "duration": 67,
    "start_time": "2022-06-01T17:01:15.325Z"
   },
   {
    "duration": 323,
    "start_time": "2022-06-01T17:01:15.806Z"
   },
   {
    "duration": 3,
    "start_time": "2022-06-01T17:01:29.887Z"
   },
   {
    "duration": 193369,
    "start_time": "2022-06-01T17:01:32.493Z"
   },
   {
    "duration": 2383,
    "start_time": "2022-06-01T17:04:45.864Z"
   },
   {
    "duration": 9,
    "start_time": "2022-06-01T17:04:48.249Z"
   },
   {
    "duration": 19,
    "start_time": "2022-06-01T17:04:48.260Z"
   },
   {
    "duration": 19,
    "start_time": "2022-06-01T17:04:48.280Z"
   },
   {
    "duration": 12,
    "start_time": "2022-06-01T17:07:42.118Z"
   },
   {
    "duration": 7,
    "start_time": "2022-06-01T17:07:57.502Z"
   },
   {
    "duration": 3044,
    "start_time": "2022-06-01T17:08:03.189Z"
   },
   {
    "duration": 54,
    "start_time": "2022-06-01T17:08:26.369Z"
   },
   {
    "duration": 8,
    "start_time": "2022-06-01T17:08:26.601Z"
   },
   {
    "duration": 3172,
    "start_time": "2022-06-01T17:08:33.578Z"
   },
   {
    "duration": 775,
    "start_time": "2022-06-01T17:08:36.751Z"
   },
   {
    "duration": 5,
    "start_time": "2022-06-01T17:08:37.527Z"
   },
   {
    "duration": 15,
    "start_time": "2022-06-01T17:08:37.534Z"
   },
   {
    "duration": 543,
    "start_time": "2022-06-01T17:08:40.538Z"
   },
   {
    "duration": 191,
    "start_time": "2022-06-01T17:08:41.089Z"
   },
   {
    "duration": 78,
    "start_time": "2022-06-01T17:08:41.497Z"
   },
   {
    "duration": 360,
    "start_time": "2022-06-01T17:08:41.875Z"
   },
   {
    "duration": 1886,
    "start_time": "2022-06-01T17:08:52.785Z"
   },
   {
    "duration": 671,
    "start_time": "2022-06-01T17:08:54.673Z"
   },
   {
    "duration": 4,
    "start_time": "2022-06-01T17:08:55.345Z"
   },
   {
    "duration": 15,
    "start_time": "2022-06-01T17:08:55.350Z"
   },
   {
    "duration": 430,
    "start_time": "2022-06-01T17:08:55.366Z"
   },
   {
    "duration": 222,
    "start_time": "2022-06-01T17:08:55.798Z"
   },
   {
    "duration": 78,
    "start_time": "2022-06-01T17:08:56.021Z"
   },
   {
    "duration": 352,
    "start_time": "2022-06-01T17:08:56.101Z"
   },
   {
    "duration": 34,
    "start_time": "2022-06-01T17:08:56.454Z"
   },
   {
    "duration": 20,
    "start_time": "2022-06-01T17:08:56.490Z"
   },
   {
    "duration": 68,
    "start_time": "2022-06-01T17:08:56.511Z"
   },
   {
    "duration": 590,
    "start_time": "2022-06-01T17:08:56.581Z"
   },
   {
    "duration": 139759,
    "start_time": "2022-06-01T17:08:57.174Z"
   },
   {
    "duration": 0,
    "start_time": "2022-06-01T17:11:16.935Z"
   },
   {
    "duration": 21308,
    "start_time": "2022-06-01T17:11:20.147Z"
   },
   {
    "duration": 411,
    "start_time": "2022-06-01T17:11:44.002Z"
   },
   {
    "duration": 321,
    "start_time": "2022-06-01T17:11:57.047Z"
   },
   {
    "duration": 6,
    "start_time": "2022-06-01T17:12:22.638Z"
   },
   {
    "duration": 203,
    "start_time": "2022-06-01T22:48:46.681Z"
   },
   {
    "duration": 99,
    "start_time": "2022-06-01T22:49:58.181Z"
   }
  ],
  "kernelspec": {
   "display_name": "Python 3 (ipykernel)",
   "language": "python",
   "name": "python3"
  },
  "language_info": {
   "codemirror_mode": {
    "name": "ipython",
    "version": 3
   },
   "file_extension": ".py",
   "mimetype": "text/x-python",
   "name": "python",
   "nbconvert_exporter": "python",
   "pygments_lexer": "ipython3",
   "version": "3.9.10"
  },
  "toc": {
   "base_numbering": 1,
   "nav_menu": {},
   "number_sections": true,
   "sideBar": true,
   "skip_h1_title": true,
   "title_cell": "Table of Contents",
   "title_sidebar": "Contents",
   "toc_cell": false,
   "toc_position": {
    "height": "calc(100% - 180px)",
    "left": "10px",
    "top": "150px",
    "width": "303.825px"
   },
   "toc_section_display": true,
   "toc_window_display": true
  }
 },
 "nbformat": 4,
 "nbformat_minor": 2
}
