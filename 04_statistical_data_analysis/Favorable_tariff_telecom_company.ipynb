{
 "cells": [
  {
   "cell_type": "markdown",
   "id": "01e62e85",
   "metadata": {
    "toc": true
   },
   "source": [
    "<h1>Table of Contents<span class=\"tocSkip\"></span></h1>\n",
    "<div class=\"toc\"><ul class=\"toc-item\"><li><span><a href=\"#Подготовительный-этап\" data-toc-modified-id=\"Подготовительный-этап-1\"><span class=\"toc-item-num\">1&nbsp;&nbsp;</span>Подготовительный этап</a></span><ul class=\"toc-item\"><li><span><a href=\"#Изучение-общей-информации,-составление-плана-работы\" data-toc-modified-id=\"Изучение-общей-информации,-составление-плана-работы-1.1\"><span class=\"toc-item-num\">1.1&nbsp;&nbsp;</span>Изучение общей информации, составление плана работы</a></span></li><li><span><a href=\"#Подготовка-данных\" data-toc-modified-id=\"Подготовка-данных-1.2\"><span class=\"toc-item-num\">1.2&nbsp;&nbsp;</span>Подготовка данных</a></span><ul class=\"toc-item\"><li><span><a href=\"#Исправление-данных:\" data-toc-modified-id=\"Исправление-данных:-1.2.1\"><span class=\"toc-item-num\">1.2.1&nbsp;&nbsp;</span>Исправление данных:</a></span></li><li><span><a href=\"#Дополнительные-расчеты-для-каждого-пользователя:\" data-toc-modified-id=\"Дополнительные-расчеты-для-каждого-пользователя:-1.2.2\"><span class=\"toc-item-num\">1.2.2&nbsp;&nbsp;</span>Дополнительные расчеты для каждого пользователя:</a></span></li></ul></li><li><span><a href=\"#Анализ-данных\" data-toc-modified-id=\"Анализ-данных-1.3\"><span class=\"toc-item-num\">1.3&nbsp;&nbsp;</span>Анализ данных</a></span></li><li><span><a href=\"#Проверка-гипотез\" data-toc-modified-id=\"Проверка-гипотез-1.4\"><span class=\"toc-item-num\">1.4&nbsp;&nbsp;</span>Проверка гипотез</a></span></li><li><span><a href=\"#Общий-вывод\" data-toc-modified-id=\"Общий-вывод-1.5\"><span class=\"toc-item-num\">1.5&nbsp;&nbsp;</span>Общий вывод</a></span></li><li><span><a href=\"#Импорт-библиотек\" data-toc-modified-id=\"Импорт-библиотек-1.6\"><span class=\"toc-item-num\">1.6&nbsp;&nbsp;</span>Импорт библиотек</a></span></li></ul></li><li><span><a href=\"#Знакомство-с-данными\" data-toc-modified-id=\"Знакомство-с-данными-2\"><span class=\"toc-item-num\">2&nbsp;&nbsp;</span>Знакомство с данными</a></span><ul class=\"toc-item\"><li><span><a href=\"#Вывод\" data-toc-modified-id=\"Вывод-2.1\"><span class=\"toc-item-num\">2.1&nbsp;&nbsp;</span>Вывод</a></span></li></ul></li><li><span><a href=\"#Подготовка-данных\" data-toc-modified-id=\"Подготовка-данных-3\"><span class=\"toc-item-num\">3&nbsp;&nbsp;</span>Подготовка данных</a></span><ul class=\"toc-item\"><li><span><a href=\"#Исправление-данных\" data-toc-modified-id=\"Исправление-данных-3.1\"><span class=\"toc-item-num\">3.1&nbsp;&nbsp;</span>Исправление данных</a></span><ul class=\"toc-item\"><li><span><a href=\"#Таблица-с-информацией-о-звонках\" data-toc-modified-id=\"Таблица-с-информацией-о-звонках-3.1.1\"><span class=\"toc-item-num\">3.1.1&nbsp;&nbsp;</span>Таблица с информацией о звонках</a></span></li><li><span><a href=\"#Таблица-с-информацией-об-интернет-сессиях\" data-toc-modified-id=\"Таблица-с-информацией-об-интернет-сессиях-3.1.2\"><span class=\"toc-item-num\">3.1.2&nbsp;&nbsp;</span>Таблица с информацией об интернет-сессиях</a></span></li><li><span><a href=\"#Таблица-с-информацией-о-сообщениях\" data-toc-modified-id=\"Таблица-с-информацией-о-сообщениях-3.1.3\"><span class=\"toc-item-num\">3.1.3&nbsp;&nbsp;</span>Таблица с информацией о сообщениях</a></span></li><li><span><a href=\"#Таблица-с-информацией-о-пользователях\" data-toc-modified-id=\"Таблица-с-информацией-о-пользователях-3.1.4\"><span class=\"toc-item-num\">3.1.4&nbsp;&nbsp;</span>Таблица с информацией о пользователях</a></span></li><li><span><a href=\"#Таблица-с-информацией-о-тарифах\" data-toc-modified-id=\"Таблица-с-информацией-о-тарифах-3.1.5\"><span class=\"toc-item-num\">3.1.5&nbsp;&nbsp;</span>Таблица с информацией о тарифах</a></span></li></ul></li><li><span><a href=\"#Вывод\" data-toc-modified-id=\"Вывод-3.2\"><span class=\"toc-item-num\">3.2&nbsp;&nbsp;</span>Вывод</a></span></li><li><span><a href=\"#Расчеты-для-каждого-пользователя\" data-toc-modified-id=\"Расчеты-для-каждого-пользователя-3.3\"><span class=\"toc-item-num\">3.3&nbsp;&nbsp;</span>Расчеты для каждого пользователя</a></span><ul class=\"toc-item\"><li><span><a href=\"#Количество-сделанных-звонков-и-израсходованных-минут-разговора-по-месяцам\" data-toc-modified-id=\"Количество-сделанных-звонков-и-израсходованных-минут-разговора-по-месяцам-3.3.1\"><span class=\"toc-item-num\">3.3.1&nbsp;&nbsp;</span>Количество сделанных звонков и израсходованных минут разговора по месяцам</a></span></li><li><span><a href=\"#Количество-отправленных-сообщений-по-месяцам\" data-toc-modified-id=\"Количество-отправленных-сообщений-по-месяцам-3.3.2\"><span class=\"toc-item-num\">3.3.2&nbsp;&nbsp;</span>Количество отправленных сообщений по месяцам</a></span></li><li><span><a href=\"#Объем-израсходованного-интернет-трафика-по-месяцам\" data-toc-modified-id=\"Объем-израсходованного-интернет-трафика-по-месяцам-3.3.3\"><span class=\"toc-item-num\">3.3.3&nbsp;&nbsp;</span>Объем израсходованного интернет-трафика по месяцам</a></span></li><li><span><a href=\"#Помесячная-выручка-с-каждого-пользователя\" data-toc-modified-id=\"Помесячная-выручка-с-каждого-пользователя-3.3.4\"><span class=\"toc-item-num\">3.3.4&nbsp;&nbsp;</span>Помесячная выручка с каждого пользователя</a></span></li><li><span><a href=\"#Вывод\" data-toc-modified-id=\"Вывод-3.3.5\"><span class=\"toc-item-num\">3.3.5&nbsp;&nbsp;</span>Вывод</a></span></li></ul></li></ul></li><li><span><a href=\"#Анализ-данных\" data-toc-modified-id=\"Анализ-данных-4\"><span class=\"toc-item-num\">4&nbsp;&nbsp;</span>Анализ данных</a></span><ul class=\"toc-item\"><li><span><a href=\"#Сколько-минут-разговора-требуется-пользователям-каждого-тарифа-в-месяц?\" data-toc-modified-id=\"Сколько-минут-разговора-требуется-пользователям-каждого-тарифа-в-месяц?-4.1\"><span class=\"toc-item-num\">4.1&nbsp;&nbsp;</span>Сколько минут разговора требуется пользователям каждого тарифа в месяц?</a></span><ul class=\"toc-item\"><li><span><a href=\"#Вывод\" data-toc-modified-id=\"Вывод-4.1.1\"><span class=\"toc-item-num\">4.1.1&nbsp;&nbsp;</span>Вывод</a></span></li></ul></li><li><span><a href=\"#Сколько-сообщений-требуется-пользователям-каждого-тарифа-в-месяц?\" data-toc-modified-id=\"Сколько-сообщений-требуется-пользователям-каждого-тарифа-в-месяц?-4.2\"><span class=\"toc-item-num\">4.2&nbsp;&nbsp;</span>Сколько сообщений требуется пользователям каждого тарифа в месяц?</a></span><ul class=\"toc-item\"><li><span><a href=\"#Вывод\" data-toc-modified-id=\"Вывод-4.2.1\"><span class=\"toc-item-num\">4.2.1&nbsp;&nbsp;</span>Вывод</a></span></li></ul></li><li><span><a href=\"#Какой-объём-интернет-трафика-требуется-пользователям-каждого-тарифа-в-месяц?\" data-toc-modified-id=\"Какой-объём-интернет-трафика-требуется-пользователям-каждого-тарифа-в-месяц?-4.3\"><span class=\"toc-item-num\">4.3&nbsp;&nbsp;</span>Какой объём интернет-трафика требуется пользователям каждого тарифа в месяц?</a></span><ul class=\"toc-item\"><li><span><a href=\"#Вывод\" data-toc-modified-id=\"Вывод-4.3.1\"><span class=\"toc-item-num\">4.3.1&nbsp;&nbsp;</span>Вывод</a></span></li></ul></li></ul></li><li><span><a href=\"#Проверка-гипотез\" data-toc-modified-id=\"Проверка-гипотез-5\"><span class=\"toc-item-num\">5&nbsp;&nbsp;</span>Проверка гипотез</a></span><ul class=\"toc-item\"><li><span><a href=\"#Средняя-выручка-пользователей-тарифов-«Ультра»-и-«Смарт»-различаются\" data-toc-modified-id=\"Средняя-выручка-пользователей-тарифов-«Ультра»-и-«Смарт»-различаются-5.1\"><span class=\"toc-item-num\">5.1&nbsp;&nbsp;</span>Средняя выручка пользователей тарифов «Ультра» и «Смарт» различаются</a></span></li><li><span><a href=\"#Средняя-выручка-пользователей-из-Москвы-отличается-от-выручки-пользователей-из-других-регионов\" data-toc-modified-id=\"Средняя-выручка-пользователей-из-Москвы-отличается-от-выручки-пользователей-из-других-регионов-5.2\"><span class=\"toc-item-num\">5.2&nbsp;&nbsp;</span>Средняя выручка пользователей из Москвы отличается от выручки пользователей из других регионов</a></span></li><li><span><a href=\"#Вывод\" data-toc-modified-id=\"Вывод-5.3\"><span class=\"toc-item-num\">5.3&nbsp;&nbsp;</span>Вывод</a></span></li></ul></li><li><span><a href=\"#Общий-вывод\" data-toc-modified-id=\"Общий-вывод-6\"><span class=\"toc-item-num\">6&nbsp;&nbsp;</span>Общий вывод</a></span></li></ul></div>"
   ]
  },
  {
   "cell_type": "markdown",
   "id": "a1a4288a",
   "metadata": {},
   "source": [
    "# Определение перспективного тарифа для телеком-компании"
   ]
  },
  {
   "cell_type": "markdown",
   "id": "536a8396",
   "metadata": {},
   "source": [
    "## Подготовительный этап"
   ]
  },
  {
   "cell_type": "markdown",
   "id": "772ec02e",
   "metadata": {},
   "source": [
    "### Изучение общей информации, составление плана работы\n",
    "1. Открем датасеты **5 минут**\n",
    "2. Посмотрим, какие есть столбцы и какого они типа **30 минут**\n",
    "3. Напишем промежуточный вывод: какие основные типы, а так же заметны ли пропуски в датасете **30 минут**\n",
    "4. Распишем весь план работ **1 час** \n",
    "5. Опишем план и сделаем соответствующие параграфы в тетрадке **30 минут** \n",
    "\n",
    "### Подготовка данных\n",
    "\n",
    "**Опираясь на основные цели этого проекта будем двигаться по пути создания нового датасета с информацией, рассчитанной на основании остальных датасетов.**\n",
    "\n",
    "#### Исправление данных:\n",
    "1. Выполним следующие шаги для каждой таблицы:\n",
    "  1. Приведение данных к нужным типам;\n",
    "  2. Поиск и исправление ошибок в данных;\n",
    "3. Вывод по исправлению данных.\n",
    "\n",
    "#### Дополнительные расчеты для каждого пользователя:\n",
    "1. Количество сделанных звонков и израсходованных минут разговора по месяцам;\n",
    "2. Количество отправленных сообщений по месяцам;\n",
    "3. Объем израсходованного интернет-трафика по месяцам;\n",
    "4. Помесячная выручка с каждого пользователя *(вычтите бесплатный лимит из суммарного количества звонков, сообщений и интернет-трафика; остаток умножьте на значение из тарифного плана; прибавьте абонентскую плату, соответствующую тарифному плану\n",
    "\n",
    "*Здесь учтём примечание:*\n",
    "* «Мегалайн» всегда округляет секунды до минут, а мегабайты — до гигабайт. Каждый звонок округляется отдельно: даже если он длился всего 1 секунду, будет засчитан как 1 минута.\n",
    "* Для веб-трафика отдельные сессии не считаются. Вместо этого общая сумма за месяц округляется в бо́льшую сторону. Если абонент использует 1025 мегабайт в этом месяце, с него возьмут плату за 2 гигабайта.\n",
    "\n",
    "### Анализ данных\n",
    "1. Описание поведения клиентов оператора, исходя из выборки. \n",
    "  1. Расчет описательных статистик для звонков, сообщений и интернета пользователей каждого тарифа: среднее количество, дисперсия, стандартное отклонение.\n",
    "  2. Построение гистограмм.\n",
    "2. Выводы по поведению клиентов\n",
    "  \n",
    "\n",
    "### Проверка гипотез\n",
    "1. Средняя выручка пользователей тарифов «Ультра» и «Смарт» различаются;\n",
    "2. Средняя выручка пользователей из Москвы отличается от выручки пользователей из других регионов\n",
    "3. Выводы с пояснением выбора значения alpha, использованных критериев, а также с формулировками нулевой и альтернативной гипотезы.\n",
    "\n",
    "### Общий вывод\n",
    "В общем выводе кратко компилируем выводы с каждого этапа и отвечаем на основной вопрос проекта.\n",
    "***"
   ]
  },
  {
   "cell_type": "markdown",
   "id": "c84c4e3d",
   "metadata": {},
   "source": [
    "### Импорт библиотек"
   ]
  },
  {
   "cell_type": "code",
   "execution_count": 1,
   "id": "54eecbda",
   "metadata": {},
   "outputs": [],
   "source": [
    "import pandas as pd\n",
    "import numpy as np\n",
    "import matplotlib.pyplot as plt\n",
    "import seaborn as sns\n",
    "from scipy import stats as st"
   ]
  },
  {
   "cell_type": "markdown",
   "id": "4c5a119b",
   "metadata": {},
   "source": [
    "## Знакомство с данными"
   ]
  },
  {
   "cell_type": "code",
   "execution_count": 4,
   "id": "870ee425",
   "metadata": {},
   "outputs": [],
   "source": [
    "try:\n",
    "    calls = pd.read_csv('datasets/calls.csv')\n",
    "    internet = pd.read_csv('datasets/internet.csv')\n",
    "    messages = pd.read_csv('datasets/messages.csv')\n",
    "    tariffs = pd.read_csv('datasets/tariffs.csv')\n",
    "    users = pd.read_csv('datasets/users.csv')\n",
    "except FileNotFoundError:\n",
    "    calls = pd.read_csv('../../datasets/calls.csv')\n",
    "    internet = pd.read_csv('../../datasets/internet.csv')\n",
    "    messages = pd.read_csv('../../datasets/messages.csv')\n",
    "    tariffs = pd.read_csv('../../datasets/tariffs.csv')\n",
    "    users = pd.read_csv('../../datasets/users.csv')"
   ]
  },
  {
   "cell_type": "code",
   "execution_count": 5,
   "id": "26105d7b",
   "metadata": {
    "scrolled": false
   },
   "outputs": [
    {
     "data": {
      "text/html": [
       "<div>\n",
       "<style scoped>\n",
       "    .dataframe tbody tr th:only-of-type {\n",
       "        vertical-align: middle;\n",
       "    }\n",
       "\n",
       "    .dataframe tbody tr th {\n",
       "        vertical-align: top;\n",
       "    }\n",
       "\n",
       "    .dataframe thead th {\n",
       "        text-align: right;\n",
       "    }\n",
       "</style>\n",
       "<table border=\"1\" class=\"dataframe\">\n",
       "  <thead>\n",
       "    <tr style=\"text-align: right;\">\n",
       "      <th></th>\n",
       "      <th>id</th>\n",
       "      <th>call_date</th>\n",
       "      <th>duration</th>\n",
       "      <th>user_id</th>\n",
       "    </tr>\n",
       "  </thead>\n",
       "  <tbody>\n",
       "    <tr>\n",
       "      <th>0</th>\n",
       "      <td>1000_0</td>\n",
       "      <td>2018-07-25</td>\n",
       "      <td>0.00</td>\n",
       "      <td>1000</td>\n",
       "    </tr>\n",
       "    <tr>\n",
       "      <th>1</th>\n",
       "      <td>1000_1</td>\n",
       "      <td>2018-08-17</td>\n",
       "      <td>0.00</td>\n",
       "      <td>1000</td>\n",
       "    </tr>\n",
       "    <tr>\n",
       "      <th>2</th>\n",
       "      <td>1000_2</td>\n",
       "      <td>2018-06-11</td>\n",
       "      <td>2.85</td>\n",
       "      <td>1000</td>\n",
       "    </tr>\n",
       "    <tr>\n",
       "      <th>3</th>\n",
       "      <td>1000_3</td>\n",
       "      <td>2018-09-21</td>\n",
       "      <td>13.80</td>\n",
       "      <td>1000</td>\n",
       "    </tr>\n",
       "    <tr>\n",
       "      <th>4</th>\n",
       "      <td>1000_4</td>\n",
       "      <td>2018-12-15</td>\n",
       "      <td>5.18</td>\n",
       "      <td>1000</td>\n",
       "    </tr>\n",
       "  </tbody>\n",
       "</table>\n",
       "</div>"
      ],
      "text/plain": [
       "       id   call_date  duration  user_id\n",
       "0  1000_0  2018-07-25      0.00     1000\n",
       "1  1000_1  2018-08-17      0.00     1000\n",
       "2  1000_2  2018-06-11      2.85     1000\n",
       "3  1000_3  2018-09-21     13.80     1000\n",
       "4  1000_4  2018-12-15      5.18     1000"
      ]
     },
     "metadata": {},
     "output_type": "display_data"
    },
    {
     "name": "stdout",
     "output_type": "stream",
     "text": [
      "<class 'pandas.core.frame.DataFrame'>\n",
      "RangeIndex: 202607 entries, 0 to 202606\n",
      "Data columns (total 4 columns):\n",
      " #   Column     Non-Null Count   Dtype  \n",
      "---  ------     --------------   -----  \n",
      " 0   id         202607 non-null  object \n",
      " 1   call_date  202607 non-null  object \n",
      " 2   duration   202607 non-null  float64\n",
      " 3   user_id    202607 non-null  int64  \n",
      "dtypes: float64(1), int64(1), object(2)\n",
      "memory usage: 6.2+ MB\n",
      "\n"
     ]
    },
    {
     "data": {
      "text/html": [
       "<div>\n",
       "<style scoped>\n",
       "    .dataframe tbody tr th:only-of-type {\n",
       "        vertical-align: middle;\n",
       "    }\n",
       "\n",
       "    .dataframe tbody tr th {\n",
       "        vertical-align: top;\n",
       "    }\n",
       "\n",
       "    .dataframe thead th {\n",
       "        text-align: right;\n",
       "    }\n",
       "</style>\n",
       "<table border=\"1\" class=\"dataframe\">\n",
       "  <thead>\n",
       "    <tr style=\"text-align: right;\">\n",
       "      <th></th>\n",
       "      <th>Unnamed: 0</th>\n",
       "      <th>id</th>\n",
       "      <th>mb_used</th>\n",
       "      <th>session_date</th>\n",
       "      <th>user_id</th>\n",
       "    </tr>\n",
       "  </thead>\n",
       "  <tbody>\n",
       "    <tr>\n",
       "      <th>0</th>\n",
       "      <td>0</td>\n",
       "      <td>1000_0</td>\n",
       "      <td>112.95</td>\n",
       "      <td>2018-11-25</td>\n",
       "      <td>1000</td>\n",
       "    </tr>\n",
       "    <tr>\n",
       "      <th>1</th>\n",
       "      <td>1</td>\n",
       "      <td>1000_1</td>\n",
       "      <td>1052.81</td>\n",
       "      <td>2018-09-07</td>\n",
       "      <td>1000</td>\n",
       "    </tr>\n",
       "    <tr>\n",
       "      <th>2</th>\n",
       "      <td>2</td>\n",
       "      <td>1000_2</td>\n",
       "      <td>1197.26</td>\n",
       "      <td>2018-06-25</td>\n",
       "      <td>1000</td>\n",
       "    </tr>\n",
       "    <tr>\n",
       "      <th>3</th>\n",
       "      <td>3</td>\n",
       "      <td>1000_3</td>\n",
       "      <td>550.27</td>\n",
       "      <td>2018-08-22</td>\n",
       "      <td>1000</td>\n",
       "    </tr>\n",
       "    <tr>\n",
       "      <th>4</th>\n",
       "      <td>4</td>\n",
       "      <td>1000_4</td>\n",
       "      <td>302.56</td>\n",
       "      <td>2018-09-24</td>\n",
       "      <td>1000</td>\n",
       "    </tr>\n",
       "  </tbody>\n",
       "</table>\n",
       "</div>"
      ],
      "text/plain": [
       "   Unnamed: 0      id  mb_used session_date  user_id\n",
       "0           0  1000_0   112.95   2018-11-25     1000\n",
       "1           1  1000_1  1052.81   2018-09-07     1000\n",
       "2           2  1000_2  1197.26   2018-06-25     1000\n",
       "3           3  1000_3   550.27   2018-08-22     1000\n",
       "4           4  1000_4   302.56   2018-09-24     1000"
      ]
     },
     "metadata": {},
     "output_type": "display_data"
    },
    {
     "name": "stdout",
     "output_type": "stream",
     "text": [
      "<class 'pandas.core.frame.DataFrame'>\n",
      "RangeIndex: 149396 entries, 0 to 149395\n",
      "Data columns (total 5 columns):\n",
      " #   Column        Non-Null Count   Dtype  \n",
      "---  ------        --------------   -----  \n",
      " 0   Unnamed: 0    149396 non-null  int64  \n",
      " 1   id            149396 non-null  object \n",
      " 2   mb_used       149396 non-null  float64\n",
      " 3   session_date  149396 non-null  object \n",
      " 4   user_id       149396 non-null  int64  \n",
      "dtypes: float64(1), int64(2), object(2)\n",
      "memory usage: 5.7+ MB\n",
      "\n"
     ]
    },
    {
     "data": {
      "text/html": [
       "<div>\n",
       "<style scoped>\n",
       "    .dataframe tbody tr th:only-of-type {\n",
       "        vertical-align: middle;\n",
       "    }\n",
       "\n",
       "    .dataframe tbody tr th {\n",
       "        vertical-align: top;\n",
       "    }\n",
       "\n",
       "    .dataframe thead th {\n",
       "        text-align: right;\n",
       "    }\n",
       "</style>\n",
       "<table border=\"1\" class=\"dataframe\">\n",
       "  <thead>\n",
       "    <tr style=\"text-align: right;\">\n",
       "      <th></th>\n",
       "      <th>id</th>\n",
       "      <th>message_date</th>\n",
       "      <th>user_id</th>\n",
       "    </tr>\n",
       "  </thead>\n",
       "  <tbody>\n",
       "    <tr>\n",
       "      <th>0</th>\n",
       "      <td>1000_0</td>\n",
       "      <td>2018-06-27</td>\n",
       "      <td>1000</td>\n",
       "    </tr>\n",
       "    <tr>\n",
       "      <th>1</th>\n",
       "      <td>1000_1</td>\n",
       "      <td>2018-10-08</td>\n",
       "      <td>1000</td>\n",
       "    </tr>\n",
       "    <tr>\n",
       "      <th>2</th>\n",
       "      <td>1000_2</td>\n",
       "      <td>2018-08-04</td>\n",
       "      <td>1000</td>\n",
       "    </tr>\n",
       "    <tr>\n",
       "      <th>3</th>\n",
       "      <td>1000_3</td>\n",
       "      <td>2018-06-16</td>\n",
       "      <td>1000</td>\n",
       "    </tr>\n",
       "    <tr>\n",
       "      <th>4</th>\n",
       "      <td>1000_4</td>\n",
       "      <td>2018-12-05</td>\n",
       "      <td>1000</td>\n",
       "    </tr>\n",
       "  </tbody>\n",
       "</table>\n",
       "</div>"
      ],
      "text/plain": [
       "       id message_date  user_id\n",
       "0  1000_0   2018-06-27     1000\n",
       "1  1000_1   2018-10-08     1000\n",
       "2  1000_2   2018-08-04     1000\n",
       "3  1000_3   2018-06-16     1000\n",
       "4  1000_4   2018-12-05     1000"
      ]
     },
     "metadata": {},
     "output_type": "display_data"
    },
    {
     "name": "stdout",
     "output_type": "stream",
     "text": [
      "<class 'pandas.core.frame.DataFrame'>\n",
      "RangeIndex: 123036 entries, 0 to 123035\n",
      "Data columns (total 3 columns):\n",
      " #   Column        Non-Null Count   Dtype \n",
      "---  ------        --------------   ----- \n",
      " 0   id            123036 non-null  object\n",
      " 1   message_date  123036 non-null  object\n",
      " 2   user_id       123036 non-null  int64 \n",
      "dtypes: int64(1), object(2)\n",
      "memory usage: 2.8+ MB\n",
      "\n"
     ]
    },
    {
     "data": {
      "text/html": [
       "<div>\n",
       "<style scoped>\n",
       "    .dataframe tbody tr th:only-of-type {\n",
       "        vertical-align: middle;\n",
       "    }\n",
       "\n",
       "    .dataframe tbody tr th {\n",
       "        vertical-align: top;\n",
       "    }\n",
       "\n",
       "    .dataframe thead th {\n",
       "        text-align: right;\n",
       "    }\n",
       "</style>\n",
       "<table border=\"1\" class=\"dataframe\">\n",
       "  <thead>\n",
       "    <tr style=\"text-align: right;\">\n",
       "      <th></th>\n",
       "      <th>messages_included</th>\n",
       "      <th>mb_per_month_included</th>\n",
       "      <th>minutes_included</th>\n",
       "      <th>rub_monthly_fee</th>\n",
       "      <th>rub_per_gb</th>\n",
       "      <th>rub_per_message</th>\n",
       "      <th>rub_per_minute</th>\n",
       "      <th>tariff_name</th>\n",
       "    </tr>\n",
       "  </thead>\n",
       "  <tbody>\n",
       "    <tr>\n",
       "      <th>0</th>\n",
       "      <td>50</td>\n",
       "      <td>15360</td>\n",
       "      <td>500</td>\n",
       "      <td>550</td>\n",
       "      <td>200</td>\n",
       "      <td>3</td>\n",
       "      <td>3</td>\n",
       "      <td>smart</td>\n",
       "    </tr>\n",
       "    <tr>\n",
       "      <th>1</th>\n",
       "      <td>1000</td>\n",
       "      <td>30720</td>\n",
       "      <td>3000</td>\n",
       "      <td>1950</td>\n",
       "      <td>150</td>\n",
       "      <td>1</td>\n",
       "      <td>1</td>\n",
       "      <td>ultra</td>\n",
       "    </tr>\n",
       "  </tbody>\n",
       "</table>\n",
       "</div>"
      ],
      "text/plain": [
       "   messages_included  mb_per_month_included  minutes_included  \\\n",
       "0                 50                  15360               500   \n",
       "1               1000                  30720              3000   \n",
       "\n",
       "   rub_monthly_fee  rub_per_gb  rub_per_message  rub_per_minute tariff_name  \n",
       "0              550         200                3               3       smart  \n",
       "1             1950         150                1               1       ultra  "
      ]
     },
     "metadata": {},
     "output_type": "display_data"
    },
    {
     "name": "stdout",
     "output_type": "stream",
     "text": [
      "<class 'pandas.core.frame.DataFrame'>\n",
      "RangeIndex: 2 entries, 0 to 1\n",
      "Data columns (total 8 columns):\n",
      " #   Column                 Non-Null Count  Dtype \n",
      "---  ------                 --------------  ----- \n",
      " 0   messages_included      2 non-null      int64 \n",
      " 1   mb_per_month_included  2 non-null      int64 \n",
      " 2   minutes_included       2 non-null      int64 \n",
      " 3   rub_monthly_fee        2 non-null      int64 \n",
      " 4   rub_per_gb             2 non-null      int64 \n",
      " 5   rub_per_message        2 non-null      int64 \n",
      " 6   rub_per_minute         2 non-null      int64 \n",
      " 7   tariff_name            2 non-null      object\n",
      "dtypes: int64(7), object(1)\n",
      "memory usage: 256.0+ bytes\n",
      "\n"
     ]
    },
    {
     "data": {
      "text/html": [
       "<div>\n",
       "<style scoped>\n",
       "    .dataframe tbody tr th:only-of-type {\n",
       "        vertical-align: middle;\n",
       "    }\n",
       "\n",
       "    .dataframe tbody tr th {\n",
       "        vertical-align: top;\n",
       "    }\n",
       "\n",
       "    .dataframe thead th {\n",
       "        text-align: right;\n",
       "    }\n",
       "</style>\n",
       "<table border=\"1\" class=\"dataframe\">\n",
       "  <thead>\n",
       "    <tr style=\"text-align: right;\">\n",
       "      <th></th>\n",
       "      <th>user_id</th>\n",
       "      <th>age</th>\n",
       "      <th>churn_date</th>\n",
       "      <th>city</th>\n",
       "      <th>first_name</th>\n",
       "      <th>last_name</th>\n",
       "      <th>reg_date</th>\n",
       "      <th>tariff</th>\n",
       "    </tr>\n",
       "  </thead>\n",
       "  <tbody>\n",
       "    <tr>\n",
       "      <th>0</th>\n",
       "      <td>1000</td>\n",
       "      <td>52</td>\n",
       "      <td>NaN</td>\n",
       "      <td>Краснодар</td>\n",
       "      <td>Рафаил</td>\n",
       "      <td>Верещагин</td>\n",
       "      <td>2018-05-25</td>\n",
       "      <td>ultra</td>\n",
       "    </tr>\n",
       "    <tr>\n",
       "      <th>1</th>\n",
       "      <td>1001</td>\n",
       "      <td>41</td>\n",
       "      <td>NaN</td>\n",
       "      <td>Москва</td>\n",
       "      <td>Иван</td>\n",
       "      <td>Ежов</td>\n",
       "      <td>2018-11-01</td>\n",
       "      <td>smart</td>\n",
       "    </tr>\n",
       "    <tr>\n",
       "      <th>2</th>\n",
       "      <td>1002</td>\n",
       "      <td>59</td>\n",
       "      <td>NaN</td>\n",
       "      <td>Стерлитамак</td>\n",
       "      <td>Евгений</td>\n",
       "      <td>Абрамович</td>\n",
       "      <td>2018-06-17</td>\n",
       "      <td>smart</td>\n",
       "    </tr>\n",
       "    <tr>\n",
       "      <th>3</th>\n",
       "      <td>1003</td>\n",
       "      <td>23</td>\n",
       "      <td>NaN</td>\n",
       "      <td>Москва</td>\n",
       "      <td>Белла</td>\n",
       "      <td>Белякова</td>\n",
       "      <td>2018-08-17</td>\n",
       "      <td>ultra</td>\n",
       "    </tr>\n",
       "    <tr>\n",
       "      <th>4</th>\n",
       "      <td>1004</td>\n",
       "      <td>68</td>\n",
       "      <td>NaN</td>\n",
       "      <td>Новокузнецк</td>\n",
       "      <td>Татьяна</td>\n",
       "      <td>Авдеенко</td>\n",
       "      <td>2018-05-14</td>\n",
       "      <td>ultra</td>\n",
       "    </tr>\n",
       "  </tbody>\n",
       "</table>\n",
       "</div>"
      ],
      "text/plain": [
       "   user_id  age churn_date         city first_name  last_name    reg_date  \\\n",
       "0     1000   52        NaN    Краснодар     Рафаил  Верещагин  2018-05-25   \n",
       "1     1001   41        NaN       Москва       Иван       Ежов  2018-11-01   \n",
       "2     1002   59        NaN  Стерлитамак    Евгений  Абрамович  2018-06-17   \n",
       "3     1003   23        NaN       Москва      Белла   Белякова  2018-08-17   \n",
       "4     1004   68        NaN  Новокузнецк    Татьяна   Авдеенко  2018-05-14   \n",
       "\n",
       "  tariff  \n",
       "0  ultra  \n",
       "1  smart  \n",
       "2  smart  \n",
       "3  ultra  \n",
       "4  ultra  "
      ]
     },
     "metadata": {},
     "output_type": "display_data"
    },
    {
     "name": "stdout",
     "output_type": "stream",
     "text": [
      "<class 'pandas.core.frame.DataFrame'>\n",
      "RangeIndex: 500 entries, 0 to 499\n",
      "Data columns (total 8 columns):\n",
      " #   Column      Non-Null Count  Dtype \n",
      "---  ------      --------------  ----- \n",
      " 0   user_id     500 non-null    int64 \n",
      " 1   age         500 non-null    int64 \n",
      " 2   churn_date  38 non-null     object\n",
      " 3   city        500 non-null    object\n",
      " 4   first_name  500 non-null    object\n",
      " 5   last_name   500 non-null    object\n",
      " 6   reg_date    500 non-null    object\n",
      " 7   tariff      500 non-null    object\n",
      "dtypes: int64(2), object(6)\n",
      "memory usage: 31.4+ KB\n",
      "\n"
     ]
    }
   ],
   "source": [
    "dfs = [calls, internet, messages, tariffs, users]\n",
    "for df in dfs:\n",
    "    display(df.head())\n",
    "    df.info()\n",
    "    print()"
   ]
  },
  {
   "cell_type": "markdown",
   "id": "a8665f3e",
   "metadata": {},
   "source": [
    "\n",
    "### Вывод\n",
    "* Данные представлены пятью таблицами с разным содержанием, но в каждой таблице есть столбец `user_id`\n",
    "* Очевидных пропусков в данных нет, в таблице `users` есть 462 пропуска в столбце `churn_date`, о которых нам в заранее известно из документации - это значит, что пользователь на момент выгрузки данных еще пользовался тарифом.\n",
    "* На текущем этапе **объединение датасетов нецелесообразно**, сперва подготовим таблицы.\n",
    "* Таблица с тарифами имеет всего 2 строки, однако для удобства переведем пакет интернет-трафика в гигабайты."
   ]
  },
  {
   "cell_type": "markdown",
   "id": "c29bef2f",
   "metadata": {},
   "source": [
    "## Подготовка данных\n",
    "### Исправление данных"
   ]
  },
  {
   "cell_type": "markdown",
   "id": "5f4d4431",
   "metadata": {},
   "source": [
    "**Приведение столбцов с датой в формат `datetime`.** \n",
    "\n",
    "Подаём циклу, перебирающему таблички, нашу функцию (по сути получается вложенный цикл): пробегаемся по всем столбцам всех таблиц и если в имени столбца встречается `date`, то преобразуем все значения этого столбца в формат `datetime`."
   ]
  },
  {
   "cell_type": "code",
   "execution_count": 6,
   "id": "19cfdd6d",
   "metadata": {},
   "outputs": [],
   "source": [
    "def datetime(df):\n",
    "    for column in df.columns:\n",
    "        if 'date' in column:\n",
    "            df[column] = pd.to_datetime(df[column], format=('%Y-%m-%d'))\n",
    "for df in dfs:\n",
    "    datetime(df)"
   ]
  },
  {
   "cell_type": "markdown",
   "id": "608a64a9",
   "metadata": {},
   "source": [
    "Проверим, взглянув на таблицу с пользователями."
   ]
  },
  {
   "cell_type": "code",
   "execution_count": 7,
   "id": "b4618b45",
   "metadata": {},
   "outputs": [
    {
     "name": "stdout",
     "output_type": "stream",
     "text": [
      "<class 'pandas.core.frame.DataFrame'>\n",
      "RangeIndex: 500 entries, 0 to 499\n",
      "Data columns (total 8 columns):\n",
      " #   Column      Non-Null Count  Dtype         \n",
      "---  ------      --------------  -----         \n",
      " 0   user_id     500 non-null    int64         \n",
      " 1   age         500 non-null    int64         \n",
      " 2   churn_date  38 non-null     datetime64[ns]\n",
      " 3   city        500 non-null    object        \n",
      " 4   first_name  500 non-null    object        \n",
      " 5   last_name   500 non-null    object        \n",
      " 6   reg_date    500 non-null    datetime64[ns]\n",
      " 7   tariff      500 non-null    object        \n",
      "dtypes: datetime64[ns](2), int64(2), object(4)\n",
      "memory usage: 31.4+ KB\n"
     ]
    }
   ],
   "source": [
    "users.info()"
   ]
  },
  {
   "cell_type": "markdown",
   "id": "7433a731",
   "metadata": {},
   "source": [
    "#### Таблица с информацией о звонках"
   ]
  },
  {
   "cell_type": "markdown",
   "id": "b1908b97",
   "metadata": {},
   "source": [
    "Нам известно, что пользователей в нашей выгрузке 500. Проверим, для каждого ли пользователя есть данные о звонках."
   ]
  },
  {
   "cell_type": "code",
   "execution_count": 8,
   "id": "bf6185c1",
   "metadata": {},
   "outputs": [
    {
     "data": {
      "text/plain": [
       "492"
      ]
     },
     "execution_count": 8,
     "metadata": {},
     "output_type": "execute_result"
    }
   ],
   "source": [
    "len(calls['user_id'].unique())"
   ]
  },
  {
   "cell_type": "markdown",
   "id": "ef0183a5",
   "metadata": {},
   "source": [
    "Предположим, что 8 абонентов совсем не пользуются голосовой связью.\n",
    "\n",
    "Конвертируем длительность звонков в минуты с округлением вверх. Но сперва взглянем, как вообще распределена длительность звонков."
   ]
  },
  {
   "cell_type": "code",
   "execution_count": 9,
   "id": "32d543a1",
   "metadata": {},
   "outputs": [
    {
     "data": {
      "image/png": "[encoded data removed]",
      "text/plain": [
       "<Figure size 432x288 with 1 Axes>"
      ]
     },
     "metadata": {
      "needs_background": "light"
     },
     "output_type": "display_data"
    }
   ],
   "source": [
    "calls['duration'].hist();\n",
    "plt.xlabel(\"Длительность звонка в секундах\");\n",
    "plt.ylabel(\"Количество звонков\");\n",
    "plt.title(\"Гистограмма для длительности звонков\", fontsize=16);"
   ]
  },
  {
   "cell_type": "markdown",
   "id": "e9d8783c",
   "metadata": {},
   "source": [
    "Любопытно, что среди 200 тысяч звонков нет длительностью более 40 секунд... Тем не менее, конвертируем в минуты.\n",
    "\n",
    "Функция универсальная для деления с округлением вверх, хотя в данном конкретном можно было бы поступить проще: любое ненулевое число заменить единицей."
   ]
  },
  {
   "cell_type": "code",
   "execution_count": 10,
   "id": "efe056ef",
   "metadata": {},
   "outputs": [],
   "source": [
    "from math import ceil\n",
    "def round_up(x, denominator=60):\n",
    "    return ceil(x/denominator)\n",
    "\n",
    "calls['duration'] = calls['duration'].apply(round_up)"
   ]
  },
  {
   "cell_type": "markdown",
   "id": "a803462f",
   "metadata": {},
   "source": [
    "#### Таблица с информацией об интернет-сессиях"
   ]
  },
  {
   "cell_type": "markdown",
   "id": "6dfa9117",
   "metadata": {},
   "source": [
    "Сразу удалим столбец, дублирующий индексы."
   ]
  },
  {
   "cell_type": "code",
   "execution_count": 11,
   "id": "6eb68f4f",
   "metadata": {},
   "outputs": [
    {
     "data": {
      "text/html": [
       "<div>\n",
       "<style scoped>\n",
       "    .dataframe tbody tr th:only-of-type {\n",
       "        vertical-align: middle;\n",
       "    }\n",
       "\n",
       "    .dataframe tbody tr th {\n",
       "        vertical-align: top;\n",
       "    }\n",
       "\n",
       "    .dataframe thead th {\n",
       "        text-align: right;\n",
       "    }\n",
       "</style>\n",
       "<table border=\"1\" class=\"dataframe\">\n",
       "  <thead>\n",
       "    <tr style=\"text-align: right;\">\n",
       "      <th></th>\n",
       "      <th>id</th>\n",
       "      <th>mb_used</th>\n",
       "      <th>session_date</th>\n",
       "      <th>user_id</th>\n",
       "    </tr>\n",
       "  </thead>\n",
       "  <tbody>\n",
       "    <tr>\n",
       "      <th>0</th>\n",
       "      <td>1000_0</td>\n",
       "      <td>112.95</td>\n",
       "      <td>2018-11-25</td>\n",
       "      <td>1000</td>\n",
       "    </tr>\n",
       "    <tr>\n",
       "      <th>1</th>\n",
       "      <td>1000_1</td>\n",
       "      <td>1052.81</td>\n",
       "      <td>2018-09-07</td>\n",
       "      <td>1000</td>\n",
       "    </tr>\n",
       "    <tr>\n",
       "      <th>2</th>\n",
       "      <td>1000_2</td>\n",
       "      <td>1197.26</td>\n",
       "      <td>2018-06-25</td>\n",
       "      <td>1000</td>\n",
       "    </tr>\n",
       "    <tr>\n",
       "      <th>3</th>\n",
       "      <td>1000_3</td>\n",
       "      <td>550.27</td>\n",
       "      <td>2018-08-22</td>\n",
       "      <td>1000</td>\n",
       "    </tr>\n",
       "    <tr>\n",
       "      <th>4</th>\n",
       "      <td>1000_4</td>\n",
       "      <td>302.56</td>\n",
       "      <td>2018-09-24</td>\n",
       "      <td>1000</td>\n",
       "    </tr>\n",
       "  </tbody>\n",
       "</table>\n",
       "</div>"
      ],
      "text/plain": [
       "       id  mb_used session_date  user_id\n",
       "0  1000_0   112.95   2018-11-25     1000\n",
       "1  1000_1  1052.81   2018-09-07     1000\n",
       "2  1000_2  1197.26   2018-06-25     1000\n",
       "3  1000_3   550.27   2018-08-22     1000\n",
       "4  1000_4   302.56   2018-09-24     1000"
      ]
     },
     "execution_count": 11,
     "metadata": {},
     "output_type": "execute_result"
    }
   ],
   "source": [
    "internet.drop(columns='Unnamed: 0', axis=1, inplace=True)\n",
    "internet.head()"
   ]
  },
  {
   "cell_type": "code",
   "execution_count": 12,
   "id": "05c35ffe",
   "metadata": {},
   "outputs": [
    {
     "data": {
      "text/plain": [
       "497"
      ]
     },
     "execution_count": 12,
     "metadata": {},
     "output_type": "execute_result"
    }
   ],
   "source": [
    "len(internet['user_id'].unique())"
   ]
  },
  {
   "cell_type": "markdown",
   "id": "1f6f68d7",
   "metadata": {},
   "source": [
    "3 абонента совсем не пользовались мобильным интернетом. Такое вполне может быть."
   ]
  },
  {
   "cell_type": "markdown",
   "id": "94d918d3",
   "metadata": {},
   "source": [
    "#### Таблица с информацией о сообщениях"
   ]
  },
  {
   "cell_type": "code",
   "execution_count": 13,
   "id": "8d2731ea",
   "metadata": {},
   "outputs": [
    {
     "data": {
      "text/plain": [
       "426"
      ]
     },
     "execution_count": 13,
     "metadata": {},
     "output_type": "execute_result"
    }
   ],
   "source": [
    "len(messages['user_id'].unique())"
   ]
  },
  {
   "cell_type": "markdown",
   "id": "bcd3b025",
   "metadata": {},
   "source": [
    "Опять же предполагаем, что 74 пациента не пользовались сообщениями."
   ]
  },
  {
   "cell_type": "markdown",
   "id": "30c197a1",
   "metadata": {},
   "source": [
    "#### Таблица с информацией о пользователях"
   ]
  },
  {
   "cell_type": "markdown",
   "id": "efbda72f",
   "metadata": {},
   "source": [
    "Посмотрим, как распределены значения в разных столбцах."
   ]
  },
  {
   "cell_type": "code",
   "execution_count": 14,
   "id": "b22accc9",
   "metadata": {},
   "outputs": [
    {
     "data": {
      "image/png": "[encoded data removed]",
      "text/plain": [
       "<Figure size 432x288 with 1 Axes>"
      ]
     },
     "metadata": {
      "needs_background": "light"
     },
     "output_type": "display_data"
    }
   ],
   "source": [
    "sns.countplot(x=users['tariff']);\n",
    "plt.xlabel(\"Тариф пользователя\");\n",
    "plt.ylabel(\"Количество пользователей\");\n",
    "plt.title(\"Диаграмма распределения абонентов по тарифам\", fontsize=16);"
   ]
  },
  {
   "cell_type": "code",
   "execution_count": 15,
   "id": "8fbc483b",
   "metadata": {},
   "outputs": [
    {
     "data": {
      "text/plain": [
       "count    500.00000\n",
       "mean      46.58800\n",
       "std       16.66763\n",
       "min       18.00000\n",
       "25%       32.00000\n",
       "50%       46.00000\n",
       "75%       62.00000\n",
       "max       75.00000\n",
       "Name: age, dtype: float64"
      ]
     },
     "execution_count": 15,
     "metadata": {},
     "output_type": "execute_result"
    }
   ],
   "source": [
    "users['age'].describe()"
   ]
  },
  {
   "cell_type": "code",
   "execution_count": 16,
   "id": "c9862c4b",
   "metadata": {},
   "outputs": [
    {
     "data": {
      "image/png": "[encoded data removed]",
      "text/plain": [
       "<Figure size 432x288 with 1 Axes>"
      ]
     },
     "metadata": {
      "needs_background": "light"
     },
     "output_type": "display_data"
    }
   ],
   "source": [
    "users['reg_date'].hist(bins=12);\n",
    "plt.title('Гистограмма для даты регистрации пользователей', fontsize=16);"
   ]
  },
  {
   "cell_type": "markdown",
   "id": "f132b9da",
   "metadata": {},
   "source": [
    "#### Таблица с информацией о тарифах"
   ]
  },
  {
   "cell_type": "code",
   "execution_count": 17,
   "id": "c88dd1ae",
   "metadata": {},
   "outputs": [
    {
     "data": {
      "text/html": [
       "<div>\n",
       "<style scoped>\n",
       "    .dataframe tbody tr th:only-of-type {\n",
       "        vertical-align: middle;\n",
       "    }\n",
       "\n",
       "    .dataframe tbody tr th {\n",
       "        vertical-align: top;\n",
       "    }\n",
       "\n",
       "    .dataframe thead th {\n",
       "        text-align: right;\n",
       "    }\n",
       "</style>\n",
       "<table border=\"1\" class=\"dataframe\">\n",
       "  <thead>\n",
       "    <tr style=\"text-align: right;\">\n",
       "      <th></th>\n",
       "      <th>messages_included</th>\n",
       "      <th>gb_per_month_included</th>\n",
       "      <th>minutes_included</th>\n",
       "      <th>rub_monthly_fee</th>\n",
       "      <th>rub_per_gb</th>\n",
       "      <th>rub_per_message</th>\n",
       "      <th>rub_per_minute</th>\n",
       "      <th>tariff_name</th>\n",
       "    </tr>\n",
       "  </thead>\n",
       "  <tbody>\n",
       "    <tr>\n",
       "      <th>0</th>\n",
       "      <td>50</td>\n",
       "      <td>15.0</td>\n",
       "      <td>500</td>\n",
       "      <td>550</td>\n",
       "      <td>200</td>\n",
       "      <td>3</td>\n",
       "      <td>3</td>\n",
       "      <td>smart</td>\n",
       "    </tr>\n",
       "    <tr>\n",
       "      <th>1</th>\n",
       "      <td>1000</td>\n",
       "      <td>30.0</td>\n",
       "      <td>3000</td>\n",
       "      <td>1950</td>\n",
       "      <td>150</td>\n",
       "      <td>1</td>\n",
       "      <td>1</td>\n",
       "      <td>ultra</td>\n",
       "    </tr>\n",
       "  </tbody>\n",
       "</table>\n",
       "</div>"
      ],
      "text/plain": [
       "   messages_included  gb_per_month_included  minutes_included  \\\n",
       "0                 50                   15.0               500   \n",
       "1               1000                   30.0              3000   \n",
       "\n",
       "   rub_monthly_fee  rub_per_gb  rub_per_message  rub_per_minute tariff_name  \n",
       "0              550         200                3               3       smart  \n",
       "1             1950         150                1               1       ultra  "
      ]
     },
     "execution_count": 17,
     "metadata": {},
     "output_type": "execute_result"
    }
   ],
   "source": [
    "tariffs.rename(columns={'mb_per_month_included':'gb_per_month_included'}, inplace=True)\n",
    "tariffs['gb_per_month_included'] = (tariffs['gb_per_month_included'] / 1024)\n",
    "tariffs"
   ]
  },
  {
   "cell_type": "markdown",
   "id": "dd2ad113",
   "metadata": {},
   "source": [
    "### Вывод\n",
    "* Столбцы с датой во всех датасетах преобразовали в тип данных `datetime` для удобства дальнейшего анализа.\n",
    "* В **таблице со звонками**: \n",
    "  * отсутствуют данные для 8 пользователей, вероятно они не совершали звонки в течение года.\n",
    "  * длительность звонков выглядит очень странно: в течение всего года среди 500 абонентов и 200 тысяч звонков не было разговоров длительностью более 40 секунд.\n",
    "  * длительность звонков конвертировали из секунд в минуты с округлением в большую сторону. \n",
    "* В **таблице с информацией об интернет-сессиях**: \n",
    "  * удалили столбец, дублирующий индексы;\n",
    "  * нет данных о трех пользователях, видимо они не пользовались интернетом.\n",
    "* В **таблице с сообщениями** отсутствуют данные о 74 пользователях, опять же предполагаем, что они просто не пользовались сообщениями в течение всего года.\n",
    "* В **таблице с информацией о пользователях**:\n",
    "  * Большинство пользователей (2/3) пользовались тарифом smart.\n",
    "  * В столбце возраста все значения выглядят нормально.\n",
    "  * Количество зарегистрированных пользователей распределены примерно равномерно по месяцам в течение года, следует учесть это при дальнейшем анализе.\n",
    "* В **таблице с информацией о тарифах** преобразовали мегабайты в гигабайты."
   ]
  },
  {
   "cell_type": "markdown",
   "id": "f2f6c8d7",
   "metadata": {},
   "source": [
    "### Расчеты для каждого пользователя"
   ]
  },
  {
   "cell_type": "code",
   "execution_count": 18,
   "id": "27824ab8",
   "metadata": {},
   "outputs": [
    {
     "data": {
      "text/html": [
       "<div>\n",
       "<style scoped>\n",
       "    .dataframe tbody tr th:only-of-type {\n",
       "        vertical-align: middle;\n",
       "    }\n",
       "\n",
       "    .dataframe tbody tr th {\n",
       "        vertical-align: top;\n",
       "    }\n",
       "\n",
       "    .dataframe thead th {\n",
       "        text-align: right;\n",
       "    }\n",
       "</style>\n",
       "<table border=\"1\" class=\"dataframe\">\n",
       "  <thead>\n",
       "    <tr style=\"text-align: right;\">\n",
       "      <th></th>\n",
       "      <th>user_id</th>\n",
       "      <th>age</th>\n",
       "      <th>churn_date</th>\n",
       "      <th>city</th>\n",
       "      <th>first_name</th>\n",
       "      <th>last_name</th>\n",
       "      <th>reg_date</th>\n",
       "      <th>tariff</th>\n",
       "    </tr>\n",
       "  </thead>\n",
       "  <tbody>\n",
       "    <tr>\n",
       "      <th>0</th>\n",
       "      <td>1000</td>\n",
       "      <td>52</td>\n",
       "      <td>NaT</td>\n",
       "      <td>Краснодар</td>\n",
       "      <td>Рафаил</td>\n",
       "      <td>Верещагин</td>\n",
       "      <td>2018-05-25</td>\n",
       "      <td>ultra</td>\n",
       "    </tr>\n",
       "    <tr>\n",
       "      <th>1</th>\n",
       "      <td>1001</td>\n",
       "      <td>41</td>\n",
       "      <td>NaT</td>\n",
       "      <td>Москва</td>\n",
       "      <td>Иван</td>\n",
       "      <td>Ежов</td>\n",
       "      <td>2018-11-01</td>\n",
       "      <td>smart</td>\n",
       "    </tr>\n",
       "  </tbody>\n",
       "</table>\n",
       "</div>"
      ],
      "text/plain": [
       "   user_id  age churn_date       city first_name  last_name   reg_date tariff\n",
       "0     1000   52        NaT  Краснодар     Рафаил  Верещагин 2018-05-25  ultra\n",
       "1     1001   41        NaT     Москва       Иван       Ежов 2018-11-01  smart"
      ]
     },
     "execution_count": 18,
     "metadata": {},
     "output_type": "execute_result"
    }
   ],
   "source": [
    "users.head(2)"
   ]
  },
  {
   "cell_type": "markdown",
   "id": "c7da5dc8",
   "metadata": {},
   "source": [
    "#### Количество сделанных звонков и израсходованных минут разговора по месяцам\n"
   ]
  },
  {
   "cell_type": "code",
   "execution_count": 19,
   "id": "9a7763c4",
   "metadata": {},
   "outputs": [
    {
     "data": {
      "text/html": [
       "<div>\n",
       "<style scoped>\n",
       "    .dataframe tbody tr th:only-of-type {\n",
       "        vertical-align: middle;\n",
       "    }\n",
       "\n",
       "    .dataframe tbody tr th {\n",
       "        vertical-align: top;\n",
       "    }\n",
       "\n",
       "    .dataframe thead th {\n",
       "        text-align: right;\n",
       "    }\n",
       "</style>\n",
       "<table border=\"1\" class=\"dataframe\">\n",
       "  <thead>\n",
       "    <tr style=\"text-align: right;\">\n",
       "      <th></th>\n",
       "      <th></th>\n",
       "      <th>calls_count</th>\n",
       "      <th>calls_minutes</th>\n",
       "    </tr>\n",
       "    <tr>\n",
       "      <th>user_id</th>\n",
       "      <th>month</th>\n",
       "      <th></th>\n",
       "      <th></th>\n",
       "    </tr>\n",
       "  </thead>\n",
       "  <tbody>\n",
       "    <tr>\n",
       "      <th rowspan=\"5\" valign=\"top\">1000</th>\n",
       "      <th>5</th>\n",
       "      <td>22</td>\n",
       "      <td>17</td>\n",
       "    </tr>\n",
       "    <tr>\n",
       "      <th>6</th>\n",
       "      <td>43</td>\n",
       "      <td>28</td>\n",
       "    </tr>\n",
       "    <tr>\n",
       "      <th>7</th>\n",
       "      <td>47</td>\n",
       "      <td>41</td>\n",
       "    </tr>\n",
       "    <tr>\n",
       "      <th>8</th>\n",
       "      <td>52</td>\n",
       "      <td>42</td>\n",
       "    </tr>\n",
       "    <tr>\n",
       "      <th>9</th>\n",
       "      <td>58</td>\n",
       "      <td>46</td>\n",
       "    </tr>\n",
       "  </tbody>\n",
       "</table>\n",
       "</div>"
      ],
      "text/plain": [
       "               calls_count  calls_minutes\n",
       "user_id month                            \n",
       "1000    5               22             17\n",
       "        6               43             28\n",
       "        7               47             41\n",
       "        8               52             42\n",
       "        9               58             46"
      ]
     },
     "execution_count": 19,
     "metadata": {},
     "output_type": "execute_result"
    }
   ],
   "source": [
    "calls_by_month = calls.pivot_table(\n",
    "                    values='duration', \n",
    "                    index=['user_id', calls['call_date'].dt.month],\n",
    "                    aggfunc=['count', 'sum'])\n",
    "calls_by_month.index.names = ['user_id', 'month']\n",
    "calls_by_month.columns = ['calls_count', 'calls_minutes']\n",
    "calls_by_month.head()"
   ]
  },
  {
   "cell_type": "code",
   "execution_count": 20,
   "id": "24101235",
   "metadata": {},
   "outputs": [
    {
     "data": {
      "text/plain": [
       "array([2018], dtype=int64)"
      ]
     },
     "execution_count": 20,
     "metadata": {},
     "output_type": "execute_result"
    }
   ],
   "source": [
    "calls['call_date'].dt.year.unique()"
   ]
  },
  {
   "cell_type": "markdown",
   "id": "211f4a06",
   "metadata": {},
   "source": [
    "#### Количество отправленных сообщений по месяцам"
   ]
  },
  {
   "cell_type": "code",
   "execution_count": 21,
   "id": "82b4c753",
   "metadata": {},
   "outputs": [
    {
     "data": {
      "text/html": [
       "<div>\n",
       "<style scoped>\n",
       "    .dataframe tbody tr th:only-of-type {\n",
       "        vertical-align: middle;\n",
       "    }\n",
       "\n",
       "    .dataframe tbody tr th {\n",
       "        vertical-align: top;\n",
       "    }\n",
       "\n",
       "    .dataframe thead th {\n",
       "        text-align: right;\n",
       "    }\n",
       "</style>\n",
       "<table border=\"1\" class=\"dataframe\">\n",
       "  <thead>\n",
       "    <tr style=\"text-align: right;\">\n",
       "      <th></th>\n",
       "      <th></th>\n",
       "      <th>messages</th>\n",
       "    </tr>\n",
       "    <tr>\n",
       "      <th>user_id</th>\n",
       "      <th>month</th>\n",
       "      <th></th>\n",
       "    </tr>\n",
       "  </thead>\n",
       "  <tbody>\n",
       "    <tr>\n",
       "      <th rowspan=\"5\" valign=\"top\">1000</th>\n",
       "      <th>5</th>\n",
       "      <td>22</td>\n",
       "    </tr>\n",
       "    <tr>\n",
       "      <th>6</th>\n",
       "      <td>60</td>\n",
       "    </tr>\n",
       "    <tr>\n",
       "      <th>7</th>\n",
       "      <td>75</td>\n",
       "    </tr>\n",
       "    <tr>\n",
       "      <th>8</th>\n",
       "      <td>81</td>\n",
       "    </tr>\n",
       "    <tr>\n",
       "      <th>9</th>\n",
       "      <td>57</td>\n",
       "    </tr>\n",
       "  </tbody>\n",
       "</table>\n",
       "</div>"
      ],
      "text/plain": [
       "               messages\n",
       "user_id month          \n",
       "1000    5            22\n",
       "        6            60\n",
       "        7            75\n",
       "        8            81\n",
       "        9            57"
      ]
     },
     "execution_count": 21,
     "metadata": {},
     "output_type": "execute_result"
    }
   ],
   "source": [
    "messages_by_month = messages.pivot_table(\n",
    "                            values='id', \n",
    "                            index=['user_id', messages['message_date'].dt.month],\n",
    "                            aggfunc='count')\n",
    "messages_by_month.index.names = ['user_id', 'month']\n",
    "messages_by_month.columns = ['messages']\n",
    "messages_by_month.head()"
   ]
  },
  {
   "cell_type": "markdown",
   "id": "ebb3b645",
   "metadata": {},
   "source": [
    "#### Объем израсходованного интернет-трафика по месяцам"
   ]
  },
  {
   "cell_type": "markdown",
   "id": "4e1aeef8",
   "metadata": {},
   "source": [
    "Построим сводную таблицу с суммарным использованием интернет-трафика по месяцам для каждого пользователя. После чего применим нашу функцию `round_up` ко всем значениям таблицы, чтобы получить значения в гигабайтах."
   ]
  },
  {
   "cell_type": "code",
   "execution_count": 22,
   "id": "ac81a82f",
   "metadata": {},
   "outputs": [
    {
     "data": {
      "text/html": [
       "<div>\n",
       "<style scoped>\n",
       "    .dataframe tbody tr th:only-of-type {\n",
       "        vertical-align: middle;\n",
       "    }\n",
       "\n",
       "    .dataframe tbody tr th {\n",
       "        vertical-align: top;\n",
       "    }\n",
       "\n",
       "    .dataframe thead th {\n",
       "        text-align: right;\n",
       "    }\n",
       "</style>\n",
       "<table border=\"1\" class=\"dataframe\">\n",
       "  <thead>\n",
       "    <tr style=\"text-align: right;\">\n",
       "      <th></th>\n",
       "      <th></th>\n",
       "      <th>gb_used</th>\n",
       "    </tr>\n",
       "    <tr>\n",
       "      <th>user_id</th>\n",
       "      <th>month</th>\n",
       "      <th></th>\n",
       "    </tr>\n",
       "  </thead>\n",
       "  <tbody>\n",
       "    <tr>\n",
       "      <th rowspan=\"5\" valign=\"top\">1000</th>\n",
       "      <th>5</th>\n",
       "      <td>3</td>\n",
       "    </tr>\n",
       "    <tr>\n",
       "      <th>6</th>\n",
       "      <td>23</td>\n",
       "    </tr>\n",
       "    <tr>\n",
       "      <th>7</th>\n",
       "      <td>14</td>\n",
       "    </tr>\n",
       "    <tr>\n",
       "      <th>8</th>\n",
       "      <td>14</td>\n",
       "    </tr>\n",
       "    <tr>\n",
       "      <th>9</th>\n",
       "      <td>15</td>\n",
       "    </tr>\n",
       "  </tbody>\n",
       "</table>\n",
       "</div>"
      ],
      "text/plain": [
       "               gb_used\n",
       "user_id month         \n",
       "1000    5            3\n",
       "        6           23\n",
       "        7           14\n",
       "        8           14\n",
       "        9           15"
      ]
     },
     "execution_count": 22,
     "metadata": {},
     "output_type": "execute_result"
    }
   ],
   "source": [
    "internet_by_month = internet.pivot_table(\n",
    "                        values='mb_used', \n",
    "                        index=['user_id', internet['session_date'].dt.month], \n",
    "                      \n",
    "                        aggfunc='sum')\n",
    "internet_by_month['mb_used'] = internet_by_month['mb_used'].apply(lambda x: round_up(x, denominator=1024))\n",
    "internet_by_month.index.names = ['user_id', 'month']\n",
    "internet_by_month.columns = ['gb_used']\n",
    "internet_by_month.head()"
   ]
  },
  {
   "cell_type": "markdown",
   "id": "cdedb28b",
   "metadata": {},
   "source": [
    "Теперь соединим 3 наших сводных таблички, полученных выше и отсортируем по возрастанию номера пользователя и месяца пользования."
   ]
  },
  {
   "cell_type": "code",
   "execution_count": 23,
   "id": "2c6e73c8",
   "metadata": {},
   "outputs": [],
   "source": [
    "df_total = pd.concat(\n",
    "    objs=[calls_by_month, messages_by_month, internet_by_month],\n",
    "    join='outer',\n",
    "    axis=1).sort_values(by=['user_id','month']).reset_index()"
   ]
  },
  {
   "cell_type": "markdown",
   "id": "25d4507e",
   "metadata": {},
   "source": [
    "Однако, после такого объединения из-за разного размера сводных таблиц у нас появилось много пропусков - заполним их нулями, чтобы они не помешали при расчетах."
   ]
  },
  {
   "cell_type": "code",
   "execution_count": 24,
   "id": "1d7b263f",
   "metadata": {},
   "outputs": [],
   "source": [
    "df_total.fillna(0, inplace=True)"
   ]
  },
  {
   "cell_type": "markdown",
   "id": "801a0a30",
   "metadata": {},
   "source": [
    "Посмотрим, сколько у нас в итоговой таблице уникальных абонентов."
   ]
  },
  {
   "cell_type": "code",
   "execution_count": 25,
   "id": "cab7535c",
   "metadata": {},
   "outputs": [
    {
     "data": {
      "text/plain": [
       "498"
      ]
     },
     "execution_count": 25,
     "metadata": {},
     "output_type": "execute_result"
    }
   ],
   "source": [
    "len(df_total['user_id'].unique())"
   ]
  },
  {
   "cell_type": "markdown",
   "id": "7fd88650",
   "metadata": {},
   "source": [
    "Интересное наблюдение, значит два абонента из 500 совсем не пользовались никакими услугами."
   ]
  },
  {
   "cell_type": "code",
   "execution_count": 26,
   "id": "1a43c2a3",
   "metadata": {},
   "outputs": [
    {
     "data": {
      "text/html": [
       "<div>\n",
       "<style scoped>\n",
       "    .dataframe tbody tr th:only-of-type {\n",
       "        vertical-align: middle;\n",
       "    }\n",
       "\n",
       "    .dataframe tbody tr th {\n",
       "        vertical-align: top;\n",
       "    }\n",
       "\n",
       "    .dataframe thead th {\n",
       "        text-align: right;\n",
       "    }\n",
       "</style>\n",
       "<table border=\"1\" class=\"dataframe\">\n",
       "  <thead>\n",
       "    <tr style=\"text-align: right;\">\n",
       "      <th></th>\n",
       "      <th>user_id</th>\n",
       "      <th>month</th>\n",
       "      <th>calls_count</th>\n",
       "      <th>calls_minutes</th>\n",
       "      <th>messages</th>\n",
       "      <th>gb_used</th>\n",
       "    </tr>\n",
       "  </thead>\n",
       "  <tbody>\n",
       "    <tr>\n",
       "      <th>0</th>\n",
       "      <td>1000</td>\n",
       "      <td>5</td>\n",
       "      <td>22.0</td>\n",
       "      <td>17.0</td>\n",
       "      <td>22.0</td>\n",
       "      <td>3.0</td>\n",
       "    </tr>\n",
       "    <tr>\n",
       "      <th>1</th>\n",
       "      <td>1000</td>\n",
       "      <td>6</td>\n",
       "      <td>43.0</td>\n",
       "      <td>28.0</td>\n",
       "      <td>60.0</td>\n",
       "      <td>23.0</td>\n",
       "    </tr>\n",
       "    <tr>\n",
       "      <th>2</th>\n",
       "      <td>1000</td>\n",
       "      <td>7</td>\n",
       "      <td>47.0</td>\n",
       "      <td>41.0</td>\n",
       "      <td>75.0</td>\n",
       "      <td>14.0</td>\n",
       "    </tr>\n",
       "    <tr>\n",
       "      <th>3</th>\n",
       "      <td>1000</td>\n",
       "      <td>8</td>\n",
       "      <td>52.0</td>\n",
       "      <td>42.0</td>\n",
       "      <td>81.0</td>\n",
       "      <td>14.0</td>\n",
       "    </tr>\n",
       "    <tr>\n",
       "      <th>4</th>\n",
       "      <td>1000</td>\n",
       "      <td>9</td>\n",
       "      <td>58.0</td>\n",
       "      <td>46.0</td>\n",
       "      <td>57.0</td>\n",
       "      <td>15.0</td>\n",
       "    </tr>\n",
       "  </tbody>\n",
       "</table>\n",
       "</div>"
      ],
      "text/plain": [
       "   user_id  month  calls_count  calls_minutes  messages  gb_used\n",
       "0     1000      5         22.0           17.0      22.0      3.0\n",
       "1     1000      6         43.0           28.0      60.0     23.0\n",
       "2     1000      7         47.0           41.0      75.0     14.0\n",
       "3     1000      8         52.0           42.0      81.0     14.0\n",
       "4     1000      9         58.0           46.0      57.0     15.0"
      ]
     },
     "execution_count": 26,
     "metadata": {},
     "output_type": "execute_result"
    }
   ],
   "source": [
    "df_total.head()"
   ]
  },
  {
   "cell_type": "markdown",
   "id": "453d07cc",
   "metadata": {},
   "source": [
    "#### Помесячная выручка с каждого пользователя\n",
    "\n",
    "Рассчитаем следующим образом: \n",
    "1. Вычтем бесплатный лимит из суммарного количества звонков, сообщений и интернет-трафика; \n",
    "2. Остаток умножим на значение из тарифного плана; \n",
    "3. Прибавим абонентскую плату, соответствующую тарифному плану."
   ]
  },
  {
   "cell_type": "markdown",
   "id": "8073e3bd",
   "metadata": {},
   "source": [
    "В нашей итоговой таблице каждая строка означает суммарное месячное пользование услуами для одного пользователя.\n",
    "Следующая функция для одной строки рассчитывает выручку с одного пользователя за один месяц пользования услугами."
   ]
  },
  {
   "cell_type": "code",
   "execution_count": 27,
   "id": "889b2ff9",
   "metadata": {},
   "outputs": [],
   "source": [
    "def revenue_counter(row):\n",
    "    user = row['user_id']\n",
    "    tariff = tariffs.loc[tariffs['tariff_name'] == (users.query('user_id == @user')['tariff'].item())]\n",
    "    revenue = (\n",
    "        np.clip(row['calls_minutes'] - tariff['minutes_included'], a_min=0, a_max=None) * tariff['rub_per_minute'] +\n",
    "        np.clip(row['messages'] - tariff['messages_included'], a_min=0, a_max=None) * tariff['rub_per_message'] +\n",
    "        np.clip(row['gb_used'] - tariff['gb_per_month_included'], a_min=0, a_max=None) * tariff['rub_per_gb'] +\n",
    "        tariff['rub_monthly_fee']\n",
    "    )\n",
    "    return revenue.item()"
   ]
  },
  {
   "cell_type": "code",
   "execution_count": 28,
   "id": "c2eef544",
   "metadata": {},
   "outputs": [
    {
     "data": {
      "text/html": [
       "<div>\n",
       "<style scoped>\n",
       "    .dataframe tbody tr th:only-of-type {\n",
       "        vertical-align: middle;\n",
       "    }\n",
       "\n",
       "    .dataframe tbody tr th {\n",
       "        vertical-align: top;\n",
       "    }\n",
       "\n",
       "    .dataframe thead th {\n",
       "        text-align: right;\n",
       "    }\n",
       "</style>\n",
       "<table border=\"1\" class=\"dataframe\">\n",
       "  <thead>\n",
       "    <tr style=\"text-align: right;\">\n",
       "      <th></th>\n",
       "      <th>user_id</th>\n",
       "      <th>month</th>\n",
       "      <th>calls_count</th>\n",
       "      <th>calls_minutes</th>\n",
       "      <th>messages</th>\n",
       "      <th>gb_used</th>\n",
       "      <th>revenue</th>\n",
       "    </tr>\n",
       "  </thead>\n",
       "  <tbody>\n",
       "    <tr>\n",
       "      <th>0</th>\n",
       "      <td>1000</td>\n",
       "      <td>5</td>\n",
       "      <td>22.0</td>\n",
       "      <td>17.0</td>\n",
       "      <td>22.0</td>\n",
       "      <td>3.0</td>\n",
       "      <td>1950.0</td>\n",
       "    </tr>\n",
       "    <tr>\n",
       "      <th>1</th>\n",
       "      <td>1000</td>\n",
       "      <td>6</td>\n",
       "      <td>43.0</td>\n",
       "      <td>28.0</td>\n",
       "      <td>60.0</td>\n",
       "      <td>23.0</td>\n",
       "      <td>1950.0</td>\n",
       "    </tr>\n",
       "    <tr>\n",
       "      <th>2</th>\n",
       "      <td>1000</td>\n",
       "      <td>7</td>\n",
       "      <td>47.0</td>\n",
       "      <td>41.0</td>\n",
       "      <td>75.0</td>\n",
       "      <td>14.0</td>\n",
       "      <td>1950.0</td>\n",
       "    </tr>\n",
       "    <tr>\n",
       "      <th>3</th>\n",
       "      <td>1000</td>\n",
       "      <td>8</td>\n",
       "      <td>52.0</td>\n",
       "      <td>42.0</td>\n",
       "      <td>81.0</td>\n",
       "      <td>14.0</td>\n",
       "      <td>1950.0</td>\n",
       "    </tr>\n",
       "    <tr>\n",
       "      <th>4</th>\n",
       "      <td>1000</td>\n",
       "      <td>9</td>\n",
       "      <td>58.0</td>\n",
       "      <td>46.0</td>\n",
       "      <td>57.0</td>\n",
       "      <td>15.0</td>\n",
       "      <td>1950.0</td>\n",
       "    </tr>\n",
       "  </tbody>\n",
       "</table>\n",
       "</div>"
      ],
      "text/plain": [
       "   user_id  month  calls_count  calls_minutes  messages  gb_used  revenue\n",
       "0     1000      5         22.0           17.0      22.0      3.0   1950.0\n",
       "1     1000      6         43.0           28.0      60.0     23.0   1950.0\n",
       "2     1000      7         47.0           41.0      75.0     14.0   1950.0\n",
       "3     1000      8         52.0           42.0      81.0     14.0   1950.0\n",
       "4     1000      9         58.0           46.0      57.0     15.0   1950.0"
      ]
     },
     "execution_count": 28,
     "metadata": {},
     "output_type": "execute_result"
    }
   ],
   "source": [
    "df_total['revenue'] = df_total.apply(revenue_counter, axis=1)\n",
    "df_total.head()"
   ]
  },
  {
   "cell_type": "markdown",
   "id": "34c5a8ed",
   "metadata": {},
   "source": [
    "#### Вывод\n",
    "\n",
    "* Более подробно ознакомились с данными \n",
    "* Подготовили данные для расчетов (привели признаки к нужным типам данных, удалили ненужное, позаботились об единицах измерения)\n",
    "* Мы отдельно посчитали суммарное месячное пользование звонками, сообщениями и интернетом для каждого пользователя\n",
    "* Соединили все расчеты в одной таблице\n",
    "* И, наконец, посчитали месячную выручку с каждого пользователя"
   ]
  },
  {
   "cell_type": "markdown",
   "id": "ceadfa76",
   "metadata": {},
   "source": [
    "## Анализ данных\n",
    "\n",
    "Опишем поведение клиентов оператора, исходя из выборки.\n",
    "Для верности результатов усредним показатели разных месяцев для каждого пользователя."
   ]
  },
  {
   "cell_type": "code",
   "execution_count": 29,
   "id": "a81e2ae0",
   "metadata": {},
   "outputs": [
    {
     "data": {
      "text/html": [
       "<div>\n",
       "<style scoped>\n",
       "    .dataframe tbody tr th:only-of-type {\n",
       "        vertical-align: middle;\n",
       "    }\n",
       "\n",
       "    .dataframe tbody tr th {\n",
       "        vertical-align: top;\n",
       "    }\n",
       "\n",
       "    .dataframe thead th {\n",
       "        text-align: right;\n",
       "    }\n",
       "</style>\n",
       "<table border=\"1\" class=\"dataframe\">\n",
       "  <thead>\n",
       "    <tr style=\"text-align: right;\">\n",
       "      <th></th>\n",
       "      <th>user_id</th>\n",
       "      <th>calls_count</th>\n",
       "      <th>calls_minutes</th>\n",
       "      <th>gb_used</th>\n",
       "      <th>messages</th>\n",
       "      <th>revenue</th>\n",
       "    </tr>\n",
       "  </thead>\n",
       "  <tbody>\n",
       "    <tr>\n",
       "      <th>0</th>\n",
       "      <td>1000</td>\n",
       "      <td>46.0</td>\n",
       "      <td>36.625000</td>\n",
       "      <td>13.625000</td>\n",
       "      <td>62.0</td>\n",
       "      <td>1950.000000</td>\n",
       "    </tr>\n",
       "    <tr>\n",
       "      <th>1</th>\n",
       "      <td>1001</td>\n",
       "      <td>61.0</td>\n",
       "      <td>46.000000</td>\n",
       "      <td>16.000000</td>\n",
       "      <td>0.0</td>\n",
       "      <td>850.000000</td>\n",
       "    </tr>\n",
       "    <tr>\n",
       "      <th>2</th>\n",
       "      <td>1002</td>\n",
       "      <td>31.0</td>\n",
       "      <td>24.714286</td>\n",
       "      <td>16.714286</td>\n",
       "      <td>10.0</td>\n",
       "      <td>1035.714286</td>\n",
       "    </tr>\n",
       "    <tr>\n",
       "      <th>3</th>\n",
       "      <td>1003</td>\n",
       "      <td>104.0</td>\n",
       "      <td>85.600000</td>\n",
       "      <td>11.800000</td>\n",
       "      <td>76.0</td>\n",
       "      <td>1950.000000</td>\n",
       "    </tr>\n",
       "    <tr>\n",
       "      <th>4</th>\n",
       "      <td>1004</td>\n",
       "      <td>22.0</td>\n",
       "      <td>17.375000</td>\n",
       "      <td>18.750000</td>\n",
       "      <td>149.0</td>\n",
       "      <td>1950.000000</td>\n",
       "    </tr>\n",
       "  </tbody>\n",
       "</table>\n",
       "</div>"
      ],
      "text/plain": [
       "   user_id  calls_count  calls_minutes    gb_used  messages      revenue\n",
       "0     1000         46.0      36.625000  13.625000      62.0  1950.000000\n",
       "1     1001         61.0      46.000000  16.000000       0.0   850.000000\n",
       "2     1002         31.0      24.714286  16.714286      10.0  1035.714286\n",
       "3     1003        104.0      85.600000  11.800000      76.0  1950.000000\n",
       "4     1004         22.0      17.375000  18.750000     149.0  1950.000000"
      ]
     },
     "execution_count": 29,
     "metadata": {},
     "output_type": "execute_result"
    }
   ],
   "source": [
    "df_total_by_users = df_total.pivot_table(index='user_id', \n",
    "                                         values=['calls_count', 'calls_minutes', 'messages', 'gb_used', 'revenue']\n",
    "                                        ).reset_index()\n",
    "df_total_by_users.head()"
   ]
  },
  {
   "cell_type": "markdown",
   "id": "5e6ee4c4",
   "metadata": {},
   "source": [
    "### Сколько минут разговора требуется пользователям каждого тарифа в месяц? \n",
    "\n",
    "\n",
    "Посчитайте среднее количество, дисперсию и стандартное отклонение. Постройте гистограммы. Опишите распределения."
   ]
  },
  {
   "cell_type": "markdown",
   "id": "3c60819d",
   "metadata": {},
   "source": [
    "Сперва добавим в итоговую таблицу ранее упущенный признак - тариф для каждого пользователя.\n",
    "* Если тариф \"ultra\" - цифра 1\n",
    "* Если тариф \"smart\" - цифра 0"
   ]
  },
  {
   "cell_type": "code",
   "execution_count": 30,
   "id": "c5d1e474",
   "metadata": {},
   "outputs": [],
   "source": [
    "def add_tariff(row):\n",
    "    user = row['user_id']\n",
    "    if (users.query('user_id == @user')['tariff'].item()) == 'ultra':\n",
    "        return 1\n",
    "    else:\n",
    "        return 0 \n",
    "\n",
    "df_total_by_users['tariff'] = df_total_by_users.apply(add_tariff, axis=1)"
   ]
  },
  {
   "cell_type": "code",
   "execution_count": 31,
   "id": "a69d3559",
   "metadata": {},
   "outputs": [
    {
     "data": {
      "text/html": [
       "<div>\n",
       "<style scoped>\n",
       "    .dataframe tbody tr th:only-of-type {\n",
       "        vertical-align: middle;\n",
       "    }\n",
       "\n",
       "    .dataframe tbody tr th {\n",
       "        vertical-align: top;\n",
       "    }\n",
       "\n",
       "    .dataframe thead tr th {\n",
       "        text-align: left;\n",
       "    }\n",
       "</style>\n",
       "<table border=\"1\" class=\"dataframe\">\n",
       "  <thead>\n",
       "    <tr>\n",
       "      <th></th>\n",
       "      <th colspan=\"2\" halign=\"left\">mean</th>\n",
       "      <th colspan=\"2\" halign=\"left\">median</th>\n",
       "      <th colspan=\"2\" halign=\"left\">var</th>\n",
       "      <th colspan=\"2\" halign=\"left\">std</th>\n",
       "    </tr>\n",
       "    <tr>\n",
       "      <th>tariff</th>\n",
       "      <th>0</th>\n",
       "      <th>1</th>\n",
       "      <th>0</th>\n",
       "      <th>1</th>\n",
       "      <th>0</th>\n",
       "      <th>1</th>\n",
       "      <th>0</th>\n",
       "      <th>1</th>\n",
       "    </tr>\n",
       "  </thead>\n",
       "  <tbody>\n",
       "    <tr>\n",
       "      <th>calls_minutes</th>\n",
       "      <td>47.139882</td>\n",
       "      <td>59.279422</td>\n",
       "      <td>47.466667</td>\n",
       "      <td>58.722222</td>\n",
       "      <td>262.610691</td>\n",
       "      <td>1013.098925</td>\n",
       "      <td>16.205267</td>\n",
       "      <td>31.829215</td>\n",
       "    </tr>\n",
       "  </tbody>\n",
       "</table>\n",
       "</div>"
      ],
      "text/plain": [
       "                    mean                median                    var  \\\n",
       "tariff                 0          1          0          1           0   \n",
       "calls_minutes  47.139882  59.279422  47.466667  58.722222  262.610691   \n",
       "\n",
       "                                  std             \n",
       "tariff                   1          0          1  \n",
       "calls_minutes  1013.098925  16.205267  31.829215  "
      ]
     },
     "execution_count": 31,
     "metadata": {},
     "output_type": "execute_result"
    }
   ],
   "source": [
    "df_total_by_users.pivot_table(values='calls_minutes', columns='tariff', aggfunc=['mean', 'median', 'var', 'std'])"
   ]
  },
  {
   "cell_type": "code",
   "execution_count": 32,
   "id": "7ff215ff",
   "metadata": {},
   "outputs": [
    {
     "data": {
      "image/png": "[encoded data removed]",
      "text/plain": [
       "<Figure size 600x400 with 1 Axes>"
      ]
     },
     "metadata": {
      "needs_background": "light"
     },
     "output_type": "display_data"
    }
   ],
   "source": [
    "plt.figure(dpi=100)\n",
    "sns.histplot(\n",
    "    data=df_total_by_users,\n",
    "    x='calls_minutes',\n",
    "    hue='tariff',\n",
    ")\n",
    "plt.xlabel('Длительность звонков за месяц, мин', fontsize=14)\n",
    "plt.ylabel('Количество абонентов', fontsize=14)\n",
    "plt.title('Длительность звонков по месяцам у разных пользователей', fontsize=16)\n",
    "plt.legend(['ultra', 'smart']);"
   ]
  },
  {
   "cell_type": "markdown",
   "id": "bfd12c43",
   "metadata": {},
   "source": [
    "#### Вывод\n",
    "\n",
    "* **Средняя длительность разговоров в месяц** больше у пользователей тарифа \"ultra\" (59 минут против 47).\n",
    "* Величины имеют **большой разброс**. При том для тарифа \"ultra\" разброс в 2 раза больше.\n",
    "* **У пользователей тарифа \"smart\"** распределение длительности звонков нормальное:\n",
    "  * Чаще всего пользователи выговаривают около 50 минут в месяц.\n",
    "  * 99% пользователей укладываются в 110 минут разговоров в месяц.\n",
    "* **У пользователей \"ultra\"** распределение тоже похоже нормальное:\n",
    "  * Довольно много пользователей, которые не пользуются голосовой связью (пик на ноле). Вероятно, они выбрали тариф из-за бОльшего пакета интернет-трафика.\n",
    "  * Наблюдается также увеличение количества пользователей, разговаривающих более 100 минут в месяц (100-150 минут)."
   ]
  },
  {
   "cell_type": "markdown",
   "id": "250ca271",
   "metadata": {},
   "source": [
    "### Сколько сообщений требуется пользователям каждого тарифа в месяц?"
   ]
  },
  {
   "cell_type": "code",
   "execution_count": 33,
   "id": "ea45507e",
   "metadata": {},
   "outputs": [
    {
     "data": {
      "text/html": [
       "<div>\n",
       "<style scoped>\n",
       "    .dataframe tbody tr th:only-of-type {\n",
       "        vertical-align: middle;\n",
       "    }\n",
       "\n",
       "    .dataframe tbody tr th {\n",
       "        vertical-align: top;\n",
       "    }\n",
       "\n",
       "    .dataframe thead tr th {\n",
       "        text-align: left;\n",
       "    }\n",
       "</style>\n",
       "<table border=\"1\" class=\"dataframe\">\n",
       "  <thead>\n",
       "    <tr>\n",
       "      <th></th>\n",
       "      <th colspan=\"2\" halign=\"left\">mean</th>\n",
       "      <th colspan=\"2\" halign=\"left\">median</th>\n",
       "      <th colspan=\"2\" halign=\"left\">var</th>\n",
       "      <th colspan=\"2\" halign=\"left\">std</th>\n",
       "    </tr>\n",
       "    <tr>\n",
       "      <th>tariff</th>\n",
       "      <th>0</th>\n",
       "      <th>1</th>\n",
       "      <th>0</th>\n",
       "      <th>1</th>\n",
       "      <th>0</th>\n",
       "      <th>1</th>\n",
       "      <th>0</th>\n",
       "      <th>1</th>\n",
       "    </tr>\n",
       "  </thead>\n",
       "  <tbody>\n",
       "    <tr>\n",
       "      <th>messages</th>\n",
       "      <td>32.352078</td>\n",
       "      <td>54.030743</td>\n",
       "      <td>27.75</td>\n",
       "      <td>45.5</td>\n",
       "      <td>702.90991</td>\n",
       "      <td>2149.828793</td>\n",
       "      <td>26.512448</td>\n",
       "      <td>46.366246</td>\n",
       "    </tr>\n",
       "  </tbody>\n",
       "</table>\n",
       "</div>"
      ],
      "text/plain": [
       "               mean            median              var               \\\n",
       "tariff            0          1      0     1          0            1   \n",
       "messages  32.352078  54.030743  27.75  45.5  702.90991  2149.828793   \n",
       "\n",
       "                std             \n",
       "tariff            0          1  \n",
       "messages  26.512448  46.366246  "
      ]
     },
     "execution_count": 33,
     "metadata": {},
     "output_type": "execute_result"
    }
   ],
   "source": [
    "df_total_by_users.pivot_table(values='messages', columns='tariff', aggfunc=['mean', 'median', 'var', 'std'])"
   ]
  },
  {
   "cell_type": "code",
   "execution_count": 34,
   "id": "50769253",
   "metadata": {},
   "outputs": [
    {
     "data": {
      "image/png": "[encoded data removed]",
      "text/plain": [
       "<Figure size 600x400 with 1 Axes>"
      ]
     },
     "metadata": {
      "needs_background": "light"
     },
     "output_type": "display_data"
    }
   ],
   "source": [
    "plt.figure(dpi=100)\n",
    "sns.histplot(\n",
    "    data=df_total_by_users,\n",
    "    x='messages',\n",
    "    hue='tariff'\n",
    ")\n",
    "plt.xlabel('Количество отправленных за месяц сообщений', fontsize=14)\n",
    "plt.ylabel('Количество абонентов', fontsize=14)\n",
    "plt.title('Количество сообщений по месяцам у разных пользователей', fontsize=16);\n",
    "plt.legend(['ultra', 'smart']);"
   ]
  },
  {
   "cell_type": "markdown",
   "id": "efcf4ac7",
   "metadata": {},
   "source": [
    "#### Вывод\n",
    "\n",
    "* В среднем пользователи тарифа \"ultra\" отправляют на 16 сообщений в месяц больше (32 против 54).\n",
    "* Однако и разброс у пользователей с тарифом \"ultra\" значительно больше, что мы можем явно заметить по разнице между медианой и средним - длинный хвост распределения \"ultra\" сильно искажает среднее значение.\n",
    "* Оба распределения заметно скошены вправо: средние значения у них превышают медианные.\n",
    "* Распределения количества сообщений у обоих тарифов относится к Пуассоновскому распределению.\n",
    "* И у обоих тарифов есть большой пик около нуля - очень многие не пользуются сообщениями."
   ]
  },
  {
   "cell_type": "markdown",
   "id": "50adffb0",
   "metadata": {},
   "source": [
    "### Какой объём интернет-трафика требуется пользователям каждого тарифа в месяц? "
   ]
  },
  {
   "cell_type": "code",
   "execution_count": 35,
   "id": "ed7fdc0a",
   "metadata": {},
   "outputs": [
    {
     "data": {
      "text/html": [
       "<div>\n",
       "<style scoped>\n",
       "    .dataframe tbody tr th:only-of-type {\n",
       "        vertical-align: middle;\n",
       "    }\n",
       "\n",
       "    .dataframe tbody tr th {\n",
       "        vertical-align: top;\n",
       "    }\n",
       "\n",
       "    .dataframe thead tr th {\n",
       "        text-align: left;\n",
       "    }\n",
       "</style>\n",
       "<table border=\"1\" class=\"dataframe\">\n",
       "  <thead>\n",
       "    <tr>\n",
       "      <th></th>\n",
       "      <th colspan=\"2\" halign=\"left\">mean</th>\n",
       "      <th colspan=\"2\" halign=\"left\">median</th>\n",
       "      <th colspan=\"2\" halign=\"left\">var</th>\n",
       "      <th colspan=\"2\" halign=\"left\">std</th>\n",
       "    </tr>\n",
       "    <tr>\n",
       "      <th>tariff</th>\n",
       "      <th>0</th>\n",
       "      <th>1</th>\n",
       "      <th>0</th>\n",
       "      <th>1</th>\n",
       "      <th>0</th>\n",
       "      <th>1</th>\n",
       "      <th>0</th>\n",
       "      <th>1</th>\n",
       "    </tr>\n",
       "  </thead>\n",
       "  <tbody>\n",
       "    <tr>\n",
       "      <th>gb_used</th>\n",
       "      <td>16.308519</td>\n",
       "      <td>19.588446</td>\n",
       "      <td>16.333333</td>\n",
       "      <td>18.775</td>\n",
       "      <td>12.261503</td>\n",
       "      <td>65.871402</td>\n",
       "      <td>3.501643</td>\n",
       "      <td>8.11612</td>\n",
       "    </tr>\n",
       "  </tbody>\n",
       "</table>\n",
       "</div>"
      ],
      "text/plain": [
       "              mean                median                var             \\\n",
       "tariff           0          1          0       1          0          1   \n",
       "gb_used  16.308519  19.588446  16.333333  18.775  12.261503  65.871402   \n",
       "\n",
       "              std           \n",
       "tariff          0        1  \n",
       "gb_used  3.501643  8.11612  "
      ]
     },
     "execution_count": 35,
     "metadata": {},
     "output_type": "execute_result"
    }
   ],
   "source": [
    "df_total_by_users.pivot_table(values='gb_used', columns='tariff', aggfunc=['mean', 'median', 'var', 'std'])"
   ]
  },
  {
   "cell_type": "code",
   "execution_count": 36,
   "id": "f3cb2b8f",
   "metadata": {},
   "outputs": [
    {
     "data": {
      "image/png": "[encoded data removed]",
      "text/plain": [
       "<Figure size 600x400 with 1 Axes>"
      ]
     },
     "metadata": {
      "needs_background": "light"
     },
     "output_type": "display_data"
    }
   ],
   "source": [
    "plt.figure(dpi=100)\n",
    "sns.histplot(\n",
    "    data=df_total_by_users,\n",
    "    x='gb_used',\n",
    "    hue='tariff',\n",
    "    bins=30\n",
    ")\n",
    "plt.xlabel('Использовано трафика за месяц, Гб', fontsize=14)\n",
    "plt.ylabel('Количество абонентов', fontsize=14)\n",
    "plt.title('Использования трафика по месяцам у разных пользователей', fontsize=16)\n",
    "plt.legend(['ultra', 'smart']);"
   ]
  },
  {
   "cell_type": "markdown",
   "id": "07a11852",
   "metadata": {},
   "source": [
    "#### Вывод\n",
    "\n",
    "* Среднее количество потребляемого трафика у пользователей тарифа \"ultra\" на 3 Гб/мес больше (19.5 против 16.5).\n",
    "* Медианы отличаются примерно также: 16.3 против 18.8 Гб/мес\n",
    "* Но при этом у пользователей \"ultra\" в два раза больше разброс:\n",
    "  * Распределение трафика у пользователей \"ultra\" имеет длинный хвост вправо и доходит до 50 Гб/мес. Из-за длинного хвоста немного смещено в большую сторону среднее значение относительно медианы.\n",
    "  * Распределение трафика у пользователей \"smart\" нормальное, следовательно 99% пользователей \"smart\" потребляют не более 33 Гб/мес. "
   ]
  },
  {
   "cell_type": "markdown",
   "id": "392a8912",
   "metadata": {},
   "source": [
    "## Проверка гипотез\n",
    "\n",
    "Пороговое значение alpha задайте самостоятельно.\n",
    "Поясните:\n",
    "как вы формулировали нулевую и альтернативную гипотезы;\n",
    "какой критерий использовали для проверки гипотез и почему."
   ]
  },
  {
   "cell_type": "markdown",
   "id": "582048f6",
   "metadata": {},
   "source": [
    "### Средняя выручка пользователей тарифов «Ультра» и «Смарт» различаются\n",
    "\n",
    "* **Нулевая гипотеза**: \"Средняя выручка от пользователей тарифов «Ультра» и «Смарт» одинаковые.\n",
    "* **Альтернативная гипотеза**: \"Средняя выручка от пользователей тарифов «Ультра» и «Смарт» различаются\"."
   ]
  },
  {
   "cell_type": "code",
   "execution_count": 37,
   "id": "aa6df61f",
   "metadata": {},
   "outputs": [
    {
     "data": {
      "text/html": [
       "<div>\n",
       "<style scoped>\n",
       "    .dataframe tbody tr th:only-of-type {\n",
       "        vertical-align: middle;\n",
       "    }\n",
       "\n",
       "    .dataframe tbody tr th {\n",
       "        vertical-align: top;\n",
       "    }\n",
       "\n",
       "    .dataframe thead th {\n",
       "        text-align: right;\n",
       "    }\n",
       "</style>\n",
       "<table border=\"1\" class=\"dataframe\">\n",
       "  <thead>\n",
       "    <tr style=\"text-align: right;\">\n",
       "      <th></th>\n",
       "      <th>user_id</th>\n",
       "      <th>month</th>\n",
       "      <th>calls_count</th>\n",
       "      <th>calls_minutes</th>\n",
       "      <th>messages</th>\n",
       "      <th>gb_used</th>\n",
       "      <th>revenue</th>\n",
       "    </tr>\n",
       "  </thead>\n",
       "  <tbody>\n",
       "    <tr>\n",
       "      <th>0</th>\n",
       "      <td>1000</td>\n",
       "      <td>5</td>\n",
       "      <td>22.0</td>\n",
       "      <td>17.0</td>\n",
       "      <td>22.0</td>\n",
       "      <td>3.0</td>\n",
       "      <td>1950.0</td>\n",
       "    </tr>\n",
       "    <tr>\n",
       "      <th>1</th>\n",
       "      <td>1000</td>\n",
       "      <td>6</td>\n",
       "      <td>43.0</td>\n",
       "      <td>28.0</td>\n",
       "      <td>60.0</td>\n",
       "      <td>23.0</td>\n",
       "      <td>1950.0</td>\n",
       "    </tr>\n",
       "    <tr>\n",
       "      <th>2</th>\n",
       "      <td>1000</td>\n",
       "      <td>7</td>\n",
       "      <td>47.0</td>\n",
       "      <td>41.0</td>\n",
       "      <td>75.0</td>\n",
       "      <td>14.0</td>\n",
       "      <td>1950.0</td>\n",
       "    </tr>\n",
       "    <tr>\n",
       "      <th>3</th>\n",
       "      <td>1000</td>\n",
       "      <td>8</td>\n",
       "      <td>52.0</td>\n",
       "      <td>42.0</td>\n",
       "      <td>81.0</td>\n",
       "      <td>14.0</td>\n",
       "      <td>1950.0</td>\n",
       "    </tr>\n",
       "    <tr>\n",
       "      <th>4</th>\n",
       "      <td>1000</td>\n",
       "      <td>9</td>\n",
       "      <td>58.0</td>\n",
       "      <td>46.0</td>\n",
       "      <td>57.0</td>\n",
       "      <td>15.0</td>\n",
       "      <td>1950.0</td>\n",
       "    </tr>\n",
       "  </tbody>\n",
       "</table>\n",
       "</div>"
      ],
      "text/plain": [
       "   user_id  month  calls_count  calls_minutes  messages  gb_used  revenue\n",
       "0     1000      5         22.0           17.0      22.0      3.0   1950.0\n",
       "1     1000      6         43.0           28.0      60.0     23.0   1950.0\n",
       "2     1000      7         47.0           41.0      75.0     14.0   1950.0\n",
       "3     1000      8         52.0           42.0      81.0     14.0   1950.0\n",
       "4     1000      9         58.0           46.0      57.0     15.0   1950.0"
      ]
     },
     "execution_count": 37,
     "metadata": {},
     "output_type": "execute_result"
    }
   ],
   "source": [
    "df_total.head()"
   ]
  },
  {
   "cell_type": "code",
   "execution_count": 38,
   "id": "03d9c958",
   "metadata": {},
   "outputs": [
    {
     "name": "stdout",
     "output_type": "stream",
     "text": [
      "p-значение:  2.472863503722138e-61\n",
      "Отвергаем нулевую гипотезу и принимаем альтернативную\n"
     ]
    }
   ],
   "source": [
    "sample_1 = df_total_by_users.query('tariff == 0')['revenue'] # sample_1 - выборка абонентов с тарифом \"Смарт\"\n",
    "sample_2 = df_total_by_users.query('tariff == 1')['revenue'] # sample_2 - выборка абонентов с тарифом \"Ультра\"\n",
    "\n",
    "alpha = .05\n",
    "\n",
    "results = st.ttest_ind(sample_1, sample_2)\n",
    "\n",
    "print('p-значение: ', results.pvalue)\n",
    "\n",
    "if results.pvalue < alpha:\n",
    "    print(\"Отвергаем нулевую гипотезу и принимаем альтернативную\")\n",
    "else:\n",
    "    print(\"Не получилось отвергнуть нулевую гипотезу\") "
   ]
  },
  {
   "cell_type": "code",
   "execution_count": 39,
   "id": "4fc66b12",
   "metadata": {
    "scrolled": true
   },
   "outputs": [],
   "source": [
    "df_total['tariff'] = df_total.apply(add_tariff, axis=1)"
   ]
  },
  {
   "cell_type": "code",
   "execution_count": 40,
   "id": "10fc9035",
   "metadata": {},
   "outputs": [
    {
     "name": "stdout",
     "output_type": "stream",
     "text": [
      "p-значение:  1.7908299298705238e-242\n",
      "Отвергаем нулевую гипотезу и принимаем альтернативную\n"
     ]
    }
   ],
   "source": [
    "sample_1 = df_total.query('tariff == 0')['revenue'] # sample_1 - выборка абонентов с тарифом \"Смарт\"\n",
    "sample_2 = df_total.query('tariff == 1')['revenue'] # sample_2 - выборка абонентов с тарифом \"Ультра\"\n",
    "\n",
    "alpha = .05\n",
    "\n",
    "results = st.ttest_ind(sample_1, sample_2)\n",
    "\n",
    "print('p-значение: ', results.pvalue)\n",
    "\n",
    "if results.pvalue < alpha:\n",
    "    print(\"Отвергаем нулевую гипотезу и принимаем альтернативную\")\n",
    "else:\n",
    "    print(\"Не получилось отвергнуть нулевую гипотезу\") "
   ]
  },
  {
   "cell_type": "code",
   "execution_count": 41,
   "id": "ac0420a2",
   "metadata": {},
   "outputs": [
    {
     "name": "stdout",
     "output_type": "stream",
     "text": [
      "Средняя выручка за месяц от пользователей тарифа \"Смарт\" 1187 руб.\n",
      "Средняя выручка за месяц от пользователей тарифа \"Ультра\" 2086 руб.\n"
     ]
    }
   ],
   "source": [
    "revenue_smart_mean = round(df_total_by_users.query('tariff == 0')['revenue'].mean())\n",
    "revenue_ultra_mean = round(df_total_by_users.query('tariff == 1')['revenue'].mean())\n",
    "print(f'Средняя выручка за месяц от пользователей тарифа \"Смарт\" {revenue_smart_mean} руб.')\n",
    "print(f'Средняя выручка за месяц от пользователей тарифа \"Ультра\" {revenue_ultra_mean} руб.')"
   ]
  },
  {
   "cell_type": "markdown",
   "id": "767b2118",
   "metadata": {},
   "source": [
    "### Средняя выручка пользователей из Москвы отличается от выручки пользователей из других регионов\n",
    "\n",
    "\n",
    "* **Нулевая гипотеза**: \"Средняя выручка от пользователей из Москвы **равна** средней выручке от пользователей из других регионов.\"\n",
    "* **Альтернативная гипотеза**: \"Средняя выручка от пользователей из Москвы **не равна** средней выручке от пользователей из других регионов.\"\n",
    "\n",
    "Тут нам понадобится добавить регион каждому пользователю, что мы не учли раньше. Сделаем проще - поставим 1 для жителей Москвы и 0 для жителей других регионов."
   ]
  },
  {
   "cell_type": "code",
   "execution_count": 42,
   "id": "c3682aa6",
   "metadata": {},
   "outputs": [],
   "source": [
    "def add_city(row):\n",
    "    user = row['user_id']\n",
    "    if (users.query('user_id == @user')['city'].item()) == 'Москва':\n",
    "        return 1\n",
    "    else:\n",
    "        return 0 \n",
    "\n",
    "df_total_by_users['city'] = df_total_by_users.apply(add_city, axis=1)"
   ]
  },
  {
   "cell_type": "markdown",
   "id": "0b1b0662",
   "metadata": {},
   "source": [
    "Проверим, достаточного ли размера выборки у нас получились для применения теста на равенство средних двух генеральных совокупностей по взятым из них выборкам."
   ]
  },
  {
   "cell_type": "code",
   "execution_count": 43,
   "id": "44fbc52e",
   "metadata": {},
   "outputs": [
    {
     "data": {
      "text/plain": [
       "0    399\n",
       "1     99\n",
       "Name: city, dtype: int64"
      ]
     },
     "execution_count": 43,
     "metadata": {},
     "output_type": "execute_result"
    }
   ],
   "source": [
    "df_total_by_users['city'].value_counts()"
   ]
  },
  {
   "cell_type": "code",
   "execution_count": 44,
   "id": "6887795a",
   "metadata": {},
   "outputs": [
    {
     "name": "stdout",
     "output_type": "stream",
     "text": [
      "p-значение:  0.43557015886356565\n",
      "Не получилось отвергнуть нулевую гипотезу\n"
     ]
    }
   ],
   "source": [
    "sample_1 = df_total_by_users.query('city == 0')['revenue'] # sample_1 - выборка абонентов из других регионов\n",
    "sample_2 = df_total_by_users.query('city == 1')['revenue'] # sample_2 - выборка абонентов из Москвы\n",
    "\n",
    "alpha = .05\n",
    "\n",
    "results = st.ttest_ind(sample_1, sample_2)\n",
    "\n",
    "print('p-значение: ', results.pvalue)\n",
    "\n",
    "if results.pvalue < alpha:\n",
    "    print(\"Отвергаем нулевую гипотезу и принимаем альтернативную\")\n",
    "else:\n",
    "    print(\"Не получилось отвергнуть нулевую гипотезу\") "
   ]
  },
  {
   "cell_type": "markdown",
   "id": "d5ab516d",
   "metadata": {},
   "source": [
    "### Вывод\n",
    "\n",
    "* Гипотезы были сформулированы на основе задачи проекта. \n",
    "  * Нулевая гипотеза предполагала равенство средних для двух выборок из разных генеральных совокупностей, альтернативная же гипотеза утверждала, что средние этих выборок, а соответственно и генеральных совокупностей не равны. \n",
    "* Для проверки гипотез использовался двухвыборочный t-критерий Стьюдента, так как обе выборки имеют нормальное распределение выручки, а дисперсии выборок считаем условно равными.\n",
    "* За уровень статистической значимости было принято число **alpha = 0.05**.\n",
    "\n",
    "1. Первую гипотезу удалось опровергнуть, то есть средняя выручка от пользователей тарифов «Ультра» и «Смарт» **статистически значимо различается**.\n",
    "2. Вторую гипотезу не удалось опровергнуть, то есть средняя выручка от пользователей из Москвы **статистически значимо не отличается** от средней выручки от пользователей из других регионов."
   ]
  },
  {
   "cell_type": "markdown",
   "id": "fadfdd1b",
   "metadata": {},
   "source": [
    "## Общий вывод"
   ]
  },
  {
   "cell_type": "markdown",
   "id": "3e2f16c5",
   "metadata": {},
   "source": [
    "* Познакомившись с данными выполнили их предобработку, а именно:\n",
    "  * Привели признаки даты к типу данных `datetime` во всех исходных таблицах.\n",
    "  * Конвертировали длительность звонков из секунд в минуты (здесь стоит отметить странный факт, что в датасете не было звонков длиннее 38 секунд)\n",
    "  * Удалили ненужные столбцы\n",
    "  * Адаптировали некоторые признаки для удобства анализа\n",
    "* В сводной таблице посчитали суммы ежемесячного пользования услугами для каждого абонента.\n",
    "* В соответствии с тарифами посчитали выручку от каждого пользователя за каждый месяц.\n",
    "* Провели анализ интересующих показателей:\n",
    "  * **Средняя длительность разговоров** в месяц больше у пользователей тарифа \"Ультра\" на 25%.\n",
    "  * **Среднее количество отправленных за месяц сообщений** также больше у пользователей тарифа \"Ультра\" на 68%.\n",
    "  * **Среднее месячное потребление интернет-трафика** у пользователей тарифа \"Ультра\" больше на 18%.\n",
    "* С помощью статистических тестов было проверено две гипотезы, результаты:\n",
    "  * Средняя выручка от пользователей тарифов «Ультра» и «Смарт» статистически значимо различается. При том выручка от пользователей тарифа \"Ультра\" больше на 76%.\n",
    "  * Средняя выручка от пользователей из Москвы статистически значимо не отличается от средней выручки от пользователей из других регионов.\n",
    "* Таким образом, тариф \"Ультра\" можно рекомендовать как наиболее перспективный для телеком-оператора."
   ]
  }
 ],
 "metadata": {
  "ExecuteTimeLog": [
   {
    "duration": 1583,
    "start_time": "2022-02-21T17:56:16.995Z"
   },
   {
    "duration": 2518,
    "start_time": "2022-02-21T17:56:18.581Z"
   },
   {
    "duration": 140,
    "start_time": "2022-02-21T17:56:20.968Z"
   },
   {
    "duration": 137,
    "start_time": "2022-02-21T17:56:20.974Z"
   },
   {
    "duration": 138,
    "start_time": "2022-02-21T17:56:20.976Z"
   },
   {
    "duration": 134,
    "start_time": "2022-02-21T17:56:20.983Z"
   },
   {
    "duration": 132,
    "start_time": "2022-02-21T17:56:20.987Z"
   },
   {
    "duration": 131,
    "start_time": "2022-02-21T17:56:20.991Z"
   },
   {
    "duration": 131,
    "start_time": "2022-02-21T17:56:20.993Z"
   },
   {
    "duration": 131,
    "start_time": "2022-02-21T17:56:20.996Z"
   },
   {
    "duration": 131,
    "start_time": "2022-02-21T17:56:20.998Z"
   },
   {
    "duration": 133,
    "start_time": "2022-02-21T17:56:21.000Z"
   },
   {
    "duration": 132,
    "start_time": "2022-02-21T17:56:21.003Z"
   },
   {
    "duration": 109,
    "start_time": "2022-02-21T17:56:21.028Z"
   },
   {
    "duration": 107,
    "start_time": "2022-02-21T17:56:21.032Z"
   },
   {
    "duration": 106,
    "start_time": "2022-02-21T17:56:21.035Z"
   },
   {
    "duration": 100,
    "start_time": "2022-02-21T17:56:21.042Z"
   },
   {
    "duration": 99,
    "start_time": "2022-02-21T17:56:21.045Z"
   },
   {
    "duration": 98,
    "start_time": "2022-02-21T17:56:21.047Z"
   },
   {
    "duration": 97,
    "start_time": "2022-02-21T17:56:21.050Z"
   },
   {
    "duration": 134,
    "start_time": "2022-02-21T17:56:21.060Z"
   },
   {
    "duration": 133,
    "start_time": "2022-02-21T17:56:21.063Z"
   },
   {
    "duration": 133,
    "start_time": "2022-02-21T17:56:21.065Z"
   },
   {
    "duration": 126,
    "start_time": "2022-02-21T17:56:21.075Z"
   },
   {
    "duration": 125,
    "start_time": "2022-02-21T17:56:21.078Z"
   },
   {
    "duration": 123,
    "start_time": "2022-02-21T17:56:21.081Z"
   },
   {
    "duration": 122,
    "start_time": "2022-02-21T17:56:21.084Z"
   },
   {
    "duration": 97,
    "start_time": "2022-02-21T17:56:21.110Z"
   },
   {
    "duration": 96,
    "start_time": "2022-02-21T17:56:21.113Z"
   },
   {
    "duration": 94,
    "start_time": "2022-02-21T17:56:21.116Z"
   },
   {
    "duration": 79,
    "start_time": "2022-02-21T17:56:21.132Z"
   },
   {
    "duration": 65,
    "start_time": "2022-02-21T17:56:21.148Z"
   },
   {
    "duration": 65,
    "start_time": "2022-02-21T17:56:21.150Z"
   },
   {
    "duration": 42,
    "start_time": "2022-02-21T17:56:21.174Z"
   },
   {
    "duration": 32,
    "start_time": "2022-02-21T17:56:21.186Z"
   },
   {
    "duration": 30,
    "start_time": "2022-02-21T17:56:21.189Z"
   },
   {
    "duration": 13,
    "start_time": "2022-02-21T17:56:21.208Z"
   },
   {
    "duration": 12,
    "start_time": "2022-02-21T17:56:21.210Z"
   },
   {
    "duration": 6,
    "start_time": "2022-02-21T17:57:01.103Z"
   },
   {
    "duration": 760,
    "start_time": "2022-02-21T17:57:08.986Z"
   },
   {
    "duration": 5,
    "start_time": "2022-02-21T17:57:16.036Z"
   },
   {
    "duration": 1147,
    "start_time": "2022-02-21T17:57:16.045Z"
   },
   {
    "duration": 153,
    "start_time": "2022-02-21T17:57:17.195Z"
   },
   {
    "duration": 698,
    "start_time": "2022-02-21T17:57:17.353Z"
   },
   {
    "duration": 292,
    "start_time": "2022-02-21T17:57:18.054Z"
   },
   {
    "duration": 557,
    "start_time": "2022-02-21T17:57:18.349Z"
   },
   {
    "duration": 1184,
    "start_time": "2022-02-21T17:57:18.910Z"
   },
   {
    "duration": 245,
    "start_time": "2022-02-21T17:57:20.096Z"
   },
   {
    "duration": 459,
    "start_time": "2022-02-21T17:57:20.348Z"
   },
   {
    "duration": 880,
    "start_time": "2022-02-21T17:57:20.812Z"
   },
   {
    "duration": 626,
    "start_time": "2022-02-21T17:57:21.696Z"
   },
   {
    "duration": 1152,
    "start_time": "2022-02-21T17:57:22.326Z"
   },
   {
    "duration": 263,
    "start_time": "2022-02-21T17:57:23.493Z"
   },
   {
    "duration": 1221,
    "start_time": "2022-02-21T17:57:23.759Z"
   },
   {
    "duration": 405,
    "start_time": "2022-02-21T17:57:24.983Z"
   },
   {
    "duration": 1210,
    "start_time": "2022-02-21T17:57:25.392Z"
   },
   {
    "duration": 1946,
    "start_time": "2022-02-21T17:57:26.608Z"
   },
   {
    "duration": 1598,
    "start_time": "2022-02-21T17:57:28.557Z"
   },
   {
    "duration": 1850,
    "start_time": "2022-02-21T17:57:30.158Z"
   },
   {
    "duration": 1476,
    "start_time": "2022-02-21T17:57:32.011Z"
   },
   {
    "duration": 1306,
    "start_time": "2022-02-21T17:57:33.490Z"
   },
   {
    "duration": 924,
    "start_time": "2022-02-21T17:57:34.799Z"
   },
   {
    "duration": 699,
    "start_time": "2022-02-21T17:57:35.726Z"
   },
   {
    "duration": 429,
    "start_time": "2022-02-21T17:57:36.427Z"
   },
   {
    "duration": 32445,
    "start_time": "2022-02-21T17:57:36.859Z"
   },
   {
    "duration": 43,
    "start_time": "2022-02-21T17:58:09.308Z"
   },
   {
    "duration": 2087,
    "start_time": "2022-02-21T17:58:09.360Z"
   },
   {
    "duration": 157,
    "start_time": "2022-02-21T17:58:11.450Z"
   },
   {
    "duration": 901,
    "start_time": "2022-02-21T17:58:11.611Z"
   },
   {
    "duration": -4,
    "start_time": "2022-02-21T17:58:12.518Z"
   },
   {
    "duration": -4,
    "start_time": "2022-02-21T17:58:12.520Z"
   },
   {
    "duration": -5,
    "start_time": "2022-02-21T17:58:12.523Z"
   },
   {
    "duration": -7,
    "start_time": "2022-02-21T17:58:12.526Z"
   },
   {
    "duration": -7,
    "start_time": "2022-02-21T17:58:12.528Z"
   },
   {
    "duration": -8,
    "start_time": "2022-02-21T17:58:12.531Z"
   },
   {
    "duration": -9,
    "start_time": "2022-02-21T17:58:12.533Z"
   },
   {
    "duration": -26,
    "start_time": "2022-02-21T17:58:12.552Z"
   },
   {
    "duration": -28,
    "start_time": "2022-02-21T17:58:12.557Z"
   },
   {
    "duration": 78,
    "start_time": "2022-02-21T17:58:46.247Z"
   },
   {
    "duration": 130,
    "start_time": "2022-02-21T18:00:14.547Z"
   },
   {
    "duration": 86,
    "start_time": "2022-02-21T18:00:24.289Z"
   },
   {
    "duration": 81,
    "start_time": "2022-02-21T18:00:27.597Z"
   },
   {
    "duration": 1515,
    "start_time": "2022-02-21T18:00:47.452Z"
   },
   {
    "duration": 4224,
    "start_time": "2022-02-21T18:00:53.039Z"
   },
   {
    "duration": 1603,
    "start_time": "2022-02-21T18:01:10.381Z"
   },
   {
    "duration": 3742,
    "start_time": "2022-02-21T18:01:11.987Z"
   },
   {
    "duration": 792,
    "start_time": "2022-02-21T18:01:15.733Z"
   },
   {
    "duration": 123,
    "start_time": "2022-02-21T18:01:16.528Z"
   },
   {
    "duration": 228,
    "start_time": "2022-02-21T18:01:16.655Z"
   },
   {
    "duration": 310,
    "start_time": "2022-02-21T18:01:16.886Z"
   },
   {
    "duration": 215,
    "start_time": "2022-02-21T18:01:17.200Z"
   },
   {
    "duration": 885,
    "start_time": "2022-02-21T18:01:17.420Z"
   },
   {
    "duration": 169,
    "start_time": "2022-02-21T18:01:18.309Z"
   },
   {
    "duration": 56,
    "start_time": "2022-02-21T18:01:18.481Z"
   },
   {
    "duration": 170,
    "start_time": "2022-02-21T18:01:18.539Z"
   },
   {
    "duration": 176,
    "start_time": "2022-02-21T18:01:18.713Z"
   },
   {
    "duration": 455,
    "start_time": "2022-02-21T18:01:18.893Z"
   },
   {
    "duration": 17,
    "start_time": "2022-02-21T18:01:19.352Z"
   },
   {
    "duration": 557,
    "start_time": "2022-02-21T18:01:19.371Z"
   },
   {
    "duration": 19,
    "start_time": "2022-02-21T18:01:19.930Z"
   },
   {
    "duration": 202,
    "start_time": "2022-02-21T18:01:19.952Z"
   },
   {
    "duration": 237,
    "start_time": "2022-02-21T18:01:20.157Z"
   },
   {
    "duration": 103,
    "start_time": "2022-02-21T18:01:20.397Z"
   },
   {
    "duration": 64,
    "start_time": "2022-02-21T18:01:20.504Z"
   },
   {
    "duration": 63,
    "start_time": "2022-02-21T18:01:20.595Z"
   },
   {
    "duration": 144,
    "start_time": "2022-02-21T18:01:20.663Z"
   },
   {
    "duration": 169,
    "start_time": "2022-02-21T18:01:20.813Z"
   },
   {
    "duration": 407,
    "start_time": "2022-02-21T18:01:20.985Z"
   },
   {
    "duration": 141,
    "start_time": "2022-02-21T18:01:21.395Z"
   },
   {
    "duration": 32664,
    "start_time": "2022-02-21T18:01:21.539Z"
   },
   {
    "duration": 28,
    "start_time": "2022-02-21T18:01:54.206Z"
   },
   {
    "duration": 2461,
    "start_time": "2022-02-21T18:01:54.238Z"
   },
   {
    "duration": 105,
    "start_time": "2022-02-21T18:01:56.703Z"
   },
   {
    "duration": 555,
    "start_time": "2022-02-21T18:01:56.810Z"
   },
   {
    "duration": 148,
    "start_time": "2022-02-21T18:01:57.221Z"
   },
   {
    "duration": 145,
    "start_time": "2022-02-21T18:01:57.227Z"
   },
   {
    "duration": 146,
    "start_time": "2022-02-21T18:01:57.229Z"
   },
   {
    "duration": 146,
    "start_time": "2022-02-21T18:01:57.232Z"
   },
   {
    "duration": 141,
    "start_time": "2022-02-21T18:01:57.240Z"
   },
   {
    "duration": 137,
    "start_time": "2022-02-21T18:01:57.246Z"
   },
   {
    "duration": 137,
    "start_time": "2022-02-21T18:01:57.249Z"
   },
   {
    "duration": 136,
    "start_time": "2022-02-21T18:01:57.251Z"
   },
   {
    "duration": 135,
    "start_time": "2022-02-21T18:01:57.254Z"
   },
   {
    "duration": 311,
    "start_time": "2022-02-21T18:02:54.537Z"
   },
   {
    "duration": 1179,
    "start_time": "2022-02-21T18:03:01.880Z"
   },
   {
    "duration": 8,
    "start_time": "2022-02-21T18:04:41.198Z"
   },
   {
    "duration": 7032,
    "start_time": "2022-02-21T18:05:24.599Z"
   },
   {
    "duration": 6,
    "start_time": "2022-02-21T18:05:36.319Z"
   },
   {
    "duration": 5021,
    "start_time": "2022-02-21T18:05:36.330Z"
   },
   {
    "duration": 910,
    "start_time": "2022-02-21T18:05:41.357Z"
   },
   {
    "duration": 192,
    "start_time": "2022-02-21T18:05:42.271Z"
   },
   {
    "duration": 686,
    "start_time": "2022-02-21T18:05:42.466Z"
   },
   {
    "duration": 286,
    "start_time": "2022-02-21T18:05:43.158Z"
   },
   {
    "duration": 640,
    "start_time": "2022-02-21T18:05:43.447Z"
   },
   {
    "duration": 1010,
    "start_time": "2022-02-21T18:05:44.090Z"
   },
   {
    "duration": 1196,
    "start_time": "2022-02-21T18:05:45.106Z"
   },
   {
    "duration": 1099,
    "start_time": "2022-02-21T18:05:46.307Z"
   },
   {
    "duration": 1054,
    "start_time": "2022-02-21T18:05:47.410Z"
   },
   {
    "duration": 906,
    "start_time": "2022-02-21T18:05:48.468Z"
   },
   {
    "duration": 1214,
    "start_time": "2022-02-21T18:05:49.378Z"
   },
   {
    "duration": 575,
    "start_time": "2022-02-21T18:05:50.596Z"
   },
   {
    "duration": 1779,
    "start_time": "2022-02-21T18:05:51.175Z"
   },
   {
    "duration": 678,
    "start_time": "2022-02-21T18:05:52.956Z"
   },
   {
    "duration": 1902,
    "start_time": "2022-02-21T18:05:53.636Z"
   },
   {
    "duration": 1599,
    "start_time": "2022-02-21T18:05:55.542Z"
   },
   {
    "duration": 1030,
    "start_time": "2022-02-21T18:05:57.143Z"
   },
   {
    "duration": 1221,
    "start_time": "2022-02-21T18:05:58.175Z"
   },
   {
    "duration": 1577,
    "start_time": "2022-02-21T18:05:59.400Z"
   },
   {
    "duration": 1500,
    "start_time": "2022-02-21T18:06:00.981Z"
   },
   {
    "duration": 1470,
    "start_time": "2022-02-21T18:06:02.484Z"
   },
   {
    "duration": 1310,
    "start_time": "2022-02-21T18:06:03.957Z"
   },
   {
    "duration": 1306,
    "start_time": "2022-02-21T18:06:05.271Z"
   },
   {
    "duration": 12103,
    "start_time": "2022-02-21T18:06:06.580Z"
   },
   {
    "duration": 146,
    "start_time": "2022-02-21T18:06:18.542Z"
   },
   {
    "duration": 145,
    "start_time": "2022-02-21T18:06:18.546Z"
   },
   {
    "duration": 142,
    "start_time": "2022-02-21T18:06:18.550Z"
   },
   {
    "duration": 140,
    "start_time": "2022-02-21T18:06:18.553Z"
   },
   {
    "duration": 139,
    "start_time": "2022-02-21T18:06:18.556Z"
   },
   {
    "duration": 130,
    "start_time": "2022-02-21T18:06:18.566Z"
   },
   {
    "duration": 128,
    "start_time": "2022-02-21T18:06:18.569Z"
   },
   {
    "duration": 124,
    "start_time": "2022-02-21T18:06:18.575Z"
   },
   {
    "duration": 122,
    "start_time": "2022-02-21T18:06:18.580Z"
   },
   {
    "duration": 119,
    "start_time": "2022-02-21T18:06:18.584Z"
   },
   {
    "duration": 115,
    "start_time": "2022-02-21T18:06:18.590Z"
   },
   {
    "duration": 114,
    "start_time": "2022-02-21T18:06:18.593Z"
   },
   {
    "duration": 112,
    "start_time": "2022-02-21T18:06:18.596Z"
   },
   {
    "duration": 107,
    "start_time": "2022-02-21T18:06:18.603Z"
   },
   {
    "duration": 2370,
    "start_time": "2022-02-21T18:06:40.224Z"
   },
   {
    "duration": 5533,
    "start_time": "2022-02-21T18:06:42.597Z"
   },
   {
    "duration": 736,
    "start_time": "2022-02-21T18:06:48.134Z"
   },
   {
    "duration": 239,
    "start_time": "2022-02-21T18:06:48.874Z"
   },
   {
    "duration": 402,
    "start_time": "2022-02-21T18:06:49.116Z"
   },
   {
    "duration": 460,
    "start_time": "2022-02-21T18:06:49.521Z"
   },
   {
    "duration": 378,
    "start_time": "2022-02-21T18:06:49.983Z"
   },
   {
    "duration": 912,
    "start_time": "2022-02-21T18:06:50.364Z"
   },
   {
    "duration": 377,
    "start_time": "2022-02-21T18:06:51.284Z"
   },
   {
    "duration": 306,
    "start_time": "2022-02-21T18:06:51.665Z"
   },
   {
    "duration": 566,
    "start_time": "2022-02-21T18:06:51.974Z"
   },
   {
    "duration": 359,
    "start_time": "2022-02-21T18:06:52.543Z"
   },
   {
    "duration": 767,
    "start_time": "2022-02-21T18:06:52.904Z"
   },
   {
    "duration": 397,
    "start_time": "2022-02-21T18:06:53.674Z"
   },
   {
    "duration": 891,
    "start_time": "2022-02-21T18:06:54.074Z"
   },
   {
    "duration": 43,
    "start_time": "2022-02-21T18:06:54.968Z"
   },
   {
    "duration": 573,
    "start_time": "2022-02-21T18:06:55.015Z"
   },
   {
    "duration": 448,
    "start_time": "2022-02-21T18:06:55.591Z"
   },
   {
    "duration": 406,
    "start_time": "2022-02-21T18:06:56.042Z"
   },
   {
    "duration": 402,
    "start_time": "2022-02-21T18:06:56.450Z"
   },
   {
    "duration": 1466,
    "start_time": "2022-02-21T18:06:56.854Z"
   },
   {
    "duration": 851,
    "start_time": "2022-02-21T18:06:58.322Z"
   },
   {
    "duration": 963,
    "start_time": "2022-02-21T18:06:59.176Z"
   },
   {
    "duration": 493,
    "start_time": "2022-02-21T18:07:00.142Z"
   },
   {
    "duration": 359,
    "start_time": "2022-02-21T18:07:00.638Z"
   },
   {
    "duration": 28119,
    "start_time": "2022-02-21T18:07:01.000Z"
   },
   {
    "duration": 30,
    "start_time": "2022-02-21T18:07:29.127Z"
   },
   {
    "duration": 1639,
    "start_time": "2022-02-21T18:07:29.160Z"
   },
   {
    "duration": 55,
    "start_time": "2022-02-21T18:07:30.802Z"
   },
   {
    "duration": 450,
    "start_time": "2022-02-21T18:07:30.859Z"
   },
   {
    "duration": 1083,
    "start_time": "2022-02-21T18:07:31.312Z"
   },
   {
    "duration": 97,
    "start_time": "2022-02-21T18:07:32.397Z"
   },
   {
    "duration": 956,
    "start_time": "2022-02-21T18:07:32.497Z"
   },
   {
    "duration": 78,
    "start_time": "2022-02-21T18:07:33.455Z"
   },
   {
    "duration": 1714,
    "start_time": "2022-02-21T18:07:33.537Z"
   },
   {
    "duration": 18,
    "start_time": "2022-02-21T18:07:35.254Z"
   },
   {
    "duration": 453,
    "start_time": "2022-02-21T18:07:35.276Z"
   },
   {
    "duration": 1761,
    "start_time": "2022-02-21T18:07:35.732Z"
   },
   {
    "duration": 8,
    "start_time": "2022-02-21T18:07:37.496Z"
   },
   {
    "duration": 349,
    "start_time": "2022-02-21T18:07:37.508Z"
   },
   {
    "duration": 3139,
    "start_time": "2022-03-03T17:49:58.774Z"
   },
   {
    "duration": 210,
    "start_time": "2022-03-05T11:26:57.657Z"
   },
   {
    "duration": 1230,
    "start_time": "2022-03-05T11:27:04.474Z"
   },
   {
    "duration": 88311,
    "start_time": "2022-03-05T11:27:05.706Z"
   },
   {
    "duration": 521,
    "start_time": "2022-03-05T11:28:34.019Z"
   },
   {
    "duration": 495,
    "start_time": "2022-03-05T11:28:41.260Z"
   },
   {
    "duration": 81,
    "start_time": "2022-03-05T11:45:03.780Z"
   },
   {
    "duration": 230,
    "start_time": "2022-03-05T12:19:06.738Z"
   },
   {
    "duration": 172,
    "start_time": "2022-03-05T12:19:27.877Z"
   },
   {
    "duration": 5,
    "start_time": "2022-03-05T12:21:08.246Z"
   },
   {
    "duration": 183,
    "start_time": "2022-03-05T12:21:27.750Z"
   },
   {
    "duration": 173,
    "start_time": "2022-03-05T12:21:44.537Z"
   },
   {
    "duration": 220,
    "start_time": "2022-03-05T12:21:58.377Z"
   },
   {
    "duration": 190,
    "start_time": "2022-03-05T12:22:10.347Z"
   },
   {
    "duration": 3,
    "start_time": "2022-03-05T12:44:13.098Z"
   },
   {
    "duration": 544,
    "start_time": "2022-03-05T12:44:45.803Z"
   },
   {
    "duration": 114,
    "start_time": "2022-03-05T12:44:46.349Z"
   },
   {
    "duration": 86,
    "start_time": "2022-03-05T12:44:46.465Z"
   },
   {
    "duration": 7,
    "start_time": "2022-03-05T12:44:46.552Z"
   },
   {
    "duration": 6,
    "start_time": "2022-03-05T12:44:46.561Z"
   },
   {
    "duration": 250,
    "start_time": "2022-03-05T12:44:46.570Z"
   },
   {
    "duration": 93,
    "start_time": "2022-03-05T12:44:46.822Z"
   },
   {
    "duration": 24,
    "start_time": "2022-03-05T12:44:46.916Z"
   },
   {
    "duration": 17,
    "start_time": "2022-03-05T12:44:46.941Z"
   },
   {
    "duration": 29,
    "start_time": "2022-03-05T12:44:46.960Z"
   },
   {
    "duration": 163,
    "start_time": "2022-03-05T12:44:46.990Z"
   },
   {
    "duration": 7,
    "start_time": "2022-03-05T12:44:47.155Z"
   },
   {
    "duration": 251,
    "start_time": "2022-03-05T12:44:47.164Z"
   },
   {
    "duration": 22,
    "start_time": "2022-03-05T12:44:47.416Z"
   },
   {
    "duration": 24,
    "start_time": "2022-03-05T12:44:47.440Z"
   },
   {
    "duration": 102,
    "start_time": "2022-03-05T12:44:47.466Z"
   },
   {
    "duration": 3,
    "start_time": "2022-03-05T12:44:47.570Z"
   },
   {
    "duration": 3,
    "start_time": "2022-03-05T12:44:59.318Z"
   },
   {
    "duration": 6,
    "start_time": "2022-03-05T12:44:59.323Z"
   },
   {
    "duration": 486,
    "start_time": "2022-03-05T12:44:59.331Z"
   },
   {
    "duration": 89,
    "start_time": "2022-03-05T12:44:59.819Z"
   },
   {
    "duration": 82,
    "start_time": "2022-03-05T12:44:59.910Z"
   },
   {
    "duration": 8,
    "start_time": "2022-03-05T12:44:59.994Z"
   },
   {
    "duration": 25,
    "start_time": "2022-03-05T12:45:00.004Z"
   },
   {
    "duration": 260,
    "start_time": "2022-03-05T12:45:00.032Z"
   },
   {
    "duration": 98,
    "start_time": "2022-03-05T12:45:00.295Z"
   },
   {
    "duration": 15,
    "start_time": "2022-03-05T12:45:00.394Z"
   },
   {
    "duration": 10,
    "start_time": "2022-03-05T12:45:00.411Z"
   },
   {
    "duration": 17,
    "start_time": "2022-03-05T12:45:00.422Z"
   },
   {
    "duration": 236,
    "start_time": "2022-03-05T12:45:00.441Z"
   },
   {
    "duration": 7,
    "start_time": "2022-03-05T12:45:00.679Z"
   },
   {
    "duration": 212,
    "start_time": "2022-03-05T12:45:00.687Z"
   },
   {
    "duration": 10,
    "start_time": "2022-03-05T12:45:00.900Z"
   },
   {
    "duration": 18,
    "start_time": "2022-03-05T12:45:00.912Z"
   },
   {
    "duration": 68,
    "start_time": "2022-03-05T12:45:00.938Z"
   },
   {
    "duration": 24,
    "start_time": "2022-03-05T12:45:34.479Z"
   },
   {
    "duration": 205,
    "start_time": "2022-03-05T14:13:49.930Z"
   },
   {
    "duration": 3,
    "start_time": "2022-03-05T14:13:55.793Z"
   },
   {
    "duration": 9,
    "start_time": "2022-03-05T14:13:55.798Z"
   },
   {
    "duration": 484,
    "start_time": "2022-03-05T14:13:55.809Z"
   },
   {
    "duration": 83,
    "start_time": "2022-03-05T14:13:56.295Z"
   },
   {
    "duration": 65,
    "start_time": "2022-03-05T14:13:56.380Z"
   },
   {
    "duration": 6,
    "start_time": "2022-03-05T14:13:56.447Z"
   },
   {
    "duration": 8,
    "start_time": "2022-03-05T14:13:56.455Z"
   },
   {
    "duration": 309,
    "start_time": "2022-03-05T14:13:56.465Z"
   },
   {
    "duration": 115,
    "start_time": "2022-03-05T14:13:56.776Z"
   },
   {
    "duration": 47,
    "start_time": "2022-03-05T14:13:56.892Z"
   },
   {
    "duration": 9,
    "start_time": "2022-03-05T14:13:56.940Z"
   },
   {
    "duration": 6,
    "start_time": "2022-03-05T14:13:56.950Z"
   },
   {
    "duration": 156,
    "start_time": "2022-03-05T14:13:56.957Z"
   },
   {
    "duration": 7,
    "start_time": "2022-03-05T14:13:57.115Z"
   },
   {
    "duration": 218,
    "start_time": "2022-03-05T14:13:57.124Z"
   },
   {
    "duration": 10,
    "start_time": "2022-03-05T14:13:57.343Z"
   },
   {
    "duration": 15,
    "start_time": "2022-03-05T14:13:57.355Z"
   },
   {
    "duration": 76,
    "start_time": "2022-03-05T14:13:57.373Z"
   },
   {
    "duration": 24,
    "start_time": "2022-03-05T14:13:57.451Z"
   },
   {
    "duration": 39,
    "start_time": "2022-03-05T14:13:57.476Z"
   },
   {
    "duration": 54,
    "start_time": "2022-03-05T14:13:57.517Z"
   },
   {
    "duration": 25,
    "start_time": "2022-03-05T14:13:57.573Z"
   },
   {
    "duration": 4,
    "start_time": "2022-03-05T14:13:57.600Z"
   },
   {
    "duration": 10,
    "start_time": "2022-03-05T14:13:57.605Z"
   },
   {
    "duration": 10,
    "start_time": "2022-03-05T14:13:57.637Z"
   },
   {
    "duration": 7,
    "start_time": "2022-03-05T14:13:57.648Z"
   },
   {
    "duration": 14280,
    "start_time": "2022-03-05T14:13:57.657Z"
   },
   {
    "duration": 15,
    "start_time": "2022-03-05T14:14:11.939Z"
   },
   {
    "duration": 675,
    "start_time": "2022-03-05T14:14:11.956Z"
   },
   {
    "duration": 35,
    "start_time": "2022-03-05T14:14:12.632Z"
   },
   {
    "duration": 180,
    "start_time": "2022-03-05T14:14:12.669Z"
   },
   {
    "duration": -75,
    "start_time": "2022-03-05T14:14:12.926Z"
   },
   {
    "duration": -78,
    "start_time": "2022-03-05T14:14:12.930Z"
   },
   {
    "duration": -81,
    "start_time": "2022-03-05T14:14:12.934Z"
   },
   {
    "duration": -86,
    "start_time": "2022-03-05T14:14:12.940Z"
   },
   {
    "duration": -90,
    "start_time": "2022-03-05T14:14:12.945Z"
   },
   {
    "duration": 105076,
    "start_time": "2022-03-05T14:14:55.227Z"
   },
   {
    "duration": 4,
    "start_time": "2022-03-05T14:17:07.530Z"
   },
   {
    "duration": 226,
    "start_time": "2022-03-05T14:17:24.772Z"
   },
   {
    "duration": 1088,
    "start_time": "2022-03-05T14:17:28.903Z"
   },
   {
    "duration": 6,
    "start_time": "2022-03-05T14:17:31.649Z"
   },
   {
    "duration": 3,
    "start_time": "2022-03-05T14:19:21.405Z"
   },
   {
    "duration": 74,
    "start_time": "2022-03-05T14:19:34.931Z"
   },
   {
    "duration": 867,
    "start_time": "2022-03-05T14:19:44.582Z"
   },
   {
    "duration": 4,
    "start_time": "2022-03-05T14:20:02.595Z"
   },
   {
    "duration": 244,
    "start_time": "2022-03-05T14:21:11.283Z"
   },
   {
    "duration": 169,
    "start_time": "2022-03-05T14:21:16.101Z"
   },
   {
    "duration": 181,
    "start_time": "2022-03-05T14:21:20.970Z"
   },
   {
    "duration": 3,
    "start_time": "2022-03-05T14:21:43.049Z"
   },
   {
    "duration": 3,
    "start_time": "2022-03-05T14:21:46.950Z"
   },
   {
    "duration": 3,
    "start_time": "2022-03-05T14:22:17.465Z"
   },
   {
    "duration": 3,
    "start_time": "2022-03-05T14:22:21.199Z"
   },
   {
    "duration": 4,
    "start_time": "2022-03-05T14:22:24.813Z"
   },
   {
    "duration": 105080,
    "start_time": "2022-03-05T14:30:15.645Z"
   },
   {
    "duration": 3,
    "start_time": "2022-03-05T14:32:56.139Z"
   },
   {
    "duration": 38666,
    "start_time": "2022-03-05T14:32:58.950Z"
   },
   {
    "duration": 1036,
    "start_time": "2022-03-05T14:34:56.991Z"
   },
   {
    "duration": 6985,
    "start_time": "2022-03-05T14:34:58.029Z"
   },
   {
    "duration": 495,
    "start_time": "2022-03-05T14:35:05.017Z"
   },
   {
    "duration": 85,
    "start_time": "2022-03-05T14:35:05.514Z"
   },
   {
    "duration": 85,
    "start_time": "2022-03-05T14:35:05.601Z"
   },
   {
    "duration": 6,
    "start_time": "2022-03-05T14:35:05.688Z"
   },
   {
    "duration": 10,
    "start_time": "2022-03-05T14:35:05.696Z"
   },
   {
    "duration": 237,
    "start_time": "2022-03-05T14:35:05.708Z"
   },
   {
    "duration": 97,
    "start_time": "2022-03-05T14:35:05.947Z"
   },
   {
    "duration": 17,
    "start_time": "2022-03-05T14:35:06.046Z"
   },
   {
    "duration": 8,
    "start_time": "2022-03-05T14:35:06.065Z"
   },
   {
    "duration": 9,
    "start_time": "2022-03-05T14:35:06.074Z"
   },
   {
    "duration": 161,
    "start_time": "2022-03-05T14:35:06.085Z"
   },
   {
    "duration": 8,
    "start_time": "2022-03-05T14:35:06.247Z"
   },
   {
    "duration": 223,
    "start_time": "2022-03-05T14:35:06.257Z"
   },
   {
    "duration": 13,
    "start_time": "2022-03-05T14:35:06.481Z"
   },
   {
    "duration": 10,
    "start_time": "2022-03-05T14:35:06.495Z"
   },
   {
    "duration": 93,
    "start_time": "2022-03-05T14:35:06.506Z"
   },
   {
    "duration": 25,
    "start_time": "2022-03-05T14:35:06.600Z"
   },
   {
    "duration": 40,
    "start_time": "2022-03-05T14:35:06.638Z"
   },
   {
    "duration": 40,
    "start_time": "2022-03-05T14:35:06.680Z"
   },
   {
    "duration": 40,
    "start_time": "2022-03-05T14:35:06.721Z"
   },
   {
    "duration": 4,
    "start_time": "2022-03-05T14:35:06.763Z"
   },
   {
    "duration": 8,
    "start_time": "2022-03-05T14:35:06.768Z"
   },
   {
    "duration": 11,
    "start_time": "2022-03-05T14:35:06.777Z"
   },
   {
    "duration": 4,
    "start_time": "2022-03-05T14:35:06.789Z"
   },
   {
    "duration": 14654,
    "start_time": "2022-03-05T14:35:06.796Z"
   },
   {
    "duration": 18,
    "start_time": "2022-03-05T14:35:21.453Z"
   },
   {
    "duration": 670,
    "start_time": "2022-03-05T14:35:21.473Z"
   },
   {
    "duration": 33,
    "start_time": "2022-03-05T14:35:22.144Z"
   },
   {
    "duration": 451,
    "start_time": "2022-03-05T14:35:22.179Z"
   },
   {
    "duration": 34,
    "start_time": "2022-03-05T14:35:22.632Z"
   },
   {
    "duration": 341,
    "start_time": "2022-03-05T14:35:22.667Z"
   },
   {
    "duration": 43,
    "start_time": "2022-03-05T14:35:23.010Z"
   },
   {
    "duration": 405,
    "start_time": "2022-03-05T14:35:23.055Z"
   },
   {
    "duration": 302,
    "start_time": "2022-03-05T14:35:23.462Z"
   },
   {
    "duration": 192,
    "start_time": "2022-03-05T15:02:18.404Z"
   },
   {
    "duration": 10,
    "start_time": "2022-03-05T15:02:27.039Z"
   },
   {
    "duration": 4298,
    "start_time": "2022-03-05T15:04:27.000Z"
   },
   {
    "duration": 11,
    "start_time": "2022-03-05T15:04:39.097Z"
   },
   {
    "duration": 9,
    "start_time": "2022-03-05T15:06:36.843Z"
   },
   {
    "duration": 9,
    "start_time": "2022-03-05T15:06:48.906Z"
   },
   {
    "duration": 2,
    "start_time": "2022-03-05T15:11:38.925Z"
   },
   {
    "duration": 7064,
    "start_time": "2022-03-05T15:11:38.929Z"
   },
   {
    "duration": 502,
    "start_time": "2022-03-05T15:11:45.996Z"
   },
   {
    "duration": 78,
    "start_time": "2022-03-05T15:11:46.499Z"
   },
   {
    "duration": 90,
    "start_time": "2022-03-05T15:11:46.579Z"
   },
   {
    "duration": 7,
    "start_time": "2022-03-05T15:11:46.671Z"
   },
   {
    "duration": 15,
    "start_time": "2022-03-05T15:11:46.680Z"
   },
   {
    "duration": 247,
    "start_time": "2022-03-05T15:11:46.697Z"
   },
   {
    "duration": 99,
    "start_time": "2022-03-05T15:11:46.947Z"
   },
   {
    "duration": 14,
    "start_time": "2022-03-05T15:11:47.049Z"
   },
   {
    "duration": 4,
    "start_time": "2022-03-05T15:11:47.065Z"
   },
   {
    "duration": 5,
    "start_time": "2022-03-05T15:11:47.070Z"
   },
   {
    "duration": 172,
    "start_time": "2022-03-05T15:11:47.076Z"
   },
   {
    "duration": 7,
    "start_time": "2022-03-05T15:11:47.250Z"
   },
   {
    "duration": 216,
    "start_time": "2022-03-05T15:11:47.259Z"
   },
   {
    "duration": 11,
    "start_time": "2022-03-05T15:11:47.477Z"
   },
   {
    "duration": 15,
    "start_time": "2022-03-05T15:11:47.489Z"
   },
   {
    "duration": 94,
    "start_time": "2022-03-05T15:11:47.505Z"
   },
   {
    "duration": 23,
    "start_time": "2022-03-05T15:11:47.601Z"
   },
   {
    "duration": 47,
    "start_time": "2022-03-05T15:11:47.626Z"
   },
   {
    "duration": 40,
    "start_time": "2022-03-05T15:11:47.675Z"
   },
   {
    "duration": 133,
    "start_time": "2022-03-05T15:11:47.717Z"
   },
   {
    "duration": 3,
    "start_time": "2022-03-05T15:11:47.852Z"
   },
   {
    "duration": 6,
    "start_time": "2022-03-05T15:11:47.857Z"
   },
   {
    "duration": 11,
    "start_time": "2022-03-05T15:11:47.864Z"
   },
   {
    "duration": 5,
    "start_time": "2022-03-05T15:11:47.876Z"
   },
   {
    "duration": 14328,
    "start_time": "2022-03-05T15:11:47.884Z"
   },
   {
    "duration": 24,
    "start_time": "2022-03-05T15:12:02.214Z"
   },
   {
    "duration": 684,
    "start_time": "2022-03-05T15:12:02.240Z"
   },
   {
    "duration": 40,
    "start_time": "2022-03-05T15:12:02.926Z"
   },
   {
    "duration": 371,
    "start_time": "2022-03-05T15:12:02.968Z"
   },
   {
    "duration": 35,
    "start_time": "2022-03-05T15:12:03.342Z"
   },
   {
    "duration": 363,
    "start_time": "2022-03-05T15:12:03.378Z"
   },
   {
    "duration": 35,
    "start_time": "2022-03-05T15:12:03.742Z"
   },
   {
    "duration": 411,
    "start_time": "2022-03-05T15:12:03.779Z"
   },
   {
    "duration": 10,
    "start_time": "2022-03-05T15:12:04.191Z"
   },
   {
    "duration": 21,
    "start_time": "2022-03-05T15:12:04.202Z"
   },
   {
    "duration": 4222,
    "start_time": "2022-03-05T15:12:04.224Z"
   },
   {
    "duration": 9,
    "start_time": "2022-03-05T15:12:08.447Z"
   },
   {
    "duration": 10,
    "start_time": "2022-03-05T15:12:08.457Z"
   },
   {
    "duration": 683,
    "start_time": "2022-03-05T15:12:08.468Z"
   },
   {
    "duration": 5,
    "start_time": "2022-03-05T15:12:09.153Z"
   },
   {
    "duration": 18,
    "start_time": "2022-03-05T15:12:09.160Z"
   }
  ],
  "kernelspec": {
   "display_name": "Python 3 (ipykernel)",
   "language": "python",
   "name": "python3"
  },
  "language_info": {
   "codemirror_mode": {
    "name": "ipython",
    "version": 3
   },
   "file_extension": ".py",
   "mimetype": "text/x-python",
   "name": "python",
   "nbconvert_exporter": "python",
   "pygments_lexer": "ipython3",
   "version": "3.9.10"
  },
  "toc": {
   "base_numbering": 1,
   "nav_menu": {},
   "number_sections": true,
   "sideBar": true,
   "skip_h1_title": true,
   "title_cell": "Table of Contents",
   "title_sidebar": "Contents",
   "toc_cell": true,
   "toc_position": {},
   "toc_section_display": true,
   "toc_window_display": false
  }
 },
 "nbformat": 4,
 "nbformat_minor": 5
}
