{
 "cells": [
  {
   "cell_type": "markdown",
   "id": "408ddfc4",
   "metadata": {},
   "source": [
    "# Восстановление золота из руды"
   ]
  },
  {
   "cell_type": "markdown",
   "id": "d0d188c0",
   "metadata": {},
   "source": [
    "В этом проекте мы подготовим прототип модели машинного обучения для компании «Цифры». Компания разрабатывает технологические решения для задач крупных промышленных предприятий.\n",
    "\n",
    "Модель должна будет предсказать коэффициент восстановления золота из золотосодержащей руды на разных этапах очистки сырья. В качестве признаков для обучения будет использоваться информация с датчиков, фиксирующих концентрации веществ на разных этапах технологического процесса.\n",
    "\n",
    "Модель поможет оптимизировать производство, чтобы не запускать предприятие с убыточными характеристиками.\n",
    "\n",
    "Технологический процесс состоит из нескольких этапов:\n",
    "* Флотация (в исходное сырье добавляются специальные реагенты, а также вода и воздух с целью разделения смеси на частицы драгоценных металов и прочие примеси).\n",
    "* Первичная и вторичная очистка (полученная на этапе флотация пульпы очищается для увеличения концентрации драгоценных металлов).\n",
    "\n",
    "Данные, с которыми предстоит работать, представляют собой различные параметры сырья (`input`) и продукта (`output`) c каждого этапа, а также различные физико-химические характеристики с каждой флотационной установки."
   ]
  },
  {
   "cell_type": "markdown",
   "id": "833a8c21",
   "metadata": {},
   "source": [
    "## Подготовительный этап\n",
    "\n",
    "### Импорт библиотек\n"
   ]
  },
  {
   "cell_type": "code",
   "execution_count": 1,
   "id": "c744af23",
   "metadata": {},
   "outputs": [],
   "source": [
    "# отключим всякие предупреждения\n",
    "import warnings\n",
    "warnings.filterwarnings('ignore')\n",
    "\n",
    "# визуализация\n",
    "%matplotlib inline\n",
    "from matplotlib import pyplot as plt\n",
    "import seaborn as sns\n",
    "\n",
    "# предобработка данных\n",
    "import numpy as np\n",
    "import pandas as pd\n",
    "from scipy.stats import zscore\n",
    "\n",
    "# машинное обучения\n",
    "from sklearn.preprocessing import StandardScaler\n",
    "from sklearn.linear_model import LinearRegression\n",
    "from sklearn.ensemble import RandomForestRegressor\n",
    "from sklearn.model_selection import cross_val_score, RandomizedSearchCV, GridSearchCV\n",
    "from sklearn.dummy import DummyRegressor\n",
    "from sklearn.metrics import make_scorer, mean_absolute_error\n",
    "\n",
    "# фиксируем случайность\n",
    "from numpy.random import RandomState\n",
    "RANDOM_STATE=17"
   ]
  },
  {
   "cell_type": "markdown",
   "id": "f725bd6f",
   "metadata": {},
   "source": [
    "### Знакомство с данными"
   ]
  },
  {
   "cell_type": "code",
   "execution_count": 2,
   "id": "ed9884a4",
   "metadata": {},
   "outputs": [],
   "source": [
    "try:\n",
    "    df_full = pd.read_csv('datasets/gold_recovery_full_new.csv')\n",
    "    df_train = pd.read_csv('datasets/gold_recovery_train_new.csv') \n",
    "    df_test = pd.read_csv('datasets/gold_recovery_test_new.csv')\n",
    "except FileNotFoundError:\n",
    "    df_full = pd.read_csv('/datasets/gold_recovery_full_new.csv')\n",
    "    df_train = pd.read_csv('/datasets/gold_recovery_train_new.csv') \n",
    "    df_test = pd.read_csv('/datasets/gold_recovery_test_new.csv')"
   ]
  },
  {
   "cell_type": "code",
   "execution_count": 3,
   "id": "1c10464a",
   "metadata": {},
   "outputs": [
    {
     "data": {
      "text/html": [
       "<div>\n",
       "<style scoped>\n",
       "    .dataframe tbody tr th:only-of-type {\n",
       "        vertical-align: middle;\n",
       "    }\n",
       "\n",
       "    .dataframe tbody tr th {\n",
       "        vertical-align: top;\n",
       "    }\n",
       "\n",
       "    .dataframe thead th {\n",
       "        text-align: right;\n",
       "    }\n",
       "</style>\n",
       "<table border=\"1\" class=\"dataframe\">\n",
       "  <thead>\n",
       "    <tr style=\"text-align: right;\">\n",
       "      <th></th>\n",
       "      <th>date</th>\n",
       "      <th>final.output.concentrate_ag</th>\n",
       "      <th>final.output.concentrate_pb</th>\n",
       "      <th>final.output.concentrate_sol</th>\n",
       "      <th>final.output.concentrate_au</th>\n",
       "      <th>final.output.recovery</th>\n",
       "      <th>final.output.tail_ag</th>\n",
       "      <th>final.output.tail_pb</th>\n",
       "      <th>final.output.tail_sol</th>\n",
       "      <th>final.output.tail_au</th>\n",
       "      <th>primary_cleaner.input.sulfate</th>\n",
       "      <th>primary_cleaner.input.depressant</th>\n",
       "      <th>primary_cleaner.input.feed_size</th>\n",
       "      <th>primary_cleaner.input.xanthate</th>\n",
       "      <th>primary_cleaner.output.concentrate_ag</th>\n",
       "      <th>primary_cleaner.output.concentrate_pb</th>\n",
       "      <th>primary_cleaner.output.concentrate_sol</th>\n",
       "      <th>primary_cleaner.output.concentrate_au</th>\n",
       "      <th>primary_cleaner.output.tail_ag</th>\n",
       "      <th>primary_cleaner.output.tail_pb</th>\n",
       "      <th>primary_cleaner.output.tail_sol</th>\n",
       "      <th>primary_cleaner.output.tail_au</th>\n",
       "      <th>primary_cleaner.state.floatbank8_a_air</th>\n",
       "      <th>primary_cleaner.state.floatbank8_a_level</th>\n",
       "      <th>primary_cleaner.state.floatbank8_b_air</th>\n",
       "      <th>primary_cleaner.state.floatbank8_b_level</th>\n",
       "      <th>primary_cleaner.state.floatbank8_c_air</th>\n",
       "      <th>primary_cleaner.state.floatbank8_c_level</th>\n",
       "      <th>primary_cleaner.state.floatbank8_d_air</th>\n",
       "      <th>primary_cleaner.state.floatbank8_d_level</th>\n",
       "      <th>rougher.calculation.sulfate_to_au_concentrate</th>\n",
       "      <th>rougher.calculation.floatbank10_sulfate_to_au_feed</th>\n",
       "      <th>rougher.calculation.floatbank11_sulfate_to_au_feed</th>\n",
       "      <th>rougher.calculation.au_pb_ratio</th>\n",
       "      <th>rougher.input.feed_ag</th>\n",
       "      <th>rougher.input.feed_pb</th>\n",
       "      <th>rougher.input.feed_rate</th>\n",
       "      <th>rougher.input.feed_size</th>\n",
       "      <th>rougher.input.feed_sol</th>\n",
       "      <th>rougher.input.feed_au</th>\n",
       "      <th>rougher.input.floatbank10_sulfate</th>\n",
       "      <th>rougher.input.floatbank10_xanthate</th>\n",
       "      <th>rougher.input.floatbank11_sulfate</th>\n",
       "      <th>rougher.input.floatbank11_xanthate</th>\n",
       "      <th>rougher.output.concentrate_ag</th>\n",
       "      <th>rougher.output.concentrate_pb</th>\n",
       "      <th>rougher.output.concentrate_sol</th>\n",
       "      <th>rougher.output.concentrate_au</th>\n",
       "      <th>rougher.output.recovery</th>\n",
       "      <th>rougher.output.tail_ag</th>\n",
       "      <th>rougher.output.tail_pb</th>\n",
       "      <th>rougher.output.tail_sol</th>\n",
       "      <th>rougher.output.tail_au</th>\n",
       "      <th>rougher.state.floatbank10_a_air</th>\n",
       "      <th>rougher.state.floatbank10_a_level</th>\n",
       "      <th>rougher.state.floatbank10_b_air</th>\n",
       "      <th>rougher.state.floatbank10_b_level</th>\n",
       "      <th>rougher.state.floatbank10_c_air</th>\n",
       "      <th>rougher.state.floatbank10_c_level</th>\n",
       "      <th>rougher.state.floatbank10_d_air</th>\n",
       "      <th>rougher.state.floatbank10_d_level</th>\n",
       "      <th>rougher.state.floatbank10_e_air</th>\n",
       "      <th>rougher.state.floatbank10_e_level</th>\n",
       "      <th>rougher.state.floatbank10_f_air</th>\n",
       "      <th>rougher.state.floatbank10_f_level</th>\n",
       "      <th>secondary_cleaner.output.tail_ag</th>\n",
       "      <th>secondary_cleaner.output.tail_pb</th>\n",
       "      <th>secondary_cleaner.output.tail_sol</th>\n",
       "      <th>secondary_cleaner.output.tail_au</th>\n",
       "      <th>secondary_cleaner.state.floatbank2_a_air</th>\n",
       "      <th>secondary_cleaner.state.floatbank2_a_level</th>\n",
       "      <th>secondary_cleaner.state.floatbank2_b_air</th>\n",
       "      <th>secondary_cleaner.state.floatbank2_b_level</th>\n",
       "      <th>secondary_cleaner.state.floatbank3_a_air</th>\n",
       "      <th>secondary_cleaner.state.floatbank3_a_level</th>\n",
       "      <th>secondary_cleaner.state.floatbank3_b_air</th>\n",
       "      <th>secondary_cleaner.state.floatbank3_b_level</th>\n",
       "      <th>secondary_cleaner.state.floatbank4_a_air</th>\n",
       "      <th>secondary_cleaner.state.floatbank4_a_level</th>\n",
       "      <th>secondary_cleaner.state.floatbank4_b_air</th>\n",
       "      <th>secondary_cleaner.state.floatbank4_b_level</th>\n",
       "      <th>secondary_cleaner.state.floatbank5_a_air</th>\n",
       "      <th>secondary_cleaner.state.floatbank5_a_level</th>\n",
       "      <th>secondary_cleaner.state.floatbank5_b_air</th>\n",
       "      <th>secondary_cleaner.state.floatbank5_b_level</th>\n",
       "      <th>secondary_cleaner.state.floatbank6_a_air</th>\n",
       "      <th>secondary_cleaner.state.floatbank6_a_level</th>\n",
       "    </tr>\n",
       "  </thead>\n",
       "  <tbody>\n",
       "    <tr>\n",
       "      <th>0</th>\n",
       "      <td>2016-01-15 00:00:00</td>\n",
       "      <td>6.055403</td>\n",
       "      <td>9.889648</td>\n",
       "      <td>5.507324</td>\n",
       "      <td>42.192020</td>\n",
       "      <td>70.541216</td>\n",
       "      <td>10.411962</td>\n",
       "      <td>0.895447</td>\n",
       "      <td>16.904297</td>\n",
       "      <td>2.143149</td>\n",
       "      <td>127.092003</td>\n",
       "      <td>10.128295</td>\n",
       "      <td>7.25</td>\n",
       "      <td>0.988759</td>\n",
       "      <td>8.547551</td>\n",
       "      <td>10.389648</td>\n",
       "      <td>19.529297</td>\n",
       "      <td>34.174427</td>\n",
       "      <td>14.936526</td>\n",
       "      <td>2.534912</td>\n",
       "      <td>7.476074</td>\n",
       "      <td>2.106679</td>\n",
       "      <td>1549.775757</td>\n",
       "      <td>-498.912140</td>\n",
       "      <td>1551.434204</td>\n",
       "      <td>-516.403442</td>\n",
       "      <td>1549.873901</td>\n",
       "      <td>-498.666595</td>\n",
       "      <td>1554.367432</td>\n",
       "      <td>-493.428131</td>\n",
       "      <td>41885.707031</td>\n",
       "      <td>3481.779053</td>\n",
       "      <td>3520.337158</td>\n",
       "      <td>2.838687</td>\n",
       "      <td>6.100378</td>\n",
       "      <td>2.284912</td>\n",
       "      <td>523.546326</td>\n",
       "      <td>55.486599</td>\n",
       "      <td>36.808594</td>\n",
       "      <td>6.486150</td>\n",
       "      <td>11.986616</td>\n",
       "      <td>6.007990</td>\n",
       "      <td>11.836743</td>\n",
       "      <td>6.005818</td>\n",
       "      <td>11.500771</td>\n",
       "      <td>7.101074</td>\n",
       "      <td>28.029297</td>\n",
       "      <td>19.793808</td>\n",
       "      <td>87.107763</td>\n",
       "      <td>5.008018</td>\n",
       "      <td>0.508728</td>\n",
       "      <td>19.154297</td>\n",
       "      <td>1.170244</td>\n",
       "      <td>999.706909</td>\n",
       "      <td>-404.066986</td>\n",
       "      <td>1603.011353</td>\n",
       "      <td>-434.715027</td>\n",
       "      <td>1602.375000</td>\n",
       "      <td>-442.204468</td>\n",
       "      <td>1598.937256</td>\n",
       "      <td>-451.294128</td>\n",
       "      <td>1404.472046</td>\n",
       "      <td>-455.462982</td>\n",
       "      <td>1416.354980</td>\n",
       "      <td>-451.939636</td>\n",
       "      <td>14.500184</td>\n",
       "      <td>4.694824</td>\n",
       "      <td>8.764648</td>\n",
       "      <td>2.606185</td>\n",
       "      <td>25.853109</td>\n",
       "      <td>-498.526489</td>\n",
       "      <td>23.893660</td>\n",
       "      <td>-501.406281</td>\n",
       "      <td>23.961798</td>\n",
       "      <td>-495.262817</td>\n",
       "      <td>21.940409</td>\n",
       "      <td>-499.340973</td>\n",
       "      <td>14.016835</td>\n",
       "      <td>-502.488007</td>\n",
       "      <td>12.099931</td>\n",
       "      <td>-504.715942</td>\n",
       "      <td>9.925633</td>\n",
       "      <td>-498.310211</td>\n",
       "      <td>8.079666</td>\n",
       "      <td>-500.470978</td>\n",
       "      <td>14.151341</td>\n",
       "      <td>-605.841980</td>\n",
       "    </tr>\n",
       "    <tr>\n",
       "      <th>1</th>\n",
       "      <td>2016-01-15 01:00:00</td>\n",
       "      <td>6.029369</td>\n",
       "      <td>9.968944</td>\n",
       "      <td>5.257781</td>\n",
       "      <td>42.701629</td>\n",
       "      <td>69.266198</td>\n",
       "      <td>10.462676</td>\n",
       "      <td>0.927452</td>\n",
       "      <td>16.634514</td>\n",
       "      <td>2.224930</td>\n",
       "      <td>125.629232</td>\n",
       "      <td>10.296251</td>\n",
       "      <td>7.25</td>\n",
       "      <td>1.002663</td>\n",
       "      <td>8.558743</td>\n",
       "      <td>10.497069</td>\n",
       "      <td>19.369147</td>\n",
       "      <td>34.118526</td>\n",
       "      <td>16.250511</td>\n",
       "      <td>3.049646</td>\n",
       "      <td>6.733907</td>\n",
       "      <td>2.353017</td>\n",
       "      <td>1576.166671</td>\n",
       "      <td>-500.904965</td>\n",
       "      <td>1575.950626</td>\n",
       "      <td>-499.865889</td>\n",
       "      <td>1575.994189</td>\n",
       "      <td>-499.315107</td>\n",
       "      <td>1574.479259</td>\n",
       "      <td>-498.931665</td>\n",
       "      <td>42050.861809</td>\n",
       "      <td>3498.370979</td>\n",
       "      <td>3489.981857</td>\n",
       "      <td>2.858998</td>\n",
       "      <td>6.161113</td>\n",
       "      <td>2.266033</td>\n",
       "      <td>525.290581</td>\n",
       "      <td>57.278666</td>\n",
       "      <td>35.753385</td>\n",
       "      <td>6.478583</td>\n",
       "      <td>11.971193</td>\n",
       "      <td>6.005766</td>\n",
       "      <td>11.996163</td>\n",
       "      <td>6.012594</td>\n",
       "      <td>11.615865</td>\n",
       "      <td>7.278807</td>\n",
       "      <td>28.067063</td>\n",
       "      <td>20.050975</td>\n",
       "      <td>86.843261</td>\n",
       "      <td>4.955378</td>\n",
       "      <td>0.536689</td>\n",
       "      <td>18.965234</td>\n",
       "      <td>1.184827</td>\n",
       "      <td>1000.286398</td>\n",
       "      <td>-400.065196</td>\n",
       "      <td>1600.754587</td>\n",
       "      <td>-449.953435</td>\n",
       "      <td>1600.479580</td>\n",
       "      <td>-449.830646</td>\n",
       "      <td>1600.527589</td>\n",
       "      <td>-449.953649</td>\n",
       "      <td>1399.227084</td>\n",
       "      <td>-450.869848</td>\n",
       "      <td>1399.719514</td>\n",
       "      <td>-450.119001</td>\n",
       "      <td>14.265474</td>\n",
       "      <td>4.592547</td>\n",
       "      <td>9.001494</td>\n",
       "      <td>2.488248</td>\n",
       "      <td>25.880539</td>\n",
       "      <td>-499.989656</td>\n",
       "      <td>23.889530</td>\n",
       "      <td>-500.372428</td>\n",
       "      <td>23.970550</td>\n",
       "      <td>-500.085473</td>\n",
       "      <td>22.085714</td>\n",
       "      <td>-499.446897</td>\n",
       "      <td>13.992281</td>\n",
       "      <td>-505.503262</td>\n",
       "      <td>11.950531</td>\n",
       "      <td>-501.331529</td>\n",
       "      <td>10.039245</td>\n",
       "      <td>-500.169983</td>\n",
       "      <td>7.984757</td>\n",
       "      <td>-500.582168</td>\n",
       "      <td>13.998353</td>\n",
       "      <td>-599.787184</td>\n",
       "    </tr>\n",
       "    <tr>\n",
       "      <th>2</th>\n",
       "      <td>2016-01-15 02:00:00</td>\n",
       "      <td>6.055926</td>\n",
       "      <td>10.213995</td>\n",
       "      <td>5.383759</td>\n",
       "      <td>42.657501</td>\n",
       "      <td>68.116445</td>\n",
       "      <td>10.507046</td>\n",
       "      <td>0.953716</td>\n",
       "      <td>16.208849</td>\n",
       "      <td>2.257889</td>\n",
       "      <td>123.819808</td>\n",
       "      <td>11.316280</td>\n",
       "      <td>7.25</td>\n",
       "      <td>0.991265</td>\n",
       "      <td>8.603505</td>\n",
       "      <td>10.354494</td>\n",
       "      <td>19.167579</td>\n",
       "      <td>33.969464</td>\n",
       "      <td>16.491823</td>\n",
       "      <td>3.124664</td>\n",
       "      <td>6.471768</td>\n",
       "      <td>2.416800</td>\n",
       "      <td>1601.556163</td>\n",
       "      <td>-499.997791</td>\n",
       "      <td>1600.386685</td>\n",
       "      <td>-500.607762</td>\n",
       "      <td>1602.003542</td>\n",
       "      <td>-500.870069</td>\n",
       "      <td>1599.541515</td>\n",
       "      <td>-499.827444</td>\n",
       "      <td>42018.101184</td>\n",
       "      <td>3495.348910</td>\n",
       "      <td>3502.359819</td>\n",
       "      <td>2.945989</td>\n",
       "      <td>6.116455</td>\n",
       "      <td>2.159622</td>\n",
       "      <td>530.026610</td>\n",
       "      <td>57.510649</td>\n",
       "      <td>35.971630</td>\n",
       "      <td>6.362222</td>\n",
       "      <td>11.920603</td>\n",
       "      <td>6.197377</td>\n",
       "      <td>11.920305</td>\n",
       "      <td>6.204633</td>\n",
       "      <td>11.695753</td>\n",
       "      <td>7.216833</td>\n",
       "      <td>27.454037</td>\n",
       "      <td>19.737170</td>\n",
       "      <td>86.842308</td>\n",
       "      <td>4.843460</td>\n",
       "      <td>0.546416</td>\n",
       "      <td>18.808533</td>\n",
       "      <td>1.162562</td>\n",
       "      <td>999.719565</td>\n",
       "      <td>-400.074028</td>\n",
       "      <td>1599.337330</td>\n",
       "      <td>-450.008530</td>\n",
       "      <td>1599.672797</td>\n",
       "      <td>-449.954491</td>\n",
       "      <td>1599.849325</td>\n",
       "      <td>-449.954185</td>\n",
       "      <td>1399.180945</td>\n",
       "      <td>-449.937588</td>\n",
       "      <td>1400.316682</td>\n",
       "      <td>-450.527147</td>\n",
       "      <td>14.115662</td>\n",
       "      <td>4.624775</td>\n",
       "      <td>8.842896</td>\n",
       "      <td>2.458187</td>\n",
       "      <td>26.005245</td>\n",
       "      <td>-499.929616</td>\n",
       "      <td>23.886657</td>\n",
       "      <td>-499.951928</td>\n",
       "      <td>23.913535</td>\n",
       "      <td>-499.442343</td>\n",
       "      <td>23.957717</td>\n",
       "      <td>-499.901982</td>\n",
       "      <td>14.015015</td>\n",
       "      <td>-502.520901</td>\n",
       "      <td>11.912783</td>\n",
       "      <td>-501.133383</td>\n",
       "      <td>10.070913</td>\n",
       "      <td>-500.129135</td>\n",
       "      <td>8.013877</td>\n",
       "      <td>-500.517572</td>\n",
       "      <td>14.028663</td>\n",
       "      <td>-601.427363</td>\n",
       "    </tr>\n",
       "    <tr>\n",
       "      <th>3</th>\n",
       "      <td>2016-01-15 03:00:00</td>\n",
       "      <td>6.047977</td>\n",
       "      <td>9.977019</td>\n",
       "      <td>4.858634</td>\n",
       "      <td>42.689819</td>\n",
       "      <td>68.347543</td>\n",
       "      <td>10.422762</td>\n",
       "      <td>0.883763</td>\n",
       "      <td>16.532835</td>\n",
       "      <td>2.146849</td>\n",
       "      <td>122.270188</td>\n",
       "      <td>11.322140</td>\n",
       "      <td>7.25</td>\n",
       "      <td>0.996739</td>\n",
       "      <td>7.221879</td>\n",
       "      <td>8.496563</td>\n",
       "      <td>15.978538</td>\n",
       "      <td>28.260743</td>\n",
       "      <td>16.024359</td>\n",
       "      <td>2.960362</td>\n",
       "      <td>6.843791</td>\n",
       "      <td>2.262051</td>\n",
       "      <td>1599.968720</td>\n",
       "      <td>-500.951778</td>\n",
       "      <td>1600.659236</td>\n",
       "      <td>-499.677094</td>\n",
       "      <td>1600.304144</td>\n",
       "      <td>-500.727997</td>\n",
       "      <td>1600.449520</td>\n",
       "      <td>-500.052575</td>\n",
       "      <td>42029.447991</td>\n",
       "      <td>3498.578313</td>\n",
       "      <td>3499.162912</td>\n",
       "      <td>3.002340</td>\n",
       "      <td>6.043309</td>\n",
       "      <td>2.037807</td>\n",
       "      <td>542.590390</td>\n",
       "      <td>57.792734</td>\n",
       "      <td>36.862241</td>\n",
       "      <td>6.118189</td>\n",
       "      <td>11.630094</td>\n",
       "      <td>6.203177</td>\n",
       "      <td>11.692450</td>\n",
       "      <td>6.196578</td>\n",
       "      <td>11.915047</td>\n",
       "      <td>7.175616</td>\n",
       "      <td>27.341277</td>\n",
       "      <td>19.320810</td>\n",
       "      <td>87.226430</td>\n",
       "      <td>4.655288</td>\n",
       "      <td>0.542525</td>\n",
       "      <td>19.330200</td>\n",
       "      <td>1.079755</td>\n",
       "      <td>999.814770</td>\n",
       "      <td>-400.200179</td>\n",
       "      <td>1600.059442</td>\n",
       "      <td>-450.619948</td>\n",
       "      <td>1600.012842</td>\n",
       "      <td>-449.910497</td>\n",
       "      <td>1597.725177</td>\n",
       "      <td>-450.130127</td>\n",
       "      <td>1400.943157</td>\n",
       "      <td>-450.030142</td>\n",
       "      <td>1400.234743</td>\n",
       "      <td>-449.790835</td>\n",
       "      <td>13.732071</td>\n",
       "      <td>4.482453</td>\n",
       "      <td>9.122857</td>\n",
       "      <td>2.322062</td>\n",
       "      <td>25.942508</td>\n",
       "      <td>-499.176749</td>\n",
       "      <td>23.955516</td>\n",
       "      <td>-499.848796</td>\n",
       "      <td>23.966838</td>\n",
       "      <td>-500.008812</td>\n",
       "      <td>23.954443</td>\n",
       "      <td>-499.944710</td>\n",
       "      <td>14.036510</td>\n",
       "      <td>-500.857308</td>\n",
       "      <td>11.999550</td>\n",
       "      <td>-501.193686</td>\n",
       "      <td>9.970366</td>\n",
       "      <td>-499.201640</td>\n",
       "      <td>7.977324</td>\n",
       "      <td>-500.255908</td>\n",
       "      <td>14.005551</td>\n",
       "      <td>-599.996129</td>\n",
       "    </tr>\n",
       "    <tr>\n",
       "      <th>4</th>\n",
       "      <td>2016-01-15 04:00:00</td>\n",
       "      <td>6.148599</td>\n",
       "      <td>10.142511</td>\n",
       "      <td>4.939416</td>\n",
       "      <td>42.774141</td>\n",
       "      <td>66.927016</td>\n",
       "      <td>10.360302</td>\n",
       "      <td>0.792826</td>\n",
       "      <td>16.525686</td>\n",
       "      <td>2.055292</td>\n",
       "      <td>117.988169</td>\n",
       "      <td>11.913613</td>\n",
       "      <td>7.25</td>\n",
       "      <td>1.009869</td>\n",
       "      <td>9.089428</td>\n",
       "      <td>9.986786</td>\n",
       "      <td>19.199864</td>\n",
       "      <td>33.044932</td>\n",
       "      <td>16.480185</td>\n",
       "      <td>3.112100</td>\n",
       "      <td>6.550154</td>\n",
       "      <td>2.277073</td>\n",
       "      <td>1601.339707</td>\n",
       "      <td>-498.975456</td>\n",
       "      <td>1601.437854</td>\n",
       "      <td>-500.323246</td>\n",
       "      <td>1599.581894</td>\n",
       "      <td>-500.888152</td>\n",
       "      <td>1602.649541</td>\n",
       "      <td>-500.593010</td>\n",
       "      <td>42125.354245</td>\n",
       "      <td>3494.800771</td>\n",
       "      <td>3506.679315</td>\n",
       "      <td>3.169615</td>\n",
       "      <td>6.060915</td>\n",
       "      <td>1.786875</td>\n",
       "      <td>540.531893</td>\n",
       "      <td>56.047189</td>\n",
       "      <td>34.347666</td>\n",
       "      <td>5.663707</td>\n",
       "      <td>10.957755</td>\n",
       "      <td>6.198826</td>\n",
       "      <td>10.960521</td>\n",
       "      <td>6.194897</td>\n",
       "      <td>12.411054</td>\n",
       "      <td>7.240205</td>\n",
       "      <td>27.041023</td>\n",
       "      <td>19.216101</td>\n",
       "      <td>86.688794</td>\n",
       "      <td>4.552800</td>\n",
       "      <td>0.515438</td>\n",
       "      <td>19.267422</td>\n",
       "      <td>1.012642</td>\n",
       "      <td>999.678690</td>\n",
       "      <td>-399.752729</td>\n",
       "      <td>1600.208824</td>\n",
       "      <td>-449.599614</td>\n",
       "      <td>1600.357732</td>\n",
       "      <td>-450.034364</td>\n",
       "      <td>1599.759049</td>\n",
       "      <td>-449.909799</td>\n",
       "      <td>1401.560902</td>\n",
       "      <td>-448.877187</td>\n",
       "      <td>1401.160227</td>\n",
       "      <td>-450.407128</td>\n",
       "      <td>14.079996</td>\n",
       "      <td>4.470737</td>\n",
       "      <td>8.871028</td>\n",
       "      <td>2.330448</td>\n",
       "      <td>26.024787</td>\n",
       "      <td>-500.279091</td>\n",
       "      <td>23.955345</td>\n",
       "      <td>-500.593614</td>\n",
       "      <td>23.985703</td>\n",
       "      <td>-500.083811</td>\n",
       "      <td>23.958945</td>\n",
       "      <td>-499.990309</td>\n",
       "      <td>14.027298</td>\n",
       "      <td>-499.838632</td>\n",
       "      <td>11.953070</td>\n",
       "      <td>-501.053894</td>\n",
       "      <td>9.925709</td>\n",
       "      <td>-501.686727</td>\n",
       "      <td>7.894242</td>\n",
       "      <td>-500.356035</td>\n",
       "      <td>13.996647</td>\n",
       "      <td>-601.496691</td>\n",
       "    </tr>\n",
       "  </tbody>\n",
       "</table>\n",
       "</div>"
      ],
      "text/plain": [
       "                  date  final.output.concentrate_ag  \\\n",
       "0  2016-01-15 00:00:00                     6.055403   \n",
       "1  2016-01-15 01:00:00                     6.029369   \n",
       "2  2016-01-15 02:00:00                     6.055926   \n",
       "3  2016-01-15 03:00:00                     6.047977   \n",
       "4  2016-01-15 04:00:00                     6.148599   \n",
       "\n",
       "   final.output.concentrate_pb  final.output.concentrate_sol  \\\n",
       "0                     9.889648                      5.507324   \n",
       "1                     9.968944                      5.257781   \n",
       "2                    10.213995                      5.383759   \n",
       "3                     9.977019                      4.858634   \n",
       "4                    10.142511                      4.939416   \n",
       "\n",
       "   final.output.concentrate_au  final.output.recovery  final.output.tail_ag  \\\n",
       "0                    42.192020              70.541216             10.411962   \n",
       "1                    42.701629              69.266198             10.462676   \n",
       "2                    42.657501              68.116445             10.507046   \n",
       "3                    42.689819              68.347543             10.422762   \n",
       "4                    42.774141              66.927016             10.360302   \n",
       "\n",
       "   final.output.tail_pb  final.output.tail_sol  final.output.tail_au  \\\n",
       "0              0.895447              16.904297              2.143149   \n",
       "1              0.927452              16.634514              2.224930   \n",
       "2              0.953716              16.208849              2.257889   \n",
       "3              0.883763              16.532835              2.146849   \n",
       "4              0.792826              16.525686              2.055292   \n",
       "\n",
       "   primary_cleaner.input.sulfate  primary_cleaner.input.depressant  \\\n",
       "0                     127.092003                         10.128295   \n",
       "1                     125.629232                         10.296251   \n",
       "2                     123.819808                         11.316280   \n",
       "3                     122.270188                         11.322140   \n",
       "4                     117.988169                         11.913613   \n",
       "\n",
       "   primary_cleaner.input.feed_size  primary_cleaner.input.xanthate  \\\n",
       "0                             7.25                        0.988759   \n",
       "1                             7.25                        1.002663   \n",
       "2                             7.25                        0.991265   \n",
       "3                             7.25                        0.996739   \n",
       "4                             7.25                        1.009869   \n",
       "\n",
       "   primary_cleaner.output.concentrate_ag  \\\n",
       "0                               8.547551   \n",
       "1                               8.558743   \n",
       "2                               8.603505   \n",
       "3                               7.221879   \n",
       "4                               9.089428   \n",
       "\n",
       "   primary_cleaner.output.concentrate_pb  \\\n",
       "0                              10.389648   \n",
       "1                              10.497069   \n",
       "2                              10.354494   \n",
       "3                               8.496563   \n",
       "4                               9.986786   \n",
       "\n",
       "   primary_cleaner.output.concentrate_sol  \\\n",
       "0                               19.529297   \n",
       "1                               19.369147   \n",
       "2                               19.167579   \n",
       "3                               15.978538   \n",
       "4                               19.199864   \n",
       "\n",
       "   primary_cleaner.output.concentrate_au  primary_cleaner.output.tail_ag  \\\n",
       "0                              34.174427                       14.936526   \n",
       "1                              34.118526                       16.250511   \n",
       "2                              33.969464                       16.491823   \n",
       "3                              28.260743                       16.024359   \n",
       "4                              33.044932                       16.480185   \n",
       "\n",
       "   primary_cleaner.output.tail_pb  primary_cleaner.output.tail_sol  \\\n",
       "0                        2.534912                         7.476074   \n",
       "1                        3.049646                         6.733907   \n",
       "2                        3.124664                         6.471768   \n",
       "3                        2.960362                         6.843791   \n",
       "4                        3.112100                         6.550154   \n",
       "\n",
       "   primary_cleaner.output.tail_au  primary_cleaner.state.floatbank8_a_air  \\\n",
       "0                        2.106679                             1549.775757   \n",
       "1                        2.353017                             1576.166671   \n",
       "2                        2.416800                             1601.556163   \n",
       "3                        2.262051                             1599.968720   \n",
       "4                        2.277073                             1601.339707   \n",
       "\n",
       "   primary_cleaner.state.floatbank8_a_level  \\\n",
       "0                               -498.912140   \n",
       "1                               -500.904965   \n",
       "2                               -499.997791   \n",
       "3                               -500.951778   \n",
       "4                               -498.975456   \n",
       "\n",
       "   primary_cleaner.state.floatbank8_b_air  \\\n",
       "0                             1551.434204   \n",
       "1                             1575.950626   \n",
       "2                             1600.386685   \n",
       "3                             1600.659236   \n",
       "4                             1601.437854   \n",
       "\n",
       "   primary_cleaner.state.floatbank8_b_level  \\\n",
       "0                               -516.403442   \n",
       "1                               -499.865889   \n",
       "2                               -500.607762   \n",
       "3                               -499.677094   \n",
       "4                               -500.323246   \n",
       "\n",
       "   primary_cleaner.state.floatbank8_c_air  \\\n",
       "0                             1549.873901   \n",
       "1                             1575.994189   \n",
       "2                             1602.003542   \n",
       "3                             1600.304144   \n",
       "4                             1599.581894   \n",
       "\n",
       "   primary_cleaner.state.floatbank8_c_level  \\\n",
       "0                               -498.666595   \n",
       "1                               -499.315107   \n",
       "2                               -500.870069   \n",
       "3                               -500.727997   \n",
       "4                               -500.888152   \n",
       "\n",
       "   primary_cleaner.state.floatbank8_d_air  \\\n",
       "0                             1554.367432   \n",
       "1                             1574.479259   \n",
       "2                             1599.541515   \n",
       "3                             1600.449520   \n",
       "4                             1602.649541   \n",
       "\n",
       "   primary_cleaner.state.floatbank8_d_level  \\\n",
       "0                               -493.428131   \n",
       "1                               -498.931665   \n",
       "2                               -499.827444   \n",
       "3                               -500.052575   \n",
       "4                               -500.593010   \n",
       "\n",
       "   rougher.calculation.sulfate_to_au_concentrate  \\\n",
       "0                                   41885.707031   \n",
       "1                                   42050.861809   \n",
       "2                                   42018.101184   \n",
       "3                                   42029.447991   \n",
       "4                                   42125.354245   \n",
       "\n",
       "   rougher.calculation.floatbank10_sulfate_to_au_feed  \\\n",
       "0                                        3481.779053    \n",
       "1                                        3498.370979    \n",
       "2                                        3495.348910    \n",
       "3                                        3498.578313    \n",
       "4                                        3494.800771    \n",
       "\n",
       "   rougher.calculation.floatbank11_sulfate_to_au_feed  \\\n",
       "0                                        3520.337158    \n",
       "1                                        3489.981857    \n",
       "2                                        3502.359819    \n",
       "3                                        3499.162912    \n",
       "4                                        3506.679315    \n",
       "\n",
       "   rougher.calculation.au_pb_ratio  rougher.input.feed_ag  \\\n",
       "0                         2.838687               6.100378   \n",
       "1                         2.858998               6.161113   \n",
       "2                         2.945989               6.116455   \n",
       "3                         3.002340               6.043309   \n",
       "4                         3.169615               6.060915   \n",
       "\n",
       "   rougher.input.feed_pb  rougher.input.feed_rate  rougher.input.feed_size  \\\n",
       "0               2.284912               523.546326                55.486599   \n",
       "1               2.266033               525.290581                57.278666   \n",
       "2               2.159622               530.026610                57.510649   \n",
       "3               2.037807               542.590390                57.792734   \n",
       "4               1.786875               540.531893                56.047189   \n",
       "\n",
       "   rougher.input.feed_sol  rougher.input.feed_au  \\\n",
       "0               36.808594               6.486150   \n",
       "1               35.753385               6.478583   \n",
       "2               35.971630               6.362222   \n",
       "3               36.862241               6.118189   \n",
       "4               34.347666               5.663707   \n",
       "\n",
       "   rougher.input.floatbank10_sulfate  rougher.input.floatbank10_xanthate  \\\n",
       "0                          11.986616                            6.007990   \n",
       "1                          11.971193                            6.005766   \n",
       "2                          11.920603                            6.197377   \n",
       "3                          11.630094                            6.203177   \n",
       "4                          10.957755                            6.198826   \n",
       "\n",
       "   rougher.input.floatbank11_sulfate  rougher.input.floatbank11_xanthate  \\\n",
       "0                          11.836743                            6.005818   \n",
       "1                          11.996163                            6.012594   \n",
       "2                          11.920305                            6.204633   \n",
       "3                          11.692450                            6.196578   \n",
       "4                          10.960521                            6.194897   \n",
       "\n",
       "   rougher.output.concentrate_ag  rougher.output.concentrate_pb  \\\n",
       "0                      11.500771                       7.101074   \n",
       "1                      11.615865                       7.278807   \n",
       "2                      11.695753                       7.216833   \n",
       "3                      11.915047                       7.175616   \n",
       "4                      12.411054                       7.240205   \n",
       "\n",
       "   rougher.output.concentrate_sol  rougher.output.concentrate_au  \\\n",
       "0                       28.029297                      19.793808   \n",
       "1                       28.067063                      20.050975   \n",
       "2                       27.454037                      19.737170   \n",
       "3                       27.341277                      19.320810   \n",
       "4                       27.041023                      19.216101   \n",
       "\n",
       "   rougher.output.recovery  rougher.output.tail_ag  rougher.output.tail_pb  \\\n",
       "0                87.107763                5.008018                0.508728   \n",
       "1                86.843261                4.955378                0.536689   \n",
       "2                86.842308                4.843460                0.546416   \n",
       "3                87.226430                4.655288                0.542525   \n",
       "4                86.688794                4.552800                0.515438   \n",
       "\n",
       "   rougher.output.tail_sol  rougher.output.tail_au  \\\n",
       "0                19.154297                1.170244   \n",
       "1                18.965234                1.184827   \n",
       "2                18.808533                1.162562   \n",
       "3                19.330200                1.079755   \n",
       "4                19.267422                1.012642   \n",
       "\n",
       "   rougher.state.floatbank10_a_air  rougher.state.floatbank10_a_level  \\\n",
       "0                       999.706909                        -404.066986   \n",
       "1                      1000.286398                        -400.065196   \n",
       "2                       999.719565                        -400.074028   \n",
       "3                       999.814770                        -400.200179   \n",
       "4                       999.678690                        -399.752729   \n",
       "\n",
       "   rougher.state.floatbank10_b_air  rougher.state.floatbank10_b_level  \\\n",
       "0                      1603.011353                        -434.715027   \n",
       "1                      1600.754587                        -449.953435   \n",
       "2                      1599.337330                        -450.008530   \n",
       "3                      1600.059442                        -450.619948   \n",
       "4                      1600.208824                        -449.599614   \n",
       "\n",
       "   rougher.state.floatbank10_c_air  rougher.state.floatbank10_c_level  \\\n",
       "0                      1602.375000                        -442.204468   \n",
       "1                      1600.479580                        -449.830646   \n",
       "2                      1599.672797                        -449.954491   \n",
       "3                      1600.012842                        -449.910497   \n",
       "4                      1600.357732                        -450.034364   \n",
       "\n",
       "   rougher.state.floatbank10_d_air  rougher.state.floatbank10_d_level  \\\n",
       "0                      1598.937256                        -451.294128   \n",
       "1                      1600.527589                        -449.953649   \n",
       "2                      1599.849325                        -449.954185   \n",
       "3                      1597.725177                        -450.130127   \n",
       "4                      1599.759049                        -449.909799   \n",
       "\n",
       "   rougher.state.floatbank10_e_air  rougher.state.floatbank10_e_level  \\\n",
       "0                      1404.472046                        -455.462982   \n",
       "1                      1399.227084                        -450.869848   \n",
       "2                      1399.180945                        -449.937588   \n",
       "3                      1400.943157                        -450.030142   \n",
       "4                      1401.560902                        -448.877187   \n",
       "\n",
       "   rougher.state.floatbank10_f_air  rougher.state.floatbank10_f_level  \\\n",
       "0                      1416.354980                        -451.939636   \n",
       "1                      1399.719514                        -450.119001   \n",
       "2                      1400.316682                        -450.527147   \n",
       "3                      1400.234743                        -449.790835   \n",
       "4                      1401.160227                        -450.407128   \n",
       "\n",
       "   secondary_cleaner.output.tail_ag  secondary_cleaner.output.tail_pb  \\\n",
       "0                         14.500184                          4.694824   \n",
       "1                         14.265474                          4.592547   \n",
       "2                         14.115662                          4.624775   \n",
       "3                         13.732071                          4.482453   \n",
       "4                         14.079996                          4.470737   \n",
       "\n",
       "   secondary_cleaner.output.tail_sol  secondary_cleaner.output.tail_au  \\\n",
       "0                           8.764648                          2.606185   \n",
       "1                           9.001494                          2.488248   \n",
       "2                           8.842896                          2.458187   \n",
       "3                           9.122857                          2.322062   \n",
       "4                           8.871028                          2.330448   \n",
       "\n",
       "   secondary_cleaner.state.floatbank2_a_air  \\\n",
       "0                                 25.853109   \n",
       "1                                 25.880539   \n",
       "2                                 26.005245   \n",
       "3                                 25.942508   \n",
       "4                                 26.024787   \n",
       "\n",
       "   secondary_cleaner.state.floatbank2_a_level  \\\n",
       "0                                 -498.526489   \n",
       "1                                 -499.989656   \n",
       "2                                 -499.929616   \n",
       "3                                 -499.176749   \n",
       "4                                 -500.279091   \n",
       "\n",
       "   secondary_cleaner.state.floatbank2_b_air  \\\n",
       "0                                 23.893660   \n",
       "1                                 23.889530   \n",
       "2                                 23.886657   \n",
       "3                                 23.955516   \n",
       "4                                 23.955345   \n",
       "\n",
       "   secondary_cleaner.state.floatbank2_b_level  \\\n",
       "0                                 -501.406281   \n",
       "1                                 -500.372428   \n",
       "2                                 -499.951928   \n",
       "3                                 -499.848796   \n",
       "4                                 -500.593614   \n",
       "\n",
       "   secondary_cleaner.state.floatbank3_a_air  \\\n",
       "0                                 23.961798   \n",
       "1                                 23.970550   \n",
       "2                                 23.913535   \n",
       "3                                 23.966838   \n",
       "4                                 23.985703   \n",
       "\n",
       "   secondary_cleaner.state.floatbank3_a_level  \\\n",
       "0                                 -495.262817   \n",
       "1                                 -500.085473   \n",
       "2                                 -499.442343   \n",
       "3                                 -500.008812   \n",
       "4                                 -500.083811   \n",
       "\n",
       "   secondary_cleaner.state.floatbank3_b_air  \\\n",
       "0                                 21.940409   \n",
       "1                                 22.085714   \n",
       "2                                 23.957717   \n",
       "3                                 23.954443   \n",
       "4                                 23.958945   \n",
       "\n",
       "   secondary_cleaner.state.floatbank3_b_level  \\\n",
       "0                                 -499.340973   \n",
       "1                                 -499.446897   \n",
       "2                                 -499.901982   \n",
       "3                                 -499.944710   \n",
       "4                                 -499.990309   \n",
       "\n",
       "   secondary_cleaner.state.floatbank4_a_air  \\\n",
       "0                                 14.016835   \n",
       "1                                 13.992281   \n",
       "2                                 14.015015   \n",
       "3                                 14.036510   \n",
       "4                                 14.027298   \n",
       "\n",
       "   secondary_cleaner.state.floatbank4_a_level  \\\n",
       "0                                 -502.488007   \n",
       "1                                 -505.503262   \n",
       "2                                 -502.520901   \n",
       "3                                 -500.857308   \n",
       "4                                 -499.838632   \n",
       "\n",
       "   secondary_cleaner.state.floatbank4_b_air  \\\n",
       "0                                 12.099931   \n",
       "1                                 11.950531   \n",
       "2                                 11.912783   \n",
       "3                                 11.999550   \n",
       "4                                 11.953070   \n",
       "\n",
       "   secondary_cleaner.state.floatbank4_b_level  \\\n",
       "0                                 -504.715942   \n",
       "1                                 -501.331529   \n",
       "2                                 -501.133383   \n",
       "3                                 -501.193686   \n",
       "4                                 -501.053894   \n",
       "\n",
       "   secondary_cleaner.state.floatbank5_a_air  \\\n",
       "0                                  9.925633   \n",
       "1                                 10.039245   \n",
       "2                                 10.070913   \n",
       "3                                  9.970366   \n",
       "4                                  9.925709   \n",
       "\n",
       "   secondary_cleaner.state.floatbank5_a_level  \\\n",
       "0                                 -498.310211   \n",
       "1                                 -500.169983   \n",
       "2                                 -500.129135   \n",
       "3                                 -499.201640   \n",
       "4                                 -501.686727   \n",
       "\n",
       "   secondary_cleaner.state.floatbank5_b_air  \\\n",
       "0                                  8.079666   \n",
       "1                                  7.984757   \n",
       "2                                  8.013877   \n",
       "3                                  7.977324   \n",
       "4                                  7.894242   \n",
       "\n",
       "   secondary_cleaner.state.floatbank5_b_level  \\\n",
       "0                                 -500.470978   \n",
       "1                                 -500.582168   \n",
       "2                                 -500.517572   \n",
       "3                                 -500.255908   \n",
       "4                                 -500.356035   \n",
       "\n",
       "   secondary_cleaner.state.floatbank6_a_air  \\\n",
       "0                                 14.151341   \n",
       "1                                 13.998353   \n",
       "2                                 14.028663   \n",
       "3                                 14.005551   \n",
       "4                                 13.996647   \n",
       "\n",
       "   secondary_cleaner.state.floatbank6_a_level  \n",
       "0                                 -605.841980  \n",
       "1                                 -599.787184  \n",
       "2                                 -601.427363  \n",
       "3                                 -599.996129  \n",
       "4                                 -601.496691  "
      ]
     },
     "execution_count": 3,
     "metadata": {},
     "output_type": "execute_result"
    }
   ],
   "source": [
    "pd.set_option('display.max_columns', None)\n",
    "df_full.head()"
   ]
  },
  {
   "cell_type": "code",
   "execution_count": 4,
   "id": "0d2b75b6",
   "metadata": {},
   "outputs": [],
   "source": [
    "def data_welcome(data):\n",
    "    print(f'Размер набора данных: {data.shape}\\n')\n",
    "    print(f'Количество явных дубликатов: {data.duplicated().sum()}\\n')\n",
    "    data.info(show_counts=True, verbose=True)"
   ]
  },
  {
   "cell_type": "code",
   "execution_count": 5,
   "id": "4e5a79b8",
   "metadata": {
    "scrolled": true
   },
   "outputs": [
    {
     "name": "stdout",
     "output_type": "stream",
     "text": [
      "Размер набора данных: (19439, 87)\n",
      "\n",
      "Количество явных дубликатов: 0\n",
      "\n",
      "<class 'pandas.core.frame.DataFrame'>\n",
      "RangeIndex: 19439 entries, 0 to 19438\n",
      "Data columns (total 87 columns):\n",
      " #   Column                                              Non-Null Count  Dtype  \n",
      "---  ------                                              --------------  -----  \n",
      " 0   date                                                19439 non-null  object \n",
      " 1   final.output.concentrate_ag                         19438 non-null  float64\n",
      " 2   final.output.concentrate_pb                         19438 non-null  float64\n",
      " 3   final.output.concentrate_sol                        19228 non-null  float64\n",
      " 4   final.output.concentrate_au                         19439 non-null  float64\n",
      " 5   final.output.recovery                               19439 non-null  float64\n",
      " 6   final.output.tail_ag                                19438 non-null  float64\n",
      " 7   final.output.tail_pb                                19338 non-null  float64\n",
      " 8   final.output.tail_sol                               19433 non-null  float64\n",
      " 9   final.output.tail_au                                19439 non-null  float64\n",
      " 10  primary_cleaner.input.sulfate                       19415 non-null  float64\n",
      " 11  primary_cleaner.input.depressant                    19402 non-null  float64\n",
      " 12  primary_cleaner.input.feed_size                     19439 non-null  float64\n",
      " 13  primary_cleaner.input.xanthate                      19335 non-null  float64\n",
      " 14  primary_cleaner.output.concentrate_ag               19439 non-null  float64\n",
      " 15  primary_cleaner.output.concentrate_pb               19323 non-null  float64\n",
      " 16  primary_cleaner.output.concentrate_sol              19069 non-null  float64\n",
      " 17  primary_cleaner.output.concentrate_au               19439 non-null  float64\n",
      " 18  primary_cleaner.output.tail_ag                      19435 non-null  float64\n",
      " 19  primary_cleaner.output.tail_pb                      19418 non-null  float64\n",
      " 20  primary_cleaner.output.tail_sol                     19377 non-null  float64\n",
      " 21  primary_cleaner.output.tail_au                      19439 non-null  float64\n",
      " 22  primary_cleaner.state.floatbank8_a_air              19435 non-null  float64\n",
      " 23  primary_cleaner.state.floatbank8_a_level            19438 non-null  float64\n",
      " 24  primary_cleaner.state.floatbank8_b_air              19435 non-null  float64\n",
      " 25  primary_cleaner.state.floatbank8_b_level            19438 non-null  float64\n",
      " 26  primary_cleaner.state.floatbank8_c_air              19437 non-null  float64\n",
      " 27  primary_cleaner.state.floatbank8_c_level            19438 non-null  float64\n",
      " 28  primary_cleaner.state.floatbank8_d_air              19436 non-null  float64\n",
      " 29  primary_cleaner.state.floatbank8_d_level            19438 non-null  float64\n",
      " 30  rougher.calculation.sulfate_to_au_concentrate       19437 non-null  float64\n",
      " 31  rougher.calculation.floatbank10_sulfate_to_au_feed  19437 non-null  float64\n",
      " 32  rougher.calculation.floatbank11_sulfate_to_au_feed  19437 non-null  float64\n",
      " 33  rougher.calculation.au_pb_ratio                     19439 non-null  float64\n",
      " 34  rougher.input.feed_ag                               19439 non-null  float64\n",
      " 35  rougher.input.feed_pb                               19339 non-null  float64\n",
      " 36  rougher.input.feed_rate                             19428 non-null  float64\n",
      " 37  rougher.input.feed_size                             19294 non-null  float64\n",
      " 38  rougher.input.feed_sol                              19340 non-null  float64\n",
      " 39  rougher.input.feed_au                               19439 non-null  float64\n",
      " 40  rougher.input.floatbank10_sulfate                   19405 non-null  float64\n",
      " 41  rougher.input.floatbank10_xanthate                  19431 non-null  float64\n",
      " 42  rougher.input.floatbank11_sulfate                   19395 non-null  float64\n",
      " 43  rougher.input.floatbank11_xanthate                  18986 non-null  float64\n",
      " 44  rougher.output.concentrate_ag                       19439 non-null  float64\n",
      " 45  rougher.output.concentrate_pb                       19439 non-null  float64\n",
      " 46  rougher.output.concentrate_sol                      19416 non-null  float64\n",
      " 47  rougher.output.concentrate_au                       19439 non-null  float64\n",
      " 48  rougher.output.recovery                             19439 non-null  float64\n",
      " 49  rougher.output.tail_ag                              19438 non-null  float64\n",
      " 50  rougher.output.tail_pb                              19439 non-null  float64\n",
      " 51  rougher.output.tail_sol                             19439 non-null  float64\n",
      " 52  rougher.output.tail_au                              19439 non-null  float64\n",
      " 53  rougher.state.floatbank10_a_air                     19438 non-null  float64\n",
      " 54  rougher.state.floatbank10_a_level                   19438 non-null  float64\n",
      " 55  rougher.state.floatbank10_b_air                     19438 non-null  float64\n",
      " 56  rougher.state.floatbank10_b_level                   19438 non-null  float64\n",
      " 57  rougher.state.floatbank10_c_air                     19438 non-null  float64\n",
      " 58  rougher.state.floatbank10_c_level                   19438 non-null  float64\n",
      " 59  rougher.state.floatbank10_d_air                     19439 non-null  float64\n",
      " 60  rougher.state.floatbank10_d_level                   19439 non-null  float64\n",
      " 61  rougher.state.floatbank10_e_air                     19003 non-null  float64\n",
      " 62  rougher.state.floatbank10_e_level                   19439 non-null  float64\n",
      " 63  rougher.state.floatbank10_f_air                     19439 non-null  float64\n",
      " 64  rougher.state.floatbank10_f_level                   19439 non-null  float64\n",
      " 65  secondary_cleaner.output.tail_ag                    19437 non-null  float64\n",
      " 66  secondary_cleaner.output.tail_pb                    19427 non-null  float64\n",
      " 67  secondary_cleaner.output.tail_sol                   17691 non-null  float64\n",
      " 68  secondary_cleaner.output.tail_au                    19439 non-null  float64\n",
      " 69  secondary_cleaner.state.floatbank2_a_air            19219 non-null  float64\n",
      " 70  secondary_cleaner.state.floatbank2_a_level          19438 non-null  float64\n",
      " 71  secondary_cleaner.state.floatbank2_b_air            19416 non-null  float64\n",
      " 72  secondary_cleaner.state.floatbank2_b_level          19438 non-null  float64\n",
      " 73  secondary_cleaner.state.floatbank3_a_air            19426 non-null  float64\n",
      " 74  secondary_cleaner.state.floatbank3_a_level          19438 non-null  float64\n",
      " 75  secondary_cleaner.state.floatbank3_b_air            19438 non-null  float64\n",
      " 76  secondary_cleaner.state.floatbank3_b_level          19438 non-null  float64\n",
      " 77  secondary_cleaner.state.floatbank4_a_air            19433 non-null  float64\n",
      " 78  secondary_cleaner.state.floatbank4_a_level          19438 non-null  float64\n",
      " 79  secondary_cleaner.state.floatbank4_b_air            19438 non-null  float64\n",
      " 80  secondary_cleaner.state.floatbank4_b_level          19438 non-null  float64\n",
      " 81  secondary_cleaner.state.floatbank5_a_air            19438 non-null  float64\n",
      " 82  secondary_cleaner.state.floatbank5_a_level          19438 non-null  float64\n",
      " 83  secondary_cleaner.state.floatbank5_b_air            19438 non-null  float64\n",
      " 84  secondary_cleaner.state.floatbank5_b_level          19438 non-null  float64\n",
      " 85  secondary_cleaner.state.floatbank6_a_air            19437 non-null  float64\n",
      " 86  secondary_cleaner.state.floatbank6_a_level          19438 non-null  float64\n",
      "dtypes: float64(86), object(1)\n",
      "memory usage: 12.9+ MB\n"
     ]
    }
   ],
   "source": [
    "data_welcome(df_full)"
   ]
  },
  {
   "cell_type": "code",
   "execution_count": 6,
   "id": "38d7d80b",
   "metadata": {
    "scrolled": true
   },
   "outputs": [
    {
     "name": "stdout",
     "output_type": "stream",
     "text": [
      "Размер набора данных: (14149, 87)\n",
      "\n",
      "Количество явных дубликатов: 0\n",
      "\n",
      "<class 'pandas.core.frame.DataFrame'>\n",
      "RangeIndex: 14149 entries, 0 to 14148\n",
      "Data columns (total 87 columns):\n",
      " #   Column                                              Non-Null Count  Dtype  \n",
      "---  ------                                              --------------  -----  \n",
      " 0   date                                                14149 non-null  object \n",
      " 1   final.output.concentrate_ag                         14148 non-null  float64\n",
      " 2   final.output.concentrate_pb                         14148 non-null  float64\n",
      " 3   final.output.concentrate_sol                        13938 non-null  float64\n",
      " 4   final.output.concentrate_au                         14149 non-null  float64\n",
      " 5   final.output.recovery                               14149 non-null  float64\n",
      " 6   final.output.tail_ag                                14149 non-null  float64\n",
      " 7   final.output.tail_pb                                14049 non-null  float64\n",
      " 8   final.output.tail_sol                               14144 non-null  float64\n",
      " 9   final.output.tail_au                                14149 non-null  float64\n",
      " 10  primary_cleaner.input.sulfate                       14129 non-null  float64\n",
      " 11  primary_cleaner.input.depressant                    14117 non-null  float64\n",
      " 12  primary_cleaner.input.feed_size                     14149 non-null  float64\n",
      " 13  primary_cleaner.input.xanthate                      14049 non-null  float64\n",
      " 14  primary_cleaner.output.concentrate_ag               14149 non-null  float64\n",
      " 15  primary_cleaner.output.concentrate_pb               14063 non-null  float64\n",
      " 16  primary_cleaner.output.concentrate_sol              13863 non-null  float64\n",
      " 17  primary_cleaner.output.concentrate_au               14149 non-null  float64\n",
      " 18  primary_cleaner.output.tail_ag                      14148 non-null  float64\n",
      " 19  primary_cleaner.output.tail_pb                      14134 non-null  float64\n",
      " 20  primary_cleaner.output.tail_sol                     14103 non-null  float64\n",
      " 21  primary_cleaner.output.tail_au                      14149 non-null  float64\n",
      " 22  primary_cleaner.state.floatbank8_a_air              14145 non-null  float64\n",
      " 23  primary_cleaner.state.floatbank8_a_level            14148 non-null  float64\n",
      " 24  primary_cleaner.state.floatbank8_b_air              14145 non-null  float64\n",
      " 25  primary_cleaner.state.floatbank8_b_level            14148 non-null  float64\n",
      " 26  primary_cleaner.state.floatbank8_c_air              14147 non-null  float64\n",
      " 27  primary_cleaner.state.floatbank8_c_level            14148 non-null  float64\n",
      " 28  primary_cleaner.state.floatbank8_d_air              14146 non-null  float64\n",
      " 29  primary_cleaner.state.floatbank8_d_level            14148 non-null  float64\n",
      " 30  rougher.calculation.sulfate_to_au_concentrate       14148 non-null  float64\n",
      " 31  rougher.calculation.floatbank10_sulfate_to_au_feed  14148 non-null  float64\n",
      " 32  rougher.calculation.floatbank11_sulfate_to_au_feed  14148 non-null  float64\n",
      " 33  rougher.calculation.au_pb_ratio                     14149 non-null  float64\n",
      " 34  rougher.input.feed_ag                               14149 non-null  float64\n",
      " 35  rougher.input.feed_pb                               14049 non-null  float64\n",
      " 36  rougher.input.feed_rate                             14141 non-null  float64\n",
      " 37  rougher.input.feed_size                             14005 non-null  float64\n",
      " 38  rougher.input.feed_sol                              14071 non-null  float64\n",
      " 39  rougher.input.feed_au                               14149 non-null  float64\n",
      " 40  rougher.input.floatbank10_sulfate                   14120 non-null  float64\n",
      " 41  rougher.input.floatbank10_xanthate                  14141 non-null  float64\n",
      " 42  rougher.input.floatbank11_sulfate                   14113 non-null  float64\n",
      " 43  rougher.input.floatbank11_xanthate                  13721 non-null  float64\n",
      " 44  rougher.output.concentrate_ag                       14149 non-null  float64\n",
      " 45  rougher.output.concentrate_pb                       14149 non-null  float64\n",
      " 46  rougher.output.concentrate_sol                      14127 non-null  float64\n",
      " 47  rougher.output.concentrate_au                       14149 non-null  float64\n",
      " 48  rougher.output.recovery                             14149 non-null  float64\n",
      " 49  rougher.output.tail_ag                              14148 non-null  float64\n",
      " 50  rougher.output.tail_pb                              14149 non-null  float64\n",
      " 51  rougher.output.tail_sol                             14149 non-null  float64\n",
      " 52  rougher.output.tail_au                              14149 non-null  float64\n",
      " 53  rougher.state.floatbank10_a_air                     14148 non-null  float64\n",
      " 54  rougher.state.floatbank10_a_level                   14148 non-null  float64\n",
      " 55  rougher.state.floatbank10_b_air                     14148 non-null  float64\n",
      " 56  rougher.state.floatbank10_b_level                   14148 non-null  float64\n",
      " 57  rougher.state.floatbank10_c_air                     14148 non-null  float64\n",
      " 58  rougher.state.floatbank10_c_level                   14148 non-null  float64\n",
      " 59  rougher.state.floatbank10_d_air                     14149 non-null  float64\n",
      " 60  rougher.state.floatbank10_d_level                   14149 non-null  float64\n",
      " 61  rougher.state.floatbank10_e_air                     13713 non-null  float64\n",
      " 62  rougher.state.floatbank10_e_level                   14149 non-null  float64\n",
      " 63  rougher.state.floatbank10_f_air                     14149 non-null  float64\n",
      " 64  rougher.state.floatbank10_f_level                   14149 non-null  float64\n",
      " 65  secondary_cleaner.output.tail_ag                    14147 non-null  float64\n",
      " 66  secondary_cleaner.output.tail_pb                    14139 non-null  float64\n",
      " 67  secondary_cleaner.output.tail_sol                   12544 non-null  float64\n",
      " 68  secondary_cleaner.output.tail_au                    14149 non-null  float64\n",
      " 69  secondary_cleaner.state.floatbank2_a_air            13932 non-null  float64\n",
      " 70  secondary_cleaner.state.floatbank2_a_level          14148 non-null  float64\n",
      " 71  secondary_cleaner.state.floatbank2_b_air            14128 non-null  float64\n",
      " 72  secondary_cleaner.state.floatbank2_b_level          14148 non-null  float64\n",
      " 73  secondary_cleaner.state.floatbank3_a_air            14145 non-null  float64\n",
      " 74  secondary_cleaner.state.floatbank3_a_level          14148 non-null  float64\n",
      " 75  secondary_cleaner.state.floatbank3_b_air            14148 non-null  float64\n",
      " 76  secondary_cleaner.state.floatbank3_b_level          14148 non-null  float64\n",
      " 77  secondary_cleaner.state.floatbank4_a_air            14143 non-null  float64\n",
      " 78  secondary_cleaner.state.floatbank4_a_level          14148 non-null  float64\n",
      " 79  secondary_cleaner.state.floatbank4_b_air            14148 non-null  float64\n",
      " 80  secondary_cleaner.state.floatbank4_b_level          14148 non-null  float64\n",
      " 81  secondary_cleaner.state.floatbank5_a_air            14148 non-null  float64\n",
      " 82  secondary_cleaner.state.floatbank5_a_level          14148 non-null  float64\n",
      " 83  secondary_cleaner.state.floatbank5_b_air            14148 non-null  float64\n",
      " 84  secondary_cleaner.state.floatbank5_b_level          14148 non-null  float64\n",
      " 85  secondary_cleaner.state.floatbank6_a_air            14147 non-null  float64\n",
      " 86  secondary_cleaner.state.floatbank6_a_level          14148 non-null  float64\n",
      "dtypes: float64(86), object(1)\n",
      "memory usage: 9.4+ MB\n"
     ]
    }
   ],
   "source": [
    "data_welcome(df_train)"
   ]
  },
  {
   "cell_type": "code",
   "execution_count": 7,
   "id": "70d3dfde",
   "metadata": {
    "scrolled": true
   },
   "outputs": [
    {
     "name": "stdout",
     "output_type": "stream",
     "text": [
      "Размер набора данных: (5290, 53)\n",
      "\n",
      "Количество явных дубликатов: 0\n",
      "\n",
      "<class 'pandas.core.frame.DataFrame'>\n",
      "RangeIndex: 5290 entries, 0 to 5289\n",
      "Data columns (total 53 columns):\n",
      " #   Column                                      Non-Null Count  Dtype  \n",
      "---  ------                                      --------------  -----  \n",
      " 0   date                                        5290 non-null   object \n",
      " 1   primary_cleaner.input.sulfate               5286 non-null   float64\n",
      " 2   primary_cleaner.input.depressant            5285 non-null   float64\n",
      " 3   primary_cleaner.input.feed_size             5290 non-null   float64\n",
      " 4   primary_cleaner.input.xanthate              5286 non-null   float64\n",
      " 5   primary_cleaner.state.floatbank8_a_air      5290 non-null   float64\n",
      " 6   primary_cleaner.state.floatbank8_a_level    5290 non-null   float64\n",
      " 7   primary_cleaner.state.floatbank8_b_air      5290 non-null   float64\n",
      " 8   primary_cleaner.state.floatbank8_b_level    5290 non-null   float64\n",
      " 9   primary_cleaner.state.floatbank8_c_air      5290 non-null   float64\n",
      " 10  primary_cleaner.state.floatbank8_c_level    5290 non-null   float64\n",
      " 11  primary_cleaner.state.floatbank8_d_air      5290 non-null   float64\n",
      " 12  primary_cleaner.state.floatbank8_d_level    5290 non-null   float64\n",
      " 13  rougher.input.feed_ag                       5290 non-null   float64\n",
      " 14  rougher.input.feed_pb                       5290 non-null   float64\n",
      " 15  rougher.input.feed_rate                     5287 non-null   float64\n",
      " 16  rougher.input.feed_size                     5289 non-null   float64\n",
      " 17  rougher.input.feed_sol                      5269 non-null   float64\n",
      " 18  rougher.input.feed_au                       5290 non-null   float64\n",
      " 19  rougher.input.floatbank10_sulfate           5285 non-null   float64\n",
      " 20  rougher.input.floatbank10_xanthate          5290 non-null   float64\n",
      " 21  rougher.input.floatbank11_sulfate           5282 non-null   float64\n",
      " 22  rougher.input.floatbank11_xanthate          5265 non-null   float64\n",
      " 23  rougher.state.floatbank10_a_air             5290 non-null   float64\n",
      " 24  rougher.state.floatbank10_a_level           5290 non-null   float64\n",
      " 25  rougher.state.floatbank10_b_air             5290 non-null   float64\n",
      " 26  rougher.state.floatbank10_b_level           5290 non-null   float64\n",
      " 27  rougher.state.floatbank10_c_air             5290 non-null   float64\n",
      " 28  rougher.state.floatbank10_c_level           5290 non-null   float64\n",
      " 29  rougher.state.floatbank10_d_air             5290 non-null   float64\n",
      " 30  rougher.state.floatbank10_d_level           5290 non-null   float64\n",
      " 31  rougher.state.floatbank10_e_air             5290 non-null   float64\n",
      " 32  rougher.state.floatbank10_e_level           5290 non-null   float64\n",
      " 33  rougher.state.floatbank10_f_air             5290 non-null   float64\n",
      " 34  rougher.state.floatbank10_f_level           5290 non-null   float64\n",
      " 35  secondary_cleaner.state.floatbank2_a_air    5287 non-null   float64\n",
      " 36  secondary_cleaner.state.floatbank2_a_level  5290 non-null   float64\n",
      " 37  secondary_cleaner.state.floatbank2_b_air    5288 non-null   float64\n",
      " 38  secondary_cleaner.state.floatbank2_b_level  5290 non-null   float64\n",
      " 39  secondary_cleaner.state.floatbank3_a_air    5281 non-null   float64\n",
      " 40  secondary_cleaner.state.floatbank3_a_level  5290 non-null   float64\n",
      " 41  secondary_cleaner.state.floatbank3_b_air    5290 non-null   float64\n",
      " 42  secondary_cleaner.state.floatbank3_b_level  5290 non-null   float64\n",
      " 43  secondary_cleaner.state.floatbank4_a_air    5290 non-null   float64\n",
      " 44  secondary_cleaner.state.floatbank4_a_level  5290 non-null   float64\n",
      " 45  secondary_cleaner.state.floatbank4_b_air    5290 non-null   float64\n",
      " 46  secondary_cleaner.state.floatbank4_b_level  5290 non-null   float64\n",
      " 47  secondary_cleaner.state.floatbank5_a_air    5290 non-null   float64\n",
      " 48  secondary_cleaner.state.floatbank5_a_level  5290 non-null   float64\n",
      " 49  secondary_cleaner.state.floatbank5_b_air    5290 non-null   float64\n",
      " 50  secondary_cleaner.state.floatbank5_b_level  5290 non-null   float64\n",
      " 51  secondary_cleaner.state.floatbank6_a_air    5290 non-null   float64\n",
      " 52  secondary_cleaner.state.floatbank6_a_level  5290 non-null   float64\n",
      "dtypes: float64(52), object(1)\n",
      "memory usage: 2.1+ MB\n"
     ]
    }
   ],
   "source": [
    "data_welcome(df_test)"
   ]
  },
  {
   "cell_type": "markdown",
   "id": "e446b220",
   "metadata": {},
   "source": [
    "Проверим совпадают ли названия и количество признаков в исходных данных и обучающей выборке:"
   ]
  },
  {
   "cell_type": "code",
   "execution_count": 8,
   "id": "fd6867e1",
   "metadata": {},
   "outputs": [
    {
     "data": {
      "text/plain": [
       "True"
      ]
     },
     "execution_count": 8,
     "metadata": {},
     "output_type": "execute_result"
    }
   ],
   "source": [
    "df_full.columns.equals(df_train.columns)"
   ]
  },
  {
   "cell_type": "markdown",
   "id": "145969a5",
   "metadata": {},
   "source": [
    "Преобразуем признак даты к типу `datetime`"
   ]
  },
  {
   "cell_type": "code",
   "execution_count": 9,
   "id": "732b2334",
   "metadata": {},
   "outputs": [],
   "source": [
    "df_full['date'] = pd.to_datetime(df_full['date'], format='%Y-%m-%d %H:%M:%S')\n",
    "df_train['date'] = pd.to_datetime(df_train['date'], format='%Y-%m-%d %H:%M:%S')\n",
    "df_test['date'] = pd.to_datetime(df_test['date'], format='%Y-%m-%d %H:%M:%S')"
   ]
  },
  {
   "cell_type": "code",
   "execution_count": 10,
   "id": "dc03b250",
   "metadata": {},
   "outputs": [],
   "source": [
    "# функция выводит имя переменной\n",
    "def namestr(obj, namespace):\n",
    "    return [name for name in namespace if namespace[name] is obj]"
   ]
  },
  {
   "cell_type": "code",
   "execution_count": 11,
   "id": "86ae94d6",
   "metadata": {},
   "outputs": [
    {
     "name": "stdout",
     "output_type": "stream",
     "text": [
      "df_full\n",
      "count                   19439\n",
      "unique                  19439\n",
      "top       2016-01-15 00:00:00\n",
      "freq                        1\n",
      "first     2016-01-15 00:00:00\n",
      "last      2018-08-18 10:59:59\n",
      "Name: date, dtype: object \n",
      "\n",
      "df_train\n",
      "count                   14149\n",
      "unique                  14149\n",
      "top       2016-01-15 00:00:00\n",
      "freq                        1\n",
      "first     2016-01-15 00:00:00\n",
      "last      2018-08-18 10:59:59\n",
      "Name: date, dtype: object \n",
      "\n",
      "df_test\n",
      "count                    5290\n",
      "unique                   5290\n",
      "top       2016-09-01 00:59:59\n",
      "freq                        1\n",
      "first     2016-09-01 00:59:59\n",
      "last      2017-12-31 23:59:59\n",
      "Name: date, dtype: object \n",
      "\n"
     ]
    }
   ],
   "source": [
    "for df in [df_full, df_train, df_test]:\n",
    "    print(namestr(df, globals())[0])\n",
    "    print(df['date'].describe(), '\\n')"
   ]
  },
  {
   "cell_type": "code",
   "execution_count": 12,
   "id": "29ec7460",
   "metadata": {},
   "outputs": [
    {
     "data": {
      "image/png": "[encoded data removed]",
      "text/plain": [
       "<Figure size 864x576 with 1 Axes>"
      ]
     },
     "metadata": {
      "needs_background": "light"
     },
     "output_type": "display_data"
    }
   ],
   "source": [
    "plt.figure(figsize=(12,8))\n",
    "\n",
    "for df in [df_full, df_train, df_test]:\n",
    "    sns.lineplot(df['date'], y=df.index, label=namestr(df, globals())[0])\n",
    "plt.title('Возрастание индекса наблюдения с увеличением даты', fontsize=20)\n",
    "plt.xlabel('Дата наблюдений', fontsize=16)\n",
    "plt.ylabel('Индекс наблюдения', fontsize=16)\n",
    "plt.legend();"
   ]
  },
  {
   "cell_type": "markdown",
   "id": "406cf1de",
   "metadata": {},
   "source": [
    "#### Вывод\n",
    "* Каждая строка датафрейма представляет собой данные о технологическом процессе на производстве индексированные за 1 час. \n",
    "* Для исходных данных и обучающей выборки временной период начинается 15 января 2016 года и заканчивается 18 августа 2018 года (~2,5 года).\n",
    "* Исходные данные разделены на тестовую и обучающую выборку не случайным образом, а с помощью выделенных периодов, которые мы визуализировали на графике:\n",
    "    * В тестовую выборку вошли данные примерно с сентября 2016 по январь 2017 и с сентября 2017 по январь 2018;\n",
    "    * В обучающую выборку, соответственно, все остальные данные.\n",
    "* Процесс флотации происходит в 10-й и 11-й флотационной установках;\n",
    "* Процесс первичной очистки происходит в 8-й флотационной установке;\n",
    "* Процесс вторичной очистки происходит в 2-6 флотационной установках."
   ]
  },
  {
   "cell_type": "markdown",
   "id": "b98292de",
   "metadata": {},
   "source": [
    "### Предобработка данных"
   ]
  },
  {
   "cell_type": "markdown",
   "id": "655fda73",
   "metadata": {},
   "source": [
    "#### Расчет эффективности обогащения"
   ]
  },
  {
   "attachments": {
    "image.png": {
     "image/png": "[encoded data removed]"
    }
   },
   "cell_type": "markdown",
   "id": "54a88801",
   "metadata": {},
   "source": [
    "![image.png](attachment:image.png)\n",
    "* C — доля золота в концентрате после флотации/очистки;\n",
    "* F — доля золота в сырье/концентрате до флотации/очистки;\n",
    "* T — доля золота в отвальных хвостах после флотации/очистки."
   ]
  },
  {
   "cell_type": "code",
   "execution_count": 14,
   "id": "07e7a454",
   "metadata": {},
   "outputs": [],
   "source": [
    "def recovery_score(data):\n",
    "    # доля золота в сырье до очистки    \n",
    "    au_ratio_before = data['rougher.input.feed_au']\n",
    "    \n",
    "    # доля золота в концентрате после очистки\n",
    "    au_ratio_after = data['rougher.output.concentrate_au']\n",
    "    \n",
    "    # доля золота в отвальных хвостах\n",
    "    au_ratio_tail = data['rougher.output.tail_au']\n",
    "    \n",
    "    \n",
    "    recovery = (au_ratio_after * (au_ratio_before - au_ratio_tail)\n",
    "               ) / (au_ratio_before * (au_ratio_after - au_ratio_tail))*100\n",
    "    return recovery"
   ]
  },
  {
   "cell_type": "code",
   "execution_count": 15,
   "id": "9c6075b9",
   "metadata": {},
   "outputs": [
    {
     "data": {
      "text/plain": [
       "9.73512347450521e-15"
      ]
     },
     "execution_count": 15,
     "metadata": {},
     "output_type": "execute_result"
    }
   ],
   "source": [
    "mean_absolute_error(df_train['rougher.output.recovery'], recovery_score(df_train))"
   ]
  },
  {
   "cell_type": "markdown",
   "id": "5f981787",
   "metadata": {},
   "source": [
    "##### Вывод\n",
    "* В обучающей выборке эффективность обогащения для этапа флотации расчитана верно;\n",
    "* Данные подтверждены с помощью метрики МАЕ, рассчитанной при сравнении признака `rougher.output.recovery` в исходных данных с вычислениями по известной формуле для *Recovery*."
   ]
  },
  {
   "cell_type": "markdown",
   "id": "1d224cda",
   "metadata": {},
   "source": [
    "#### Отсутствующие признаки в тестовой выборке\n",
    "\n",
    "Как мы уже знаем, в тестовой выборке у нас всего 53 столбца, когда в обучающей и в сырых данных 87 столбцов.\n",
    "Посмотрим, какие столбцы отсутствуют в тестовой выборке."
   ]
  },
  {
   "cell_type": "code",
   "execution_count": 16,
   "id": "4e9ea543",
   "metadata": {},
   "outputs": [
    {
     "name": "stdout",
     "output_type": "stream",
     "text": [
      "Разница в количестве столбцов между обучающей и тестовой выборкой: 34\n"
     ]
    }
   ],
   "source": [
    "print('Разница в количестве столбцов между обучающей и тестовой выборкой:',\n",
    "      len(set(df_train.columns) - set(df_test.columns)))"
   ]
  },
  {
   "cell_type": "code",
   "execution_count": 17,
   "id": "b4fced0a",
   "metadata": {},
   "outputs": [
    {
     "data": {
      "text/plain": [
       "{'final.output.concentrate_ag',\n",
       " 'final.output.concentrate_au',\n",
       " 'final.output.concentrate_pb',\n",
       " 'final.output.concentrate_sol',\n",
       " 'final.output.recovery',\n",
       " 'final.output.tail_ag',\n",
       " 'final.output.tail_au',\n",
       " 'final.output.tail_pb',\n",
       " 'final.output.tail_sol',\n",
       " 'primary_cleaner.output.concentrate_ag',\n",
       " 'primary_cleaner.output.concentrate_au',\n",
       " 'primary_cleaner.output.concentrate_pb',\n",
       " 'primary_cleaner.output.concentrate_sol',\n",
       " 'primary_cleaner.output.tail_ag',\n",
       " 'primary_cleaner.output.tail_au',\n",
       " 'primary_cleaner.output.tail_pb',\n",
       " 'primary_cleaner.output.tail_sol',\n",
       " 'rougher.calculation.au_pb_ratio',\n",
       " 'rougher.calculation.floatbank10_sulfate_to_au_feed',\n",
       " 'rougher.calculation.floatbank11_sulfate_to_au_feed',\n",
       " 'rougher.calculation.sulfate_to_au_concentrate',\n",
       " 'rougher.output.concentrate_ag',\n",
       " 'rougher.output.concentrate_au',\n",
       " 'rougher.output.concentrate_pb',\n",
       " 'rougher.output.concentrate_sol',\n",
       " 'rougher.output.recovery',\n",
       " 'rougher.output.tail_ag',\n",
       " 'rougher.output.tail_au',\n",
       " 'rougher.output.tail_pb',\n",
       " 'rougher.output.tail_sol',\n",
       " 'secondary_cleaner.output.tail_ag',\n",
       " 'secondary_cleaner.output.tail_au',\n",
       " 'secondary_cleaner.output.tail_pb',\n",
       " 'secondary_cleaner.output.tail_sol'}"
      ]
     },
     "execution_count": 17,
     "metadata": {},
     "output_type": "execute_result"
    }
   ],
   "source": [
    "missing_columns_in_test = set(df_train.columns) - set(df_test.columns)\n",
    "missing_columns_in_test"
   ]
  },
  {
   "cell_type": "markdown",
   "id": "ffc21826",
   "metadata": {},
   "source": [
    "**Вывод**\n",
    "* Отсутствуют все столбцы, характеризующие параметры **продукта** на каждом этапе.\n",
    "* А также рассчетные столбцы для этапа флотации (`rougher.calculation`) - значит эти параметры рассчитываются значительно позже."
   ]
  },
  {
   "cell_type": "markdown",
   "id": "4fcbc4a1",
   "metadata": {},
   "source": [
    "#### Добавление целевых признаков в тестовую выборку\n",
    "\n",
    "Так как нам понадобится замерять на тестовой выборке метрики качества, то необходимо добавить целевые признаки в тестовую выборку."
   ]
  },
  {
   "cell_type": "markdown",
   "id": "1729ce73",
   "metadata": {},
   "source": [
    "**Следующая ячейка добавляет целевые признаки в тестовую выборку:**\n",
    "1. Сперва создаем сущности `target_columns_for_test` и `target_idx_for_test` для хранения названий столбцов и индексов недостающих в тестовой выборке величин.\n",
    "2. В тестовой выборке в качестве индекса ставим дату (далее по дате, как по ключу, будем брать наблюдения из исходных данных).\n",
    "3. В тестовую выборку добавляем столбцы с целевыми признаками и заполняем их значениями из исходных данных.\n",
    "4. Возвращаем обычный индекс для тестовой выборки."
   ]
  },
  {
   "cell_type": "code",
   "execution_count": 18,
   "id": "4c9a7837",
   "metadata": {},
   "outputs": [],
   "source": [
    "target_columns = list(set(df_full.columns) - set(df_test.columns))\n",
    "target_idx_for_test = df_test.set_index('date').index\n",
    "\n",
    "df_test = df_test.set_index('date')\n",
    "\n",
    "df_test[target_columns] = df_full.set_index('date').loc[target_idx_for_test, target_columns]\n",
    "\n",
    "df_test = df_test.reset_index()"
   ]
  },
  {
   "cell_type": "code",
   "execution_count": 19,
   "id": "7a03e2cf",
   "metadata": {
    "scrolled": true
   },
   "outputs": [
    {
     "data": {
      "text/html": [
       "<div>\n",
       "<style scoped>\n",
       "    .dataframe tbody tr th:only-of-type {\n",
       "        vertical-align: middle;\n",
       "    }\n",
       "\n",
       "    .dataframe tbody tr th {\n",
       "        vertical-align: top;\n",
       "    }\n",
       "\n",
       "    .dataframe thead th {\n",
       "        text-align: right;\n",
       "    }\n",
       "</style>\n",
       "<table border=\"1\" class=\"dataframe\">\n",
       "  <thead>\n",
       "    <tr style=\"text-align: right;\">\n",
       "      <th></th>\n",
       "      <th>date</th>\n",
       "      <th>primary_cleaner.input.sulfate</th>\n",
       "      <th>primary_cleaner.input.depressant</th>\n",
       "      <th>primary_cleaner.input.feed_size</th>\n",
       "      <th>primary_cleaner.input.xanthate</th>\n",
       "      <th>primary_cleaner.state.floatbank8_a_air</th>\n",
       "      <th>primary_cleaner.state.floatbank8_a_level</th>\n",
       "      <th>primary_cleaner.state.floatbank8_b_air</th>\n",
       "      <th>primary_cleaner.state.floatbank8_b_level</th>\n",
       "      <th>primary_cleaner.state.floatbank8_c_air</th>\n",
       "      <th>primary_cleaner.state.floatbank8_c_level</th>\n",
       "      <th>primary_cleaner.state.floatbank8_d_air</th>\n",
       "      <th>primary_cleaner.state.floatbank8_d_level</th>\n",
       "      <th>rougher.input.feed_ag</th>\n",
       "      <th>rougher.input.feed_pb</th>\n",
       "      <th>rougher.input.feed_rate</th>\n",
       "      <th>rougher.input.feed_size</th>\n",
       "      <th>rougher.input.feed_sol</th>\n",
       "      <th>rougher.input.feed_au</th>\n",
       "      <th>rougher.input.floatbank10_sulfate</th>\n",
       "      <th>rougher.input.floatbank10_xanthate</th>\n",
       "      <th>rougher.input.floatbank11_sulfate</th>\n",
       "      <th>rougher.input.floatbank11_xanthate</th>\n",
       "      <th>rougher.state.floatbank10_a_air</th>\n",
       "      <th>rougher.state.floatbank10_a_level</th>\n",
       "      <th>rougher.state.floatbank10_b_air</th>\n",
       "      <th>rougher.state.floatbank10_b_level</th>\n",
       "      <th>rougher.state.floatbank10_c_air</th>\n",
       "      <th>rougher.state.floatbank10_c_level</th>\n",
       "      <th>rougher.state.floatbank10_d_air</th>\n",
       "      <th>rougher.state.floatbank10_d_level</th>\n",
       "      <th>rougher.state.floatbank10_e_air</th>\n",
       "      <th>rougher.state.floatbank10_e_level</th>\n",
       "      <th>rougher.state.floatbank10_f_air</th>\n",
       "      <th>rougher.state.floatbank10_f_level</th>\n",
       "      <th>secondary_cleaner.state.floatbank2_a_air</th>\n",
       "      <th>secondary_cleaner.state.floatbank2_a_level</th>\n",
       "      <th>secondary_cleaner.state.floatbank2_b_air</th>\n",
       "      <th>secondary_cleaner.state.floatbank2_b_level</th>\n",
       "      <th>secondary_cleaner.state.floatbank3_a_air</th>\n",
       "      <th>secondary_cleaner.state.floatbank3_a_level</th>\n",
       "      <th>secondary_cleaner.state.floatbank3_b_air</th>\n",
       "      <th>secondary_cleaner.state.floatbank3_b_level</th>\n",
       "      <th>secondary_cleaner.state.floatbank4_a_air</th>\n",
       "      <th>secondary_cleaner.state.floatbank4_a_level</th>\n",
       "      <th>secondary_cleaner.state.floatbank4_b_air</th>\n",
       "      <th>secondary_cleaner.state.floatbank4_b_level</th>\n",
       "      <th>secondary_cleaner.state.floatbank5_a_air</th>\n",
       "      <th>secondary_cleaner.state.floatbank5_a_level</th>\n",
       "      <th>secondary_cleaner.state.floatbank5_b_air</th>\n",
       "      <th>secondary_cleaner.state.floatbank5_b_level</th>\n",
       "      <th>secondary_cleaner.state.floatbank6_a_air</th>\n",
       "      <th>secondary_cleaner.state.floatbank6_a_level</th>\n",
       "      <th>secondary_cleaner.output.tail_ag</th>\n",
       "      <th>final.output.concentrate_pb</th>\n",
       "      <th>rougher.output.tail_sol</th>\n",
       "      <th>rougher.output.concentrate_pb</th>\n",
       "      <th>final.output.concentrate_sol</th>\n",
       "      <th>rougher.calculation.floatbank11_sulfate_to_au_feed</th>\n",
       "      <th>rougher.output.concentrate_au</th>\n",
       "      <th>rougher.output.recovery</th>\n",
       "      <th>rougher.output.concentrate_ag</th>\n",
       "      <th>rougher.calculation.sulfate_to_au_concentrate</th>\n",
       "      <th>rougher.output.concentrate_sol</th>\n",
       "      <th>primary_cleaner.output.concentrate_pb</th>\n",
       "      <th>rougher.output.tail_au</th>\n",
       "      <th>final.output.tail_au</th>\n",
       "      <th>primary_cleaner.output.tail_pb</th>\n",
       "      <th>rougher.output.tail_pb</th>\n",
       "      <th>primary_cleaner.output.tail_au</th>\n",
       "      <th>final.output.tail_pb</th>\n",
       "      <th>final.output.tail_sol</th>\n",
       "      <th>rougher.calculation.floatbank10_sulfate_to_au_feed</th>\n",
       "      <th>rougher.calculation.au_pb_ratio</th>\n",
       "      <th>secondary_cleaner.output.tail_pb</th>\n",
       "      <th>primary_cleaner.output.tail_ag</th>\n",
       "      <th>final.output.concentrate_au</th>\n",
       "      <th>secondary_cleaner.output.tail_au</th>\n",
       "      <th>final.output.concentrate_ag</th>\n",
       "      <th>primary_cleaner.output.concentrate_ag</th>\n",
       "      <th>primary_cleaner.output.concentrate_sol</th>\n",
       "      <th>final.output.tail_ag</th>\n",
       "      <th>primary_cleaner.output.tail_sol</th>\n",
       "      <th>rougher.output.tail_ag</th>\n",
       "      <th>secondary_cleaner.output.tail_sol</th>\n",
       "      <th>primary_cleaner.output.concentrate_au</th>\n",
       "      <th>final.output.recovery</th>\n",
       "    </tr>\n",
       "  </thead>\n",
       "  <tbody>\n",
       "    <tr>\n",
       "      <th>0</th>\n",
       "      <td>2016-09-01 00:59:59</td>\n",
       "      <td>210.800909</td>\n",
       "      <td>14.993118</td>\n",
       "      <td>8.080000</td>\n",
       "      <td>1.005021</td>\n",
       "      <td>1398.981301</td>\n",
       "      <td>-500.225577</td>\n",
       "      <td>1399.144926</td>\n",
       "      <td>-499.919735</td>\n",
       "      <td>1400.102998</td>\n",
       "      <td>-500.704369</td>\n",
       "      <td>1399.001695</td>\n",
       "      <td>-499.485144</td>\n",
       "      <td>13.128569</td>\n",
       "      <td>5.636710</td>\n",
       "      <td>489.793655</td>\n",
       "      <td>62.710452</td>\n",
       "      <td>42.022440</td>\n",
       "      <td>12.084103</td>\n",
       "      <td>16.922877</td>\n",
       "      <td>6.153479</td>\n",
       "      <td>16.867518</td>\n",
       "      <td>6.150709</td>\n",
       "      <td>1001.849317</td>\n",
       "      <td>-350.301265</td>\n",
       "      <td>1249.738612</td>\n",
       "      <td>-399.107531</td>\n",
       "      <td>1249.750520</td>\n",
       "      <td>-399.396730</td>\n",
       "      <td>1198.287855</td>\n",
       "      <td>-399.488594</td>\n",
       "      <td>999.472250</td>\n",
       "      <td>-399.530962</td>\n",
       "      <td>949.566189</td>\n",
       "      <td>-398.180807</td>\n",
       "      <td>24.938200</td>\n",
       "      <td>-500.490963</td>\n",
       "      <td>14.947607</td>\n",
       "      <td>-500.013837</td>\n",
       "      <td>20.018166</td>\n",
       "      <td>-450.395995</td>\n",
       "      <td>13.987058</td>\n",
       "      <td>-449.831513</td>\n",
       "      <td>12.023554</td>\n",
       "      <td>-497.795834</td>\n",
       "      <td>8.016656</td>\n",
       "      <td>-501.289139</td>\n",
       "      <td>7.946562</td>\n",
       "      <td>-432.317850</td>\n",
       "      <td>4.872511</td>\n",
       "      <td>-500.037437</td>\n",
       "      <td>26.705889</td>\n",
       "      <td>-499.709414</td>\n",
       "      <td>16.484844</td>\n",
       "      <td>10.466295</td>\n",
       "      <td>14.787965</td>\n",
       "      <td>8.227045</td>\n",
       "      <td>11.990938</td>\n",
       "      <td>2102.438804</td>\n",
       "      <td>22.186207</td>\n",
       "      <td>89.993421</td>\n",
       "      <td>15.734654</td>\n",
       "      <td>35236.090448</td>\n",
       "      <td>33.791932</td>\n",
       "      <td>12.706851</td>\n",
       "      <td>2.371757</td>\n",
       "      <td>4.537988</td>\n",
       "      <td>4.148198</td>\n",
       "      <td>0.747425</td>\n",
       "      <td>6.587571</td>\n",
       "      <td>3.844413</td>\n",
       "      <td>11.075686</td>\n",
       "      <td>2173.703032</td>\n",
       "      <td>2.143822</td>\n",
       "      <td>4.413600</td>\n",
       "      <td>17.266279</td>\n",
       "      <td>40.743891</td>\n",
       "      <td>5.560988</td>\n",
       "      <td>7.578381</td>\n",
       "      <td>11.631910</td>\n",
       "      <td>17.872038</td>\n",
       "      <td>12.688885</td>\n",
       "      <td>11.034524</td>\n",
       "      <td>5.936471</td>\n",
       "      <td>12.034406</td>\n",
       "      <td>28.364867</td>\n",
       "      <td>70.273583</td>\n",
       "    </tr>\n",
       "    <tr>\n",
       "      <th>1</th>\n",
       "      <td>2016-09-01 01:59:59</td>\n",
       "      <td>215.392455</td>\n",
       "      <td>14.987471</td>\n",
       "      <td>8.080000</td>\n",
       "      <td>0.990469</td>\n",
       "      <td>1398.777912</td>\n",
       "      <td>-500.057435</td>\n",
       "      <td>1398.055362</td>\n",
       "      <td>-499.778182</td>\n",
       "      <td>1396.151033</td>\n",
       "      <td>-499.240168</td>\n",
       "      <td>1399.508091</td>\n",
       "      <td>-500.416324</td>\n",
       "      <td>13.036280</td>\n",
       "      <td>5.526065</td>\n",
       "      <td>490.104534</td>\n",
       "      <td>61.961163</td>\n",
       "      <td>41.187903</td>\n",
       "      <td>11.918977</td>\n",
       "      <td>17.002532</td>\n",
       "      <td>5.999043</td>\n",
       "      <td>16.996063</td>\n",
       "      <td>6.002315</td>\n",
       "      <td>998.690785</td>\n",
       "      <td>-350.425704</td>\n",
       "      <td>1248.395457</td>\n",
       "      <td>-399.946025</td>\n",
       "      <td>1249.514451</td>\n",
       "      <td>-399.630810</td>\n",
       "      <td>1200.506459</td>\n",
       "      <td>-399.942434</td>\n",
       "      <td>1000.002114</td>\n",
       "      <td>-399.491528</td>\n",
       "      <td>950.200009</td>\n",
       "      <td>-405.787514</td>\n",
       "      <td>24.923466</td>\n",
       "      <td>-499.813963</td>\n",
       "      <td>14.930873</td>\n",
       "      <td>-500.764452</td>\n",
       "      <td>19.988503</td>\n",
       "      <td>-450.114024</td>\n",
       "      <td>14.092981</td>\n",
       "      <td>-450.059163</td>\n",
       "      <td>12.058140</td>\n",
       "      <td>-498.695773</td>\n",
       "      <td>8.130979</td>\n",
       "      <td>-499.634209</td>\n",
       "      <td>7.958270</td>\n",
       "      <td>-525.839648</td>\n",
       "      <td>4.878850</td>\n",
       "      <td>-500.162375</td>\n",
       "      <td>25.019940</td>\n",
       "      <td>-499.819438</td>\n",
       "      <td>16.751419</td>\n",
       "      <td>10.581152</td>\n",
       "      <td>13.658590</td>\n",
       "      <td>8.309476</td>\n",
       "      <td>12.216172</td>\n",
       "      <td>2816.389235</td>\n",
       "      <td>22.638279</td>\n",
       "      <td>88.089657</td>\n",
       "      <td>15.966410</td>\n",
       "      <td>40677.566370</td>\n",
       "      <td>34.204715</td>\n",
       "      <td>12.587215</td>\n",
       "      <td>2.647449</td>\n",
       "      <td>4.675117</td>\n",
       "      <td>4.639624</td>\n",
       "      <td>0.830029</td>\n",
       "      <td>7.121551</td>\n",
       "      <td>3.918901</td>\n",
       "      <td>11.132824</td>\n",
       "      <td>2812.792778</td>\n",
       "      <td>2.156865</td>\n",
       "      <td>4.596745</td>\n",
       "      <td>18.178924</td>\n",
       "      <td>39.604292</td>\n",
       "      <td>5.790078</td>\n",
       "      <td>7.813838</td>\n",
       "      <td>11.563424</td>\n",
       "      <td>18.063048</td>\n",
       "      <td>12.829171</td>\n",
       "      <td>10.994805</td>\n",
       "      <td>6.166142</td>\n",
       "      <td>12.248071</td>\n",
       "      <td>27.174515</td>\n",
       "      <td>68.910432</td>\n",
       "    </tr>\n",
       "    <tr>\n",
       "      <th>2</th>\n",
       "      <td>2016-09-01 02:59:59</td>\n",
       "      <td>215.259946</td>\n",
       "      <td>12.884934</td>\n",
       "      <td>7.786667</td>\n",
       "      <td>0.996043</td>\n",
       "      <td>1398.493666</td>\n",
       "      <td>-500.868360</td>\n",
       "      <td>1398.860436</td>\n",
       "      <td>-499.764529</td>\n",
       "      <td>1398.075709</td>\n",
       "      <td>-502.151509</td>\n",
       "      <td>1399.497088</td>\n",
       "      <td>-499.715479</td>\n",
       "      <td>13.138412</td>\n",
       "      <td>5.426561</td>\n",
       "      <td>489.617969</td>\n",
       "      <td>66.903807</td>\n",
       "      <td>42.546294</td>\n",
       "      <td>12.091332</td>\n",
       "      <td>16.992520</td>\n",
       "      <td>5.850632</td>\n",
       "      <td>16.982096</td>\n",
       "      <td>5.853594</td>\n",
       "      <td>998.516720</td>\n",
       "      <td>-349.783538</td>\n",
       "      <td>1247.440748</td>\n",
       "      <td>-400.264330</td>\n",
       "      <td>1248.207204</td>\n",
       "      <td>-401.074405</td>\n",
       "      <td>1199.770026</td>\n",
       "      <td>-400.790582</td>\n",
       "      <td>999.925519</td>\n",
       "      <td>-399.236999</td>\n",
       "      <td>950.320481</td>\n",
       "      <td>-400.864340</td>\n",
       "      <td>24.908732</td>\n",
       "      <td>-500.304035</td>\n",
       "      <td>14.996511</td>\n",
       "      <td>-500.993821</td>\n",
       "      <td>20.039689</td>\n",
       "      <td>-450.263164</td>\n",
       "      <td>14.077881</td>\n",
       "      <td>-449.660997</td>\n",
       "      <td>11.962366</td>\n",
       "      <td>-498.767484</td>\n",
       "      <td>8.096893</td>\n",
       "      <td>-500.827423</td>\n",
       "      <td>8.071056</td>\n",
       "      <td>-500.801673</td>\n",
       "      <td>4.905125</td>\n",
       "      <td>-499.828510</td>\n",
       "      <td>24.994862</td>\n",
       "      <td>-500.622559</td>\n",
       "      <td>17.274800</td>\n",
       "      <td>10.424024</td>\n",
       "      <td>13.014110</td>\n",
       "      <td>7.816041</td>\n",
       "      <td>12.313710</td>\n",
       "      <td>2769.237528</td>\n",
       "      <td>21.788301</td>\n",
       "      <td>88.412756</td>\n",
       "      <td>15.885583</td>\n",
       "      <td>40972.230940</td>\n",
       "      <td>33.777118</td>\n",
       "      <td>12.470523</td>\n",
       "      <td>2.750630</td>\n",
       "      <td>4.828907</td>\n",
       "      <td>5.042994</td>\n",
       "      <td>0.879182</td>\n",
       "      <td>7.706970</td>\n",
       "      <td>4.026561</td>\n",
       "      <td>10.990134</td>\n",
       "      <td>2772.139527</td>\n",
       "      <td>2.228176</td>\n",
       "      <td>4.779149</td>\n",
       "      <td>18.988695</td>\n",
       "      <td>40.724190</td>\n",
       "      <td>6.049673</td>\n",
       "      <td>7.623392</td>\n",
       "      <td>11.420389</td>\n",
       "      <td>18.053777</td>\n",
       "      <td>12.977846</td>\n",
       "      <td>10.864110</td>\n",
       "      <td>6.156985</td>\n",
       "      <td>12.311438</td>\n",
       "      <td>27.694098</td>\n",
       "      <td>68.143213</td>\n",
       "    </tr>\n",
       "  </tbody>\n",
       "</table>\n",
       "</div>"
      ],
      "text/plain": [
       "                 date  primary_cleaner.input.sulfate  \\\n",
       "0 2016-09-01 00:59:59                     210.800909   \n",
       "1 2016-09-01 01:59:59                     215.392455   \n",
       "2 2016-09-01 02:59:59                     215.259946   \n",
       "\n",
       "   primary_cleaner.input.depressant  primary_cleaner.input.feed_size  \\\n",
       "0                         14.993118                         8.080000   \n",
       "1                         14.987471                         8.080000   \n",
       "2                         12.884934                         7.786667   \n",
       "\n",
       "   primary_cleaner.input.xanthate  primary_cleaner.state.floatbank8_a_air  \\\n",
       "0                        1.005021                             1398.981301   \n",
       "1                        0.990469                             1398.777912   \n",
       "2                        0.996043                             1398.493666   \n",
       "\n",
       "   primary_cleaner.state.floatbank8_a_level  \\\n",
       "0                               -500.225577   \n",
       "1                               -500.057435   \n",
       "2                               -500.868360   \n",
       "\n",
       "   primary_cleaner.state.floatbank8_b_air  \\\n",
       "0                             1399.144926   \n",
       "1                             1398.055362   \n",
       "2                             1398.860436   \n",
       "\n",
       "   primary_cleaner.state.floatbank8_b_level  \\\n",
       "0                               -499.919735   \n",
       "1                               -499.778182   \n",
       "2                               -499.764529   \n",
       "\n",
       "   primary_cleaner.state.floatbank8_c_air  \\\n",
       "0                             1400.102998   \n",
       "1                             1396.151033   \n",
       "2                             1398.075709   \n",
       "\n",
       "   primary_cleaner.state.floatbank8_c_level  \\\n",
       "0                               -500.704369   \n",
       "1                               -499.240168   \n",
       "2                               -502.151509   \n",
       "\n",
       "   primary_cleaner.state.floatbank8_d_air  \\\n",
       "0                             1399.001695   \n",
       "1                             1399.508091   \n",
       "2                             1399.497088   \n",
       "\n",
       "   primary_cleaner.state.floatbank8_d_level  rougher.input.feed_ag  \\\n",
       "0                               -499.485144              13.128569   \n",
       "1                               -500.416324              13.036280   \n",
       "2                               -499.715479              13.138412   \n",
       "\n",
       "   rougher.input.feed_pb  rougher.input.feed_rate  rougher.input.feed_size  \\\n",
       "0               5.636710               489.793655                62.710452   \n",
       "1               5.526065               490.104534                61.961163   \n",
       "2               5.426561               489.617969                66.903807   \n",
       "\n",
       "   rougher.input.feed_sol  rougher.input.feed_au  \\\n",
       "0               42.022440              12.084103   \n",
       "1               41.187903              11.918977   \n",
       "2               42.546294              12.091332   \n",
       "\n",
       "   rougher.input.floatbank10_sulfate  rougher.input.floatbank10_xanthate  \\\n",
       "0                          16.922877                            6.153479   \n",
       "1                          17.002532                            5.999043   \n",
       "2                          16.992520                            5.850632   \n",
       "\n",
       "   rougher.input.floatbank11_sulfate  rougher.input.floatbank11_xanthate  \\\n",
       "0                          16.867518                            6.150709   \n",
       "1                          16.996063                            6.002315   \n",
       "2                          16.982096                            5.853594   \n",
       "\n",
       "   rougher.state.floatbank10_a_air  rougher.state.floatbank10_a_level  \\\n",
       "0                      1001.849317                        -350.301265   \n",
       "1                       998.690785                        -350.425704   \n",
       "2                       998.516720                        -349.783538   \n",
       "\n",
       "   rougher.state.floatbank10_b_air  rougher.state.floatbank10_b_level  \\\n",
       "0                      1249.738612                        -399.107531   \n",
       "1                      1248.395457                        -399.946025   \n",
       "2                      1247.440748                        -400.264330   \n",
       "\n",
       "   rougher.state.floatbank10_c_air  rougher.state.floatbank10_c_level  \\\n",
       "0                      1249.750520                        -399.396730   \n",
       "1                      1249.514451                        -399.630810   \n",
       "2                      1248.207204                        -401.074405   \n",
       "\n",
       "   rougher.state.floatbank10_d_air  rougher.state.floatbank10_d_level  \\\n",
       "0                      1198.287855                        -399.488594   \n",
       "1                      1200.506459                        -399.942434   \n",
       "2                      1199.770026                        -400.790582   \n",
       "\n",
       "   rougher.state.floatbank10_e_air  rougher.state.floatbank10_e_level  \\\n",
       "0                       999.472250                        -399.530962   \n",
       "1                      1000.002114                        -399.491528   \n",
       "2                       999.925519                        -399.236999   \n",
       "\n",
       "   rougher.state.floatbank10_f_air  rougher.state.floatbank10_f_level  \\\n",
       "0                       949.566189                        -398.180807   \n",
       "1                       950.200009                        -405.787514   \n",
       "2                       950.320481                        -400.864340   \n",
       "\n",
       "   secondary_cleaner.state.floatbank2_a_air  \\\n",
       "0                                 24.938200   \n",
       "1                                 24.923466   \n",
       "2                                 24.908732   \n",
       "\n",
       "   secondary_cleaner.state.floatbank2_a_level  \\\n",
       "0                                 -500.490963   \n",
       "1                                 -499.813963   \n",
       "2                                 -500.304035   \n",
       "\n",
       "   secondary_cleaner.state.floatbank2_b_air  \\\n",
       "0                                 14.947607   \n",
       "1                                 14.930873   \n",
       "2                                 14.996511   \n",
       "\n",
       "   secondary_cleaner.state.floatbank2_b_level  \\\n",
       "0                                 -500.013837   \n",
       "1                                 -500.764452   \n",
       "2                                 -500.993821   \n",
       "\n",
       "   secondary_cleaner.state.floatbank3_a_air  \\\n",
       "0                                 20.018166   \n",
       "1                                 19.988503   \n",
       "2                                 20.039689   \n",
       "\n",
       "   secondary_cleaner.state.floatbank3_a_level  \\\n",
       "0                                 -450.395995   \n",
       "1                                 -450.114024   \n",
       "2                                 -450.263164   \n",
       "\n",
       "   secondary_cleaner.state.floatbank3_b_air  \\\n",
       "0                                 13.987058   \n",
       "1                                 14.092981   \n",
       "2                                 14.077881   \n",
       "\n",
       "   secondary_cleaner.state.floatbank3_b_level  \\\n",
       "0                                 -449.831513   \n",
       "1                                 -450.059163   \n",
       "2                                 -449.660997   \n",
       "\n",
       "   secondary_cleaner.state.floatbank4_a_air  \\\n",
       "0                                 12.023554   \n",
       "1                                 12.058140   \n",
       "2                                 11.962366   \n",
       "\n",
       "   secondary_cleaner.state.floatbank4_a_level  \\\n",
       "0                                 -497.795834   \n",
       "1                                 -498.695773   \n",
       "2                                 -498.767484   \n",
       "\n",
       "   secondary_cleaner.state.floatbank4_b_air  \\\n",
       "0                                  8.016656   \n",
       "1                                  8.130979   \n",
       "2                                  8.096893   \n",
       "\n",
       "   secondary_cleaner.state.floatbank4_b_level  \\\n",
       "0                                 -501.289139   \n",
       "1                                 -499.634209   \n",
       "2                                 -500.827423   \n",
       "\n",
       "   secondary_cleaner.state.floatbank5_a_air  \\\n",
       "0                                  7.946562   \n",
       "1                                  7.958270   \n",
       "2                                  8.071056   \n",
       "\n",
       "   secondary_cleaner.state.floatbank5_a_level  \\\n",
       "0                                 -432.317850   \n",
       "1                                 -525.839648   \n",
       "2                                 -500.801673   \n",
       "\n",
       "   secondary_cleaner.state.floatbank5_b_air  \\\n",
       "0                                  4.872511   \n",
       "1                                  4.878850   \n",
       "2                                  4.905125   \n",
       "\n",
       "   secondary_cleaner.state.floatbank5_b_level  \\\n",
       "0                                 -500.037437   \n",
       "1                                 -500.162375   \n",
       "2                                 -499.828510   \n",
       "\n",
       "   secondary_cleaner.state.floatbank6_a_air  \\\n",
       "0                                 26.705889   \n",
       "1                                 25.019940   \n",
       "2                                 24.994862   \n",
       "\n",
       "   secondary_cleaner.state.floatbank6_a_level  \\\n",
       "0                                 -499.709414   \n",
       "1                                 -499.819438   \n",
       "2                                 -500.622559   \n",
       "\n",
       "   secondary_cleaner.output.tail_ag  final.output.concentrate_pb  \\\n",
       "0                         16.484844                    10.466295   \n",
       "1                         16.751419                    10.581152   \n",
       "2                         17.274800                    10.424024   \n",
       "\n",
       "   rougher.output.tail_sol  rougher.output.concentrate_pb  \\\n",
       "0                14.787965                       8.227045   \n",
       "1                13.658590                       8.309476   \n",
       "2                13.014110                       7.816041   \n",
       "\n",
       "   final.output.concentrate_sol  \\\n",
       "0                     11.990938   \n",
       "1                     12.216172   \n",
       "2                     12.313710   \n",
       "\n",
       "   rougher.calculation.floatbank11_sulfate_to_au_feed  \\\n",
       "0                                        2102.438804    \n",
       "1                                        2816.389235    \n",
       "2                                        2769.237528    \n",
       "\n",
       "   rougher.output.concentrate_au  rougher.output.recovery  \\\n",
       "0                      22.186207                89.993421   \n",
       "1                      22.638279                88.089657   \n",
       "2                      21.788301                88.412756   \n",
       "\n",
       "   rougher.output.concentrate_ag  \\\n",
       "0                      15.734654   \n",
       "1                      15.966410   \n",
       "2                      15.885583   \n",
       "\n",
       "   rougher.calculation.sulfate_to_au_concentrate  \\\n",
       "0                                   35236.090448   \n",
       "1                                   40677.566370   \n",
       "2                                   40972.230940   \n",
       "\n",
       "   rougher.output.concentrate_sol  primary_cleaner.output.concentrate_pb  \\\n",
       "0                       33.791932                              12.706851   \n",
       "1                       34.204715                              12.587215   \n",
       "2                       33.777118                              12.470523   \n",
       "\n",
       "   rougher.output.tail_au  final.output.tail_au  \\\n",
       "0                2.371757              4.537988   \n",
       "1                2.647449              4.675117   \n",
       "2                2.750630              4.828907   \n",
       "\n",
       "   primary_cleaner.output.tail_pb  rougher.output.tail_pb  \\\n",
       "0                        4.148198                0.747425   \n",
       "1                        4.639624                0.830029   \n",
       "2                        5.042994                0.879182   \n",
       "\n",
       "   primary_cleaner.output.tail_au  final.output.tail_pb  \\\n",
       "0                        6.587571              3.844413   \n",
       "1                        7.121551              3.918901   \n",
       "2                        7.706970              4.026561   \n",
       "\n",
       "   final.output.tail_sol  rougher.calculation.floatbank10_sulfate_to_au_feed  \\\n",
       "0              11.075686                                        2173.703032    \n",
       "1              11.132824                                        2812.792778    \n",
       "2              10.990134                                        2772.139527    \n",
       "\n",
       "   rougher.calculation.au_pb_ratio  secondary_cleaner.output.tail_pb  \\\n",
       "0                         2.143822                          4.413600   \n",
       "1                         2.156865                          4.596745   \n",
       "2                         2.228176                          4.779149   \n",
       "\n",
       "   primary_cleaner.output.tail_ag  final.output.concentrate_au  \\\n",
       "0                       17.266279                    40.743891   \n",
       "1                       18.178924                    39.604292   \n",
       "2                       18.988695                    40.724190   \n",
       "\n",
       "   secondary_cleaner.output.tail_au  final.output.concentrate_ag  \\\n",
       "0                          5.560988                     7.578381   \n",
       "1                          5.790078                     7.813838   \n",
       "2                          6.049673                     7.623392   \n",
       "\n",
       "   primary_cleaner.output.concentrate_ag  \\\n",
       "0                              11.631910   \n",
       "1                              11.563424   \n",
       "2                              11.420389   \n",
       "\n",
       "   primary_cleaner.output.concentrate_sol  final.output.tail_ag  \\\n",
       "0                               17.872038             12.688885   \n",
       "1                               18.063048             12.829171   \n",
       "2                               18.053777             12.977846   \n",
       "\n",
       "   primary_cleaner.output.tail_sol  rougher.output.tail_ag  \\\n",
       "0                        11.034524                5.936471   \n",
       "1                        10.994805                6.166142   \n",
       "2                        10.864110                6.156985   \n",
       "\n",
       "   secondary_cleaner.output.tail_sol  primary_cleaner.output.concentrate_au  \\\n",
       "0                          12.034406                              28.364867   \n",
       "1                          12.248071                              27.174515   \n",
       "2                          12.311438                              27.694098   \n",
       "\n",
       "   final.output.recovery  \n",
       "0              70.273583  \n",
       "1              68.910432  \n",
       "2              68.143213  "
      ]
     },
     "execution_count": 19,
     "metadata": {},
     "output_type": "execute_result"
    }
   ],
   "source": [
    "df_test.head(3)"
   ]
  },
  {
   "cell_type": "code",
   "execution_count": 20,
   "id": "39e866de",
   "metadata": {},
   "outputs": [
    {
     "data": {
      "text/plain": [
       "secondary_cleaner.output.tail_sol         143\n",
       "primary_cleaner.output.concentrate_sol     84\n",
       "primary_cleaner.output.concentrate_pb      30\n",
       "rougher.input.floatbank11_xanthate         25\n",
       "rougher.input.feed_sol                     21\n",
       "                                         ... \n",
       "rougher.state.floatbank10_e_level           0\n",
       "rougher.state.floatbank10_e_air             0\n",
       "rougher.state.floatbank10_d_level           0\n",
       "rougher.state.floatbank10_d_air             0\n",
       "final.output.recovery                       0\n",
       "Length: 87, dtype: int64"
      ]
     },
     "execution_count": 20,
     "metadata": {},
     "output_type": "execute_result"
    }
   ],
   "source": [
    "df_test.isna().sum().sort_values(ascending=False)"
   ]
  },
  {
   "cell_type": "markdown",
   "id": "0a16f49b",
   "metadata": {},
   "source": [
    "#### Обработка выбросов\n",
    "\n",
    "Выбросы могут сильно сказаться на качестве обучения нашей модели, поэтому важно обратить на них внимание еще на этапе предобработки.\n",
    "Посмотрим на описательные статистики столбцов, содержащих ключевые признаки - концентрации веществ на разных этапах."
   ]
  },
  {
   "cell_type": "code",
   "execution_count": 21,
   "id": "11bbaf1d",
   "metadata": {},
   "outputs": [
    {
     "name": "stdout",
     "output_type": "stream",
     "text": [
      "Количество столбцов с концентрацией: 32\n"
     ]
    },
    {
     "data": {
      "text/html": [
       "<div>\n",
       "<style scoped>\n",
       "    .dataframe tbody tr th:only-of-type {\n",
       "        vertical-align: middle;\n",
       "    }\n",
       "\n",
       "    .dataframe tbody tr th {\n",
       "        vertical-align: top;\n",
       "    }\n",
       "\n",
       "    .dataframe thead th {\n",
       "        text-align: right;\n",
       "    }\n",
       "</style>\n",
       "<table border=\"1\" class=\"dataframe\">\n",
       "  <thead>\n",
       "    <tr style=\"text-align: right;\">\n",
       "      <th></th>\n",
       "      <th>final.output.concentrate_ag</th>\n",
       "      <th>final.output.concentrate_pb</th>\n",
       "      <th>final.output.concentrate_sol</th>\n",
       "      <th>final.output.concentrate_au</th>\n",
       "      <th>final.output.tail_ag</th>\n",
       "      <th>final.output.tail_pb</th>\n",
       "      <th>final.output.tail_sol</th>\n",
       "      <th>final.output.tail_au</th>\n",
       "      <th>primary_cleaner.output.concentrate_ag</th>\n",
       "      <th>primary_cleaner.output.concentrate_pb</th>\n",
       "      <th>primary_cleaner.output.concentrate_sol</th>\n",
       "      <th>primary_cleaner.output.concentrate_au</th>\n",
       "      <th>primary_cleaner.output.tail_ag</th>\n",
       "      <th>primary_cleaner.output.tail_pb</th>\n",
       "      <th>primary_cleaner.output.tail_sol</th>\n",
       "      <th>primary_cleaner.output.tail_au</th>\n",
       "      <th>rougher.input.feed_ag</th>\n",
       "      <th>rougher.input.feed_pb</th>\n",
       "      <th>rougher.input.feed_sol</th>\n",
       "      <th>rougher.input.feed_au</th>\n",
       "      <th>rougher.output.concentrate_ag</th>\n",
       "      <th>rougher.output.concentrate_pb</th>\n",
       "      <th>rougher.output.concentrate_sol</th>\n",
       "      <th>rougher.output.concentrate_au</th>\n",
       "      <th>rougher.output.tail_ag</th>\n",
       "      <th>rougher.output.tail_pb</th>\n",
       "      <th>rougher.output.tail_sol</th>\n",
       "      <th>rougher.output.tail_au</th>\n",
       "      <th>secondary_cleaner.output.tail_ag</th>\n",
       "      <th>secondary_cleaner.output.tail_pb</th>\n",
       "      <th>secondary_cleaner.output.tail_sol</th>\n",
       "      <th>secondary_cleaner.output.tail_au</th>\n",
       "    </tr>\n",
       "  </thead>\n",
       "  <tbody>\n",
       "    <tr>\n",
       "      <th>count</th>\n",
       "      <td>14148.000000</td>\n",
       "      <td>14148.000000</td>\n",
       "      <td>13938.000000</td>\n",
       "      <td>14149.000000</td>\n",
       "      <td>14149.000000</td>\n",
       "      <td>14049.000000</td>\n",
       "      <td>14144.000000</td>\n",
       "      <td>14149.000000</td>\n",
       "      <td>14149.000000</td>\n",
       "      <td>14063.000000</td>\n",
       "      <td>13863.000000</td>\n",
       "      <td>14149.000000</td>\n",
       "      <td>14148.000000</td>\n",
       "      <td>14134.000000</td>\n",
       "      <td>14103.000000</td>\n",
       "      <td>14149.000000</td>\n",
       "      <td>14149.000000</td>\n",
       "      <td>14049.000000</td>\n",
       "      <td>14071.000000</td>\n",
       "      <td>14149.000000</td>\n",
       "      <td>14149.000000</td>\n",
       "      <td>14149.000000</td>\n",
       "      <td>14127.000000</td>\n",
       "      <td>14149.000000</td>\n",
       "      <td>14148.000000</td>\n",
       "      <td>14149.000000</td>\n",
       "      <td>14149.000000</td>\n",
       "      <td>14149.000000</td>\n",
       "      <td>14147.000000</td>\n",
       "      <td>14139.000000</td>\n",
       "      <td>12544.000000</td>\n",
       "      <td>14149.000000</td>\n",
       "    </tr>\n",
       "    <tr>\n",
       "      <th>mean</th>\n",
       "      <td>5.142034</td>\n",
       "      <td>10.132960</td>\n",
       "      <td>9.202849</td>\n",
       "      <td>44.003792</td>\n",
       "      <td>9.607035</td>\n",
       "      <td>2.597298</td>\n",
       "      <td>10.512122</td>\n",
       "      <td>2.918421</td>\n",
       "      <td>8.200916</td>\n",
       "      <td>9.588862</td>\n",
       "      <td>10.114745</td>\n",
       "      <td>32.386836</td>\n",
       "      <td>16.303929</td>\n",
       "      <td>3.443398</td>\n",
       "      <td>7.533566</td>\n",
       "      <td>3.839637</td>\n",
       "      <td>8.579195</td>\n",
       "      <td>3.522778</td>\n",
       "      <td>36.312593</td>\n",
       "      <td>7.866577</td>\n",
       "      <td>11.775812</td>\n",
       "      <td>7.664555</td>\n",
       "      <td>28.302715</td>\n",
       "      <td>19.439958</td>\n",
       "      <td>5.567124</td>\n",
       "      <td>0.653277</td>\n",
       "      <td>17.882853</td>\n",
       "      <td>1.757473</td>\n",
       "      <td>14.281629</td>\n",
       "      <td>5.848863</td>\n",
       "      <td>6.938693</td>\n",
       "      <td>4.246961</td>\n",
       "    </tr>\n",
       "    <tr>\n",
       "      <th>std</th>\n",
       "      <td>1.369586</td>\n",
       "      <td>1.654930</td>\n",
       "      <td>2.790516</td>\n",
       "      <td>4.905261</td>\n",
       "      <td>2.319069</td>\n",
       "      <td>0.971843</td>\n",
       "      <td>3.003617</td>\n",
       "      <td>0.903712</td>\n",
       "      <td>2.005185</td>\n",
       "      <td>2.694296</td>\n",
       "      <td>4.064076</td>\n",
       "      <td>5.798843</td>\n",
       "      <td>3.739843</td>\n",
       "      <td>1.490106</td>\n",
       "      <td>2.133220</td>\n",
       "      <td>1.603544</td>\n",
       "      <td>1.896284</td>\n",
       "      <td>1.073394</td>\n",
       "      <td>4.956057</td>\n",
       "      <td>1.919506</td>\n",
       "      <td>2.731747</td>\n",
       "      <td>1.856279</td>\n",
       "      <td>6.102982</td>\n",
       "      <td>3.765192</td>\n",
       "      <td>1.039136</td>\n",
       "      <td>0.263766</td>\n",
       "      <td>3.432859</td>\n",
       "      <td>0.713187</td>\n",
       "      <td>4.477126</td>\n",
       "      <td>2.861799</td>\n",
       "      <td>4.155487</td>\n",
       "      <td>2.389060</td>\n",
       "    </tr>\n",
       "    <tr>\n",
       "      <th>min</th>\n",
       "      <td>0.000000</td>\n",
       "      <td>0.000000</td>\n",
       "      <td>0.000000</td>\n",
       "      <td>0.000000</td>\n",
       "      <td>0.000000</td>\n",
       "      <td>0.000000</td>\n",
       "      <td>0.000000</td>\n",
       "      <td>0.000000</td>\n",
       "      <td>0.000000</td>\n",
       "      <td>0.000000</td>\n",
       "      <td>0.000000</td>\n",
       "      <td>0.000000</td>\n",
       "      <td>0.000000</td>\n",
       "      <td>0.000000</td>\n",
       "      <td>0.000000</td>\n",
       "      <td>0.000000</td>\n",
       "      <td>0.010000</td>\n",
       "      <td>0.010000</td>\n",
       "      <td>0.010000</td>\n",
       "      <td>0.010000</td>\n",
       "      <td>0.000000</td>\n",
       "      <td>0.000000</td>\n",
       "      <td>0.000000</td>\n",
       "      <td>0.000000</td>\n",
       "      <td>0.594562</td>\n",
       "      <td>0.007566</td>\n",
       "      <td>10.014648</td>\n",
       "      <td>0.020676</td>\n",
       "      <td>0.000000</td>\n",
       "      <td>0.000000</td>\n",
       "      <td>0.000000</td>\n",
       "      <td>0.000000</td>\n",
       "    </tr>\n",
       "    <tr>\n",
       "      <th>25%</th>\n",
       "      <td>4.211620</td>\n",
       "      <td>9.297355</td>\n",
       "      <td>7.484645</td>\n",
       "      <td>43.276111</td>\n",
       "      <td>7.997429</td>\n",
       "      <td>1.905973</td>\n",
       "      <td>8.811324</td>\n",
       "      <td>2.368607</td>\n",
       "      <td>7.107126</td>\n",
       "      <td>8.333489</td>\n",
       "      <td>7.488139</td>\n",
       "      <td>30.857764</td>\n",
       "      <td>13.873147</td>\n",
       "      <td>2.420259</td>\n",
       "      <td>6.332548</td>\n",
       "      <td>2.867957</td>\n",
       "      <td>7.132802</td>\n",
       "      <td>2.780010</td>\n",
       "      <td>34.117635</td>\n",
       "      <td>6.596217</td>\n",
       "      <td>10.486871</td>\n",
       "      <td>6.850501</td>\n",
       "      <td>26.703554</td>\n",
       "      <td>18.432161</td>\n",
       "      <td>4.921647</td>\n",
       "      <td>0.474047</td>\n",
       "      <td>15.688727</td>\n",
       "      <td>1.310800</td>\n",
       "      <td>12.177364</td>\n",
       "      <td>3.982298</td>\n",
       "      <td>3.225486</td>\n",
       "      <td>3.153122</td>\n",
       "    </tr>\n",
       "    <tr>\n",
       "      <th>50%</th>\n",
       "      <td>4.994652</td>\n",
       "      <td>10.297144</td>\n",
       "      <td>8.845462</td>\n",
       "      <td>44.872436</td>\n",
       "      <td>9.480270</td>\n",
       "      <td>2.592022</td>\n",
       "      <td>10.514621</td>\n",
       "      <td>2.851025</td>\n",
       "      <td>8.226247</td>\n",
       "      <td>9.933520</td>\n",
       "      <td>9.726566</td>\n",
       "      <td>33.225835</td>\n",
       "      <td>15.800604</td>\n",
       "      <td>3.218374</td>\n",
       "      <td>7.714419</td>\n",
       "      <td>3.510337</td>\n",
       "      <td>8.156092</td>\n",
       "      <td>3.422677</td>\n",
       "      <td>37.020345</td>\n",
       "      <td>7.649138</td>\n",
       "      <td>11.747362</td>\n",
       "      <td>7.760435</td>\n",
       "      <td>29.257545</td>\n",
       "      <td>19.947312</td>\n",
       "      <td>5.722018</td>\n",
       "      <td>0.625805</td>\n",
       "      <td>18.015894</td>\n",
       "      <td>1.745513</td>\n",
       "      <td>15.357951</td>\n",
       "      <td>5.442310</td>\n",
       "      <td>7.302639</td>\n",
       "      <td>3.980210</td>\n",
       "    </tr>\n",
       "    <tr>\n",
       "      <th>75%</th>\n",
       "      <td>5.859540</td>\n",
       "      <td>11.170603</td>\n",
       "      <td>10.487508</td>\n",
       "      <td>46.166425</td>\n",
       "      <td>11.003707</td>\n",
       "      <td>3.241723</td>\n",
       "      <td>11.933009</td>\n",
       "      <td>3.434764</td>\n",
       "      <td>9.504924</td>\n",
       "      <td>11.310817</td>\n",
       "      <td>13.052807</td>\n",
       "      <td>35.330145</td>\n",
       "      <td>18.450109</td>\n",
       "      <td>4.253218</td>\n",
       "      <td>8.910664</td>\n",
       "      <td>4.492470</td>\n",
       "      <td>9.918304</td>\n",
       "      <td>4.226107</td>\n",
       "      <td>39.423265</td>\n",
       "      <td>9.066976</td>\n",
       "      <td>13.426419</td>\n",
       "      <td>8.601927</td>\n",
       "      <td>31.743913</td>\n",
       "      <td>21.392714</td>\n",
       "      <td>6.310633</td>\n",
       "      <td>0.794326</td>\n",
       "      <td>19.938672</td>\n",
       "      <td>2.186790</td>\n",
       "      <td>17.230151</td>\n",
       "      <td>7.797948</td>\n",
       "      <td>10.547068</td>\n",
       "      <td>4.883943</td>\n",
       "    </tr>\n",
       "    <tr>\n",
       "      <th>max</th>\n",
       "      <td>16.001945</td>\n",
       "      <td>17.031899</td>\n",
       "      <td>18.124851</td>\n",
       "      <td>52.756638</td>\n",
       "      <td>19.552149</td>\n",
       "      <td>5.639565</td>\n",
       "      <td>22.317730</td>\n",
       "      <td>8.197408</td>\n",
       "      <td>16.081632</td>\n",
       "      <td>17.081278</td>\n",
       "      <td>22.280845</td>\n",
       "      <td>45.933934</td>\n",
       "      <td>29.459575</td>\n",
       "      <td>9.634565</td>\n",
       "      <td>20.620833</td>\n",
       "      <td>17.788925</td>\n",
       "      <td>14.596026</td>\n",
       "      <td>7.142594</td>\n",
       "      <td>48.363177</td>\n",
       "      <td>13.126043</td>\n",
       "      <td>24.480271</td>\n",
       "      <td>13.617072</td>\n",
       "      <td>38.351193</td>\n",
       "      <td>28.146838</td>\n",
       "      <td>12.719177</td>\n",
       "      <td>3.778064</td>\n",
       "      <td>66.117188</td>\n",
       "      <td>9.688980</td>\n",
       "      <td>23.264738</td>\n",
       "      <td>17.042505</td>\n",
       "      <td>17.976171</td>\n",
       "      <td>26.811643</td>\n",
       "    </tr>\n",
       "  </tbody>\n",
       "</table>\n",
       "</div>"
      ],
      "text/plain": [
       "       final.output.concentrate_ag  final.output.concentrate_pb  \\\n",
       "count                 14148.000000                 14148.000000   \n",
       "mean                      5.142034                    10.132960   \n",
       "std                       1.369586                     1.654930   \n",
       "min                       0.000000                     0.000000   \n",
       "25%                       4.211620                     9.297355   \n",
       "50%                       4.994652                    10.297144   \n",
       "75%                       5.859540                    11.170603   \n",
       "max                      16.001945                    17.031899   \n",
       "\n",
       "       final.output.concentrate_sol  final.output.concentrate_au  \\\n",
       "count                  13938.000000                 14149.000000   \n",
       "mean                       9.202849                    44.003792   \n",
       "std                        2.790516                     4.905261   \n",
       "min                        0.000000                     0.000000   \n",
       "25%                        7.484645                    43.276111   \n",
       "50%                        8.845462                    44.872436   \n",
       "75%                       10.487508                    46.166425   \n",
       "max                       18.124851                    52.756638   \n",
       "\n",
       "       final.output.tail_ag  final.output.tail_pb  final.output.tail_sol  \\\n",
       "count          14149.000000          14049.000000           14144.000000   \n",
       "mean               9.607035              2.597298              10.512122   \n",
       "std                2.319069              0.971843               3.003617   \n",
       "min                0.000000              0.000000               0.000000   \n",
       "25%                7.997429              1.905973               8.811324   \n",
       "50%                9.480270              2.592022              10.514621   \n",
       "75%               11.003707              3.241723              11.933009   \n",
       "max               19.552149              5.639565              22.317730   \n",
       "\n",
       "       final.output.tail_au  primary_cleaner.output.concentrate_ag  \\\n",
       "count          14149.000000                           14149.000000   \n",
       "mean               2.918421                               8.200916   \n",
       "std                0.903712                               2.005185   \n",
       "min                0.000000                               0.000000   \n",
       "25%                2.368607                               7.107126   \n",
       "50%                2.851025                               8.226247   \n",
       "75%                3.434764                               9.504924   \n",
       "max                8.197408                              16.081632   \n",
       "\n",
       "       primary_cleaner.output.concentrate_pb  \\\n",
       "count                           14063.000000   \n",
       "mean                                9.588862   \n",
       "std                                 2.694296   \n",
       "min                                 0.000000   \n",
       "25%                                 8.333489   \n",
       "50%                                 9.933520   \n",
       "75%                                11.310817   \n",
       "max                                17.081278   \n",
       "\n",
       "       primary_cleaner.output.concentrate_sol  \\\n",
       "count                            13863.000000   \n",
       "mean                                10.114745   \n",
       "std                                  4.064076   \n",
       "min                                  0.000000   \n",
       "25%                                  7.488139   \n",
       "50%                                  9.726566   \n",
       "75%                                 13.052807   \n",
       "max                                 22.280845   \n",
       "\n",
       "       primary_cleaner.output.concentrate_au  primary_cleaner.output.tail_ag  \\\n",
       "count                           14149.000000                    14148.000000   \n",
       "mean                               32.386836                       16.303929   \n",
       "std                                 5.798843                        3.739843   \n",
       "min                                 0.000000                        0.000000   \n",
       "25%                                30.857764                       13.873147   \n",
       "50%                                33.225835                       15.800604   \n",
       "75%                                35.330145                       18.450109   \n",
       "max                                45.933934                       29.459575   \n",
       "\n",
       "       primary_cleaner.output.tail_pb  primary_cleaner.output.tail_sol  \\\n",
       "count                    14134.000000                     14103.000000   \n",
       "mean                         3.443398                         7.533566   \n",
       "std                          1.490106                         2.133220   \n",
       "min                          0.000000                         0.000000   \n",
       "25%                          2.420259                         6.332548   \n",
       "50%                          3.218374                         7.714419   \n",
       "75%                          4.253218                         8.910664   \n",
       "max                          9.634565                        20.620833   \n",
       "\n",
       "       primary_cleaner.output.tail_au  rougher.input.feed_ag  \\\n",
       "count                    14149.000000           14149.000000   \n",
       "mean                         3.839637               8.579195   \n",
       "std                          1.603544               1.896284   \n",
       "min                          0.000000               0.010000   \n",
       "25%                          2.867957               7.132802   \n",
       "50%                          3.510337               8.156092   \n",
       "75%                          4.492470               9.918304   \n",
       "max                         17.788925              14.596026   \n",
       "\n",
       "       rougher.input.feed_pb  rougher.input.feed_sol  rougher.input.feed_au  \\\n",
       "count           14049.000000            14071.000000           14149.000000   \n",
       "mean                3.522778               36.312593               7.866577   \n",
       "std                 1.073394                4.956057               1.919506   \n",
       "min                 0.010000                0.010000               0.010000   \n",
       "25%                 2.780010               34.117635               6.596217   \n",
       "50%                 3.422677               37.020345               7.649138   \n",
       "75%                 4.226107               39.423265               9.066976   \n",
       "max                 7.142594               48.363177              13.126043   \n",
       "\n",
       "       rougher.output.concentrate_ag  rougher.output.concentrate_pb  \\\n",
       "count                   14149.000000                   14149.000000   \n",
       "mean                       11.775812                       7.664555   \n",
       "std                         2.731747                       1.856279   \n",
       "min                         0.000000                       0.000000   \n",
       "25%                        10.486871                       6.850501   \n",
       "50%                        11.747362                       7.760435   \n",
       "75%                        13.426419                       8.601927   \n",
       "max                        24.480271                      13.617072   \n",
       "\n",
       "       rougher.output.concentrate_sol  rougher.output.concentrate_au  \\\n",
       "count                    14127.000000                   14149.000000   \n",
       "mean                        28.302715                      19.439958   \n",
       "std                          6.102982                       3.765192   \n",
       "min                          0.000000                       0.000000   \n",
       "25%                         26.703554                      18.432161   \n",
       "50%                         29.257545                      19.947312   \n",
       "75%                         31.743913                      21.392714   \n",
       "max                         38.351193                      28.146838   \n",
       "\n",
       "       rougher.output.tail_ag  rougher.output.tail_pb  \\\n",
       "count            14148.000000            14149.000000   \n",
       "mean                 5.567124                0.653277   \n",
       "std                  1.039136                0.263766   \n",
       "min                  0.594562                0.007566   \n",
       "25%                  4.921647                0.474047   \n",
       "50%                  5.722018                0.625805   \n",
       "75%                  6.310633                0.794326   \n",
       "max                 12.719177                3.778064   \n",
       "\n",
       "       rougher.output.tail_sol  rougher.output.tail_au  \\\n",
       "count             14149.000000            14149.000000   \n",
       "mean                 17.882853                1.757473   \n",
       "std                   3.432859                0.713187   \n",
       "min                  10.014648                0.020676   \n",
       "25%                  15.688727                1.310800   \n",
       "50%                  18.015894                1.745513   \n",
       "75%                  19.938672                2.186790   \n",
       "max                  66.117188                9.688980   \n",
       "\n",
       "       secondary_cleaner.output.tail_ag  secondary_cleaner.output.tail_pb  \\\n",
       "count                      14147.000000                      14139.000000   \n",
       "mean                          14.281629                          5.848863   \n",
       "std                            4.477126                          2.861799   \n",
       "min                            0.000000                          0.000000   \n",
       "25%                           12.177364                          3.982298   \n",
       "50%                           15.357951                          5.442310   \n",
       "75%                           17.230151                          7.797948   \n",
       "max                           23.264738                         17.042505   \n",
       "\n",
       "       secondary_cleaner.output.tail_sol  secondary_cleaner.output.tail_au  \n",
       "count                       12544.000000                      14149.000000  \n",
       "mean                            6.938693                          4.246961  \n",
       "std                             4.155487                          2.389060  \n",
       "min                             0.000000                          0.000000  \n",
       "25%                             3.225486                          3.153122  \n",
       "50%                             7.302639                          3.980210  \n",
       "75%                            10.547068                          4.883943  \n",
       "max                            17.976171                         26.811643  "
      ]
     },
     "execution_count": 21,
     "metadata": {},
     "output_type": "execute_result"
    }
   ],
   "source": [
    "concentrate_columns = [col for col in df_train.columns if col.endswith(('_au', '_ag', '_pb', '_sol'))]\n",
    "print('Количество столбцов с концентрацией:', len(concentrate_columns))\n",
    "df_train[concentrate_columns].describe()"
   ]
  },
  {
   "cell_type": "markdown",
   "id": "496b8c0e",
   "metadata": {},
   "source": [
    "* Как видим, у каждого признака есть сильные выбросы как в меньшую, так и в большую сторону.\n",
    "* Для корректности дальнейшней работы модели воспользуемся правилом трёх сигм (*вероятность отклониться далее 3-х сигм для нормально распределенной величины очень мала (0,28%)*) и удалим все значения, выходящие за границы этого диапазона. \n",
    "* Сюда попадут и аномально маленькие значения (например, 0) и аномально большие. Будем считать, что всего это просто ошибки в работе измерительных приборов."
   ]
  },
  {
   "cell_type": "markdown",
   "id": "157fe361",
   "metadata": {},
   "source": [
    "Следующая функция предназначена для замены выбросов в каждом столбце на NaN:\n",
    "* Принимает на вход датафрейм\n",
    "* Создает новый пустой датафрейм, который в цикле будет наполняться обработанными значениями из старого.\n",
    "* Итерируется по столбцам старого датафрейма, возвращая только те значения, которые укладываются в +- 3 стандартных отклонения своего же столбца.\n",
    "* Возвращает новый датафрейм."
   ]
  },
  {
   "cell_type": "code",
   "execution_count": 22,
   "id": "12831486",
   "metadata": {},
   "outputs": [],
   "source": [
    "def drop_outliers(df):\n",
    "    df_new = pd.DataFrame(columns=df.columns, index=df.index)\n",
    "    for col in df.columns:\n",
    "        df_new[col] = df[(abs(zscore(df[col], nan_policy='omit')) < 3)][col]\n",
    "    return df_new"
   ]
  },
  {
   "cell_type": "code",
   "execution_count": 23,
   "id": "6ee89f87",
   "metadata": {},
   "outputs": [],
   "source": [
    "df_train[concentrate_columns] = drop_outliers(df_train[concentrate_columns])"
   ]
  },
  {
   "cell_type": "markdown",
   "id": "70f07540",
   "metadata": {},
   "source": [
    "#### Обработка пропусков\n",
    "\n",
    "Посмотрим, в каких столбцах обучающей выборки у нас больше всего пропусков."
   ]
  },
  {
   "cell_type": "code",
   "execution_count": 24,
   "id": "eee0c692",
   "metadata": {},
   "outputs": [
    {
     "data": {
      "text/plain": [
       "secondary_cleaner.output.tail_sol        1605\n",
       "secondary_cleaner.output.tail_ag          750\n",
       "rougher.state.floatbank10_e_air           436\n",
       "rougher.input.floatbank11_xanthate        428\n",
       "rougher.output.concentrate_sol            400\n",
       "rougher.output.concentrate_au             335\n",
       "rougher.output.concentrate_ag             332\n",
       "primary_cleaner.output.concentrate_au     332\n",
       "rougher.input.feed_sol                    319\n",
       "primary_cleaner.output.concentrate_pb     314\n",
       "dtype: int64"
      ]
     },
     "execution_count": 24,
     "metadata": {},
     "output_type": "execute_result"
    }
   ],
   "source": [
    "df_train.isna().sum().sort_values(ascending=False).head(10)"
   ]
  },
  {
   "cell_type": "markdown",
   "id": "3cea76e8",
   "metadata": {},
   "source": [
    "Очень много пропусков в `secondary_cleaner.output.tail_sol`.\n",
    "* Возьмем у них индексы и посмотрим на близлежащие к ним строки."
   ]
  },
  {
   "cell_type": "code",
   "execution_count": 25,
   "id": "9400c4a3",
   "metadata": {},
   "outputs": [
    {
     "data": {
      "text/plain": [
       "Int64Index([1616, 1617, 1618, 1619, 1826, 1916, 2953, 3394, 3396, 4824], dtype='int64')"
      ]
     },
     "execution_count": 25,
     "metadata": {},
     "output_type": "execute_result"
    }
   ],
   "source": [
    "df_train[df_train['secondary_cleaner.output.tail_sol'].isna()].index[:10]"
   ]
  },
  {
   "cell_type": "code",
   "execution_count": 26,
   "id": "62033727",
   "metadata": {},
   "outputs": [
    {
     "data": {
      "text/html": [
       "<div>\n",
       "<style scoped>\n",
       "    .dataframe tbody tr th:only-of-type {\n",
       "        vertical-align: middle;\n",
       "    }\n",
       "\n",
       "    .dataframe tbody tr th {\n",
       "        vertical-align: top;\n",
       "    }\n",
       "\n",
       "    .dataframe thead th {\n",
       "        text-align: right;\n",
       "    }\n",
       "</style>\n",
       "<table border=\"1\" class=\"dataframe\">\n",
       "  <thead>\n",
       "    <tr style=\"text-align: right;\">\n",
       "      <th></th>\n",
       "      <th>final.output.concentrate_sol</th>\n",
       "      <th>final.output.tail_sol</th>\n",
       "      <th>primary_cleaner.output.concentrate_sol</th>\n",
       "      <th>primary_cleaner.output.tail_sol</th>\n",
       "      <th>rougher.input.feed_sol</th>\n",
       "      <th>rougher.output.concentrate_sol</th>\n",
       "      <th>rougher.output.tail_sol</th>\n",
       "      <th>secondary_cleaner.output.tail_sol</th>\n",
       "    </tr>\n",
       "  </thead>\n",
       "  <tbody>\n",
       "    <tr>\n",
       "      <th>1611</th>\n",
       "      <td>7.137830</td>\n",
       "      <td>17.532141</td>\n",
       "      <td>12.422091</td>\n",
       "      <td>7.562996</td>\n",
       "      <td>34.918582</td>\n",
       "      <td>19.364745</td>\n",
       "      <td>17.342700</td>\n",
       "      <td>8.441815</td>\n",
       "    </tr>\n",
       "    <tr>\n",
       "      <th>1612</th>\n",
       "      <td>5.106734</td>\n",
       "      <td>17.413057</td>\n",
       "      <td>12.183826</td>\n",
       "      <td>7.450207</td>\n",
       "      <td>34.905715</td>\n",
       "      <td>19.254508</td>\n",
       "      <td>17.670894</td>\n",
       "      <td>9.060448</td>\n",
       "    </tr>\n",
       "    <tr>\n",
       "      <th>1613</th>\n",
       "      <td>5.255700</td>\n",
       "      <td>17.407608</td>\n",
       "      <td>12.589357</td>\n",
       "      <td>7.616487</td>\n",
       "      <td>35.031019</td>\n",
       "      <td>19.498017</td>\n",
       "      <td>17.568255</td>\n",
       "      <td>9.015720</td>\n",
       "    </tr>\n",
       "    <tr>\n",
       "      <th>1614</th>\n",
       "      <td>5.683586</td>\n",
       "      <td>17.310763</td>\n",
       "      <td>12.953219</td>\n",
       "      <td>7.515749</td>\n",
       "      <td>34.303565</td>\n",
       "      <td>19.478011</td>\n",
       "      <td>17.211380</td>\n",
       "      <td>9.116624</td>\n",
       "    </tr>\n",
       "    <tr>\n",
       "      <th>1615</th>\n",
       "      <td>3.441309</td>\n",
       "      <td>18.899253</td>\n",
       "      <td>10.747449</td>\n",
       "      <td>8.154663</td>\n",
       "      <td>NaN</td>\n",
       "      <td>16.510859</td>\n",
       "      <td>16.066635</td>\n",
       "      <td>11.823058</td>\n",
       "    </tr>\n",
       "    <tr>\n",
       "      <th>1616</th>\n",
       "      <td>NaN</td>\n",
       "      <td>4.265981</td>\n",
       "      <td>9.355665</td>\n",
       "      <td>1.689113</td>\n",
       "      <td>NaN</td>\n",
       "      <td>NaN</td>\n",
       "      <td>12.227496</td>\n",
       "      <td>NaN</td>\n",
       "    </tr>\n",
       "    <tr>\n",
       "      <th>1617</th>\n",
       "      <td>NaN</td>\n",
       "      <td>5.198314</td>\n",
       "      <td>NaN</td>\n",
       "      <td>1.715481</td>\n",
       "      <td>NaN</td>\n",
       "      <td>11.915832</td>\n",
       "      <td>13.050464</td>\n",
       "      <td>NaN</td>\n",
       "    </tr>\n",
       "    <tr>\n",
       "      <th>1618</th>\n",
       "      <td>NaN</td>\n",
       "      <td>6.867096</td>\n",
       "      <td>NaN</td>\n",
       "      <td>2.699547</td>\n",
       "      <td>NaN</td>\n",
       "      <td>10.630895</td>\n",
       "      <td>12.297166</td>\n",
       "      <td>NaN</td>\n",
       "    </tr>\n",
       "    <tr>\n",
       "      <th>1619</th>\n",
       "      <td>NaN</td>\n",
       "      <td>11.612120</td>\n",
       "      <td>NaN</td>\n",
       "      <td>4.258946</td>\n",
       "      <td>37.467000</td>\n",
       "      <td>17.974658</td>\n",
       "      <td>16.127500</td>\n",
       "      <td>NaN</td>\n",
       "    </tr>\n",
       "    <tr>\n",
       "      <th>1620</th>\n",
       "      <td>NaN</td>\n",
       "      <td>11.020926</td>\n",
       "      <td>NaN</td>\n",
       "      <td>5.163486</td>\n",
       "      <td>23.943987</td>\n",
       "      <td>11.193395</td>\n",
       "      <td>21.199708</td>\n",
       "      <td>8.031037</td>\n",
       "    </tr>\n",
       "    <tr>\n",
       "      <th>1621</th>\n",
       "      <td>NaN</td>\n",
       "      <td>NaN</td>\n",
       "      <td>14.335243</td>\n",
       "      <td>8.170655</td>\n",
       "      <td>37.192226</td>\n",
       "      <td>19.180948</td>\n",
       "      <td>21.809096</td>\n",
       "      <td>11.387633</td>\n",
       "    </tr>\n",
       "    <tr>\n",
       "      <th>1622</th>\n",
       "      <td>7.040814</td>\n",
       "      <td>18.184458</td>\n",
       "      <td>12.326008</td>\n",
       "      <td>7.401938</td>\n",
       "      <td>36.084094</td>\n",
       "      <td>18.729932</td>\n",
       "      <td>20.899436</td>\n",
       "      <td>7.142093</td>\n",
       "    </tr>\n",
       "  </tbody>\n",
       "</table>\n",
       "</div>"
      ],
      "text/plain": [
       "      final.output.concentrate_sol  final.output.tail_sol  \\\n",
       "1611                      7.137830              17.532141   \n",
       "1612                      5.106734              17.413057   \n",
       "1613                      5.255700              17.407608   \n",
       "1614                      5.683586              17.310763   \n",
       "1615                      3.441309              18.899253   \n",
       "1616                           NaN               4.265981   \n",
       "1617                           NaN               5.198314   \n",
       "1618                           NaN               6.867096   \n",
       "1619                           NaN              11.612120   \n",
       "1620                           NaN              11.020926   \n",
       "1621                           NaN                    NaN   \n",
       "1622                      7.040814              18.184458   \n",
       "\n",
       "      primary_cleaner.output.concentrate_sol  primary_cleaner.output.tail_sol  \\\n",
       "1611                               12.422091                         7.562996   \n",
       "1612                               12.183826                         7.450207   \n",
       "1613                               12.589357                         7.616487   \n",
       "1614                               12.953219                         7.515749   \n",
       "1615                               10.747449                         8.154663   \n",
       "1616                                9.355665                         1.689113   \n",
       "1617                                     NaN                         1.715481   \n",
       "1618                                     NaN                         2.699547   \n",
       "1619                                     NaN                         4.258946   \n",
       "1620                                     NaN                         5.163486   \n",
       "1621                               14.335243                         8.170655   \n",
       "1622                               12.326008                         7.401938   \n",
       "\n",
       "      rougher.input.feed_sol  rougher.output.concentrate_sol  \\\n",
       "1611               34.918582                       19.364745   \n",
       "1612               34.905715                       19.254508   \n",
       "1613               35.031019                       19.498017   \n",
       "1614               34.303565                       19.478011   \n",
       "1615                     NaN                       16.510859   \n",
       "1616                     NaN                             NaN   \n",
       "1617                     NaN                       11.915832   \n",
       "1618                     NaN                       10.630895   \n",
       "1619               37.467000                       17.974658   \n",
       "1620               23.943987                       11.193395   \n",
       "1621               37.192226                       19.180948   \n",
       "1622               36.084094                       18.729932   \n",
       "\n",
       "      rougher.output.tail_sol  secondary_cleaner.output.tail_sol  \n",
       "1611                17.342700                           8.441815  \n",
       "1612                17.670894                           9.060448  \n",
       "1613                17.568255                           9.015720  \n",
       "1614                17.211380                           9.116624  \n",
       "1615                16.066635                          11.823058  \n",
       "1616                12.227496                                NaN  \n",
       "1617                13.050464                                NaN  \n",
       "1618                12.297166                                NaN  \n",
       "1619                16.127500                                NaN  \n",
       "1620                21.199708                           8.031037  \n",
       "1621                21.809096                          11.387633  \n",
       "1622                20.899436                           7.142093  "
      ]
     },
     "execution_count": 26,
     "metadata": {},
     "output_type": "execute_result"
    }
   ],
   "source": [
    "df_train.loc[1611:1622, [col for col in df_train.columns if 'sol' in col]]"
   ]
  },
  {
   "cell_type": "markdown",
   "id": "755f9688",
   "metadata": {},
   "source": [
    "Очевидных взаимосвязей с пропусками не замечено, поэтому просто заполним их методом `ffill` (на место каждого пропуска встанет предшествующее непропущенное значение). В нашем случае это допустимо, так как все наблюдения расположены строго в хронологичном порядке.\n",
    "\n",
    "Заполним пропуски таким методом и в тестовом датафрейме тоже."
   ]
  },
  {
   "cell_type": "code",
   "execution_count": 27,
   "id": "5ced5e3b",
   "metadata": {},
   "outputs": [],
   "source": [
    "df_train.fillna(method='ffill', inplace=True)"
   ]
  },
  {
   "cell_type": "code",
   "execution_count": 28,
   "id": "cc861967",
   "metadata": {},
   "outputs": [],
   "source": [
    "df_test.fillna(method='ffill', inplace=True)"
   ]
  },
  {
   "cell_type": "markdown",
   "id": "d0013c8e",
   "metadata": {},
   "source": [
    "Проверим заполнение пропусков"
   ]
  },
  {
   "cell_type": "code",
   "execution_count": 29,
   "id": "8d548541",
   "metadata": {},
   "outputs": [
    {
     "name": "stdout",
     "output_type": "stream",
     "text": [
      "Суммарное количество пропусков в обучающей выборке: 0\n",
      "Суммарное количество пропусков в тестовой выборке: 0\n"
     ]
    }
   ],
   "source": [
    "print(f'Суммарное количество пропусков в обучающей выборке: {df_train.isna().sum().sum()}')\n",
    "print(f'Суммарное количество пропусков в тестовой выборке: {df_test.isna().sum().sum()}')"
   ]
  },
  {
   "cell_type": "markdown",
   "id": "26719922",
   "metadata": {},
   "source": [
    "## Анализ данных"
   ]
  },
  {
   "cell_type": "markdown",
   "id": "8109121b",
   "metadata": {},
   "source": [
    "### Динамика концентрации металлов на разных этапах очистки"
   ]
  },
  {
   "cell_type": "code",
   "execution_count": 30,
   "id": "3c050072",
   "metadata": {},
   "outputs": [],
   "source": [
    "def metal_concentration(data: pd.DataFrame, metal: str) -> pd.DataFrame:\n",
    "        \n",
    "    metal_cols = [col for col in df_train.columns \n",
    "                  if str('concentrate_' + metal) in col or str('feed_' + metal) in col]\n",
    "    \n",
    "    df_to_visualize = data[metal_cols]\n",
    "    \n",
    "    new_names = {}\n",
    "    for i in df_to_visualize.columns:\n",
    "        if 'rougher.input' in i:\n",
    "            new_names[i] = '0_Исходное сырье'\n",
    "        elif 'rougher.output' in i:\n",
    "            new_names[i] = '1_Флотация'\n",
    "        elif  'primary_cleaner.output' in i:\n",
    "            new_names[i] = '2_Первичная очистка'\n",
    "        elif 'final.output' in i:\n",
    "            new_names[i] = '3_Вторичная очистка'\n",
    "        else:\n",
    "            new_names[i] = 'Unknown'\n",
    "    df_to_visualize.rename(columns=new_names, inplace=True)\n",
    "    df_to_visualize = df_to_visualize.reindex(sorted(df_to_visualize.columns), axis=1)\n",
    "    \n",
    "    return df_to_visualize"
   ]
  },
  {
   "cell_type": "code",
   "execution_count": 31,
   "id": "a1879b56",
   "metadata": {},
   "outputs": [
    {
     "data": {
      "image/png": "[encoded data removed]",
      "text/plain": [
       "<Figure size 360x360 with 1 Axes>"
      ]
     },
     "metadata": {
      "needs_background": "light"
     },
     "output_type": "display_data"
    },
    {
     "data": {
      "image/png": "[encoded data removed]",
      "text/plain": [
       "<Figure size 360x360 with 1 Axes>"
      ]
     },
     "metadata": {
      "needs_background": "light"
     },
     "output_type": "display_data"
    },
    {
     "data": {
      "image/png": "[encoded data removed]",
      "text/plain": [
       "<Figure size 360x360 with 1 Axes>"
      ]
     },
     "metadata": {
      "needs_background": "light"
     },
     "output_type": "display_data"
    }
   ],
   "source": [
    "metals = ['au', 'ag', 'pb']\n",
    "for i in metals:\n",
    "    sns.catplot(data=metal_concentration(df_train, i), \n",
    "                kind='bar', ci = 95, estimator=np.mean);\n",
    "\n",
    "    plt.xlabel(\"Этапы очистки\", fontsize=16)\n",
    "    plt.xticks(rotation=90)\n",
    "    plt.title(f'Изменение концентрации {i}', fontsize=18);"
   ]
  },
  {
   "cell_type": "markdown",
   "id": "45c29d07",
   "metadata": {},
   "source": [
    "#### Вывод\n",
    "\n",
    "* Концентрация золота линейно увеличивается, возрастая примерно в 5 раз к стадии вторичной очистки по сравнению с концентрацией в исходном сырье.\n",
    "* Концентрация серебра увеличивается после этапа флотации примерно на 50% и затем снижается к этапу вторичной очистки.\n",
    "* Концентрация свинца после первого же этапа (флотации) увеличивается в 2 раза, затем постепенно нарастает до завершения всех этапов очистки.\n",
    "* Однако, в абсолютных значениях концентрации, после финальной очистки, золота мы получаем в 9 раз больше, чем серебра и в 4.5 раза больше, чем свинца. "
   ]
  },
  {
   "cell_type": "markdown",
   "id": "33cc0d03",
   "metadata": {},
   "source": [
    "### Распределения размеров гранул сырья на обучающей и тестовой выборках\n",
    "\n",
    "Сравним распределения размеров частиц сырья на двух наших выборках: обучающей и тестовой. Если они сильно отличаются, необходимо будет это учесть при обучении модели регрессии."
   ]
  },
  {
   "cell_type": "code",
   "execution_count": 32,
   "id": "1f5ea688",
   "metadata": {},
   "outputs": [
    {
     "data": {
      "image/png": "[encoded data removed]",
      "text/plain": [
       "<Figure size 1008x576 with 1 Axes>"
      ]
     },
     "metadata": {
      "needs_background": "light"
     },
     "output_type": "display_data"
    }
   ],
   "source": [
    "plt.figure(figsize=(14,8))\n",
    "sns.histplot(df_train['rougher.input.feed_size'], color='b', alpha=0.5, kde=True, label='Обучающая выборка')\n",
    "sns.histplot(df_test['rougher.input.feed_size'], color='r', alpha=0.5, kde=True, label='Тестовая выборка')\n",
    "plt.xlim(0,200)\n",
    "plt.title('Распределение размеров гранул сырья', fontsize=22)\n",
    "plt.xlabel('Размер гранул в исходном сырье (абс.значения.)', fontsize=18)\n",
    "plt.legend(prop={'size': 20});"
   ]
  },
  {
   "cell_type": "markdown",
   "id": "105d3b9f",
   "metadata": {},
   "source": [
    "#### Вывод\n",
    "\n",
    "* Распределения размера гранул сырья отличаются незначительно - основная масса размеров частиц в обеих выборках находится в одном диапазоне, примерно от 35 до 95.\n",
    "* В обеих выборках есть ярко выраженный пик в области значений 40-45\n",
    "* В обеих выборках есть короткий хвост распределения слева (к нулю) и длинный справа (к 200 и далее до 500)"
   ]
  },
  {
   "cell_type": "markdown",
   "id": "8133f40f",
   "metadata": {},
   "source": [
    "### Суммарная концентрация всех веществ на разных стадиях\n",
    "Исследуем суммарную концентрацию всех веществ на разных стадиях: \n",
    "* в сырье, то есть до флотации \n",
    "* в черновом концентрате, то есть после флотации \n",
    "* в финальном концентрате, то есть после двух ступеней очистки"
   ]
  },
  {
   "cell_type": "code",
   "execution_count": 33,
   "id": "11965bd7",
   "metadata": {},
   "outputs": [],
   "source": [
    "summary_conc_subs = pd.DataFrame()\n",
    "\n",
    "summary_conc_subs['rougher_feed'] = df_train[['rougher.input.feed_ag', 'rougher.input.feed_pb',\n",
    "       'rougher.input.feed_sol', 'rougher.input.feed_au']].sum(axis=1)\n",
    "summary_conc_subs['draft_concentrate'] = df_train[[col for col in df_train.columns \n",
    "                                                   if 'rougher.output.con' in col]].sum(axis=1)\n",
    "summary_conc_subs['draft_tails'] = df_train[[col for col in df_train.columns \n",
    "                                             if 'rougher.output.tail' in col]].sum(axis=1)\n",
    "summary_conc_subs['final_concentrate'] = df_train[[col for col in df_train.columns \n",
    "                                                   if 'final.output.con' in col]].sum(axis=1)\n",
    "summary_conc_subs['final_tails'] = df_train[[col for col in df_train.columns \n",
    "                                                   if 'final.output.tail' in col]].sum(axis=1)\n",
    "summary_conc_subs['draft_full'] = summary_conc_subs[['draft_concentrate', 'draft_tails']].sum(axis=1)\n",
    "summary_conc_subs['final_full'] = summary_conc_subs[['final_concentrate', 'final_tails']].sum(axis=1)"
   ]
  },
  {
   "cell_type": "code",
   "execution_count": 34,
   "id": "8ac96c97",
   "metadata": {},
   "outputs": [],
   "source": [
    "summary_conc_subs.drop(['draft_tails', 'final_tails'], axis=1, inplace=True)"
   ]
  },
  {
   "cell_type": "code",
   "execution_count": 35,
   "id": "48a61a22",
   "metadata": {},
   "outputs": [
    {
     "data": {
      "text/html": [
       "<div>\n",
       "<style scoped>\n",
       "    .dataframe tbody tr th:only-of-type {\n",
       "        vertical-align: middle;\n",
       "    }\n",
       "\n",
       "    .dataframe tbody tr th {\n",
       "        vertical-align: top;\n",
       "    }\n",
       "\n",
       "    .dataframe thead th {\n",
       "        text-align: right;\n",
       "    }\n",
       "</style>\n",
       "<table border=\"1\" class=\"dataframe\">\n",
       "  <thead>\n",
       "    <tr style=\"text-align: right;\">\n",
       "      <th></th>\n",
       "      <th>rougher_feed</th>\n",
       "      <th>draft_concentrate</th>\n",
       "      <th>final_concentrate</th>\n",
       "      <th>draft_full</th>\n",
       "      <th>final_full</th>\n",
       "    </tr>\n",
       "  </thead>\n",
       "  <tbody>\n",
       "    <tr>\n",
       "      <th>count</th>\n",
       "      <td>14149.000000</td>\n",
       "      <td>14149.000000</td>\n",
       "      <td>14149.000000</td>\n",
       "      <td>14149.000000</td>\n",
       "      <td>14149.000000</td>\n",
       "    </tr>\n",
       "    <tr>\n",
       "      <th>mean</th>\n",
       "      <td>56.479560</td>\n",
       "      <td>68.521388</td>\n",
       "      <td>68.922871</td>\n",
       "      <td>94.315938</td>\n",
       "      <td>94.643684</td>\n",
       "    </tr>\n",
       "    <tr>\n",
       "      <th>std</th>\n",
       "      <td>6.343885</td>\n",
       "      <td>7.977476</td>\n",
       "      <td>3.830218</td>\n",
       "      <td>8.034226</td>\n",
       "      <td>5.990145</td>\n",
       "    </tr>\n",
       "    <tr>\n",
       "      <th>min</th>\n",
       "      <td>31.424559</td>\n",
       "      <td>25.605903</td>\n",
       "      <td>42.145304</td>\n",
       "      <td>47.553429</td>\n",
       "      <td>52.311216</td>\n",
       "    </tr>\n",
       "    <tr>\n",
       "      <th>25%</th>\n",
       "      <td>52.623525</td>\n",
       "      <td>65.056637</td>\n",
       "      <td>67.562020</td>\n",
       "      <td>90.345137</td>\n",
       "      <td>91.327805</td>\n",
       "    </tr>\n",
       "    <tr>\n",
       "      <th>50%</th>\n",
       "      <td>56.644242</td>\n",
       "      <td>69.234680</td>\n",
       "      <td>69.140939</td>\n",
       "      <td>95.097258</td>\n",
       "      <td>94.701709</td>\n",
       "    </tr>\n",
       "    <tr>\n",
       "      <th>75%</th>\n",
       "      <td>60.770018</td>\n",
       "      <td>73.481664</td>\n",
       "      <td>70.965139</td>\n",
       "      <td>99.673003</td>\n",
       "      <td>98.383032</td>\n",
       "    </tr>\n",
       "    <tr>\n",
       "      <th>max</th>\n",
       "      <td>74.458253</td>\n",
       "      <td>87.918479</td>\n",
       "      <td>79.622855</td>\n",
       "      <td>116.134975</td>\n",
       "      <td>110.668299</td>\n",
       "    </tr>\n",
       "  </tbody>\n",
       "</table>\n",
       "</div>"
      ],
      "text/plain": [
       "       rougher_feed  draft_concentrate  final_concentrate    draft_full  \\\n",
       "count  14149.000000       14149.000000       14149.000000  14149.000000   \n",
       "mean      56.479560          68.521388          68.922871     94.315938   \n",
       "std        6.343885           7.977476           3.830218      8.034226   \n",
       "min       31.424559          25.605903          42.145304     47.553429   \n",
       "25%       52.623525          65.056637          67.562020     90.345137   \n",
       "50%       56.644242          69.234680          69.140939     95.097258   \n",
       "75%       60.770018          73.481664          70.965139     99.673003   \n",
       "max       74.458253          87.918479          79.622855    116.134975   \n",
       "\n",
       "         final_full  \n",
       "count  14149.000000  \n",
       "mean      94.643684  \n",
       "std        5.990145  \n",
       "min       52.311216  \n",
       "25%       91.327805  \n",
       "50%       94.701709  \n",
       "75%       98.383032  \n",
       "max      110.668299  "
      ]
     },
     "execution_count": 35,
     "metadata": {},
     "output_type": "execute_result"
    }
   ],
   "source": [
    "summary_conc_subs.describe()"
   ]
  },
  {
   "cell_type": "code",
   "execution_count": 36,
   "id": "a2d12725",
   "metadata": {},
   "outputs": [
    {
     "data": {
      "image/png": "[encoded data removed]",
      "text/plain": [
       "<Figure size 1152x576 with 1 Axes>"
      ]
     },
     "metadata": {
      "needs_background": "light"
     },
     "output_type": "display_data"
    }
   ],
   "source": [
    "color = iter(plt.cm.rainbow(np.linspace(0, 1, len(summary_conc_subs.columns)\n",
    "                                       )\n",
    "                           )\n",
    "            )\n",
    "\n",
    "plt.figure(figsize=(16,8))\n",
    "for column, color in zip(summary_conc_subs.columns, color):\n",
    "    sns.histplot(summary_conc_subs[column], color=color, alpha=0.5, label=column)\n",
    "\n",
    "plt.title('Распределение суммарной концентрации всех продуктов на разных стадиях', fontsize=22)\n",
    "plt.xlabel('Концентрация продукта (абс.значения.)', fontsize=18)\n",
    "plt.ylabel('Количество наблюдений с такой концентрацией', fontsize=16)\n",
    "plt.legend(prop={'size': 16});"
   ]
  },
  {
   "cell_type": "markdown",
   "id": "fd3ca89e",
   "metadata": {},
   "source": [
    "#### Вывод\n",
    "Мы проанализировали распределение следующих величин: \n",
    "1. Суммарная концентрация веществ в исходном сырье\n",
    "2. Суммарная концентрация веществ в черновом концентрате (после флотации)\n",
    "3. Суммарная концентрация веществ в финальом концентрате (после двух этапов очистки)\n",
    "\n",
    "И заметили, что:\n",
    "* Каждая величина имеет распределение близкое к нормальному;\n",
    "* На этапе исходного сырья концентрация веществ распределена вокруг 55;\n",
    "* Тогда как в черновом и финальном концентрате распределение уже вокруг 67-68, при том в финальном концентрате распределение уже заметно уже - смесь становится чище, однороднее;\n",
    "* Общий объем смеси, который мы не знаем, но о котором можем косвенно судить по увеличению концентрации веществ:\n",
    "    * Объем уменьшается почти в 2 раза после стадии флотации и дальше стабилен, сырье становится более концентрированным;\n",
    "    * Далее концентрация основных измеряемых веществ уже не меняется;\n",
    "    * Сумма концентраций выделяемых веществ + хвостов примерно одинаковая как для чернового концентрата, так и для финального концентрата."
   ]
  },
  {
   "cell_type": "markdown",
   "id": "ab0ed7e2",
   "metadata": {},
   "source": [
    "## Обучение модели"
   ]
  },
  {
   "cell_type": "markdown",
   "id": "e591cbc0",
   "metadata": {},
   "source": [
    "### Подготовка метрик"
   ]
  },
  {
   "attachments": {
    "image-2.png": {
     "image/png": "[encoded data removed]"
    },
    "image.png": {
     "image/png": "[encoded data removed]"
    }
   },
   "cell_type": "markdown",
   "id": "fc9245bb",
   "metadata": {},
   "source": [
    "![image.png](attachment:image.png)\n",
    "![image-2.png](attachment:image-2.png)"
   ]
  },
  {
   "cell_type": "markdown",
   "id": "47dfbf70",
   "metadata": {},
   "source": [
    "Наша ключевая метрика в этой задаче регрессии - **sMAPE** (симметричное среднее абсолютное процентное отклонение). В отличие от МАЕ она выражается не в абсолютных единицах, а в относительных (%), а также одинаково учитывает масштаб как целевого признака, так и предсказания.\n",
    "\n",
    "При том **итоговая метрика sMAPE** складывается из:\n",
    "* 1/4 метрики sMAPE для предсказаний этапа исходного сырья\n",
    "* 3/4 метрики sMAPE для предсказаний финального этапа очистки"
   ]
  },
  {
   "cell_type": "code",
   "execution_count": 37,
   "id": "1ec6f747",
   "metadata": {},
   "outputs": [],
   "source": [
    "def smape(target, predictions) -> float:\n",
    "    smape = sum(abs(target - predictions) / ((abs(target) + abs(predictions)) / 2)) / len(target)\n",
    "    return smape*100"
   ]
  },
  {
   "cell_type": "markdown",
   "id": "f9d9ad37",
   "metadata": {},
   "source": [
    "И сразу подготовим объект класса `scorer` для работы с моделями sklearn."
   ]
  },
  {
   "cell_type": "code",
   "execution_count": 38,
   "id": "c4190434",
   "metadata": {},
   "outputs": [],
   "source": [
    "smape_score = make_scorer(smape, greater_is_better=False)"
   ]
  },
  {
   "cell_type": "markdown",
   "id": "34f2b2b1",
   "metadata": {},
   "source": [
    "### Подготовка признаков для обучения и тестирования"
   ]
  },
  {
   "cell_type": "markdown",
   "id": "d50d67a0",
   "metadata": {},
   "source": [
    "Следующая функция принимает на вход датафрейм и разделяет на признаки для обучения (`features`) и целевые признаки (`target`)."
   ]
  },
  {
   "cell_type": "code",
   "execution_count": 39,
   "id": "7ad2ea3e",
   "metadata": {},
   "outputs": [],
   "source": [
    "def prepare_sample(data):\n",
    "    features = data[list(set(data.columns) - missing_columns_in_test)]\n",
    "    features = features.reindex(sorted(features.columns), axis=1)\n",
    "    print('Размер датафрейма с features:', features.shape)\n",
    "    target = data[['rougher.output.recovery', 'final.output.recovery']]\n",
    "    target = target.reindex(sorted(target.columns), axis=1)\n",
    "    print('Размер датафрейма с target:', target.shape)\n",
    "    return features, target"
   ]
  },
  {
   "cell_type": "markdown",
   "id": "997d33e9",
   "metadata": {},
   "source": [
    "**Обучающая выборка**"
   ]
  },
  {
   "cell_type": "code",
   "execution_count": 40,
   "id": "bbb250bb",
   "metadata": {
    "scrolled": true
   },
   "outputs": [
    {
     "name": "stdout",
     "output_type": "stream",
     "text": [
      "Размер датафрейма с features: (14149, 53)\n",
      "Размер датафрейма с target: (14149, 2)\n"
     ]
    }
   ],
   "source": [
    "X_train, y_train = prepare_sample(df_train)"
   ]
  },
  {
   "cell_type": "markdown",
   "id": "839b9582",
   "metadata": {},
   "source": [
    "**Тестовая выборка**"
   ]
  },
  {
   "cell_type": "code",
   "execution_count": 41,
   "id": "164aeb3d",
   "metadata": {},
   "outputs": [
    {
     "name": "stdout",
     "output_type": "stream",
     "text": [
      "Размер датафрейма с features: (5290, 53)\n",
      "Размер датафрейма с target: (5290, 2)\n"
     ]
    }
   ],
   "source": [
    "X_test, y_test = prepare_sample(df_test)"
   ]
  },
  {
   "cell_type": "markdown",
   "id": "2e29f6e2",
   "metadata": {},
   "source": [
    "### Проверка признаков на мультиколлинеарность"
   ]
  },
  {
   "cell_type": "markdown",
   "id": "0895e854",
   "metadata": {},
   "source": [
    "1. Создадим матрицу корреляции для всех признаков между собой\n",
    "2. Отбросим признаки, имеющие коэффициент корреляции меньше 0.7 (-0.7), чтобы рассмотреть только сильные взаимосвязи\n",
    "3. Визуализировать матрицу будем через heatmap, чтобы разгрузить график, исключим повторяющиеся значения над диагональю"
   ]
  },
  {
   "cell_type": "code",
   "execution_count": 42,
   "id": "b1947a44",
   "metadata": {},
   "outputs": [
    {
     "data": {
      "text/plain": [
       "(52, 52)"
      ]
     },
     "execution_count": 42,
     "metadata": {},
     "output_type": "execute_result"
    }
   ],
   "source": [
    "corr_matrix = X_train.corr()\n",
    "corr_matrix.shape"
   ]
  },
  {
   "cell_type": "code",
   "execution_count": 43,
   "id": "6551c5bb",
   "metadata": {},
   "outputs": [
    {
     "data": {
      "text/plain": [
       "(37, 37)"
      ]
     },
     "execution_count": 43,
     "metadata": {},
     "output_type": "execute_result"
    }
   ],
   "source": [
    "corr_matrix_filtered =corr_matrix[\n",
    "    ((corr_matrix[corr_matrix.columns] > 0.7)&\n",
    "    (corr_matrix[corr_matrix.columns] < 1.0))|\n",
    "    ((corr_matrix[corr_matrix.columns] > -1.0)&\n",
    "    (corr_matrix[corr_matrix.columns] < -0.7))\n",
    "    ].dropna(how='all').dropna(how='all', axis=1)\n",
    "corr_matrix_filtered.columns = corr_matrix_filtered.columns.sort_values()\n",
    "\n",
    "corr_matrix_filtered.shape"
   ]
  },
  {
   "cell_type": "code",
   "execution_count": 44,
   "id": "ad4bb9b0",
   "metadata": {},
   "outputs": [],
   "source": [
    "mask = np.zeros_like(corr_matrix_filtered)\n",
    "mask[np.triu_indices_from(mask)] = True"
   ]
  },
  {
   "cell_type": "code",
   "execution_count": 45,
   "id": "608afc27",
   "metadata": {
    "scrolled": false
   },
   "outputs": [
    {
     "data": {
      "image/png": "[encoded data removed]",
      "text/plain": [
       "<Figure size 1200x800 with 2 Axes>"
      ]
     },
     "metadata": {
      "needs_background": "light"
     },
     "output_type": "display_data"
    }
   ],
   "source": [
    "plt.figure(figsize=(12,8), dpi=100)\n",
    "sns.heatmap(corr_matrix_filtered, mask=mask)\n",
    "plt.grid(True)"
   ]
  },
  {
   "cell_type": "markdown",
   "id": "6a6c6a6d",
   "metadata": {},
   "source": [
    "#### Вывод\n",
    "\n",
    "Рассмотрим выявленные взаимосвязи по порядку протекания технологического процесса, то есть сперва `rougher`, потом `primary_cleaner` и `secondary_cleaner`:\n",
    "* Концентрация золота в исходном сырье сильно коррелирует с концентрацией серебра, вероятно это происходит потому, что богатые золотом руды, богаты и серебром.\n",
    "* `rougher.input.floatbank11_sulfate` отражает концентрацию сульфата, взаимосвязь 10-й флотационной установки с 11-й неудивительна, скорее всего смесь переходит по установкам последовательно.\n",
    "* `rougher.input.floatbank11_xanthate` скоррелирован с таким же параметром у 10-й установки, причина как и в предыдущем пункте\n",
    "* Признак `state.floatbank` характеризует текущее состояние этапа (флотации, первичной очистки или вторичной очистки) в конкретной флотационной установке, а именно:\n",
    "    * Какой уровень воды и объём воздуха находится сейчас во флотационной установке\n",
    "    * Некий подпараметр в диапазоне **a-b-c-d-e-f** для этапа флотации, **a-b-c-d** для этапа первичной очистки и **a-b** для этапа вторичной очистки. ***Предположим, это порядковая маркировка измерения концентрации.*** То есть внутри установки в процессе флотации/очистки замеряли концентрацию воды/воздуха несколько раз и записывали под разными литерами.\n",
    "    * Чем ближе эти маркировки одной флотационной установки друг к другу, тем сильнее корреляция между уровнями воды или воздуха. То есть, связь сильнее между **a и b**, чем между **a и c**. \n",
    "    \n",
    "    \n",
    "Таким образом, для борьбы с мульиколлинеарностью на текущем этапе предлагается исключить следующие признаки:\n",
    "* `rougher.input.floatbank11_sulfate`, `rougher.input.floatbank11_xanthate` - так как они отражают концентрацию тех же самых веществ, что были добавлены еще в 10-й флотационной установке.\n",
    "* все признаки, имеющие строение `state.floatbankX_Y_level|air`, где X - любое число, Y - литера, отличная от **a**."
   ]
  },
  {
   "cell_type": "markdown",
   "id": "dc732cec",
   "metadata": {},
   "source": [
    "Для этого создаём список с названиями столбцов, которые будем удалять.\n",
    "На этап этапе удалим также столбец с датой, поскольку более он нам не понадобится."
   ]
  },
  {
   "cell_type": "code",
   "execution_count": 46,
   "id": "44b604bb",
   "metadata": {},
   "outputs": [],
   "source": [
    "columns_to_drop = [col for col in X_train.columns\n",
    "                   if col.endswith(('b_level', 'c_level', 'd_level', 'e_level', 'f_level',\n",
    "                                  'b_air', 'c_air', 'd_air', 'e_air', 'f_air'))\n",
    "                  ] + ['rougher.input.floatbank11_sulfate', 'rougher.input.floatbank11_xanthate'] + ['date']"
   ]
  },
  {
   "cell_type": "markdown",
   "id": "a8ed926b",
   "metadata": {},
   "source": [
    "И удаляем их из нашего признакового пространства для обучения и для теста."
   ]
  },
  {
   "cell_type": "code",
   "execution_count": 47,
   "id": "9709b952",
   "metadata": {},
   "outputs": [
    {
     "data": {
      "text/plain": [
       "(14149, 26)"
      ]
     },
     "execution_count": 47,
     "metadata": {},
     "output_type": "execute_result"
    }
   ],
   "source": [
    "X_train.drop(columns_to_drop, axis=1, inplace=True)\n",
    "X_train.shape"
   ]
  },
  {
   "cell_type": "code",
   "execution_count": 48,
   "id": "6a22ce21",
   "metadata": {},
   "outputs": [
    {
     "data": {
      "text/plain": [
       "(5290, 26)"
      ]
     },
     "execution_count": 48,
     "metadata": {},
     "output_type": "execute_result"
    }
   ],
   "source": [
    "X_test.drop(columns_to_drop, axis=1, inplace=True)\n",
    "X_test.shape"
   ]
  },
  {
   "cell_type": "markdown",
   "id": "6224ec51",
   "metadata": {},
   "source": [
    "### Масштабирование признаков"
   ]
  },
  {
   "cell_type": "code",
   "execution_count": 49,
   "id": "38a2ef79",
   "metadata": {},
   "outputs": [],
   "source": [
    "scaler = StandardScaler()\n",
    "X_train = scaler.fit_transform(X_train)\n",
    "X_test = scaler.transform(X_test)"
   ]
  },
  {
   "cell_type": "markdown",
   "id": "db605e11",
   "metadata": {},
   "source": [
    "### Подготовка моделей к обучению"
   ]
  },
  {
   "cell_type": "markdown",
   "id": "fd0fffae",
   "metadata": {},
   "source": [
    "Функция для обучения двух регрессоров - линейного и случайного леса.\n",
    "* На вход принимает обучающие и целевые признаки;\n",
    "* Стадию процесса (исходное сырье или финальный концентрат), по которой выбираем предсказываемый признак;\n",
    "* Количество этапов для кросс-валидаци.\n",
    "Возвращает функция датафрейм с лучшим результатом метрики sMAPE для каждой модели и с параметрами случайного леса, подобраными с помощью грубого `RandomizedSearchCV`."
   ]
  },
  {
   "cell_type": "code",
   "execution_count": 50,
   "id": "e9f2e527",
   "metadata": {},
   "outputs": [],
   "source": [
    "def learning_regressor(X_train, y_train, stage, cv=5) -> pd.DataFrame:\n",
    "    if stage == 'rougher':\n",
    "        key_target = 'rougher.output.recovery'\n",
    "        output_word = 'исходное сырье'\n",
    "    elif stage == 'final':\n",
    "        key_target = 'final.output.recovery'\n",
    "        output_word = 'финальный концентрат'\n",
    "    \n",
    "    # линейная регрессия\n",
    "    results_linreg = cross_val_score(LinearRegression(n_jobs=-1), X_train, y_train[key_target],\n",
    "                              cv=cv, scoring=smape_score)\n",
    "    print('Линейная регрессия:')\n",
    "    print(f'sMAPE для эффективности этапа \"{output_word}\" = {results_linreg.mean():.4f}%')\n",
    "    \n",
    "    # случайный лес\n",
    "    params_rf = {'n_estimators': range(20,201,20),\n",
    "                 'max_depth': range(1,27,4)}\n",
    "    grid_rf = RandomizedSearchCV(RandomForestRegressor(random_state=random_state),\n",
    "                                    params_rf, random_state=random_state, cv=cv,\n",
    "                                    n_iter=10, scoring=smape_score, refit=True, n_jobs=-1)\n",
    "    grid_rf.fit(X_train, y_train[key_target])\n",
    "    print('\\nСлучайный лес:')\n",
    "    print(f'sMAPE для эффективности этапа \"{output_word}\" = {grid_rf.best_score_:.4f}%')\n",
    "    print(f'Лучшие параметры: {grid_rf.best_params_}')\n",
    "    \n",
    "    # датафрейм с результатами\n",
    "    results = pd.DataFrame({'model': ['linreg', 'random_forest'],\n",
    "                            str('sMAPE_'+stage): [results_linreg.mean(), grid_rf.best_score_],\n",
    "                            str('params_'+stage): [np.nan, grid_rf.best_params_]})\n",
    "    return results"
   ]
  },
  {
   "cell_type": "markdown",
   "id": "af3f97c5",
   "metadata": {},
   "source": [
    "Функция для расчета итогвой метрики sMAPE."
   ]
  },
  {
   "cell_type": "code",
   "execution_count": 51,
   "id": "e60d4573",
   "metadata": {},
   "outputs": [],
   "source": [
    "def grand_smape(smape_rougher: float, smape_final: float) -> float:\n",
    "    return round(abs(0.25*smape_rougher + 0.75*smape_final), 4)"
   ]
  },
  {
   "cell_type": "markdown",
   "id": "1f3be62e",
   "metadata": {},
   "source": [
    "### Предсказание эффективности этапа флотации  (`rougher.output.recovery`)"
   ]
  },
  {
   "cell_type": "code",
   "execution_count": 52,
   "id": "08542ce6",
   "metadata": {
    "scrolled": true
   },
   "outputs": [
    {
     "name": "stdout",
     "output_type": "stream",
     "text": [
      "Линейная регрессия:\n",
      "sMAPE для эффективности этапа \"исходное сырье\" = -11.0097%\n",
      "\n",
      "Случайный лес:\n",
      "sMAPE для эффективности этапа \"исходное сырье\" = -11.3700%\n",
      "Лучшие параметры: {'n_estimators': 140, 'max_depth': 5}\n",
      "CPU times: total: 17.2 s\n",
      "Wall time: 6min 6s\n"
     ]
    }
   ],
   "source": [
    "%%time\n",
    "results_rougher = learning_regressor(X_train, y_train, 'rougher')"
   ]
  },
  {
   "cell_type": "markdown",
   "id": "2f176c0e",
   "metadata": {},
   "source": [
    "#### Углубленная тренировка для леса"
   ]
  },
  {
   "cell_type": "code",
   "execution_count": 53,
   "id": "e7b0b511",
   "metadata": {},
   "outputs": [
    {
     "name": "stdout",
     "output_type": "stream",
     "text": [
      "CPU times: user 17min 4s, sys: 967 ms, total: 17min 5s\n",
      "Wall time: 17min 6s\n"
     ]
    },
    {
     "data": {
      "text/plain": [
       "(-11.417473695572111, {'max_depth': 4, 'n_estimators': 191})"
      ]
     },
     "execution_count": 53,
     "metadata": {},
     "output_type": "execute_result"
    }
   ],
   "source": [
    "%%time\n",
    "grid_rf_params = {'n_estimators': [170,191,10],\n",
    "                 'max_depth': range(4,9)}\n",
    "grid_rf_rougher = GridSearchCV(RandomForestRegressor(random_state=random_state, n_jobs=-1),\n",
    "                               grid_rf_params, scoring=smape_score, refit=True, cv=5, n_jobs=-1)\n",
    "grid_rf_rougher.fit(X_train, y_train['rougher.output.recovery'])\n",
    "grid_rf_rougher.best_score_, grid_rf_rougher.best_params_"
   ]
  },
  {
   "cell_type": "code",
   "execution_count": 53,
   "id": "08c128d7",
   "metadata": {},
   "outputs": [
    {
     "name": "stdout",
     "output_type": "stream",
     "text": [
      "CPU times: total: 40.4 s\n",
      "Wall time: 1min 48s\n"
     ]
    },
    {
     "data": {
      "text/plain": [
       "(-11.41823748985653, {'max_depth': 4, 'n_estimators': 195})"
      ]
     },
     "execution_count": 53,
     "metadata": {},
     "output_type": "execute_result"
    }
   ],
   "source": [
    "%%time\n",
    "grid_rf_params = {'n_estimators': range(180,201,5),\n",
    "                 'max_depth': [4]}\n",
    "grid_rf_rougher = GridSearchCV(RandomForestRegressor(random_state=random_state, n_jobs=-1),\n",
    "                               grid_rf_params, scoring=smape_score, refit=True, cv=5, n_jobs=-1)\n",
    "grid_rf_rougher.fit(X_train, y_train['rougher.output.recovery'])\n",
    "grid_rf_rougher.best_score_, grid_rf_rougher.best_params_"
   ]
  },
  {
   "cell_type": "markdown",
   "id": "19231ae2",
   "metadata": {},
   "source": [
    "**Вывод**\n",
    "* Метрика качества остается стабильной (11.39%), более перебирать гиперпараметры не будем.\n",
    "* Количество деревьев = 180; глубина дерева = 5\n",
    "* Однако, лучший показатель метрики все равно у линейной регрессии = 10.99%"
   ]
  },
  {
   "cell_type": "markdown",
   "id": "dce3c3a0",
   "metadata": {},
   "source": [
    "### Предсказание эффективности всех этапов  (`final.output.recovery`)"
   ]
  },
  {
   "cell_type": "code",
   "execution_count": 54,
   "id": "8e17f9e6",
   "metadata": {
    "scrolled": true
   },
   "outputs": [
    {
     "name": "stdout",
     "output_type": "stream",
     "text": [
      "Линейная регрессия:\n",
      "sMAPE для эффективности этапа \"финальный концентрат\" = -11.4307%\n",
      "\n",
      "Случайный лес:\n",
      "sMAPE для эффективности этапа \"финальный концентрат\" = -9.9721%\n",
      "Лучшие параметры: {'n_estimators': 180, 'max_depth': 5}\n",
      "CPU times: total: 22.7 s\n",
      "Wall time: 23min 3s\n"
     ]
    }
   ],
   "source": [
    "%%time\n",
    "results_final = learning_regressor(X_train, y_train, 'final')"
   ]
  },
  {
   "cell_type": "markdown",
   "id": "327f64bd",
   "metadata": {},
   "source": [
    "#### Углубленная тренировка для леса"
   ]
  },
  {
   "cell_type": "code",
   "execution_count": 55,
   "id": "bb19866d",
   "metadata": {},
   "outputs": [
    {
     "name": "stdout",
     "output_type": "stream",
     "text": [
      "CPU times: total: 44.8 s\n",
      "Wall time: 49.1 s\n"
     ]
    },
    {
     "data": {
      "text/plain": [
       "GridSearchCV(cv=5, estimator=RandomForestRegressor(n_jobs=-1, random_state=17),\n",
       "             n_jobs=-1,\n",
       "             param_grid={'max_depth': [5], 'n_estimators': [170, 191, 10]},\n",
       "             scoring=make_scorer(smape, greater_is_better=False))"
      ]
     },
     "execution_count": 55,
     "metadata": {},
     "output_type": "execute_result"
    }
   ],
   "source": [
    "%%time\n",
    "grid_rf_params = {'n_estimators': [170,191,10],\n",
    "                  'max_depth': [5]}\n",
    "grid_rf_rougher = GridSearchCV(RandomForestRegressor(random_state=random_state, n_jobs=-1),\n",
    "                               grid_rf_params, scoring=smape_score, refit=True, cv=5, n_jobs=-1)\n",
    "\n",
    "\n",
    "grid_rf_rougher.fit(X_train, y_train['final.output.recovery'])"
   ]
  },
  {
   "cell_type": "code",
   "execution_count": 56,
   "id": "15f7b898",
   "metadata": {},
   "outputs": [
    {
     "data": {
      "text/plain": [
       "(-9.97567987095638, {'max_depth': 5, 'n_estimators': 191})"
      ]
     },
     "execution_count": 56,
     "metadata": {},
     "output_type": "execute_result"
    }
   ],
   "source": [
    "grid_rf_rougher.best_score_, grid_rf_rougher.best_params_"
   ]
  },
  {
   "cell_type": "markdown",
   "id": "150680df",
   "metadata": {},
   "source": [
    "Качество модели случайного леса не меняется, остановимся на параметрах, предложенных `RandomizedSearchCV`: 180 деревьев с глубиной не более 5."
   ]
  },
  {
   "cell_type": "code",
   "execution_count": 57,
   "id": "80551662",
   "metadata": {},
   "outputs": [],
   "source": [
    "results_rougher = results_rougher.set_index('model')\n",
    "results_final = results_final.set_index('model')"
   ]
  },
  {
   "cell_type": "code",
   "execution_count": 58,
   "id": "751fb1be",
   "metadata": {},
   "outputs": [
    {
     "data": {
      "text/html": [
       "<div>\n",
       "<style scoped>\n",
       "    .dataframe tbody tr th:only-of-type {\n",
       "        vertical-align: middle;\n",
       "    }\n",
       "\n",
       "    .dataframe tbody tr th {\n",
       "        vertical-align: top;\n",
       "    }\n",
       "\n",
       "    .dataframe thead th {\n",
       "        text-align: right;\n",
       "    }\n",
       "</style>\n",
       "<table border=\"1\" class=\"dataframe\">\n",
       "  <thead>\n",
       "    <tr style=\"text-align: right;\">\n",
       "      <th></th>\n",
       "      <th>sMAPE_rougher</th>\n",
       "      <th>params_rougher</th>\n",
       "      <th>sMAPE_final</th>\n",
       "      <th>params_final</th>\n",
       "    </tr>\n",
       "    <tr>\n",
       "      <th>model</th>\n",
       "      <th></th>\n",
       "      <th></th>\n",
       "      <th></th>\n",
       "      <th></th>\n",
       "    </tr>\n",
       "  </thead>\n",
       "  <tbody>\n",
       "    <tr>\n",
       "      <th>linreg</th>\n",
       "      <td>-11.009691</td>\n",
       "      <td>NaN</td>\n",
       "      <td>-11.430735</td>\n",
       "      <td>NaN</td>\n",
       "    </tr>\n",
       "    <tr>\n",
       "      <th>random_forest</th>\n",
       "      <td>-11.370043</td>\n",
       "      <td>{'n_estimators': 140, 'max_depth': 5}</td>\n",
       "      <td>-9.972088</td>\n",
       "      <td>{'n_estimators': 180, 'max_depth': 5}</td>\n",
       "    </tr>\n",
       "  </tbody>\n",
       "</table>\n",
       "</div>"
      ],
      "text/plain": [
       "               sMAPE_rougher                         params_rougher  \\\n",
       "model                                                                 \n",
       "linreg            -11.009691                                    NaN   \n",
       "random_forest     -11.370043  {'n_estimators': 140, 'max_depth': 5}   \n",
       "\n",
       "               sMAPE_final                           params_final  \n",
       "model                                                              \n",
       "linreg          -11.430735                                    NaN  \n",
       "random_forest    -9.972088  {'n_estimators': 180, 'max_depth': 5}  "
      ]
     },
     "execution_count": 58,
     "metadata": {},
     "output_type": "execute_result"
    }
   ],
   "source": [
    "results = results_rougher.join(results_final)\n",
    "results"
   ]
  },
  {
   "cell_type": "markdown",
   "id": "d4235af0",
   "metadata": {},
   "source": [
    "#### Вывод\n",
    "* В прогнозировании эффективности флотации (этап с исходным сырьем) лучше всего себя показала модель линейной регрессии, метрика sMAPE=10.99%\n",
    "* В прогнозировании эффективности очистки (этап финального концентрата) лучшая метрика sMAPE у случайного леса = 9.98%\n",
    "* На основании этих результатов рассчитаем итоговую метрику."
   ]
  },
  {
   "cell_type": "markdown",
   "id": "58cb8d3c",
   "metadata": {},
   "source": [
    "### Расчет итоговой метрики для лучших моделей на обучающей выборке\n",
    "Расчет итоговой метрики заключается в том, что мы берем 1/4 метрики sMAPE для исходного сырья и 3/4 метрики для финального концентрата."
   ]
  },
  {
   "cell_type": "code",
   "execution_count": 59,
   "id": "e5756aeb",
   "metadata": {},
   "outputs": [
    {
     "name": "stdout",
     "output_type": "stream",
     "text": [
      "Итоговая метрика sMAPE для обучающей выборки: 10.23%\n"
     ]
    }
   ],
   "source": [
    "grand_smape_train = grand_smape(results.loc['linreg', 'sMAPE_rougher'], results.loc['random_forest', 'sMAPE_final'])\n",
    "print(f'Итоговая метрика sMAPE для обучающей выборки: {grand_smape_train:.2f}%')"
   ]
  },
  {
   "cell_type": "markdown",
   "id": "83552ea5",
   "metadata": {},
   "source": [
    "**Вывод**\n",
    "\n",
    "Итоговая метрика симметричного среднего абсолютного процентного отклонения = 10.24%, то есть в предсказании эффективности флотации и очистки модель ошибается в среднем на 10%. Много ли это для золотодобывающей промышленности?"
   ]
  },
  {
   "cell_type": "markdown",
   "id": "4e11dc6d",
   "metadata": {},
   "source": [
    "### Расчет итоговой метрики для лучших моделей на тестовой выборке"
   ]
  },
  {
   "cell_type": "markdown",
   "id": "503c00ec",
   "metadata": {},
   "source": [
    "Метрика sMAPE для прогнозов этапа исходного сырья."
   ]
  },
  {
   "cell_type": "code",
   "execution_count": 60,
   "id": "0c4a1cb5",
   "metadata": {},
   "outputs": [
    {
     "name": "stdout",
     "output_type": "stream",
     "text": [
      "Значение метрики sMAPE на тестовых данных для этапа исходного сырья: 9.40%\n"
     ]
    }
   ],
   "source": [
    "linreg = LinearRegression()\n",
    "linreg.fit(X_train, y_train['rougher.output.recovery'])\n",
    "rougher_test_predictions = linreg.predict(X_test)\n",
    "\n",
    "smape_rougher_test = smape(y_test['rougher.output.recovery'], rougher_test_predictions)\n",
    "print(f'Значение метрики sMAPE на тестовых данных для этапа исходного сырья: {smape_rougher_test:.2f}%')"
   ]
  },
  {
   "cell_type": "markdown",
   "id": "ebf3a2cf",
   "metadata": {},
   "source": [
    "Метрика sMAPE для прогнозов этапа финального концентрата."
   ]
  },
  {
   "cell_type": "code",
   "execution_count": 67,
   "id": "45ffef76",
   "metadata": {},
   "outputs": [
    {
     "name": "stdout",
     "output_type": "stream",
     "text": [
      "Значение метрики sMAPE на тестовых данных для этапа финального концентрата: 9.65%\n"
     ]
    }
   ],
   "source": [
    "rf = RandomForestRegressor(random_state=random_state, n_estimators=180, max_depth=5, n_jobs=-1)\n",
    "rf.fit(X_train, y_train['final.output.recovery'])\n",
    "final_test_predictions = rf.predict(X_test)\n",
    "smape_final_test = smape(y_test['final.output.recovery'], final_test_predictions)\n",
    "print(f'Значение метрики sMAPE на тестовых данных для этапа финального концентрата: {smape_final_test:.2f}%')"
   ]
  },
  {
   "cell_type": "code",
   "execution_count": 62,
   "id": "3becdf8d",
   "metadata": {},
   "outputs": [
    {
     "name": "stdout",
     "output_type": "stream",
     "text": [
      "Итоговая метрика sMAPE для тестовой выборки: 9.59%\n"
     ]
    }
   ],
   "source": [
    "grand_smape_test = grand_smape(smape_rougher_test, smape_final_test)\n",
    "print(f'Итоговая метрика sMAPE для тестовой выборки: {grand_smape_test:.2f}%')"
   ]
  },
  {
   "cell_type": "markdown",
   "id": "3870a876",
   "metadata": {},
   "source": [
    "### Проверка модели на адекватность"
   ]
  },
  {
   "cell_type": "markdown",
   "id": "f40a5070",
   "metadata": {},
   "source": [
    "Для проверки на адекватность существует специальная модель думми-регрессора (по аналогии с думми-классификатором).\n",
    "Он \"обучается\" таким образом, что потом предсказывает просто среднее значение обучающей выборки значение по любым новым данным."
   ]
  },
  {
   "cell_type": "code",
   "execution_count": 63,
   "id": "a85f0c0f",
   "metadata": {
    "scrolled": true
   },
   "outputs": [
    {
     "name": "stdout",
     "output_type": "stream",
     "text": [
      "Итоговая метрика sMAPE у думми-регрессора для тестовой выборки: 10.29%\n"
     ]
    }
   ],
   "source": [
    "dummy = DummyRegressor(strategy='mean')\n",
    "\n",
    "dummy.fit(X_train, y_train['rougher.output.recovery'])\n",
    "smape_rougher_dummy = smape(y_test['rougher.output.recovery'], dummy.predict(X_test))\n",
    "\n",
    "dummy.fit(X_train, y_train['final.output.recovery'])\n",
    "smape_final_dummy = smape(y_test['final.output.recovery'], dummy.predict(X_test))\n",
    "\n",
    "grand_smape_dummy = grand_smape(smape_rougher_dummy, smape_final_dummy)\n",
    "print(f'Итоговая метрика sMAPE у думми-регрессора для тестовой выборки: {grand_smape_dummy:.2f}%')"
   ]
  },
  {
   "cell_type": "markdown",
   "id": "5bbd1a38",
   "metadata": {},
   "source": [
    "## Общий вывод"
   ]
  },
  {
   "cell_type": "markdown",
   "id": "17519714",
   "metadata": {},
   "source": [
    "Мы построили модели для предсказания эффективности обогащения золотой руды после этапа флотации и после двух этапов очистки. На пути к построению моделей:\n",
    "* **Познакомились** с данными, заполнили пропуски ближайшими по времени значениями;\n",
    "* **Проанализировали** изменение параметров руды на всех этапах обработки;\n",
    "* **Подготовили** признаковое пространство для обучения моделей регрессии:\n",
    "    * Подготовили обучающую и тестовую выборки;\n",
    "    * Избавились от мультиколлинеарности в данных, возникающей в связи с переходом одной и той же смеси руды/воды/воздуха последовательно между флотационными установками;\n",
    "    * Масштабировали признаки для эффективного обучения линейной модели.\n",
    "* С помощью кросс-валидации **обучили** линейный регрессор и случайный лес;\n",
    "* Результат обучения **оценили** с помощью метрики sMAPE (**симметричное среднее абсолютное процентное отклонение**);\n",
    "* Наилучший результат в предсказании эффективности флотации показала модель линейной регрессии, тогда как эффективность двухступенчатой очистки лучше всего предсказал регрессор случайного леса.\n",
    "    * **Итоговая метрика sMAPE на тестовой выборке равна 9.59%**\n",
    "* В сравнении с предсказаниями модели-пустышки (просто подставляет среднее значение) наша модель показала совсем незначительное преимущество, меньше 1%. "
   ]
  }
 ],
 "metadata": {
  "ExecuteTimeLog": [
   {
    "duration": 1865,
    "start_time": "2022-04-26T06:21:23.580Z"
   },
   {
    "duration": 711,
    "start_time": "2022-04-26T06:21:25.446Z"
   },
   {
    "duration": 66,
    "start_time": "2022-04-26T06:21:26.159Z"
   },
   {
    "duration": 3,
    "start_time": "2022-04-26T06:21:26.227Z"
   },
   {
    "duration": 126,
    "start_time": "2022-04-26T06:21:26.232Z"
   },
   {
    "duration": 137,
    "start_time": "2022-04-26T06:21:26.359Z"
   },
   {
    "duration": 38,
    "start_time": "2022-04-26T06:21:26.497Z"
   },
   {
    "duration": 4,
    "start_time": "2022-04-26T06:21:26.537Z"
   },
   {
    "duration": 22,
    "start_time": "2022-04-26T06:21:26.542Z"
   },
   {
    "duration": 17,
    "start_time": "2022-04-26T06:21:26.566Z"
   },
   {
    "duration": 38,
    "start_time": "2022-04-26T06:21:26.584Z"
   },
   {
    "duration": 1698,
    "start_time": "2022-04-26T06:21:26.623Z"
   },
   {
    "duration": 5,
    "start_time": "2022-04-26T06:21:28.322Z"
   },
   {
    "duration": 3,
    "start_time": "2022-04-26T06:21:28.331Z"
   },
   {
    "duration": 10,
    "start_time": "2022-04-26T06:21:28.336Z"
   },
   {
    "duration": 4,
    "start_time": "2022-04-26T06:21:28.347Z"
   },
   {
    "duration": 6,
    "start_time": "2022-04-26T06:21:28.353Z"
   },
   {
    "duration": 79,
    "start_time": "2022-04-26T06:21:28.360Z"
   },
   {
    "duration": 55,
    "start_time": "2022-04-26T06:21:28.440Z"
   },
   {
    "duration": 20,
    "start_time": "2022-04-26T06:21:28.497Z"
   },
   {
    "duration": 8,
    "start_time": "2022-04-26T06:21:28.519Z"
   },
   {
    "duration": 7,
    "start_time": "2022-04-26T06:21:28.529Z"
   },
   {
    "duration": 15,
    "start_time": "2022-04-26T06:21:28.537Z"
   },
   {
    "duration": 6,
    "start_time": "2022-04-26T06:21:28.554Z"
   },
   {
    "duration": 10,
    "start_time": "2022-04-26T06:21:28.607Z"
   },
   {
    "duration": 8,
    "start_time": "2022-04-26T06:21:28.619Z"
   },
   {
    "duration": 4,
    "start_time": "2022-04-26T06:21:28.629Z"
   },
   {
    "duration": 1914,
    "start_time": "2022-04-26T06:21:28.635Z"
   },
   {
    "duration": 1258,
    "start_time": "2022-04-26T06:21:30.551Z"
   },
   {
    "duration": 20,
    "start_time": "2022-04-26T06:21:31.811Z"
   },
   {
    "duration": 4,
    "start_time": "2022-04-26T06:21:31.833Z"
   },
   {
    "duration": 25,
    "start_time": "2022-04-26T06:21:31.839Z"
   },
   {
    "duration": 2187,
    "start_time": "2022-04-26T06:21:31.865Z"
   },
   {
    "duration": 4,
    "start_time": "2022-04-26T06:21:34.053Z"
   },
   {
    "duration": 12,
    "start_time": "2022-04-26T06:21:34.058Z"
   },
   {
    "duration": 6,
    "start_time": "2022-04-26T06:21:34.072Z"
   },
   {
    "duration": 14,
    "start_time": "2022-04-26T06:21:34.080Z"
   },
   {
    "duration": 18,
    "start_time": "2022-04-26T06:21:34.095Z"
   },
   {
    "duration": 101,
    "start_time": "2022-04-26T06:21:34.115Z"
   },
   {
    "duration": 14,
    "start_time": "2022-04-26T06:21:34.218Z"
   },
   {
    "duration": 3,
    "start_time": "2022-04-26T06:21:34.236Z"
   },
   {
    "duration": 2084,
    "start_time": "2022-04-26T06:21:34.241Z"
   },
   {
    "duration": 3,
    "start_time": "2022-04-26T06:21:36.327Z"
   },
   {
    "duration": 12,
    "start_time": "2022-04-26T06:21:36.331Z"
   },
   {
    "duration": 6,
    "start_time": "2022-04-26T06:54:31.250Z"
   },
   {
    "duration": 736,
    "start_time": "2022-04-26T06:54:31.258Z"
   },
   {
    "duration": 61,
    "start_time": "2022-04-26T06:54:31.996Z"
   },
   {
    "duration": 3,
    "start_time": "2022-04-26T06:54:32.059Z"
   },
   {
    "duration": 119,
    "start_time": "2022-04-26T06:54:32.064Z"
   },
   {
    "duration": 152,
    "start_time": "2022-04-26T06:54:32.184Z"
   },
   {
    "duration": 32,
    "start_time": "2022-04-26T06:54:32.337Z"
   },
   {
    "duration": 4,
    "start_time": "2022-04-26T06:54:32.370Z"
   },
   {
    "duration": 34,
    "start_time": "2022-04-26T06:54:32.376Z"
   },
   {
    "duration": 5,
    "start_time": "2022-04-26T06:54:32.412Z"
   },
   {
    "duration": 23,
    "start_time": "2022-04-26T06:54:32.419Z"
   },
   {
    "duration": 1659,
    "start_time": "2022-04-26T06:54:32.443Z"
   },
   {
    "duration": 5,
    "start_time": "2022-04-26T06:54:34.104Z"
   },
   {
    "duration": 4,
    "start_time": "2022-04-26T06:54:34.112Z"
   },
   {
    "duration": 12,
    "start_time": "2022-04-26T06:54:34.118Z"
   },
   {
    "duration": 3,
    "start_time": "2022-04-26T06:54:34.132Z"
   },
   {
    "duration": 7,
    "start_time": "2022-04-26T06:54:34.136Z"
   },
   {
    "duration": 34,
    "start_time": "2022-04-26T06:54:34.145Z"
   },
   {
    "duration": 80,
    "start_time": "2022-04-26T06:54:34.181Z"
   },
   {
    "duration": 12,
    "start_time": "2022-04-26T06:54:34.263Z"
   },
   {
    "duration": 34,
    "start_time": "2022-04-26T06:54:34.277Z"
   },
   {
    "duration": 7,
    "start_time": "2022-04-26T06:54:34.313Z"
   },
   {
    "duration": 14,
    "start_time": "2022-04-26T06:54:34.322Z"
   },
   {
    "duration": 7,
    "start_time": "2022-04-26T06:54:34.339Z"
   },
   {
    "duration": 7,
    "start_time": "2022-04-26T06:54:34.348Z"
   },
   {
    "duration": 11,
    "start_time": "2022-04-26T06:54:34.357Z"
   },
   {
    "duration": 38,
    "start_time": "2022-04-26T06:54:34.370Z"
   },
   {
    "duration": 1924,
    "start_time": "2022-04-26T06:54:34.410Z"
   },
   {
    "duration": 291,
    "start_time": "2022-04-26T06:54:36.336Z"
   },
   {
    "duration": 1519,
    "start_time": "2022-04-26T06:55:19.200Z"
   },
   {
    "duration": 1623,
    "start_time": "2022-04-26T06:55:42.060Z"
   },
   {
    "duration": 150,
    "start_time": "2022-04-26T17:18:12.673Z"
   },
   {
    "duration": 1941,
    "start_time": "2022-04-26T17:27:47.461Z"
   },
   {
    "duration": 695,
    "start_time": "2022-04-26T17:27:49.404Z"
   },
   {
    "duration": 60,
    "start_time": "2022-04-26T17:27:50.101Z"
   },
   {
    "duration": 3,
    "start_time": "2022-04-26T17:27:50.163Z"
   },
   {
    "duration": 129,
    "start_time": "2022-04-26T17:27:50.168Z"
   },
   {
    "duration": 136,
    "start_time": "2022-04-26T17:27:50.299Z"
   },
   {
    "duration": 39,
    "start_time": "2022-04-26T17:27:50.436Z"
   },
   {
    "duration": 3,
    "start_time": "2022-04-26T17:27:50.477Z"
   },
   {
    "duration": 15,
    "start_time": "2022-04-26T17:27:50.482Z"
   },
   {
    "duration": 7,
    "start_time": "2022-04-26T17:27:50.500Z"
   },
   {
    "duration": 24,
    "start_time": "2022-04-26T17:27:50.509Z"
   },
   {
    "duration": 1664,
    "start_time": "2022-04-26T17:27:50.534Z"
   },
   {
    "duration": 4,
    "start_time": "2022-04-26T17:27:52.200Z"
   },
   {
    "duration": 19,
    "start_time": "2022-04-26T17:27:52.205Z"
   },
   {
    "duration": 40,
    "start_time": "2022-04-26T17:27:52.226Z"
   },
   {
    "duration": 21,
    "start_time": "2022-04-26T17:27:52.267Z"
   },
   {
    "duration": 27,
    "start_time": "2022-04-26T17:27:52.289Z"
   },
   {
    "duration": 63,
    "start_time": "2022-04-26T17:27:52.317Z"
   },
   {
    "duration": 49,
    "start_time": "2022-04-26T17:27:52.382Z"
   },
   {
    "duration": 13,
    "start_time": "2022-04-26T17:27:52.433Z"
   },
   {
    "duration": 26,
    "start_time": "2022-04-26T17:27:52.448Z"
   },
   {
    "duration": 34,
    "start_time": "2022-04-26T17:27:52.475Z"
   },
   {
    "duration": 36,
    "start_time": "2022-04-26T17:27:52.510Z"
   },
   {
    "duration": 30,
    "start_time": "2022-04-26T17:27:52.547Z"
   },
   {
    "duration": 37,
    "start_time": "2022-04-26T17:27:52.579Z"
   },
   {
    "duration": 24,
    "start_time": "2022-04-26T17:27:52.617Z"
   },
   {
    "duration": 21,
    "start_time": "2022-04-26T17:27:52.643Z"
   },
   {
    "duration": 1953,
    "start_time": "2022-04-26T17:27:52.667Z"
   },
   {
    "duration": 1359,
    "start_time": "2022-04-26T17:27:54.621Z"
   },
   {
    "duration": 1251,
    "start_time": "2022-04-26T17:28:42.218Z"
   },
   {
    "duration": 1294,
    "start_time": "2022-04-26T17:28:56.651Z"
   },
   {
    "duration": 1739,
    "start_time": "2022-04-26T17:43:24.181Z"
   },
   {
    "duration": 1719,
    "start_time": "2022-04-26T17:43:35.266Z"
   },
   {
    "duration": 18,
    "start_time": "2022-04-26T17:48:23.679Z"
   },
   {
    "duration": 5,
    "start_time": "2022-04-26T17:48:24.172Z"
   },
   {
    "duration": 23,
    "start_time": "2022-04-26T17:48:24.518Z"
   },
   {
    "duration": 1914,
    "start_time": "2022-04-26T17:48:25.230Z"
   },
   {
    "duration": 7,
    "start_time": "2022-04-26T17:49:47.518Z"
   },
   {
    "duration": 783,
    "start_time": "2022-04-26T17:49:47.527Z"
   },
   {
    "duration": 61,
    "start_time": "2022-04-26T17:49:48.312Z"
   },
   {
    "duration": 4,
    "start_time": "2022-04-26T17:49:48.375Z"
   },
   {
    "duration": 137,
    "start_time": "2022-04-26T17:49:48.381Z"
   },
   {
    "duration": 143,
    "start_time": "2022-04-26T17:49:48.520Z"
   },
   {
    "duration": 33,
    "start_time": "2022-04-26T17:49:48.665Z"
   },
   {
    "duration": 4,
    "start_time": "2022-04-26T17:49:48.700Z"
   },
   {
    "duration": 15,
    "start_time": "2022-04-26T17:49:48.707Z"
   },
   {
    "duration": 33,
    "start_time": "2022-04-26T17:49:48.724Z"
   },
   {
    "duration": 23,
    "start_time": "2022-04-26T17:49:48.759Z"
   },
   {
    "duration": 1604,
    "start_time": "2022-04-26T17:49:48.783Z"
   },
   {
    "duration": 5,
    "start_time": "2022-04-26T17:49:50.389Z"
   },
   {
    "duration": 13,
    "start_time": "2022-04-26T17:49:50.396Z"
   },
   {
    "duration": 17,
    "start_time": "2022-04-26T17:49:50.411Z"
   },
   {
    "duration": 10,
    "start_time": "2022-04-26T17:49:50.430Z"
   },
   {
    "duration": 19,
    "start_time": "2022-04-26T17:49:50.442Z"
   },
   {
    "duration": 39,
    "start_time": "2022-04-26T17:49:50.462Z"
   },
   {
    "duration": 65,
    "start_time": "2022-04-26T17:49:50.503Z"
   },
   {
    "duration": 15,
    "start_time": "2022-04-26T17:49:50.570Z"
   },
   {
    "duration": 12,
    "start_time": "2022-04-26T17:49:50.587Z"
   },
   {
    "duration": 6,
    "start_time": "2022-04-26T17:49:50.601Z"
   },
   {
    "duration": 45,
    "start_time": "2022-04-26T17:49:50.609Z"
   },
   {
    "duration": 7,
    "start_time": "2022-04-26T17:49:50.658Z"
   },
   {
    "duration": 8,
    "start_time": "2022-04-26T17:49:50.667Z"
   },
   {
    "duration": 17,
    "start_time": "2022-04-26T17:49:50.677Z"
   },
   {
    "duration": 6,
    "start_time": "2022-04-26T17:49:50.696Z"
   },
   {
    "duration": 1972,
    "start_time": "2022-04-26T17:49:50.704Z"
   },
   {
    "duration": 1493,
    "start_time": "2022-04-26T17:49:52.679Z"
   },
   {
    "duration": 25,
    "start_time": "2022-04-26T17:49:54.174Z"
   },
   {
    "duration": 17,
    "start_time": "2022-04-26T17:50:04.534Z"
   },
   {
    "duration": 11,
    "start_time": "2022-04-26T17:50:25.714Z"
   },
   {
    "duration": 128,
    "start_time": "2022-04-26T17:51:45.111Z"
   },
   {
    "duration": 12,
    "start_time": "2022-04-26T17:52:50.141Z"
   },
   {
    "duration": 15,
    "start_time": "2022-04-26T17:54:19.335Z"
   },
   {
    "duration": 23,
    "start_time": "2022-04-26T17:54:29.196Z"
   },
   {
    "duration": 39,
    "start_time": "2022-04-26T17:54:58.619Z"
   },
   {
    "duration": 19,
    "start_time": "2022-04-26T17:55:13.225Z"
   },
   {
    "duration": 25,
    "start_time": "2022-04-26T17:55:30.372Z"
   },
   {
    "duration": 18,
    "start_time": "2022-04-26T17:55:35.391Z"
   },
   {
    "duration": 14,
    "start_time": "2022-04-26T17:56:18.445Z"
   },
   {
    "duration": 13,
    "start_time": "2022-04-26T17:56:34.987Z"
   },
   {
    "duration": 11,
    "start_time": "2022-04-26T17:57:22.928Z"
   },
   {
    "duration": 19,
    "start_time": "2022-04-26T17:58:52.560Z"
   },
   {
    "duration": 25,
    "start_time": "2022-04-26T17:59:21.857Z"
   },
   {
    "duration": 6,
    "start_time": "2022-04-26T17:59:45.641Z"
   },
   {
    "duration": 8,
    "start_time": "2022-04-26T18:00:04.887Z"
   },
   {
    "duration": 26,
    "start_time": "2022-04-26T18:00:54.316Z"
   },
   {
    "duration": 24,
    "start_time": "2022-04-26T18:01:41.646Z"
   },
   {
    "duration": 18,
    "start_time": "2022-04-26T18:01:58.342Z"
   },
   {
    "duration": 24,
    "start_time": "2022-04-26T18:02:05.368Z"
   },
   {
    "duration": 17,
    "start_time": "2022-04-26T18:02:09.456Z"
   },
   {
    "duration": 14,
    "start_time": "2022-04-26T18:02:41.934Z"
   },
   {
    "duration": 6,
    "start_time": "2022-04-26T18:03:01.894Z"
   },
   {
    "duration": 6,
    "start_time": "2022-04-26T18:03:24.115Z"
   },
   {
    "duration": 6,
    "start_time": "2022-04-26T18:03:46.402Z"
   },
   {
    "duration": 6,
    "start_time": "2022-04-26T18:03:52.257Z"
   },
   {
    "duration": 13,
    "start_time": "2022-04-26T18:03:59.828Z"
   },
   {
    "duration": 15,
    "start_time": "2022-04-26T18:04:04.495Z"
   },
   {
    "duration": 9,
    "start_time": "2022-04-26T18:05:45.972Z"
   },
   {
    "duration": 223,
    "start_time": "2022-04-26T18:10:18.797Z"
   },
   {
    "duration": 495,
    "start_time": "2022-04-26T18:10:42.105Z"
   },
   {
    "duration": 222,
    "start_time": "2022-04-26T18:11:00.343Z"
   },
   {
    "duration": 6,
    "start_time": "2022-04-26T18:14:22.687Z"
   },
   {
    "duration": 729,
    "start_time": "2022-04-26T18:14:22.695Z"
   },
   {
    "duration": 56,
    "start_time": "2022-04-26T18:14:23.426Z"
   },
   {
    "duration": 4,
    "start_time": "2022-04-26T18:14:23.484Z"
   },
   {
    "duration": 173,
    "start_time": "2022-04-26T18:14:23.490Z"
   },
   {
    "duration": 148,
    "start_time": "2022-04-26T18:14:23.666Z"
   },
   {
    "duration": 40,
    "start_time": "2022-04-26T18:14:23.816Z"
   },
   {
    "duration": 5,
    "start_time": "2022-04-26T18:14:23.857Z"
   },
   {
    "duration": 17,
    "start_time": "2022-04-26T18:14:23.864Z"
   },
   {
    "duration": 6,
    "start_time": "2022-04-26T18:14:23.884Z"
   },
   {
    "duration": 20,
    "start_time": "2022-04-26T18:14:23.892Z"
   },
   {
    "duration": 1604,
    "start_time": "2022-04-26T18:14:23.914Z"
   },
   {
    "duration": 4,
    "start_time": "2022-04-26T18:14:25.520Z"
   },
   {
    "duration": 5,
    "start_time": "2022-04-26T18:14:25.526Z"
   },
   {
    "duration": 30,
    "start_time": "2022-04-26T18:14:25.532Z"
   },
   {
    "duration": 4,
    "start_time": "2022-04-26T18:14:25.563Z"
   },
   {
    "duration": 7,
    "start_time": "2022-04-26T18:14:25.569Z"
   },
   {
    "duration": 36,
    "start_time": "2022-04-26T18:14:25.577Z"
   },
   {
    "duration": 75,
    "start_time": "2022-04-26T18:14:25.615Z"
   },
   {
    "duration": 11,
    "start_time": "2022-04-26T18:14:25.692Z"
   },
   {
    "duration": 9,
    "start_time": "2022-04-26T18:14:25.705Z"
   },
   {
    "duration": 8,
    "start_time": "2022-04-26T18:14:25.715Z"
   },
   {
    "duration": 41,
    "start_time": "2022-04-26T18:14:25.725Z"
   },
   {
    "duration": 9,
    "start_time": "2022-04-26T18:14:25.768Z"
   },
   {
    "duration": 7,
    "start_time": "2022-04-26T18:14:25.779Z"
   },
   {
    "duration": 10,
    "start_time": "2022-04-26T18:14:25.788Z"
   },
   {
    "duration": 6,
    "start_time": "2022-04-26T18:14:25.799Z"
   },
   {
    "duration": 1830,
    "start_time": "2022-04-26T18:14:25.809Z"
   },
   {
    "duration": 1534,
    "start_time": "2022-04-26T18:14:27.640Z"
   },
   {
    "duration": 20,
    "start_time": "2022-04-26T18:14:29.176Z"
   },
   {
    "duration": 12,
    "start_time": "2022-04-26T18:14:29.198Z"
   },
   {
    "duration": 42,
    "start_time": "2022-04-26T18:14:29.211Z"
   },
   {
    "duration": 2133,
    "start_time": "2022-04-26T18:14:29.254Z"
   },
   {
    "duration": 4,
    "start_time": "2022-04-26T18:14:31.390Z"
   },
   {
    "duration": 44,
    "start_time": "2022-04-26T18:14:31.395Z"
   },
   {
    "duration": 45,
    "start_time": "2022-04-26T18:14:31.441Z"
   },
   {
    "duration": 36,
    "start_time": "2022-04-26T18:14:31.488Z"
   },
   {
    "duration": 34,
    "start_time": "2022-04-26T18:14:31.526Z"
   },
   {
    "duration": 10,
    "start_time": "2022-04-26T18:14:39.920Z"
   },
   {
    "duration": 5,
    "start_time": "2022-04-26T18:14:44.037Z"
   },
   {
    "duration": 151,
    "start_time": "2022-04-26T18:15:00.208Z"
   },
   {
    "duration": 26,
    "start_time": "2022-04-26T18:16:51.224Z"
   },
   {
    "duration": 26,
    "start_time": "2022-04-26T18:17:12.210Z"
   },
   {
    "duration": 15,
    "start_time": "2022-04-26T18:20:55.766Z"
   },
   {
    "duration": 10,
    "start_time": "2022-04-26T18:21:00.873Z"
   },
   {
    "duration": 28,
    "start_time": "2022-04-26T18:21:24.679Z"
   },
   {
    "duration": 104,
    "start_time": "2022-04-26T18:21:38.569Z"
   },
   {
    "duration": 92,
    "start_time": "2022-04-26T18:27:33.443Z"
   },
   {
    "duration": 11,
    "start_time": "2022-04-26T18:28:43.871Z"
   },
   {
    "duration": 25,
    "start_time": "2022-04-26T18:31:28.268Z"
   },
   {
    "duration": 22,
    "start_time": "2022-04-26T18:34:03.354Z"
   },
   {
    "duration": 7441,
    "start_time": "2022-04-26T18:36:09.894Z"
   },
   {
    "duration": 7503,
    "start_time": "2022-04-26T18:36:47.880Z"
   },
   {
    "duration": 6,
    "start_time": "2022-04-26T18:38:13.315Z"
   },
   {
    "duration": 721,
    "start_time": "2022-04-26T18:38:13.325Z"
   },
   {
    "duration": 57,
    "start_time": "2022-04-26T18:38:14.048Z"
   },
   {
    "duration": 7,
    "start_time": "2022-04-26T18:38:14.107Z"
   },
   {
    "duration": 118,
    "start_time": "2022-04-26T18:38:14.116Z"
   },
   {
    "duration": 148,
    "start_time": "2022-04-26T18:38:14.236Z"
   },
   {
    "duration": 31,
    "start_time": "2022-04-26T18:38:14.386Z"
   },
   {
    "duration": 4,
    "start_time": "2022-04-26T18:38:14.419Z"
   },
   {
    "duration": 35,
    "start_time": "2022-04-26T18:38:14.426Z"
   },
   {
    "duration": 4,
    "start_time": "2022-04-26T18:38:14.463Z"
   },
   {
    "duration": 20,
    "start_time": "2022-04-26T18:38:14.470Z"
   },
   {
    "duration": 1868,
    "start_time": "2022-04-26T18:38:14.492Z"
   },
   {
    "duration": 5,
    "start_time": "2022-04-26T18:38:16.362Z"
   },
   {
    "duration": 11,
    "start_time": "2022-04-26T18:38:16.368Z"
   },
   {
    "duration": 12,
    "start_time": "2022-04-26T18:38:16.381Z"
   },
   {
    "duration": 4,
    "start_time": "2022-04-26T18:38:16.394Z"
   },
   {
    "duration": 5,
    "start_time": "2022-04-26T18:38:16.400Z"
   },
   {
    "duration": 50,
    "start_time": "2022-04-26T18:38:16.407Z"
   },
   {
    "duration": 48,
    "start_time": "2022-04-26T18:38:16.459Z"
   },
   {
    "duration": 11,
    "start_time": "2022-04-26T18:38:16.508Z"
   },
   {
    "duration": 115,
    "start_time": "2022-04-26T18:38:16.520Z"
   },
   {
    "duration": 6794,
    "start_time": "2022-04-26T18:38:16.637Z"
   },
   {
    "duration": 36,
    "start_time": "2022-04-26T18:38:23.434Z"
   },
   {
    "duration": 7835,
    "start_time": "2022-04-26T18:39:35.212Z"
   },
   {
    "duration": 6,
    "start_time": "2022-04-26T18:49:13.965Z"
   },
   {
    "duration": 11,
    "start_time": "2022-04-26T18:49:14.586Z"
   },
   {
    "duration": 12,
    "start_time": "2022-04-26T18:49:44.230Z"
   },
   {
    "duration": 12,
    "start_time": "2022-04-26T18:49:55.306Z"
   },
   {
    "duration": 11,
    "start_time": "2022-04-26T18:50:04.075Z"
   },
   {
    "duration": 7,
    "start_time": "2022-04-26T18:50:23.263Z"
   },
   {
    "duration": 11,
    "start_time": "2022-04-26T18:50:33.726Z"
   },
   {
    "duration": 11,
    "start_time": "2022-04-26T18:50:38.324Z"
   },
   {
    "duration": 21,
    "start_time": "2022-04-26T18:50:38.893Z"
   },
   {
    "duration": 8,
    "start_time": "2022-04-26T18:58:28.954Z"
   },
   {
    "duration": 22,
    "start_time": "2022-04-26T18:59:16.929Z"
   },
   {
    "duration": 657,
    "start_time": "2022-04-26T18:59:28.135Z"
   },
   {
    "duration": 17,
    "start_time": "2022-04-26T18:59:39.566Z"
   },
   {
    "duration": 47,
    "start_time": "2022-04-26T19:00:22.793Z"
   },
   {
    "duration": 100,
    "start_time": "2022-04-26T19:00:34.280Z"
   },
   {
    "duration": 104,
    "start_time": "2022-04-26T19:01:48.083Z"
   },
   {
    "duration": 51,
    "start_time": "2022-04-26T19:01:57.842Z"
   },
   {
    "duration": 98,
    "start_time": "2022-04-26T19:02:04.790Z"
   },
   {
    "duration": 45,
    "start_time": "2022-04-26T19:03:09.391Z"
   },
   {
    "duration": 111,
    "start_time": "2022-04-26T19:03:59.234Z"
   },
   {
    "duration": 3,
    "start_time": "2022-04-26T19:14:30.363Z"
   },
   {
    "duration": 15,
    "start_time": "2022-04-26T19:14:44.140Z"
   },
   {
    "duration": 3,
    "start_time": "2022-04-26T19:17:19.936Z"
   },
   {
    "duration": 14473,
    "start_time": "2022-04-26T19:17:20.401Z"
   },
   {
    "duration": 3,
    "start_time": "2022-04-26T19:19:46.307Z"
   },
   {
    "duration": 14805,
    "start_time": "2022-04-26T19:19:47.087Z"
   },
   {
    "duration": 17549,
    "start_time": "2022-04-26T19:20:13.743Z"
   },
   {
    "duration": 4,
    "start_time": "2022-04-26T19:22:24.790Z"
   },
   {
    "duration": 17432,
    "start_time": "2022-04-26T19:22:25.278Z"
   },
   {
    "duration": 3,
    "start_time": "2022-04-26T19:23:52.230Z"
   },
   {
    "duration": 15691,
    "start_time": "2022-04-26T19:23:53.056Z"
   },
   {
    "duration": 3,
    "start_time": "2022-04-26T19:29:41.033Z"
   },
   {
    "duration": 83,
    "start_time": "2022-04-26T19:29:41.605Z"
   },
   {
    "duration": 4,
    "start_time": "2022-04-26T19:29:59.956Z"
   },
   {
    "duration": 119,
    "start_time": "2022-04-26T19:30:00.647Z"
   },
   {
    "duration": 12,
    "start_time": "2022-04-26T19:30:46.003Z"
   },
   {
    "duration": 17,
    "start_time": "2022-04-26T19:31:21.528Z"
   },
   {
    "duration": 18,
    "start_time": "2022-04-26T19:31:45.455Z"
   },
   {
    "duration": 256,
    "start_time": "2022-04-26T19:32:50.532Z"
   },
   {
    "duration": 3,
    "start_time": "2022-04-26T19:33:11.594Z"
   },
   {
    "duration": 252,
    "start_time": "2022-04-26T19:33:12.157Z"
   },
   {
    "duration": 3,
    "start_time": "2022-04-26T19:34:36.392Z"
   },
   {
    "duration": 221,
    "start_time": "2022-04-26T19:34:39.559Z"
   },
   {
    "duration": 3,
    "start_time": "2022-04-26T19:35:25.604Z"
   },
   {
    "duration": 211,
    "start_time": "2022-04-26T19:35:26.881Z"
   },
   {
    "duration": 3,
    "start_time": "2022-04-26T19:35:38.708Z"
   },
   {
    "duration": 205,
    "start_time": "2022-04-26T19:35:38.889Z"
   },
   {
    "duration": 3,
    "start_time": "2022-04-26T19:35:56.980Z"
   },
   {
    "duration": 202,
    "start_time": "2022-04-26T19:35:57.319Z"
   },
   {
    "duration": 87,
    "start_time": "2022-04-26T19:36:14.444Z"
   },
   {
    "duration": 3,
    "start_time": "2022-04-26T19:36:17.876Z"
   },
   {
    "duration": 80,
    "start_time": "2022-04-26T19:36:18.313Z"
   },
   {
    "duration": 4,
    "start_time": "2022-04-26T19:36:27.466Z"
   },
   {
    "duration": 100,
    "start_time": "2022-04-26T19:36:27.807Z"
   },
   {
    "duration": 3,
    "start_time": "2022-04-26T19:36:37.490Z"
   },
   {
    "duration": 98,
    "start_time": "2022-04-26T19:36:37.909Z"
   },
   {
    "duration": 4,
    "start_time": "2022-04-26T19:36:46.003Z"
   },
   {
    "duration": 156,
    "start_time": "2022-04-26T19:36:46.776Z"
   },
   {
    "duration": 110,
    "start_time": "2022-04-26T19:37:46.003Z"
   },
   {
    "duration": 101,
    "start_time": "2022-04-26T19:37:59.753Z"
   },
   {
    "duration": 109,
    "start_time": "2022-04-26T19:38:16.480Z"
   },
   {
    "duration": 120,
    "start_time": "2022-04-26T19:38:24.249Z"
   },
   {
    "duration": 100,
    "start_time": "2022-04-26T19:38:29.523Z"
   },
   {
    "duration": 51,
    "start_time": "2022-04-26T19:38:35.980Z"
   },
   {
    "duration": 47,
    "start_time": "2022-04-26T19:38:51.182Z"
   },
   {
    "duration": 59,
    "start_time": "2022-04-26T19:39:01.411Z"
   },
   {
    "duration": 96,
    "start_time": "2022-04-26T19:39:50.169Z"
   },
   {
    "duration": 52,
    "start_time": "2022-04-26T19:39:58.675Z"
   },
   {
    "duration": 5,
    "start_time": "2022-04-26T19:45:32.408Z"
   },
   {
    "duration": 18,
    "start_time": "2022-04-26T19:45:40.209Z"
   },
   {
    "duration": 3,
    "start_time": "2022-04-26T19:46:13.851Z"
   },
   {
    "duration": 28,
    "start_time": "2022-04-26T19:46:14.210Z"
   },
   {
    "duration": 3,
    "start_time": "2022-04-26T19:46:55.586Z"
   },
   {
    "duration": 281,
    "start_time": "2022-04-26T19:46:55.986Z"
   },
   {
    "duration": 124,
    "start_time": "2022-04-26T19:47:48.454Z"
   },
   {
    "duration": 197,
    "start_time": "2022-04-26T19:47:58.692Z"
   },
   {
    "duration": 132,
    "start_time": "2022-04-26T19:48:44.862Z"
   },
   {
    "duration": 139,
    "start_time": "2022-04-26T19:53:20.151Z"
   },
   {
    "duration": 11,
    "start_time": "2022-04-26T19:53:34.447Z"
   },
   {
    "duration": 10,
    "start_time": "2022-04-26T19:53:52.862Z"
   },
   {
    "duration": 9,
    "start_time": "2022-04-26T19:53:58.727Z"
   },
   {
    "duration": 105,
    "start_time": "2022-04-26T19:55:15.573Z"
   },
   {
    "duration": 102,
    "start_time": "2022-04-26T19:55:46.437Z"
   },
   {
    "duration": 3,
    "start_time": "2022-04-26T19:56:26.192Z"
   },
   {
    "duration": 167,
    "start_time": "2022-04-26T19:56:26.680Z"
   },
   {
    "duration": 11,
    "start_time": "2022-04-26T19:56:42.956Z"
   },
   {
    "duration": 8,
    "start_time": "2022-04-26T19:56:59.270Z"
   },
   {
    "duration": 17,
    "start_time": "2022-04-26T19:57:05.856Z"
   },
   {
    "duration": 8,
    "start_time": "2022-04-26T19:57:12.372Z"
   },
   {
    "duration": 8,
    "start_time": "2022-04-26T19:57:13.409Z"
   },
   {
    "duration": 15,
    "start_time": "2022-04-26T19:57:17.833Z"
   },
   {
    "duration": 10,
    "start_time": "2022-04-26T19:57:48.238Z"
   },
   {
    "duration": 777,
    "start_time": "2022-04-26T19:57:48.251Z"
   },
   {
    "duration": 58,
    "start_time": "2022-04-26T19:57:49.030Z"
   },
   {
    "duration": 22,
    "start_time": "2022-04-26T19:57:49.091Z"
   },
   {
    "duration": 143,
    "start_time": "2022-04-26T19:57:49.115Z"
   },
   {
    "duration": 142,
    "start_time": "2022-04-26T19:57:49.260Z"
   },
   {
    "duration": 32,
    "start_time": "2022-04-26T19:57:49.404Z"
   },
   {
    "duration": 8,
    "start_time": "2022-04-26T19:57:49.456Z"
   },
   {
    "duration": 38,
    "start_time": "2022-04-26T19:57:49.466Z"
   },
   {
    "duration": 18,
    "start_time": "2022-04-26T19:57:49.507Z"
   },
   {
    "duration": 30,
    "start_time": "2022-04-26T19:57:49.526Z"
   },
   {
    "duration": 1596,
    "start_time": "2022-04-26T19:57:49.558Z"
   },
   {
    "duration": 6,
    "start_time": "2022-04-26T19:57:51.156Z"
   },
   {
    "duration": 17,
    "start_time": "2022-04-26T19:57:51.164Z"
   },
   {
    "duration": 11,
    "start_time": "2022-04-26T19:57:51.183Z"
   },
   {
    "duration": 21,
    "start_time": "2022-04-26T19:57:51.196Z"
   },
   {
    "duration": 10,
    "start_time": "2022-04-26T19:57:51.218Z"
   },
   {
    "duration": 44,
    "start_time": "2022-04-26T19:57:51.229Z"
   },
   {
    "duration": 49,
    "start_time": "2022-04-26T19:57:51.274Z"
   },
   {
    "duration": 10,
    "start_time": "2022-04-26T19:57:51.325Z"
   },
   {
    "duration": 131,
    "start_time": "2022-04-26T19:57:51.337Z"
   },
   {
    "duration": 6,
    "start_time": "2022-04-26T19:57:51.470Z"
   },
   {
    "duration": 194,
    "start_time": "2022-04-26T19:57:51.478Z"
   },
   {
    "duration": 11,
    "start_time": "2022-04-26T19:57:51.675Z"
   },
   {
    "duration": 8,
    "start_time": "2022-04-26T19:57:51.689Z"
   },
   {
    "duration": 23,
    "start_time": "2022-04-26T19:57:51.699Z"
   },
   {
    "duration": 11,
    "start_time": "2022-04-26T19:57:51.724Z"
   },
   {
    "duration": 8,
    "start_time": "2022-04-26T19:57:51.763Z"
   },
   {
    "duration": 14,
    "start_time": "2022-04-26T19:57:51.773Z"
   },
   {
    "duration": 8,
    "start_time": "2022-04-26T19:57:51.789Z"
   },
   {
    "duration": 3012,
    "start_time": "2022-04-26T19:57:51.799Z"
   },
   {
    "duration": 2072,
    "start_time": "2022-04-26T19:57:54.813Z"
   },
   {
    "duration": 26,
    "start_time": "2022-04-26T19:57:56.887Z"
   },
   {
    "duration": 25,
    "start_time": "2022-04-26T19:57:56.916Z"
   },
   {
    "duration": 37,
    "start_time": "2022-04-26T19:57:56.943Z"
   },
   {
    "duration": 1340,
    "start_time": "2022-04-26T19:57:56.983Z"
   },
   {
    "duration": 4,
    "start_time": "2022-04-26T20:00:09.933Z"
   },
   {
    "duration": 3,
    "start_time": "2022-04-26T20:00:10.871Z"
   },
   {
    "duration": 5,
    "start_time": "2022-04-26T20:00:15.130Z"
   },
   {
    "duration": 11,
    "start_time": "2022-04-26T20:00:17.613Z"
   },
   {
    "duration": 9,
    "start_time": "2022-04-26T20:00:19.893Z"
   },
   {
    "duration": 115,
    "start_time": "2022-04-26T20:00:31.261Z"
   },
   {
    "duration": 15,
    "start_time": "2022-04-26T20:00:31.378Z"
   },
   {
    "duration": 3,
    "start_time": "2022-04-26T20:00:31.497Z"
   },
   {
    "duration": 2602,
    "start_time": "2022-04-26T20:00:31.624Z"
   },
   {
    "duration": 4,
    "start_time": "2022-04-26T20:00:34.228Z"
   },
   {
    "duration": 26,
    "start_time": "2022-04-26T20:00:34.234Z"
   },
   {
    "duration": 164,
    "start_time": "2022-04-26T20:01:36.052Z"
   },
   {
    "duration": 29,
    "start_time": "2022-04-26T20:02:18.915Z"
   },
   {
    "duration": 9,
    "start_time": "2022-04-26T20:02:39.572Z"
   },
   {
    "duration": 7,
    "start_time": "2022-04-26T20:02:59.006Z"
   },
   {
    "duration": 708,
    "start_time": "2022-04-26T20:02:59.014Z"
   },
   {
    "duration": 54,
    "start_time": "2022-04-26T20:02:59.724Z"
   },
   {
    "duration": 3,
    "start_time": "2022-04-26T20:02:59.780Z"
   },
   {
    "duration": 116,
    "start_time": "2022-04-26T20:02:59.785Z"
   },
   {
    "duration": 139,
    "start_time": "2022-04-26T20:02:59.902Z"
   },
   {
    "duration": 42,
    "start_time": "2022-04-26T20:03:00.042Z"
   },
   {
    "duration": 4,
    "start_time": "2022-04-26T20:03:00.085Z"
   },
   {
    "duration": 37,
    "start_time": "2022-04-26T20:03:00.091Z"
   },
   {
    "duration": 13,
    "start_time": "2022-04-26T20:03:00.129Z"
   },
   {
    "duration": 39,
    "start_time": "2022-04-26T20:03:00.146Z"
   },
   {
    "duration": 1517,
    "start_time": "2022-04-26T20:03:00.187Z"
   },
   {
    "duration": 5,
    "start_time": "2022-04-26T20:03:01.706Z"
   },
   {
    "duration": 54,
    "start_time": "2022-04-26T20:03:01.713Z"
   },
   {
    "duration": 47,
    "start_time": "2022-04-26T20:03:01.769Z"
   },
   {
    "duration": 31,
    "start_time": "2022-04-26T20:03:01.818Z"
   },
   {
    "duration": 54,
    "start_time": "2022-04-26T20:03:01.851Z"
   },
   {
    "duration": 62,
    "start_time": "2022-04-26T20:03:01.907Z"
   },
   {
    "duration": 101,
    "start_time": "2022-04-26T20:03:01.971Z"
   },
   {
    "duration": 14,
    "start_time": "2022-04-26T20:03:02.074Z"
   },
   {
    "duration": 148,
    "start_time": "2022-04-26T20:03:02.090Z"
   },
   {
    "duration": 5,
    "start_time": "2022-04-26T20:03:02.240Z"
   },
   {
    "duration": 269,
    "start_time": "2022-04-26T20:03:02.255Z"
   },
   {
    "duration": 9,
    "start_time": "2022-04-26T20:03:02.527Z"
   },
   {
    "duration": 22,
    "start_time": "2022-04-26T20:03:02.537Z"
   },
   {
    "duration": 25,
    "start_time": "2022-04-26T20:03:02.561Z"
   },
   {
    "duration": 16,
    "start_time": "2022-04-26T20:03:02.588Z"
   },
   {
    "duration": 18,
    "start_time": "2022-04-26T20:03:02.606Z"
   },
   {
    "duration": 28,
    "start_time": "2022-04-26T20:03:02.627Z"
   },
   {
    "duration": 11,
    "start_time": "2022-04-26T20:03:02.657Z"
   },
   {
    "duration": 2057,
    "start_time": "2022-04-26T20:03:02.670Z"
   },
   {
    "duration": 1569,
    "start_time": "2022-04-26T20:03:04.729Z"
   },
   {
    "duration": 24,
    "start_time": "2022-04-26T20:03:06.300Z"
   },
   {
    "duration": 4,
    "start_time": "2022-04-26T20:03:06.326Z"
   },
   {
    "duration": 40,
    "start_time": "2022-04-26T20:03:06.332Z"
   },
   {
    "duration": 1165,
    "start_time": "2022-04-26T20:03:06.374Z"
   },
   {
    "duration": 4,
    "start_time": "2022-04-26T20:03:07.540Z"
   },
   {
    "duration": 13,
    "start_time": "2022-04-26T20:03:07.546Z"
   },
   {
    "duration": 5,
    "start_time": "2022-04-26T20:03:07.561Z"
   },
   {
    "duration": 11,
    "start_time": "2022-04-26T20:03:07.568Z"
   },
   {
    "duration": 11,
    "start_time": "2022-04-26T20:03:07.581Z"
   },
   {
    "duration": 116,
    "start_time": "2022-04-26T20:03:07.593Z"
   },
   {
    "duration": 12,
    "start_time": "2022-04-26T20:03:07.711Z"
   },
   {
    "duration": 5,
    "start_time": "2022-04-26T20:03:07.725Z"
   },
   {
    "duration": 1893,
    "start_time": "2022-04-26T20:03:07.731Z"
   },
   {
    "duration": 4,
    "start_time": "2022-04-26T20:03:09.626Z"
   },
   {
    "duration": 841,
    "start_time": "2022-04-26T20:03:09.631Z"
   },
   {
    "duration": 14,
    "start_time": "2022-04-26T20:03:10.474Z"
   },
   {
    "duration": 13,
    "start_time": "2022-04-26T20:03:12.523Z"
   },
   {
    "duration": 9,
    "start_time": "2022-04-26T20:03:14.992Z"
   },
   {
    "duration": 3,
    "start_time": "2022-04-26T20:03:22.566Z"
   },
   {
    "duration": 1107719,
    "start_time": "2022-04-26T20:03:31.121Z"
   },
   {
    "duration": 929256,
    "start_time": "2022-04-26T20:51:06.544Z"
   },
   {
    "duration": 432428,
    "start_time": "2022-04-26T21:06:35.801Z"
   },
   {
    "duration": 1753,
    "start_time": "2022-04-27T16:09:52.454Z"
   },
   {
    "duration": 840,
    "start_time": "2022-04-27T16:09:54.209Z"
   },
   {
    "duration": 68,
    "start_time": "2022-04-27T16:09:55.051Z"
   },
   {
    "duration": 4,
    "start_time": "2022-04-27T16:09:55.121Z"
   },
   {
    "duration": 134,
    "start_time": "2022-04-27T16:09:55.133Z"
   },
   {
    "duration": 140,
    "start_time": "2022-04-27T16:09:55.268Z"
   },
   {
    "duration": 48,
    "start_time": "2022-04-27T16:09:55.410Z"
   },
   {
    "duration": 4,
    "start_time": "2022-04-27T16:09:55.460Z"
   },
   {
    "duration": 15,
    "start_time": "2022-04-27T16:09:55.466Z"
   },
   {
    "duration": 5,
    "start_time": "2022-04-27T16:09:55.484Z"
   },
   {
    "duration": 21,
    "start_time": "2022-04-27T16:09:55.491Z"
   },
   {
    "duration": 1814,
    "start_time": "2022-04-27T16:09:55.514Z"
   },
   {
    "duration": 12,
    "start_time": "2022-04-27T16:09:57.329Z"
   },
   {
    "duration": 10,
    "start_time": "2022-04-27T16:09:57.343Z"
   },
   {
    "duration": 14,
    "start_time": "2022-04-27T16:09:57.354Z"
   },
   {
    "duration": 8,
    "start_time": "2022-04-27T16:09:57.370Z"
   },
   {
    "duration": 9,
    "start_time": "2022-04-27T16:09:57.380Z"
   },
   {
    "duration": 54,
    "start_time": "2022-04-27T16:09:57.391Z"
   },
   {
    "duration": 60,
    "start_time": "2022-04-27T16:09:57.447Z"
   },
   {
    "duration": 11,
    "start_time": "2022-04-27T16:09:57.509Z"
   },
   {
    "duration": 131,
    "start_time": "2022-04-27T16:09:57.534Z"
   },
   {
    "duration": 3,
    "start_time": "2022-04-27T16:09:57.667Z"
   },
   {
    "duration": 205,
    "start_time": "2022-04-27T16:09:57.671Z"
   },
   {
    "duration": 8,
    "start_time": "2022-04-27T16:09:57.878Z"
   },
   {
    "duration": 6,
    "start_time": "2022-04-27T16:09:57.887Z"
   },
   {
    "duration": 15,
    "start_time": "2022-04-27T16:09:57.895Z"
   },
   {
    "duration": 43,
    "start_time": "2022-04-27T16:09:57.912Z"
   },
   {
    "duration": 6,
    "start_time": "2022-04-27T16:09:57.959Z"
   },
   {
    "duration": 15,
    "start_time": "2022-04-27T16:09:57.967Z"
   },
   {
    "duration": 6,
    "start_time": "2022-04-27T16:09:57.984Z"
   },
   {
    "duration": 2108,
    "start_time": "2022-04-27T16:09:57.991Z"
   },
   {
    "duration": 1628,
    "start_time": "2022-04-27T16:10:00.101Z"
   },
   {
    "duration": 24,
    "start_time": "2022-04-27T16:10:01.731Z"
   },
   {
    "duration": 4,
    "start_time": "2022-04-27T16:10:01.757Z"
   },
   {
    "duration": 35,
    "start_time": "2022-04-27T16:10:01.763Z"
   },
   {
    "duration": 1387,
    "start_time": "2022-04-27T16:10:01.799Z"
   },
   {
    "duration": 3,
    "start_time": "2022-04-27T16:10:03.188Z"
   },
   {
    "duration": 9,
    "start_time": "2022-04-27T16:10:03.192Z"
   },
   {
    "duration": 6,
    "start_time": "2022-04-27T16:10:03.203Z"
   },
   {
    "duration": 17,
    "start_time": "2022-04-27T16:10:03.211Z"
   },
   {
    "duration": 31,
    "start_time": "2022-04-27T16:10:03.230Z"
   },
   {
    "duration": 115,
    "start_time": "2022-04-27T16:10:03.263Z"
   },
   {
    "duration": 13,
    "start_time": "2022-04-27T16:10:03.380Z"
   },
   {
    "duration": 9,
    "start_time": "2022-04-27T16:10:03.395Z"
   },
   {
    "duration": 2344,
    "start_time": "2022-04-27T16:10:03.406Z"
   },
   {
    "duration": 4,
    "start_time": "2022-04-27T16:10:05.752Z"
   },
   {
    "duration": 12,
    "start_time": "2022-04-27T16:10:05.758Z"
   },
   {
    "duration": 9,
    "start_time": "2022-04-27T16:10:05.771Z"
   },
   {
    "duration": 17,
    "start_time": "2022-04-27T16:10:05.781Z"
   },
   {
    "duration": 6,
    "start_time": "2022-04-27T16:10:05.800Z"
   },
   {
    "duration": 14,
    "start_time": "2022-04-27T16:10:05.808Z"
   },
   {
    "duration": 639081,
    "start_time": "2022-04-27T16:10:05.833Z"
   },
   {
    "duration": 1026239,
    "start_time": "2022-04-27T16:20:44.916Z"
   },
   {
    "duration": 1620,
    "start_time": "2022-04-27T16:42:34.410Z"
   },
   {
    "duration": 897,
    "start_time": "2022-04-27T16:42:36.032Z"
   },
   {
    "duration": 71,
    "start_time": "2022-04-27T16:42:36.930Z"
   },
   {
    "duration": 4,
    "start_time": "2022-04-27T16:42:37.003Z"
   },
   {
    "duration": 144,
    "start_time": "2022-04-27T16:42:37.008Z"
   },
   {
    "duration": 151,
    "start_time": "2022-04-27T16:42:37.154Z"
   },
   {
    "duration": 41,
    "start_time": "2022-04-27T16:42:37.306Z"
   },
   {
    "duration": 5,
    "start_time": "2022-04-27T16:42:37.349Z"
   },
   {
    "duration": 24,
    "start_time": "2022-04-27T16:42:37.355Z"
   },
   {
    "duration": 17,
    "start_time": "2022-04-27T16:42:37.383Z"
   },
   {
    "duration": 23,
    "start_time": "2022-04-27T16:42:37.402Z"
   },
   {
    "duration": 1881,
    "start_time": "2022-04-27T16:42:37.427Z"
   },
   {
    "duration": 6,
    "start_time": "2022-04-27T16:42:39.310Z"
   },
   {
    "duration": 19,
    "start_time": "2022-04-27T16:42:39.318Z"
   },
   {
    "duration": 18,
    "start_time": "2022-04-27T16:42:39.339Z"
   },
   {
    "duration": 5,
    "start_time": "2022-04-27T16:42:39.359Z"
   },
   {
    "duration": 6,
    "start_time": "2022-04-27T16:42:39.366Z"
   },
   {
    "duration": 45,
    "start_time": "2022-04-27T16:42:39.373Z"
   },
   {
    "duration": 80,
    "start_time": "2022-04-27T16:42:39.420Z"
   },
   {
    "duration": 12,
    "start_time": "2022-04-27T16:42:39.501Z"
   },
   {
    "duration": 141,
    "start_time": "2022-04-27T16:42:39.514Z"
   },
   {
    "duration": 4,
    "start_time": "2022-04-27T16:42:39.657Z"
   },
   {
    "duration": 224,
    "start_time": "2022-04-27T16:42:39.662Z"
   },
   {
    "duration": 9,
    "start_time": "2022-04-27T16:42:39.888Z"
   },
   {
    "duration": 7,
    "start_time": "2022-04-27T16:42:39.898Z"
   },
   {
    "duration": 36,
    "start_time": "2022-04-27T16:42:39.906Z"
   },
   {
    "duration": 6,
    "start_time": "2022-04-27T16:42:39.943Z"
   },
   {
    "duration": 6,
    "start_time": "2022-04-27T16:42:39.953Z"
   },
   {
    "duration": 10,
    "start_time": "2022-04-27T16:42:39.961Z"
   },
   {
    "duration": 6,
    "start_time": "2022-04-27T16:42:39.972Z"
   },
   {
    "duration": 2076,
    "start_time": "2022-04-27T16:42:39.979Z"
   },
   {
    "duration": 1695,
    "start_time": "2022-04-27T16:42:42.057Z"
   },
   {
    "duration": 21,
    "start_time": "2022-04-27T16:42:43.754Z"
   },
   {
    "duration": 4,
    "start_time": "2022-04-27T16:42:43.777Z"
   },
   {
    "duration": 31,
    "start_time": "2022-04-27T16:42:43.783Z"
   },
   {
    "duration": 1398,
    "start_time": "2022-04-27T16:42:43.815Z"
   },
   {
    "duration": 4,
    "start_time": "2022-04-27T16:42:45.216Z"
   },
   {
    "duration": 10,
    "start_time": "2022-04-27T16:42:45.222Z"
   },
   {
    "duration": 18,
    "start_time": "2022-04-27T16:42:45.233Z"
   },
   {
    "duration": 15,
    "start_time": "2022-04-27T16:42:45.253Z"
   },
   {
    "duration": 16,
    "start_time": "2022-04-27T16:42:45.270Z"
   },
   {
    "duration": 104,
    "start_time": "2022-04-27T16:42:45.287Z"
   },
   {
    "duration": 14,
    "start_time": "2022-04-27T16:42:45.393Z"
   },
   {
    "duration": 4,
    "start_time": "2022-04-27T16:42:45.408Z"
   },
   {
    "duration": 2367,
    "start_time": "2022-04-27T16:42:45.413Z"
   },
   {
    "duration": 4,
    "start_time": "2022-04-27T16:42:47.783Z"
   },
   {
    "duration": 12,
    "start_time": "2022-04-27T16:42:47.789Z"
   },
   {
    "duration": 9,
    "start_time": "2022-04-27T16:42:47.803Z"
   },
   {
    "duration": 36,
    "start_time": "2022-04-27T16:42:47.814Z"
   },
   {
    "duration": 7,
    "start_time": "2022-04-27T16:42:47.852Z"
   },
   {
    "duration": 9,
    "start_time": "2022-04-27T16:42:47.861Z"
   },
   {
    "duration": 3,
    "start_time": "2022-04-27T16:42:49.627Z"
   }
  ],
  "kernelspec": {
   "display_name": "Python 3 (ipykernel)",
   "language": "python",
   "name": "python3"
  },
  "language_info": {
   "codemirror_mode": {
    "name": "ipython",
    "version": 3
   },
   "file_extension": ".py",
   "mimetype": "text/x-python",
   "name": "python",
   "nbconvert_exporter": "python",
   "pygments_lexer": "ipython3",
   "version": "3.9.10"
  },
  "toc": {
   "base_numbering": 1,
   "nav_menu": {},
   "number_sections": true,
   "sideBar": true,
   "skip_h1_title": true,
   "title_cell": "Table of Contents",
   "title_sidebar": "Contents",
   "toc_cell": false,
   "toc_position": {
    "height": "calc(100% - 180px)",
    "left": "10px",
    "top": "150px",
    "width": "303.825px"
   },
   "toc_section_display": true,
   "toc_window_display": true
  }
 },
 "nbformat": 4,
 "nbformat_minor": 5
}
