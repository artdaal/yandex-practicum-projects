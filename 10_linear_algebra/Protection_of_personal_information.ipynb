{
 "cells": [
  {
   "cell_type": "markdown",
   "metadata": {
    "toc": true
   },
   "source": [
    "<h1>Содержание<span class=\"tocSkip\"></span></h1>\n",
    "<div class=\"toc\"><ul class=\"toc-item\"><li><span><a href=\"#Подготовка-данных\" data-toc-modified-id=\"Подготовка-данных-1\"><span class=\"toc-item-num\">1&nbsp;&nbsp;</span>Подготовка данных</a></span><ul class=\"toc-item\"><li><span><a href=\"#Знакомство-с-данными\" data-toc-modified-id=\"Знакомство-с-данными-1.1\"><span class=\"toc-item-num\">1.1&nbsp;&nbsp;</span>Знакомство с данными</a></span></li><li><span><a href=\"#Разделение-на-выборки\" data-toc-modified-id=\"Разделение-на-выборки-1.2\"><span class=\"toc-item-num\">1.2&nbsp;&nbsp;</span>Разделение на выборки</a></span></li><li><span><a href=\"#Вывод\" data-toc-modified-id=\"Вывод-1.3\"><span class=\"toc-item-num\">1.3&nbsp;&nbsp;</span>Вывод</a></span></li></ul></li><li><span><a href=\"#Умножение-матриц\" data-toc-modified-id=\"Умножение-матриц-2\"><span class=\"toc-item-num\">2&nbsp;&nbsp;</span>Умножение матриц</a></span></li><li><span><a href=\"#Алгоритм-преобразования\" data-toc-modified-id=\"Алгоритм-преобразования-3\"><span class=\"toc-item-num\">3&nbsp;&nbsp;</span>Алгоритм преобразования</a></span><ul class=\"toc-item\"><li><span><a href=\"#Создание-случайной-квадратной-матрицы\" data-toc-modified-id=\"Создание-случайной-квадратной-матрицы-3.1\"><span class=\"toc-item-num\">3.1&nbsp;&nbsp;</span>Создание случайной квадратной матрицы</a></span></li><li><span><a href=\"#Преобразование-обучающей-выборки\" data-toc-modified-id=\"Преобразование-обучающей-выборки-3.2\"><span class=\"toc-item-num\">3.2&nbsp;&nbsp;</span>Преобразование обучающей выборки</a></span></li><li><span><a href=\"#Вывод\" data-toc-modified-id=\"Вывод-3.3\"><span class=\"toc-item-num\">3.3&nbsp;&nbsp;</span>Вывод</a></span></li></ul></li><li><span><a href=\"#Проверка-алгоритма\" data-toc-modified-id=\"Проверка-алгоритма-4\"><span class=\"toc-item-num\">4&nbsp;&nbsp;</span>Проверка алгоритма</a></span></li><li><span><a href=\"#Общий-вывод\" data-toc-modified-id=\"Общий-вывод-5\"><span class=\"toc-item-num\">5&nbsp;&nbsp;</span>Общий вывод</a></span></li></ul></div>"
   ]
  },
  {
   "cell_type": "markdown",
   "metadata": {},
   "source": [
    "# Защита персональных данных клиентов"
   ]
  },
  {
   "cell_type": "markdown",
   "metadata": {},
   "source": [
    "В этом проекте нам нужно защитить данные клиентов страховой компании «Хоть потоп». \n",
    "Задача: разработать такой метод преобразования данных, чтобы по ним было сложно восстановить персональную информацию. \n",
    "\n",
    "Нужно защитить данные так, чтобы при преобразовании качество моделей машинного обучения не ухудшилось. Подбирать наилучшую модель в этом проекте не требуется."
   ]
  },
  {
   "cell_type": "code",
   "execution_count": 57,
   "metadata": {},
   "outputs": [],
   "source": [
    "import pandas as pd\n",
    "import numpy as np\n",
    "from matplotlib import pyplot as plt\n",
    "import seaborn as sns\n",
    "\n",
    "from sklearn.linear_model import LinearRegression\n",
    "from sklearn.metrics import r2_score\n",
    "from sklearn.model_selection import train_test_split\n",
    "\n",
    "RS=17"
   ]
  },
  {
   "cell_type": "markdown",
   "metadata": {},
   "source": [
    "## Подготовка данных"
   ]
  },
  {
   "cell_type": "markdown",
   "metadata": {},
   "source": [
    "### Знакомство с данными"
   ]
  },
  {
   "cell_type": "code",
   "execution_count": 58,
   "metadata": {},
   "outputs": [
    {
     "data": {
      "text/html": [
       "<div>\n",
       "<style scoped>\n",
       "    .dataframe tbody tr th:only-of-type {\n",
       "        vertical-align: middle;\n",
       "    }\n",
       "\n",
       "    .dataframe tbody tr th {\n",
       "        vertical-align: top;\n",
       "    }\n",
       "\n",
       "    .dataframe thead th {\n",
       "        text-align: right;\n",
       "    }\n",
       "</style>\n",
       "<table border=\"1\" class=\"dataframe\">\n",
       "  <thead>\n",
       "    <tr style=\"text-align: right;\">\n",
       "      <th></th>\n",
       "      <th>Пол</th>\n",
       "      <th>Возраст</th>\n",
       "      <th>Зарплата</th>\n",
       "      <th>Члены семьи</th>\n",
       "      <th>Страховые выплаты</th>\n",
       "    </tr>\n",
       "  </thead>\n",
       "  <tbody>\n",
       "    <tr>\n",
       "      <th>0</th>\n",
       "      <td>1</td>\n",
       "      <td>41.0</td>\n",
       "      <td>49600.0</td>\n",
       "      <td>1</td>\n",
       "      <td>0</td>\n",
       "    </tr>\n",
       "    <tr>\n",
       "      <th>1</th>\n",
       "      <td>0</td>\n",
       "      <td>46.0</td>\n",
       "      <td>38000.0</td>\n",
       "      <td>1</td>\n",
       "      <td>1</td>\n",
       "    </tr>\n",
       "    <tr>\n",
       "      <th>2</th>\n",
       "      <td>0</td>\n",
       "      <td>29.0</td>\n",
       "      <td>21000.0</td>\n",
       "      <td>0</td>\n",
       "      <td>0</td>\n",
       "    </tr>\n",
       "  </tbody>\n",
       "</table>\n",
       "</div>"
      ],
      "text/plain": [
       "   Пол  Возраст  Зарплата  Члены семьи  Страховые выплаты\n",
       "0    1     41.0   49600.0            1                  0\n",
       "1    0     46.0   38000.0            1                  1\n",
       "2    0     29.0   21000.0            0                  0"
      ]
     },
     "execution_count": 58,
     "metadata": {},
     "output_type": "execute_result"
    }
   ],
   "source": [
    "df = pd.read_csv('/datasets/insurance.csv')\n",
    "df.head(3)"
   ]
  },
  {
   "cell_type": "code",
   "execution_count": 59,
   "metadata": {},
   "outputs": [
    {
     "name": "stdout",
     "output_type": "stream",
     "text": [
      "<class 'pandas.core.frame.DataFrame'>\n",
      "RangeIndex: 5000 entries, 0 to 4999\n",
      "Data columns (total 5 columns):\n",
      " #   Column             Non-Null Count  Dtype  \n",
      "---  ------             --------------  -----  \n",
      " 0   Пол                5000 non-null   int64  \n",
      " 1   Возраст            5000 non-null   float64\n",
      " 2   Зарплата           5000 non-null   float64\n",
      " 3   Члены семьи        5000 non-null   int64  \n",
      " 4   Страховые выплаты  5000 non-null   int64  \n",
      "dtypes: float64(2), int64(3)\n",
      "memory usage: 195.4 KB\n"
     ]
    }
   ],
   "source": [
    "df.info()"
   ]
  },
  {
   "cell_type": "code",
   "execution_count": 60,
   "metadata": {},
   "outputs": [
    {
     "data": {
      "text/html": [
       "<div>\n",
       "<style scoped>\n",
       "    .dataframe tbody tr th:only-of-type {\n",
       "        vertical-align: middle;\n",
       "    }\n",
       "\n",
       "    .dataframe tbody tr th {\n",
       "        vertical-align: top;\n",
       "    }\n",
       "\n",
       "    .dataframe thead th {\n",
       "        text-align: right;\n",
       "    }\n",
       "</style>\n",
       "<table border=\"1\" class=\"dataframe\">\n",
       "  <thead>\n",
       "    <tr style=\"text-align: right;\">\n",
       "      <th></th>\n",
       "      <th>Пол</th>\n",
       "      <th>Возраст</th>\n",
       "      <th>Зарплата</th>\n",
       "      <th>Члены семьи</th>\n",
       "      <th>Страховые выплаты</th>\n",
       "    </tr>\n",
       "  </thead>\n",
       "  <tbody>\n",
       "    <tr>\n",
       "      <th>count</th>\n",
       "      <td>5000.000000</td>\n",
       "      <td>5000.000000</td>\n",
       "      <td>5000.000000</td>\n",
       "      <td>5000.000000</td>\n",
       "      <td>5000.000000</td>\n",
       "    </tr>\n",
       "    <tr>\n",
       "      <th>mean</th>\n",
       "      <td>0.499000</td>\n",
       "      <td>30.952800</td>\n",
       "      <td>39916.360000</td>\n",
       "      <td>1.194200</td>\n",
       "      <td>0.148000</td>\n",
       "    </tr>\n",
       "    <tr>\n",
       "      <th>std</th>\n",
       "      <td>0.500049</td>\n",
       "      <td>8.440807</td>\n",
       "      <td>9900.083569</td>\n",
       "      <td>1.091387</td>\n",
       "      <td>0.463183</td>\n",
       "    </tr>\n",
       "    <tr>\n",
       "      <th>min</th>\n",
       "      <td>0.000000</td>\n",
       "      <td>18.000000</td>\n",
       "      <td>5300.000000</td>\n",
       "      <td>0.000000</td>\n",
       "      <td>0.000000</td>\n",
       "    </tr>\n",
       "    <tr>\n",
       "      <th>25%</th>\n",
       "      <td>0.000000</td>\n",
       "      <td>24.000000</td>\n",
       "      <td>33300.000000</td>\n",
       "      <td>0.000000</td>\n",
       "      <td>0.000000</td>\n",
       "    </tr>\n",
       "    <tr>\n",
       "      <th>50%</th>\n",
       "      <td>0.000000</td>\n",
       "      <td>30.000000</td>\n",
       "      <td>40200.000000</td>\n",
       "      <td>1.000000</td>\n",
       "      <td>0.000000</td>\n",
       "    </tr>\n",
       "    <tr>\n",
       "      <th>75%</th>\n",
       "      <td>1.000000</td>\n",
       "      <td>37.000000</td>\n",
       "      <td>46600.000000</td>\n",
       "      <td>2.000000</td>\n",
       "      <td>0.000000</td>\n",
       "    </tr>\n",
       "    <tr>\n",
       "      <th>max</th>\n",
       "      <td>1.000000</td>\n",
       "      <td>65.000000</td>\n",
       "      <td>79000.000000</td>\n",
       "      <td>6.000000</td>\n",
       "      <td>5.000000</td>\n",
       "    </tr>\n",
       "  </tbody>\n",
       "</table>\n",
       "</div>"
      ],
      "text/plain": [
       "               Пол      Возраст      Зарплата  Члены семьи  Страховые выплаты\n",
       "count  5000.000000  5000.000000   5000.000000  5000.000000        5000.000000\n",
       "mean      0.499000    30.952800  39916.360000     1.194200           0.148000\n",
       "std       0.500049     8.440807   9900.083569     1.091387           0.463183\n",
       "min       0.000000    18.000000   5300.000000     0.000000           0.000000\n",
       "25%       0.000000    24.000000  33300.000000     0.000000           0.000000\n",
       "50%       0.000000    30.000000  40200.000000     1.000000           0.000000\n",
       "75%       1.000000    37.000000  46600.000000     2.000000           0.000000\n",
       "max       1.000000    65.000000  79000.000000     6.000000           5.000000"
      ]
     },
     "execution_count": 60,
     "metadata": {},
     "output_type": "execute_result"
    }
   ],
   "source": [
    "df.describe()"
   ]
  },
  {
   "cell_type": "code",
   "execution_count": 61,
   "metadata": {},
   "outputs": [
    {
     "data": {
      "text/plain": [
       "153"
      ]
     },
     "execution_count": 61,
     "metadata": {},
     "output_type": "execute_result"
    }
   ],
   "source": [
    "df.duplicated().sum()"
   ]
  },
  {
   "cell_type": "code",
   "execution_count": 62,
   "metadata": {},
   "outputs": [],
   "source": [
    "# поменяем тип призака возраст на целочисленный\n",
    "df['Возраст'] = df['Возраст'].astype('int')"
   ]
  },
  {
   "cell_type": "code",
   "execution_count": 63,
   "metadata": {},
   "outputs": [],
   "source": [
    "# переименуем столбцы\n",
    "df.rename(columns={\n",
    "    'Пол': 'sex',\n",
    "    'Возраст': 'age',\n",
    "    'Зарплата': 'salary',\n",
    "    'Члены семьи': 'family_members',\n",
    "    'Страховые выплаты': 'payouts'\n",
    "}, inplace=True)"
   ]
  },
  {
   "cell_type": "markdown",
   "metadata": {},
   "source": [
    "### Разделение на выборки"
   ]
  },
  {
   "cell_type": "code",
   "execution_count": 64,
   "metadata": {},
   "outputs": [],
   "source": [
    "features = df.drop('payouts', axis=1)\n",
    "target = df['payouts']"
   ]
  },
  {
   "cell_type": "code",
   "execution_count": 65,
   "metadata": {},
   "outputs": [],
   "source": [
    "X_train, X_test, y_train, y_test = train_test_split(features, target, \n",
    "                                                    test_size=0.2, random_state=RS)"
   ]
  },
  {
   "cell_type": "code",
   "execution_count": 66,
   "metadata": {},
   "outputs": [
    {
     "data": {
      "text/plain": [
       "((4000, 4), (4000,))"
      ]
     },
     "execution_count": 66,
     "metadata": {},
     "output_type": "execute_result"
    }
   ],
   "source": [
    "X_train.shape, y_train.shape"
   ]
  },
  {
   "cell_type": "code",
   "execution_count": 67,
   "metadata": {},
   "outputs": [
    {
     "data": {
      "text/plain": [
       "((1000, 4), (1000,))"
      ]
     },
     "execution_count": 67,
     "metadata": {},
     "output_type": "execute_result"
    }
   ],
   "source": [
    "X_test.shape, y_test.shape"
   ]
  },
  {
   "cell_type": "markdown",
   "metadata": {},
   "source": [
    "### Вывод\n",
    "\n",
    "* Данные представлены в виде матрицы числовых значений: 5000 наблюдений и 5 признаков;\n",
    "* Судя по описательным статистикам данные распределены нормально: не замечено выбросов и других аномалий;\n",
    "* Соблюден почти идеальный баланс между мужчинами и женщинами; \n",
    "* Средний возраст застрахованного составляет 31 год, при этом медиана составляет 30; \n",
    "* Границы возраста застрахованных приводят к выводу, что компания не занимается страхованием лиц, чей возраст составляет менее 18 и старше 65 лет;\n",
    "* Также интересно взглянуть на уровень заработной платы застрахованных - медиана составляет чуть более 40 000 рублей. В целом, в компании скорее представлен средний экономический класс, чем слишком бедные или слишком богатые граждане.\n",
    "* Полные дубликаты в данных присутствуют, но это и не удивительно - ведь в нашей популяции вполне могут быть 2 человека одинакового возраста и пола, с одинаковой зарплатой и составом семьи, поэтому оставим их;\n",
    "* Для чистоты кода и оптимизации использования памяти исправили названия столбцов и типы данных в датафрейме;\n",
    "* Подготовили данные для дальнейшего обучения алгоритмов."
   ]
  },
  {
   "cell_type": "markdown",
   "metadata": {},
   "source": [
    "## Умножение матриц\n",
    "\n",
    "В этом пункте нам необходимо ответить на вопрос: изменится ли качество линейной регрессии при умножении матрицы признаков на обратимую матрицу."
   ]
  },
  {
   "cell_type": "markdown",
   "metadata": {},
   "source": [
    "Обозначения:\n",
    "\n",
    "- $X$ — матрица признаков (нулевой столбец состоит из единиц)\n",
    "\n",
    "- $y$ — вектор целевого признака\n",
    "\n",
    "- $P$ — **обратимая** матрица, на которую умножаются признаки\n",
    "\n",
    "- $w$ — вектор весов линейной регрессии (нулевой элемент равен сдвигу)"
   ]
  },
  {
   "cell_type": "markdown",
   "metadata": {},
   "source": [
    "Предсказания:\n",
    "\n",
    "$$\n",
    "a = Xw\n",
    "$$\n",
    "\n",
    "Задача обучения:\n",
    "\n",
    "$$\n",
    "w = \\arg\\min_w MSE(Xw, y)\n",
    "$$\n",
    "\n",
    "Формула обучения:\n",
    "\n",
    "$$\n",
    "w = (X^T X)^{-1} X^T y\n",
    "$$"
   ]
  },
  {
   "cell_type": "markdown",
   "metadata": {},
   "source": [
    "**Ответ:** при умножении матрицы признаков на случайную обратимую матрицу предсказание линейной регрессии не изменится."
   ]
  },
  {
   "cell_type": "markdown",
   "metadata": {},
   "source": [
    "**Обоснование:**\n",
    "\n",
    "Предположим, что наша матрица признаков теперь равна произведению исходной матрицы на случайную обратимую матрицу.\n",
    "\n",
    "$$X_{mod} = XP$$  \n",
    "*(\"mod\". от англ modified - модицифированная).*\n",
    "\n",
    "теперь перепишем формулу обучения линейной регрессии с учетом этого предположения:\n",
    "$$w_{mod} = (X_{mod}^T X_{mod})^{-1} X_{mod}^T y$$\n",
    "$$w_{mod} = ((XP)^T(XP))^{-1}(XP)^Ty = $$\n",
    "Воспользуемся свойством транспонированных матриц: *транспонированное произведение матриц равно произведению транспонированных матриц, взятых в обратном порядке.*\n",
    "$$ = ((P^TX^TXP))^{-1}(P^TX^T)y = $$\n",
    "\n",
    "Подобное свойство существует и для обратных матриц: $(AB)^{-1}=B^{-1}A^{-1}$. Воспользуемся им:\n",
    "\n",
    "$$ = ((X^TX)P)^{-1}(P^T)^{-1}(P^TX^T)y = $$\n",
    "$$ = P^{-1}(X^TX)^{-1}((P^T)^{-1}(P^T))X^Ty = $$\n",
    "\n",
    "Произведение матрицы на обратную ей даст единичную матрицу, поэтому $((P^T)^{-1}(P^T))$ у нас взаимно уничтожаются.\n",
    "\n",
    "$$ = P^{-1}(X^TX)^{-1}X^Ty = $$\n",
    "\n",
    "Выражение $(X^TX)^{-1}X^Ty$ является исходной формулой для нахождения $w$ при обучении модели, поэтому: \n",
    "$$ = P^{-1}w $$\n",
    "\n",
    "Подставим полученный результат в формулу предсказания:\n",
    "\n",
    "$$ a_{mod} =X_{mod}w_{mod} =XPw_{mod} = XPP^{-1}w = Xw$$\n",
    "\n",
    "И видим, как снова случайная матрица $P$ взаимно уничтожается со своей обратной матрицей $P^{-1}$, а результат нашего предсказания остаётся неизменным и зависящим только от исходной матрицы признаков и исходного вектора весов."
   ]
  },
  {
   "cell_type": "markdown",
   "metadata": {},
   "source": [
    "## Алгоритм преобразования"
   ]
  },
  {
   "cell_type": "markdown",
   "metadata": {},
   "source": [
    "**Алгоритм**\n",
    "\n",
    "1. Сгенерируем случайную обратимую матрицу $P$ размером (4, 4) и вычислим обратную к ней матрицу $P_{inv}$\n",
    "2. Умножим нашу матрицу обучающих признаков (4000, 4) на $P$ и получим новую матрицу $X_{mod}$ (4000, 4).\n",
    "3. Умножением модифицированной матрицы $X_{mod}$ на $P_{inv}$ восстановим нашу исходную матрицу признаков $X$.\n",
    "4. Проверим равенство восстановленной матрицы с исходной."
   ]
  },
  {
   "cell_type": "markdown",
   "metadata": {},
   "source": [
    "**Обоснование в коде:**"
   ]
  },
  {
   "cell_type": "markdown",
   "metadata": {},
   "source": [
    "### Создание случайной квадратной матрицы"
   ]
  },
  {
   "cell_type": "code",
   "execution_count": 68,
   "metadata": {},
   "outputs": [
    {
     "data": {
      "text/plain": [
       "array([[0.67328629, 0.19126957, 0.08116769, 0.50020216],\n",
       "       [0.68327584, 0.38662984, 0.31676824, 0.49534029],\n",
       "       [0.82412668, 0.74798789, 0.96705011, 0.60062442],\n",
       "       [0.91030074, 0.93993819, 0.20861669, 0.27970666]])"
      ]
     },
     "execution_count": 68,
     "metadata": {},
     "output_type": "execute_result"
    }
   ],
   "source": [
    "P = np.random.rand(4,4)\n",
    "P"
   ]
  },
  {
   "cell_type": "markdown",
   "metadata": {},
   "source": [
    "Создаем к ней обратную матрицу (заодно и проверяем на обратимость)."
   ]
  },
  {
   "cell_type": "code",
   "execution_count": 69,
   "metadata": {},
   "outputs": [
    {
     "data": {
      "text/plain": [
       "array([[ 22.50341153, -35.25464901,   9.07706806,   2.69884173],\n",
       "       [-16.69194819,  25.43939599,  -6.80506599,  -0.58818852],\n",
       "       [  8.16292215, -14.52792698,   5.04257886,   0.30195979],\n",
       "       [-23.23289047,  40.08356816, -10.43409689,  -3.45680219]])"
      ]
     },
     "execution_count": 69,
     "metadata": {},
     "output_type": "execute_result"
    }
   ],
   "source": [
    "P_inv = np.linalg.inv(P)\n",
    "P_inv"
   ]
  },
  {
   "cell_type": "markdown",
   "metadata": {},
   "source": [
    "Убедимся, что это действительно две взаимно обратные матрицы. Перемножим их:"
   ]
  },
  {
   "cell_type": "code",
   "execution_count": 70,
   "metadata": {},
   "outputs": [
    {
     "data": {
      "text/plain": [
       "array([[ 1.00000000e+00, -7.07379811e-16,  5.14478824e-16,\n",
       "        -8.74777209e-17],\n",
       "       [-3.76016986e-15,  1.00000000e+00, -9.51157988e-18,\n",
       "        -5.84368996e-17],\n",
       "       [-1.57522185e-15,  8.29744972e-16,  1.00000000e+00,\n",
       "         3.32455365e-16],\n",
       "       [-1.87427795e-15,  4.05443620e-15,  1.26946771e-15,\n",
       "         1.00000000e+00]])"
      ]
     },
     "execution_count": 70,
     "metadata": {},
     "output_type": "execute_result"
    }
   ],
   "source": [
    "P @ P_inv"
   ]
  },
  {
   "cell_type": "markdown",
   "metadata": {},
   "source": [
    "На диагонали единицы, остальные числа близки к нулю (не нули, потому что есть особенности обработки чисел с плавающей точки в памяти компьютера)."
   ]
  },
  {
   "cell_type": "markdown",
   "metadata": {},
   "source": [
    "### Преобразование обучающей выборки\n",
    "Приступим к модификации нашей признаковой матрицы `X_train`."
   ]
  },
  {
   "cell_type": "code",
   "execution_count": 71,
   "metadata": {},
   "outputs": [
    {
     "data": {
      "text/html": [
       "<div>\n",
       "<style scoped>\n",
       "    .dataframe tbody tr th:only-of-type {\n",
       "        vertical-align: middle;\n",
       "    }\n",
       "\n",
       "    .dataframe tbody tr th {\n",
       "        vertical-align: top;\n",
       "    }\n",
       "\n",
       "    .dataframe thead th {\n",
       "        text-align: right;\n",
       "    }\n",
       "</style>\n",
       "<table border=\"1\" class=\"dataframe\">\n",
       "  <thead>\n",
       "    <tr style=\"text-align: right;\">\n",
       "      <th></th>\n",
       "      <th>0</th>\n",
       "      <th>1</th>\n",
       "      <th>2</th>\n",
       "      <th>3</th>\n",
       "    </tr>\n",
       "  </thead>\n",
       "  <tbody>\n",
       "    <tr>\n",
       "      <th>1926</th>\n",
       "      <td>25812.473959</td>\n",
       "      <td>23422.240035</td>\n",
       "      <td>30276.479426</td>\n",
       "      <td>18811.712311</td>\n",
       "    </tr>\n",
       "    <tr>\n",
       "      <th>805</th>\n",
       "      <td>17822.544832</td>\n",
       "      <td>16169.077274</td>\n",
       "      <td>20897.993991</td>\n",
       "      <td>12988.627450</td>\n",
       "    </tr>\n",
       "    <tr>\n",
       "      <th>1674</th>\n",
       "      <td>50963.369722</td>\n",
       "      <td>46244.376560</td>\n",
       "      <td>59778.476613</td>\n",
       "      <td>37141.654697</td>\n",
       "    </tr>\n",
       "    <tr>\n",
       "      <th>81</th>\n",
       "      <td>42546.335198</td>\n",
       "      <td>38608.518636</td>\n",
       "      <td>49909.261622</td>\n",
       "      <td>31007.365000</td>\n",
       "    </tr>\n",
       "    <tr>\n",
       "      <th>2266</th>\n",
       "      <td>24326.759095</td>\n",
       "      <td>22073.953274</td>\n",
       "      <td>28534.711479</td>\n",
       "      <td>17729.322825</td>\n",
       "    </tr>\n",
       "    <tr>\n",
       "      <th>...</th>\n",
       "      <td>...</td>\n",
       "      <td>...</td>\n",
       "      <td>...</td>\n",
       "      <td>...</td>\n",
       "    </tr>\n",
       "    <tr>\n",
       "      <th>2800</th>\n",
       "      <td>34882.640364</td>\n",
       "      <td>31652.617882</td>\n",
       "      <td>40916.012389</td>\n",
       "      <td>25422.053207</td>\n",
       "    </tr>\n",
       "    <tr>\n",
       "      <th>1337</th>\n",
       "      <td>34794.998503</td>\n",
       "      <td>31575.474723</td>\n",
       "      <td>40816.900681</td>\n",
       "      <td>25357.807547</td>\n",
       "    </tr>\n",
       "    <tr>\n",
       "      <th>406</th>\n",
       "      <td>34061.703039</td>\n",
       "      <td>30906.009832</td>\n",
       "      <td>39950.654274</td>\n",
       "      <td>24824.121119</td>\n",
       "    </tr>\n",
       "    <tr>\n",
       "      <th>2191</th>\n",
       "      <td>26553.494704</td>\n",
       "      <td>24094.847147</td>\n",
       "      <td>31146.272155</td>\n",
       "      <td>19351.783813</td>\n",
       "    </tr>\n",
       "    <tr>\n",
       "      <th>2671</th>\n",
       "      <td>14288.593001</td>\n",
       "      <td>12958.695470</td>\n",
       "      <td>16744.005131</td>\n",
       "      <td>10412.661562</td>\n",
       "    </tr>\n",
       "  </tbody>\n",
       "</table>\n",
       "<p>4000 rows × 4 columns</p>\n",
       "</div>"
      ],
      "text/plain": [
       "                 0             1             2             3\n",
       "1926  25812.473959  23422.240035  30276.479426  18811.712311\n",
       "805   17822.544832  16169.077274  20897.993991  12988.627450\n",
       "1674  50963.369722  46244.376560  59778.476613  37141.654697\n",
       "81    42546.335198  38608.518636  49909.261622  31007.365000\n",
       "2266  24326.759095  22073.953274  28534.711479  17729.322825\n",
       "...            ...           ...           ...           ...\n",
       "2800  34882.640364  31652.617882  40916.012389  25422.053207\n",
       "1337  34794.998503  31575.474723  40816.900681  25357.807547\n",
       "406   34061.703039  30906.009832  39950.654274  24824.121119\n",
       "2191  26553.494704  24094.847147  31146.272155  19351.783813\n",
       "2671  14288.593001  12958.695470  16744.005131  10412.661562\n",
       "\n",
       "[4000 rows x 4 columns]"
      ]
     },
     "execution_count": 71,
     "metadata": {},
     "output_type": "execute_result"
    }
   ],
   "source": [
    "X_mod = X_train @ P\n",
    "X_mod"
   ]
  },
  {
   "cell_type": "markdown",
   "metadata": {},
   "source": [
    "Как видим, данные исказились до неузнаваемости - то, что нам и нужно для защиты от злоумышленников.\n",
    "\n",
    "Попробуем теперь восстановить исходный вид."
   ]
  },
  {
   "cell_type": "code",
   "execution_count": 72,
   "metadata": {},
   "outputs": [
    {
     "data": {
      "text/html": [
       "<div>\n",
       "<style scoped>\n",
       "    .dataframe tbody tr th:only-of-type {\n",
       "        vertical-align: middle;\n",
       "    }\n",
       "\n",
       "    .dataframe tbody tr th {\n",
       "        vertical-align: top;\n",
       "    }\n",
       "\n",
       "    .dataframe thead th {\n",
       "        text-align: right;\n",
       "    }\n",
       "</style>\n",
       "<table border=\"1\" class=\"dataframe\">\n",
       "  <thead>\n",
       "    <tr style=\"text-align: right;\">\n",
       "      <th></th>\n",
       "      <th>0</th>\n",
       "      <th>1</th>\n",
       "      <th>2</th>\n",
       "      <th>3</th>\n",
       "    </tr>\n",
       "  </thead>\n",
       "  <tbody>\n",
       "    <tr>\n",
       "      <th>1926</th>\n",
       "      <td>8.444711e-11</td>\n",
       "      <td>24.0</td>\n",
       "      <td>31300.0</td>\n",
       "      <td>1.000000e+00</td>\n",
       "    </tr>\n",
       "    <tr>\n",
       "      <th>805</th>\n",
       "      <td>1.926207e-11</td>\n",
       "      <td>30.0</td>\n",
       "      <td>21600.0</td>\n",
       "      <td>1.000000e+00</td>\n",
       "    </tr>\n",
       "    <tr>\n",
       "      <th>1674</th>\n",
       "      <td>-2.296520e-10</td>\n",
       "      <td>46.0</td>\n",
       "      <td>61800.0</td>\n",
       "      <td>1.000000e+00</td>\n",
       "    </tr>\n",
       "    <tr>\n",
       "      <th>81</th>\n",
       "      <td>1.000000e+00</td>\n",
       "      <td>29.0</td>\n",
       "      <td>51600.0</td>\n",
       "      <td>1.000000e+00</td>\n",
       "    </tr>\n",
       "    <tr>\n",
       "      <th>2266</th>\n",
       "      <td>1.000000e+00</td>\n",
       "      <td>21.0</td>\n",
       "      <td>29500.0</td>\n",
       "      <td>1.882709e-12</td>\n",
       "    </tr>\n",
       "    <tr>\n",
       "      <th>...</th>\n",
       "      <td>...</td>\n",
       "      <td>...</td>\n",
       "      <td>...</td>\n",
       "      <td>...</td>\n",
       "    </tr>\n",
       "    <tr>\n",
       "      <th>2800</th>\n",
       "      <td>1.000000e+00</td>\n",
       "      <td>30.0</td>\n",
       "      <td>42300.0</td>\n",
       "      <td>1.000000e+00</td>\n",
       "    </tr>\n",
       "    <tr>\n",
       "      <th>1337</th>\n",
       "      <td>-3.195501e-11</td>\n",
       "      <td>22.0</td>\n",
       "      <td>42200.0</td>\n",
       "      <td>2.000000e+00</td>\n",
       "    </tr>\n",
       "    <tr>\n",
       "      <th>406</th>\n",
       "      <td>1.000000e+00</td>\n",
       "      <td>36.0</td>\n",
       "      <td>41300.0</td>\n",
       "      <td>-2.856924e-12</td>\n",
       "    </tr>\n",
       "    <tr>\n",
       "      <th>2191</th>\n",
       "      <td>1.000000e+00</td>\n",
       "      <td>22.0</td>\n",
       "      <td>32200.0</td>\n",
       "      <td>1.000000e+00</td>\n",
       "    </tr>\n",
       "    <tr>\n",
       "      <th>2671</th>\n",
       "      <td>2.147553e-12</td>\n",
       "      <td>43.0</td>\n",
       "      <td>17300.0</td>\n",
       "      <td>2.000000e+00</td>\n",
       "    </tr>\n",
       "  </tbody>\n",
       "</table>\n",
       "<p>4000 rows × 4 columns</p>\n",
       "</div>"
      ],
      "text/plain": [
       "                 0     1        2             3\n",
       "1926  8.444711e-11  24.0  31300.0  1.000000e+00\n",
       "805   1.926207e-11  30.0  21600.0  1.000000e+00\n",
       "1674 -2.296520e-10  46.0  61800.0  1.000000e+00\n",
       "81    1.000000e+00  29.0  51600.0  1.000000e+00\n",
       "2266  1.000000e+00  21.0  29500.0  1.882709e-12\n",
       "...            ...   ...      ...           ...\n",
       "2800  1.000000e+00  30.0  42300.0  1.000000e+00\n",
       "1337 -3.195501e-11  22.0  42200.0  2.000000e+00\n",
       "406   1.000000e+00  36.0  41300.0 -2.856924e-12\n",
       "2191  1.000000e+00  22.0  32200.0  1.000000e+00\n",
       "2671  2.147553e-12  43.0  17300.0  2.000000e+00\n",
       "\n",
       "[4000 rows x 4 columns]"
      ]
     },
     "execution_count": 72,
     "metadata": {},
     "output_type": "execute_result"
    }
   ],
   "source": [
    "X_mod @ P_inv"
   ]
  },
  {
   "cell_type": "markdown",
   "metadata": {},
   "source": [
    "Данные приобрели более менее узнаваемый вид, смущают только искаженные значения в области около нуля. Для достоверности наших выводов проверим сходство матриц специальной функцией из библиотеки `NumPy` - `allclose` - она сравнивает два массива и возвращает булево значение.\n",
    "\n",
    "В аргумент `rtol` укажем уровень различия, на которые мы можем закрыть глаза при сравнении, например, `1e-8`."
   ]
  },
  {
   "cell_type": "code",
   "execution_count": 73,
   "metadata": {},
   "outputs": [
    {
     "data": {
      "text/plain": [
       "True"
      ]
     },
     "execution_count": 73,
     "metadata": {},
     "output_type": "execute_result"
    }
   ],
   "source": [
    "np.allclose(X_train, (X_mod @ P_inv), rtol=1e-08)"
   ]
  },
  {
   "cell_type": "markdown",
   "metadata": {},
   "source": [
    "### Вывод\n",
    "\n",
    "1. Мы сгенерировали случайную квадратную матрицу размера 4х4 и убедились в её обратимости.\n",
    "2. Выполнили матричное умножение обучающей выборки на полученную случайную матрицу.\n",
    "3. С помощью матрицы, обратной к полученной случайной - восстановили исходную обучающую выборку и убедились в её эквивалентности исходной выборке."
   ]
  },
  {
   "cell_type": "markdown",
   "metadata": {},
   "source": [
    "## Проверка алгоритма\n",
    "\n",
    "Настало время обучить линейную регрессию на исходной и модифицированной выборке и сверить результаты. \n",
    "По теоретичским выводам предсказания, а соответственно, и метрики двух моделей должны совпасть.\n"
   ]
  },
  {
   "cell_type": "markdown",
   "metadata": {},
   "source": [
    "Создаем два экземпляра класса линейной регрессии для параллельного их обучения."
   ]
  },
  {
   "cell_type": "code",
   "execution_count": 74,
   "metadata": {},
   "outputs": [],
   "source": [
    "linreg = LinearRegression()\n",
    "linreg_mod = LinearRegression()"
   ]
  },
  {
   "cell_type": "markdown",
   "metadata": {},
   "source": [
    "* Преобразуем обучающую и тестовую выборку путём умножения на случайную квадратную матрицу $P$.\n",
    "* Обучаем на них наши линейные регрессоры."
   ]
  },
  {
   "cell_type": "code",
   "execution_count": 75,
   "metadata": {},
   "outputs": [],
   "source": [
    "X_train_mod = X_train @ P\n",
    "X_test_mod = X_test @ P"
   ]
  },
  {
   "cell_type": "code",
   "execution_count": 76,
   "metadata": {},
   "outputs": [],
   "source": [
    "linreg.fit(X_train, y_train)\n",
    "linreg_mod.fit(X_train_mod, y_train);"
   ]
  },
  {
   "cell_type": "markdown",
   "metadata": {},
   "source": [
    "Создаем массивы с предсказаниями - результатом работы линейной регрессии."
   ]
  },
  {
   "cell_type": "code",
   "execution_count": 77,
   "metadata": {},
   "outputs": [],
   "source": [
    "predictions = linreg.predict(X_test)\n",
    "predictions_mod = linreg_mod.predict(X_test_mod)"
   ]
  },
  {
   "cell_type": "markdown",
   "metadata": {},
   "source": [
    "Считаем метрику R2"
   ]
  },
  {
   "cell_type": "code",
   "execution_count": 78,
   "metadata": {},
   "outputs": [
    {
     "name": "stdout",
     "output_type": "stream",
     "text": [
      "Метрика R2 для модели, обученной на исходной матрице признаков 0.417308\n",
      "Метрика R2 для модели, обученной на модифицированной матрице признаков 0.417308\n"
     ]
    }
   ],
   "source": [
    "print('Метрика R2 для модели, обученной на исходной матрице признаков %.6f' % r2_score(y_test, predictions))\n",
    "print('Метрика R2 для модели, обученной на модифицированной матрице признаков %.6f' % r2_score(y_test, predictions_mod))"
   ]
  },
  {
   "cell_type": "markdown",
   "metadata": {},
   "source": [
    "**Вывод:**\n",
    "* Самое главное - метрики R2 получились одинаковыми, вне зависимости от вида исходных выборок для обучения (исходная или модифицированная);\n",
    "* Не главное - качество работы модели получилось очень посредственное."
   ]
  },
  {
   "cell_type": "markdown",
   "metadata": {},
   "source": [
    "## Общий вывод\n",
    "\n",
    "* Аналитически обосновали предположжение о том, что умножение матрицы признаков на случайную квадратную матрицу не влияет на качество работы алгоритма линейной регрессии;\n",
    "* Проверили работу этого приёма обезличивания данных на имеющейся обучающей выборке: получилось как преобразовать данные, так и восстановить исходный вид;\n",
    "* Наконец, обучили две модели линейной регрессии на исходных данных (открытых) и на модифицированных данных (зашифрованных);\n",
    "* Сравнили предсказания этих двух моделей используя метрику R2 и получили идентичные показатели;\n",
    "* Таким образом, нам удалось теоретически и практически обосновать применение такого простого алгоритма защиты персональных данных как умножение на случайную квадратную матрицу.\n",
    " "
   ]
  }
 ],
 "metadata": {
  "kernelspec": {
   "display_name": "Python 3 (ipykernel)",
   "language": "python",
   "name": "python3"
  },
  "language_info": {
   "codemirror_mode": {
    "name": "ipython",
    "version": 3
   },
   "file_extension": ".py",
   "mimetype": "text/x-python",
   "name": "python",
   "nbconvert_exporter": "python",
   "pygments_lexer": "ipython3",
   "version": "3.9.10"
  },
  "toc": {
   "base_numbering": 1,
   "nav_menu": {},
   "number_sections": true,
   "sideBar": true,
   "skip_h1_title": true,
   "title_cell": "Содержание",
   "title_sidebar": "Contents",
   "toc_cell": true,
   "toc_position": {
    "height": "calc(100% - 180px)",
    "left": "10px",
    "top": "150px",
    "width": "303.837px"
   },
   "toc_section_display": true,
   "toc_window_display": true
  }
 },
 "nbformat": 4,
 "nbformat_minor": 2
}
